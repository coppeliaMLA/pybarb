{
 "cells": [
  {
   "cell_type": "code",
   "execution_count": 4,
   "metadata": {},
   "outputs": [
    {
     "name": "stdout",
     "output_type": "stream",
     "text": [
      "Working directory : /Users/simon_business/Documents/code_repos/barb_api/python/pybarb\n"
     ]
    }
   ],
   "source": [
    "import warnings\n",
    "warnings.filterwarnings(\"ignore\")\n",
    "import json, pandas as pd\n",
    "import os\n",
    "import re\n",
    "import numpy as np\n",
    "import seaborn as sns\n",
    "sub_dir = re.search('.+?\\/pybarb', os.getcwd()).group(0)\n",
    "os.chdir(sub_dir)\n",
    "print(f\"Working directory : {sub_dir}\")\n",
    "import pybarb as pb"
   ]
  },
  {
   "cell_type": "code",
   "execution_count": 9,
   "metadata": {},
   "outputs": [
    {
     "data": {
      "text/plain": [
       "'[{\"panel_code\":1,\"panel_region\":\"London - ITV,C4,ITV Breakfast\",\"is_macro_region\":false},{\"panel_code\":4,\"panel_region\":\"Midlands -ITV,C4,ITV Breakfast\",\"is_macro_region\":false},{\"panel_code\":7,\"panel_region\":\"North West\",\"is_macro_region\":false},{\"panel_code\":11,\"panel_region\":\"Yorkshire\",\"is_macro_region\":false},{\"panel_code\":12,\"panel_region\":\"North East\",\"is_macro_region\":false},{\"panel_code\":17,\"panel_region\":\"Scotland - ITV,ITV Breakfast\",\"is_macro_region\":false},{\"panel_code\":18,\"panel_region\":\"Wales & West Macro\",\"is_macro_region\":true},{\"panel_code\":21,\"panel_region\":\"South, South East & Channel Is\",\"is_macro_region\":false},{\"panel_code\":24,\"panel_region\":\"East of England\",\"is_macro_region\":false},{\"panel_code\":27,\"panel_region\":\"South West\",\"is_macro_region\":false},{\"panel_code\":30,\"panel_region\":\"Ulster - ITV,C4,ITV Breakfast\",\"is_macro_region\":false},{\"panel_code\":33,\"panel_region\":\"Border\",\"is_macro_region\":false},{\"panel_code\":37,\"panel_region\":\"West\",\"is_macro_region\":false},{\"panel_code\":38,\"panel_region\":\"Wales\",\"is_macro_region\":false},{\"panel_code\":39,\"panel_region\":\"S4C - Total\",\"is_macro_region\":false},{\"panel_code\":40,\"panel_region\":\"S4C - Indivs in non Welsh Sp H\",\"is_macro_region\":false},{\"panel_code\":41,\"panel_region\":\"S4C - Welsh Speaking Indivs\",\"is_macro_region\":false},{\"panel_code\":48,\"panel_region\":\"S4C - Indivs in Welsh Sp HH\\'s\",\"is_macro_region\":false},{\"panel_code\":49,\"panel_region\":\"S4C - Network\",\"is_macro_region\":true},{\"panel_code\":50,\"panel_region\":\"BBC Network\",\"is_macro_region\":false},{\"panel_code\":51,\"panel_region\":\"Online Network\",\"is_macro_region\":false},{\"panel_code\":58,\"panel_region\":\"ITV Breakfast North,South,Mids\",\"is_macro_region\":true},{\"panel_code\":59,\"panel_region\":\"ITV Breakfast England & Wales\",\"is_macro_region\":true},{\"panel_code\":61,\"panel_region\":\"Mid-West Macro\",\"is_macro_region\":true},{\"panel_code\":62,\"panel_region\":\"West Macro\",\"is_macro_region\":true},{\"panel_code\":63,\"panel_region\":\"Yorkshire/North East Macro\",\"is_macro_region\":true},{\"panel_code\":67,\"panel_region\":\"North West/Border Macro\",\"is_macro_region\":true},{\"panel_code\":68,\"panel_region\":\"ITV,ITV Breakfast North Macro\",\"is_macro_region\":true},{\"panel_code\":69,\"panel_region\":\"South East Macro\",\"is_macro_region\":true},{\"panel_code\":72,\"panel_region\":\"Cable & DSAT Homes\",\"is_macro_region\":false},{\"panel_code\":74,\"panel_region\":\"Channel 5 Ulster Macro\",\"is_macro_region\":true},{\"panel_code\":75,\"panel_region\":\"Channel 5 London Macro\",\"is_macro_region\":true},{\"panel_code\":76,\"panel_region\":\"Channel 5 North Macro\",\"is_macro_region\":true},{\"panel_code\":77,\"panel_region\":\"Channel 5 Scotland Macro\",\"is_macro_region\":true},{\"panel_code\":79,\"panel_region\":\"Channel 5 Part Network Macro\",\"is_macro_region\":true},{\"panel_code\":80,\"panel_region\":\"C4 Network\",\"is_macro_region\":true},{\"panel_code\":82,\"panel_region\":\"C4 South - ITV Breakfast South\",\"is_macro_region\":true},{\"panel_code\":84,\"panel_region\":\"C4 North\",\"is_macro_region\":true},{\"panel_code\":85,\"panel_region\":\"C4 Scotland\",\"is_macro_region\":true},{\"panel_code\":87,\"panel_region\":\"C4 - ITV Breakfast GB\",\"is_macro_region\":true},{\"panel_code\":88,\"panel_region\":\"C4 England Macro\",\"is_macro_region\":true},{\"panel_code\":89,\"panel_region\":\"C4 London/South/Mids Macro\",\"is_macro_region\":true},{\"panel_code\":90,\"panel_region\":\"C4 London/South Macro\",\"is_macro_region\":true},{\"panel_code\":99,\"panel_region\":\"ITV Network\",\"is_macro_region\":false},{\"panel_code\":100,\"panel_region\":\"S4C Panel Boost Home\",\"is_macro_region\":false},{\"panel_code\":107,\"panel_region\":\"Welsh Spk Ind In WSH - Northx\",\"is_macro_region\":false},{\"panel_code\":108,\"panel_region\":\"Welsh Spk Ind In WSH - Westx\",\"is_macro_region\":false},{\"panel_code\":109,\"panel_region\":\"Welsh Spk Ind in WSH - Southx\",\"is_macro_region\":false},{\"panel_code\":503,\"panel_region\":\"BBC East Region\",\"is_macro_region\":false},{\"panel_code\":504,\"panel_region\":\"BBC West Region\",\"is_macro_region\":false},{\"panel_code\":505,\"panel_region\":\"BBC South West Region\",\"is_macro_region\":false},{\"panel_code\":506,\"panel_region\":\"BBC South Region\",\"is_macro_region\":false},{\"panel_code\":507,\"panel_region\":\"BBC Yorkshire & Lincolnshire\",\"is_macro_region\":false},{\"panel_code\":508,\"panel_region\":\"BBC North East & Cumbria\",\"is_macro_region\":false},{\"panel_code\":509,\"panel_region\":\"BBC North West Region\",\"is_macro_region\":false},{\"panel_code\":510,\"panel_region\":\"BBC Scotland Region\",\"is_macro_region\":false},{\"panel_code\":511,\"panel_region\":\"BBC Ulster Region\",\"is_macro_region\":false},{\"panel_code\":512,\"panel_region\":\"BBC Wales Region\",\"is_macro_region\":false},{\"panel_code\":513,\"panel_region\":\"BBC Midlands West\",\"is_macro_region\":false},{\"panel_code\":514,\"panel_region\":\"BBC Midlands East\",\"is_macro_region\":false},{\"panel_code\":515,\"panel_region\":\"BBC London\",\"is_macro_region\":false},{\"panel_code\":516,\"panel_region\":\"BBC South East\",\"is_macro_region\":false},{\"panel_code\":670,\"panel_region\":\"Broadband Network\",\"is_macro_region\":false},{\"panel_code\":750,\"panel_region\":\"TV and/or online homes\",\"is_macro_region\":false},{\"panel_code\":751,\"panel_region\":\"Online Multiple Screen Network\",\"is_macro_region\":false},{\"panel_code\":912,\"panel_region\":\"Network Factoring - North East\",\"is_macro_region\":false},{\"panel_code\":927,\"panel_region\":\"Network Factoring - SouthWest\",\"is_macro_region\":false},{\"panel_code\":930,\"panel_region\":\"Network Factoring - Ulster\",\"is_macro_region\":false},{\"panel_code\":933,\"panel_region\":\"Network Factoring - Border\",\"is_macro_region\":false},{\"panel_code\":937,\"panel_region\":\"Network Factoring - HTV West\",\"is_macro_region\":false},{\"panel_code\":941,\"panel_region\":\"Network - Wales\",\"is_macro_region\":false}]'"
      ]
     },
     "execution_count": 9,
     "metadata": {},
     "output_type": "execute_result"
    }
   ],
   "source": [
    "with open(\"/Users/simon_business/Documents/disposable/clients/BARB/creds.json\") as file:\n",
    "    creds = json.loads(file.read())\n",
    "test = pb.BarbAPI(creds)\n",
    "test.connect()\n",
    "r = test.query(\"panels\")\n",
    "r.text"
   ]
  }
 ],
 "metadata": {
  "kernelspec": {
   "display_name": "author_analysis",
   "language": "python",
   "name": "python3"
  },
  "language_info": {
   "codemirror_mode": {
    "name": "ipython",
    "version": 3
   },
   "file_extension": ".py",
   "mimetype": "text/x-python",
   "name": "python",
   "nbconvert_exporter": "python",
   "pygments_lexer": "ipython3",
   "version": "3.9.16"
  },
  "orig_nbformat": 4
 },
 "nbformat": 4,
 "nbformat_minor": 2
}
