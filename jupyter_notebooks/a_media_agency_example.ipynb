{
 "cells": [
  {
   "cell_type": "markdown",
   "id": "3ac80477-f4ab-47ab-8225-1848acdc85bd",
   "metadata": {},
   "source": [
    "# BARB API Demo: A media agency case study\n",
    "\n",
    "\n",
    "## The brief\n",
    "\n",
    "In this demo of the BARB API we will demonstrate a typical media agency use case.\n",
    "\n",
    "The agency has run a TV advertising campaign for their client. As part of their post campaign analysis they would like to understand how well the adverts have performed\n",
    "\n",
    "1. By TV station\n",
    "2. By audience \n",
    "3. And over time.   "
   ]
  },
  {
   "cell_type": "markdown",
   "id": "341ce6c1-05d6-40e9-beb0-5c5f80682008",
   "metadata": {},
   "source": [
    "## The API documentation\n",
    "\n",
    "Our first step is to examine the API documentation which can be found [here](https://barb-api.co.uk/api-docs ). Specificially we will be interested in the [advertising spot](https://barb-api.co.uk/api-docs#tag/Events/operation/listAdvertisingSpots) endpoint and the [buyer](https://barb-api.co.uk/api-docs#tag/Metadata/operation/buyersList) and [advertiser](https://barb-api.co.uk/api-docs#tag/Metadata/operation/advertisersList) metadata end points.\n",
    "\n",
    "We might also look at the [Getting Started](https://barb-api.co.uk/api-docs#section/Getting-started) section for information about authentication and basic API usage."
   ]
  },
  {
   "cell_type": "markdown",
   "id": "71b57700-2491-4fdc-9cf6-c23e6c93a501",
   "metadata": {},
   "source": [
    "## Set up the python environment\n",
    "\n",
    "Next we set up our notebook with all the libraries we will need to access the API and analyse the data."
   ]
  },
  {
   "cell_type": "code",
   "execution_count": 2,
   "id": "5b8df422-cc3d-4ba6-8b56-9ea09ec861ff",
   "metadata": {},
   "outputs": [],
   "source": [
    "import requests\n",
    "import numpy as np\n",
    "import json\n",
    "import pandas as pd\n",
    "import seaborn as sns\n",
    "import plotly.express as px\n",
    "import plotly.io as pio\n",
    "pio.renderers.default = \"jupyterlab\""
   ]
  },
  {
   "cell_type": "markdown",
   "id": "da9fe2fd-238a-4c6e-9d4d-9f3ce2b377dd",
   "metadata": {},
   "source": [
    "## Get the access token\n",
    "\n",
    "Following the steps in the Getting Started guide we run some python code to get an access token. This code uses your account details to get an access token from the API. Your creds.json file should include the email and password supplied by BARB. For example:\n",
    "\n",
    "```\n",
    "{\"email\": \"me@coppelia.io\", \"password\": \"INSERT PASSWORD\"}\n",
    "```"
   ]
  },
  {
   "cell_type": "code",
   "execution_count": 5,
   "id": "55309433-0176-4ce7-aebe-0897071ea01f",
   "metadata": {},
   "outputs": [],
   "source": [
    "with open(\"creds.json\") as file:\n",
    "    creds = json.loads(file.read())\n",
    "api_root = \"https://barb-api.co.uk/api/v1/\"\n",
    "token_request_url = api_root + \"auth/token/\"\n",
    "response = requests.post(token_request_url, data = creds)\n",
    "access_token = json.loads(response.text)['access']\n",
    "headers = {'Authorization': 'Bearer {}'.format(access_token)}"
   ]
  },
  {
   "cell_type": "markdown",
   "id": "dcfbe99e-998c-4d1f-8a47-9d34977ecdd8",
   "metadata": {},
   "source": [
    "## Get data from the API\n",
    "\n",
    "Let's say as the media agency Mindshare we are interested in the Persil campaign that was shown over for our client Unilever. If we don't have it already, our first use of the APIs is to find out our own buyer code.\n",
    "\n",
    "### The buyer code"
   ]
  },
  {
   "cell_type": "code",
   "execution_count": 6,
   "id": "2da1872d-1568-4908-9cf3-78003ed6a9c8",
   "metadata": {},
   "outputs": [
    {
     "data": {
      "text/plain": [
       "['mindshare_media_irel', 'mindshare_media_uk_l']"
      ]
     },
     "execution_count": 6,
     "metadata": {},
     "output_type": "execute_result"
    }
   ],
   "source": [
    "headers = {'Authorization': 'Bearer {}'.format(access_token)}\n",
    "api_url = api_root + \"buyers/\"\n",
    "response = requests.get(url = api_url,headers=headers)\n",
    "buyers = response.json()\n",
    "[b for b in buyers if \"mindshare\" in b]"
   ]
  },
  {
   "cell_type": "markdown",
   "id": "9a67a9d6-1a62-4bc3-b87d-09dc21b8ca91",
   "metadata": {},
   "source": [
    "### The advertiser code\n",
    "\n",
    "We could bring back all the data for Mindshare but it would be better to limit it to the spots that were placed for Unilever. For this we need the right code for Unilever home products. "
   ]
  },
  {
   "cell_type": "code",
   "execution_count": 7,
   "id": "72b84902-2503-4719-93b7-5987cee7139c",
   "metadata": {},
   "outputs": [
    {
     "data": {
      "text/plain": [
       "['unilever_bestfoods',\n",
       " 'unilever_ice_cream_&',\n",
       " 'unilever_ireland',\n",
       " 'unilever_uk_home_&_p']"
      ]
     },
     "execution_count": 7,
     "metadata": {},
     "output_type": "execute_result"
    }
   ],
   "source": [
    "api_url = api_root + \"advertisers/\"\n",
    "response = requests.get(url = api_url,headers=headers)\n",
    "advertisers = response.json()\n",
    "advertisers\n",
    "[a for a in advertisers if \"unilever\" in a]"
   ]
  },
  {
   "cell_type": "markdown",
   "id": "0c81fb7a-9e0c-4359-b003-0af0ff76931e",
   "metadata": {},
   "source": [
    "### The panel code"
   ]
  },
  {
   "cell_type": "markdown",
   "id": "94cf2007-a4c8-44f1-b016-9569bee71ea2",
   "metadata": {},
   "source": [
    "Finally, we are only interested in the BBC Network panel so we can use the [panels](https://barb-api.co.uk/api-docs#tag/Metadata/operation/panelsList) end point to get the right code."
   ]
  },
  {
   "cell_type": "code",
   "execution_count": 8,
   "id": "04f18439-ddf5-4164-b0ab-638d134330b9",
   "metadata": {},
   "outputs": [
    {
     "data": {
      "text/plain": [
       "[{'panel_code': 50, 'panel_region': 'BBC Network', 'is_macro_region': False}]"
      ]
     },
     "execution_count": 8,
     "metadata": {},
     "output_type": "execute_result"
    }
   ],
   "source": [
    "api_url = api_root + \"panels/\"\n",
    "response = requests.get(url = api_url,headers=headers)\n",
    "panels = response.json()\n",
    "[p for p in panels if \"bbc network\" in p['panel_region'].lower()]"
   ]
  },
  {
   "cell_type": "markdown",
   "id": "cb195107-c80e-4ff7-86c2-38d39f965b98",
   "metadata": {},
   "source": [
    "### Querying the advertising spots endpoint\n",
    "\n",
    "Now we know all the relevant metadata we can query the advertising spots endpoint. We use the following code to reshape the data into the format we need for analysis."
   ]
  },
  {
   "cell_type": "code",
   "execution_count": 9,
   "id": "e815a430-35d8-481a-a9c2-c231d26fb751",
   "metadata": {},
   "outputs": [],
   "source": [
    "# A function to reshape the data in the way that we want it\n",
    "\n",
    "def json_to_table(api_data):\n",
    "    \n",
    "    print(\"Downloading and processing {} programme events\".format(len(api_data[\"events\"])))\n",
    "    \n",
    "    # Loop through the events and then the audiences within the events\n",
    "    spot_data = []\n",
    "    for e in api_data['events']:\n",
    "        for v in e['audience_views']:\n",
    "            spot_data.append({'panel_region': e['panel']['panel_region'],\n",
    "                          'station_name': e['station']['station_name'],\n",
    "                          'clearcast_commercial_title': e['clearcast_information']['clearcast_commercial_title'],\n",
    "                                        'spot_start_datetime': e['spot_start_datetime']['standard_datetime'],\n",
    "                                        'audience_code': v['audience_code'],\n",
    "                                        'audience_size_hundreds': v['audience_size_hundreds']})\n",
    "    # Convert the result into a data frame\n",
    "    spot_data = pd.DataFrame(spot_data)\n",
    "\n",
    "    # Format the transmission_time_period as a pandas datetime\n",
    "    spot_data['spot_start_datetime'] = pd.to_datetime(spot_data['spot_start_datetime'])\n",
    "\n",
    "    # Add the audience category names. We have a temporary problem with duplicates in this data set hence the dropping of duplicates.\n",
    "    audience_categories_df = pd.DataFrame(api_data['audience_categories']).drop_duplicates(subset=['audience_code'])\n",
    "    spot_data = spot_data.merge(audience_categories_df, how=\"left\", on = \"audience_code\").drop(\"audience_code\", axis=1)\n",
    "    \n",
    "    return spot_data"
   ]
  },
  {
   "cell_type": "markdown",
   "id": "1fd5e311-0f08-4cbb-955d-2ef3e6a2cbac",
   "metadata": {},
   "source": [
    "Note that we are using the `x_next_url` to download the data in chunks."
   ]
  },
  {
   "cell_type": "code",
   "execution_count": 10,
   "id": "9ecf2ac1-6e8f-4acc-a25e-f2ebfe2277e3",
   "metadata": {},
   "outputs": [
    {
     "name": "stdout",
     "output_type": "stream",
     "text": [
      "Downloading and processing 5000 programme events\n",
      "Downloading and processing 5000 programme events\n",
      "Downloading and processing 3698 programme events\n"
     ]
    }
   ],
   "source": [
    "api_url = api_root + \"advertising_spots/\"\n",
    "\n",
    "# The query parameters\n",
    "params = {\"min_transmission_date\": \"2022-01-01\",\"max_transmission_date\":\"2022-04-01\", \n",
    "          \"buyer_name\": \"mindshare_media_uk_l\", \n",
    "          \"advertiser_name\": \"unilever_uk_home_&_p\",\n",
    "          \"panel_code\": 50,\n",
    "         \"consolidated\": True, \"limit\": 5000}\n",
    "\n",
    "# Query the API and turn the response into json\n",
    "total_events_count = 0\n",
    "r = requests.get(url=api_url, params=params, headers=headers)\n",
    "api_data = r.json()\n",
    "spot_data = json_to_table(api_data)\n",
    "while r.headers.__contains__(\"X-Next\"):\n",
    "    x_next_url = r.headers[\"X-Next\"]\n",
    "    r = requests.get(url=x_next_url, headers=headers)\n",
    "    data_increment = r.json()\n",
    "    spot_data = pd.concat([spot_data, json_to_table(data_increment)])"
   ]
  },
  {
   "cell_type": "markdown",
   "id": "9f10ea9f-c509-4269-a0c7-cc128c91faa3",
   "metadata": {},
   "source": [
    "Let's take a look at the data"
   ]
  },
  {
   "cell_type": "code",
   "execution_count": 11,
   "id": "e3145884-6cdb-44e6-a4f2-530f50394357",
   "metadata": {},
   "outputs": [
    {
     "data": {
      "text/html": [
       "<div>\n",
       "<style scoped>\n",
       "    .dataframe tbody tr th:only-of-type {\n",
       "        vertical-align: middle;\n",
       "    }\n",
       "\n",
       "    .dataframe tbody tr th {\n",
       "        vertical-align: top;\n",
       "    }\n",
       "\n",
       "    .dataframe thead th {\n",
       "        text-align: right;\n",
       "    }\n",
       "</style>\n",
       "<table border=\"1\" class=\"dataframe\">\n",
       "  <thead>\n",
       "    <tr style=\"text-align: right;\">\n",
       "      <th></th>\n",
       "      <th>panel_region</th>\n",
       "      <th>station_name</th>\n",
       "      <th>clearcast_commercial_title</th>\n",
       "      <th>spot_start_datetime</th>\n",
       "      <th>audience_size_hundreds</th>\n",
       "      <th>audience_name</th>\n",
       "      <th>audience_target_size_hundreds</th>\n",
       "    </tr>\n",
       "  </thead>\n",
       "  <tbody>\n",
       "    <tr>\n",
       "      <th>0</th>\n",
       "      <td>BBC Network</td>\n",
       "      <td>Discovery</td>\n",
       "      <td>Persil Gaia 30</td>\n",
       "      <td>2022-03-14 18:31:40</td>\n",
       "      <td>102</td>\n",
       "      <td>All Homes</td>\n",
       "      <td>270890</td>\n",
       "    </tr>\n",
       "    <tr>\n",
       "      <th>1</th>\n",
       "      <td>BBC Network</td>\n",
       "      <td>Discovery</td>\n",
       "      <td>Persil Gaia 30</td>\n",
       "      <td>2022-03-14 18:31:40</td>\n",
       "      <td>102</td>\n",
       "      <td>All Adults</td>\n",
       "      <td>513120</td>\n",
       "    </tr>\n",
       "    <tr>\n",
       "      <th>2</th>\n",
       "      <td>BBC Network</td>\n",
       "      <td>Discovery</td>\n",
       "      <td>Persil Gaia 30</td>\n",
       "      <td>2022-03-14 18:31:40</td>\n",
       "      <td>102</td>\n",
       "      <td>All Men</td>\n",
       "      <td>250100</td>\n",
       "    </tr>\n",
       "    <tr>\n",
       "      <th>3</th>\n",
       "      <td>BBC Network</td>\n",
       "      <td>Discovery</td>\n",
       "      <td>Persil Gaia 30</td>\n",
       "      <td>2022-03-14 18:31:40</td>\n",
       "      <td>102</td>\n",
       "      <td>All Houseperson</td>\n",
       "      <td>270890</td>\n",
       "    </tr>\n",
       "    <tr>\n",
       "      <th>4</th>\n",
       "      <td>BBC Network</td>\n",
       "      <td>Discovery</td>\n",
       "      <td>Persil Gaia 30</td>\n",
       "      <td>2022-03-14 18:31:40</td>\n",
       "      <td>102</td>\n",
       "      <td>Adults 35-44</td>\n",
       "      <td>81760</td>\n",
       "    </tr>\n",
       "  </tbody>\n",
       "</table>\n",
       "</div>"
      ],
      "text/plain": [
       "  panel_region station_name clearcast_commercial_title spot_start_datetime  \\\n",
       "0  BBC Network    Discovery             Persil Gaia 30 2022-03-14 18:31:40   \n",
       "1  BBC Network    Discovery             Persil Gaia 30 2022-03-14 18:31:40   \n",
       "2  BBC Network    Discovery             Persil Gaia 30 2022-03-14 18:31:40   \n",
       "3  BBC Network    Discovery             Persil Gaia 30 2022-03-14 18:31:40   \n",
       "4  BBC Network    Discovery             Persil Gaia 30 2022-03-14 18:31:40   \n",
       "\n",
       "   audience_size_hundreds    audience_name  audience_target_size_hundreds  \n",
       "0                     102        All Homes                         270890  \n",
       "1                     102       All Adults                         513120  \n",
       "2                     102          All Men                         250100  \n",
       "3                     102  All Houseperson                         270890  \n",
       "4                     102     Adults 35-44                          81760  "
      ]
     },
     "execution_count": 11,
     "metadata": {},
     "output_type": "execute_result"
    }
   ],
   "source": [
    "spot_data.head()"
   ]
  },
  {
   "cell_type": "markdown",
   "id": "7123f527-1225-4ded-a041-ca4482ee57ee",
   "metadata": {},
   "source": [
    "It's worth noting just how much data we have downloaded from the API in a short amount of time."
   ]
  },
  {
   "cell_type": "code",
   "execution_count": 12,
   "id": "85813113-a3e0-4319-a6b3-c6e811e987ed",
   "metadata": {},
   "outputs": [
    {
     "data": {
      "text/plain": [
       "(115196, 7)"
      ]
     },
     "execution_count": 12,
     "metadata": {},
     "output_type": "execute_result"
    }
   ],
   "source": [
    "spot_data.shape"
   ]
  },
  {
   "cell_type": "markdown",
   "id": "dd9b4b55-e19c-400c-b0f9-b15757c19a3d",
   "metadata": {},
   "source": [
    "## Analysing the Persil campaign\n",
    "\n",
    "### On average how did each station perform?\n",
    "\n",
    "Let's limit the data to Persil adverts"
   ]
  },
  {
   "cell_type": "code",
   "execution_count": 13,
   "id": "16f240ef-2ef9-4788-9723-aeda75b121ca",
   "metadata": {},
   "outputs": [
    {
     "data": {
      "application/vnd.plotly.v1+json": {
       "config": {
        "plotlyServerURL": "https://plot.ly"
       },
       "data": [
        {
         "alignmentgroup": "True",
         "hovertemplate": "audience_size_hundreds=%{x}<br>station_name=%{y}<extra></extra>",
         "legendgroup": "",
         "marker": {
          "color": "#636efa",
          "pattern": {
           "shape": ""
          }
         },
         "name": "",
         "offsetgroup": "",
         "orientation": "h",
         "showlegend": false,
         "textposition": "auto",
         "texttemplate": "%{x:.2s}",
         "type": "bar",
         "x": [
          422.8888888888889,
          484.9852941176471,
          830.2564102564103,
          392.89285714285717,
          388.3030303030303,
          3759.1348314606744,
          350.78205128205127,
          414.8235294117647,
          510,
          881.696,
          525.0909090909091,
          323.22727272727275,
          3089.6666666666665,
          2526.3333333333335,
          620.4772727272727,
          569.8333333333334,
          347.27777777777777,
          632.7954545454545,
          426.44117647058823,
          1110.5,
          330,
          467,
          472.3333333333333,
          483.72222222222223
         ],
         "xaxis": "x",
         "y": [
          "5ACTION",
          "5STAR",
          "5USA",
          "BLAZE",
          "CBS Reality",
          "Channel 5",
          "Channel 5+1",
          "Dave",
          "Drama",
          "E4",
          "Film4",
          "GOLD",
          "ITV",
          "ITV HD",
          "ITV2",
          "More4",
          "Pick",
          "Quest",
          "Quest Red",
          "Sky News",
          "Sky Sports Action",
          "Sky Sports Football",
          "Sky Sports News",
          "Sky Witness"
         ],
         "yaxis": "y"
        }
       ],
       "layout": {
        "autosize": true,
        "barmode": "relative",
        "legend": {
         "tracegroupgap": 0
        },
        "template": {
         "data": {
          "bar": [
           {
            "error_x": {
             "color": "#2a3f5f"
            },
            "error_y": {
             "color": "#2a3f5f"
            },
            "marker": {
             "line": {
              "color": "#E5ECF6",
              "width": 0.5
             },
             "pattern": {
              "fillmode": "overlay",
              "size": 10,
              "solidity": 0.2
             }
            },
            "type": "bar"
           }
          ],
          "barpolar": [
           {
            "marker": {
             "line": {
              "color": "#E5ECF6",
              "width": 0.5
             },
             "pattern": {
              "fillmode": "overlay",
              "size": 10,
              "solidity": 0.2
             }
            },
            "type": "barpolar"
           }
          ],
          "carpet": [
           {
            "aaxis": {
             "endlinecolor": "#2a3f5f",
             "gridcolor": "white",
             "linecolor": "white",
             "minorgridcolor": "white",
             "startlinecolor": "#2a3f5f"
            },
            "baxis": {
             "endlinecolor": "#2a3f5f",
             "gridcolor": "white",
             "linecolor": "white",
             "minorgridcolor": "white",
             "startlinecolor": "#2a3f5f"
            },
            "type": "carpet"
           }
          ],
          "choropleth": [
           {
            "colorbar": {
             "outlinewidth": 0,
             "ticks": ""
            },
            "type": "choropleth"
           }
          ],
          "contour": [
           {
            "colorbar": {
             "outlinewidth": 0,
             "ticks": ""
            },
            "colorscale": [
             [
              0,
              "#0d0887"
             ],
             [
              0.1111111111111111,
              "#46039f"
             ],
             [
              0.2222222222222222,
              "#7201a8"
             ],
             [
              0.3333333333333333,
              "#9c179e"
             ],
             [
              0.4444444444444444,
              "#bd3786"
             ],
             [
              0.5555555555555556,
              "#d8576b"
             ],
             [
              0.6666666666666666,
              "#ed7953"
             ],
             [
              0.7777777777777778,
              "#fb9f3a"
             ],
             [
              0.8888888888888888,
              "#fdca26"
             ],
             [
              1,
              "#f0f921"
             ]
            ],
            "type": "contour"
           }
          ],
          "contourcarpet": [
           {
            "colorbar": {
             "outlinewidth": 0,
             "ticks": ""
            },
            "type": "contourcarpet"
           }
          ],
          "heatmap": [
           {
            "colorbar": {
             "outlinewidth": 0,
             "ticks": ""
            },
            "colorscale": [
             [
              0,
              "#0d0887"
             ],
             [
              0.1111111111111111,
              "#46039f"
             ],
             [
              0.2222222222222222,
              "#7201a8"
             ],
             [
              0.3333333333333333,
              "#9c179e"
             ],
             [
              0.4444444444444444,
              "#bd3786"
             ],
             [
              0.5555555555555556,
              "#d8576b"
             ],
             [
              0.6666666666666666,
              "#ed7953"
             ],
             [
              0.7777777777777778,
              "#fb9f3a"
             ],
             [
              0.8888888888888888,
              "#fdca26"
             ],
             [
              1,
              "#f0f921"
             ]
            ],
            "type": "heatmap"
           }
          ],
          "heatmapgl": [
           {
            "colorbar": {
             "outlinewidth": 0,
             "ticks": ""
            },
            "colorscale": [
             [
              0,
              "#0d0887"
             ],
             [
              0.1111111111111111,
              "#46039f"
             ],
             [
              0.2222222222222222,
              "#7201a8"
             ],
             [
              0.3333333333333333,
              "#9c179e"
             ],
             [
              0.4444444444444444,
              "#bd3786"
             ],
             [
              0.5555555555555556,
              "#d8576b"
             ],
             [
              0.6666666666666666,
              "#ed7953"
             ],
             [
              0.7777777777777778,
              "#fb9f3a"
             ],
             [
              0.8888888888888888,
              "#fdca26"
             ],
             [
              1,
              "#f0f921"
             ]
            ],
            "type": "heatmapgl"
           }
          ],
          "histogram": [
           {
            "marker": {
             "pattern": {
              "fillmode": "overlay",
              "size": 10,
              "solidity": 0.2
             }
            },
            "type": "histogram"
           }
          ],
          "histogram2d": [
           {
            "colorbar": {
             "outlinewidth": 0,
             "ticks": ""
            },
            "colorscale": [
             [
              0,
              "#0d0887"
             ],
             [
              0.1111111111111111,
              "#46039f"
             ],
             [
              0.2222222222222222,
              "#7201a8"
             ],
             [
              0.3333333333333333,
              "#9c179e"
             ],
             [
              0.4444444444444444,
              "#bd3786"
             ],
             [
              0.5555555555555556,
              "#d8576b"
             ],
             [
              0.6666666666666666,
              "#ed7953"
             ],
             [
              0.7777777777777778,
              "#fb9f3a"
             ],
             [
              0.8888888888888888,
              "#fdca26"
             ],
             [
              1,
              "#f0f921"
             ]
            ],
            "type": "histogram2d"
           }
          ],
          "histogram2dcontour": [
           {
            "colorbar": {
             "outlinewidth": 0,
             "ticks": ""
            },
            "colorscale": [
             [
              0,
              "#0d0887"
             ],
             [
              0.1111111111111111,
              "#46039f"
             ],
             [
              0.2222222222222222,
              "#7201a8"
             ],
             [
              0.3333333333333333,
              "#9c179e"
             ],
             [
              0.4444444444444444,
              "#bd3786"
             ],
             [
              0.5555555555555556,
              "#d8576b"
             ],
             [
              0.6666666666666666,
              "#ed7953"
             ],
             [
              0.7777777777777778,
              "#fb9f3a"
             ],
             [
              0.8888888888888888,
              "#fdca26"
             ],
             [
              1,
              "#f0f921"
             ]
            ],
            "type": "histogram2dcontour"
           }
          ],
          "mesh3d": [
           {
            "colorbar": {
             "outlinewidth": 0,
             "ticks": ""
            },
            "type": "mesh3d"
           }
          ],
          "parcoords": [
           {
            "line": {
             "colorbar": {
              "outlinewidth": 0,
              "ticks": ""
             }
            },
            "type": "parcoords"
           }
          ],
          "pie": [
           {
            "automargin": true,
            "type": "pie"
           }
          ],
          "scatter": [
           {
            "marker": {
             "colorbar": {
              "outlinewidth": 0,
              "ticks": ""
             }
            },
            "type": "scatter"
           }
          ],
          "scatter3d": [
           {
            "line": {
             "colorbar": {
              "outlinewidth": 0,
              "ticks": ""
             }
            },
            "marker": {
             "colorbar": {
              "outlinewidth": 0,
              "ticks": ""
             }
            },
            "type": "scatter3d"
           }
          ],
          "scattercarpet": [
           {
            "marker": {
             "colorbar": {
              "outlinewidth": 0,
              "ticks": ""
             }
            },
            "type": "scattercarpet"
           }
          ],
          "scattergeo": [
           {
            "marker": {
             "colorbar": {
              "outlinewidth": 0,
              "ticks": ""
             }
            },
            "type": "scattergeo"
           }
          ],
          "scattergl": [
           {
            "marker": {
             "colorbar": {
              "outlinewidth": 0,
              "ticks": ""
             }
            },
            "type": "scattergl"
           }
          ],
          "scattermapbox": [
           {
            "marker": {
             "colorbar": {
              "outlinewidth": 0,
              "ticks": ""
             }
            },
            "type": "scattermapbox"
           }
          ],
          "scatterpolar": [
           {
            "marker": {
             "colorbar": {
              "outlinewidth": 0,
              "ticks": ""
             }
            },
            "type": "scatterpolar"
           }
          ],
          "scatterpolargl": [
           {
            "marker": {
             "colorbar": {
              "outlinewidth": 0,
              "ticks": ""
             }
            },
            "type": "scatterpolargl"
           }
          ],
          "scatterternary": [
           {
            "marker": {
             "colorbar": {
              "outlinewidth": 0,
              "ticks": ""
             }
            },
            "type": "scatterternary"
           }
          ],
          "surface": [
           {
            "colorbar": {
             "outlinewidth": 0,
             "ticks": ""
            },
            "colorscale": [
             [
              0,
              "#0d0887"
             ],
             [
              0.1111111111111111,
              "#46039f"
             ],
             [
              0.2222222222222222,
              "#7201a8"
             ],
             [
              0.3333333333333333,
              "#9c179e"
             ],
             [
              0.4444444444444444,
              "#bd3786"
             ],
             [
              0.5555555555555556,
              "#d8576b"
             ],
             [
              0.6666666666666666,
              "#ed7953"
             ],
             [
              0.7777777777777778,
              "#fb9f3a"
             ],
             [
              0.8888888888888888,
              "#fdca26"
             ],
             [
              1,
              "#f0f921"
             ]
            ],
            "type": "surface"
           }
          ],
          "table": [
           {
            "cells": {
             "fill": {
              "color": "#EBF0F8"
             },
             "line": {
              "color": "white"
             }
            },
            "header": {
             "fill": {
              "color": "#C8D4E3"
             },
             "line": {
              "color": "white"
             }
            },
            "type": "table"
           }
          ]
         },
         "layout": {
          "annotationdefaults": {
           "arrowcolor": "#2a3f5f",
           "arrowhead": 0,
           "arrowwidth": 1
          },
          "autotypenumbers": "strict",
          "coloraxis": {
           "colorbar": {
            "outlinewidth": 0,
            "ticks": ""
           }
          },
          "colorscale": {
           "diverging": [
            [
             0,
             "#8e0152"
            ],
            [
             0.1,
             "#c51b7d"
            ],
            [
             0.2,
             "#de77ae"
            ],
            [
             0.3,
             "#f1b6da"
            ],
            [
             0.4,
             "#fde0ef"
            ],
            [
             0.5,
             "#f7f7f7"
            ],
            [
             0.6,
             "#e6f5d0"
            ],
            [
             0.7,
             "#b8e186"
            ],
            [
             0.8,
             "#7fbc41"
            ],
            [
             0.9,
             "#4d9221"
            ],
            [
             1,
             "#276419"
            ]
           ],
           "sequential": [
            [
             0,
             "#0d0887"
            ],
            [
             0.1111111111111111,
             "#46039f"
            ],
            [
             0.2222222222222222,
             "#7201a8"
            ],
            [
             0.3333333333333333,
             "#9c179e"
            ],
            [
             0.4444444444444444,
             "#bd3786"
            ],
            [
             0.5555555555555556,
             "#d8576b"
            ],
            [
             0.6666666666666666,
             "#ed7953"
            ],
            [
             0.7777777777777778,
             "#fb9f3a"
            ],
            [
             0.8888888888888888,
             "#fdca26"
            ],
            [
             1,
             "#f0f921"
            ]
           ],
           "sequentialminus": [
            [
             0,
             "#0d0887"
            ],
            [
             0.1111111111111111,
             "#46039f"
            ],
            [
             0.2222222222222222,
             "#7201a8"
            ],
            [
             0.3333333333333333,
             "#9c179e"
            ],
            [
             0.4444444444444444,
             "#bd3786"
            ],
            [
             0.5555555555555556,
             "#d8576b"
            ],
            [
             0.6666666666666666,
             "#ed7953"
            ],
            [
             0.7777777777777778,
             "#fb9f3a"
            ],
            [
             0.8888888888888888,
             "#fdca26"
            ],
            [
             1,
             "#f0f921"
            ]
           ]
          },
          "colorway": [
           "#636efa",
           "#EF553B",
           "#00cc96",
           "#ab63fa",
           "#FFA15A",
           "#19d3f3",
           "#FF6692",
           "#B6E880",
           "#FF97FF",
           "#FECB52"
          ],
          "font": {
           "color": "#2a3f5f"
          },
          "geo": {
           "bgcolor": "white",
           "lakecolor": "white",
           "landcolor": "#E5ECF6",
           "showlakes": true,
           "showland": true,
           "subunitcolor": "white"
          },
          "hoverlabel": {
           "align": "left"
          },
          "hovermode": "closest",
          "mapbox": {
           "style": "light"
          },
          "paper_bgcolor": "white",
          "plot_bgcolor": "#E5ECF6",
          "polar": {
           "angularaxis": {
            "gridcolor": "white",
            "linecolor": "white",
            "ticks": ""
           },
           "bgcolor": "#E5ECF6",
           "radialaxis": {
            "gridcolor": "white",
            "linecolor": "white",
            "ticks": ""
           }
          },
          "scene": {
           "xaxis": {
            "backgroundcolor": "#E5ECF6",
            "gridcolor": "white",
            "gridwidth": 2,
            "linecolor": "white",
            "showbackground": true,
            "ticks": "",
            "zerolinecolor": "white"
           },
           "yaxis": {
            "backgroundcolor": "#E5ECF6",
            "gridcolor": "white",
            "gridwidth": 2,
            "linecolor": "white",
            "showbackground": true,
            "ticks": "",
            "zerolinecolor": "white"
           },
           "zaxis": {
            "backgroundcolor": "#E5ECF6",
            "gridcolor": "white",
            "gridwidth": 2,
            "linecolor": "white",
            "showbackground": true,
            "ticks": "",
            "zerolinecolor": "white"
           }
          },
          "shapedefaults": {
           "line": {
            "color": "#2a3f5f"
           }
          },
          "ternary": {
           "aaxis": {
            "gridcolor": "white",
            "linecolor": "white",
            "ticks": ""
           },
           "baxis": {
            "gridcolor": "white",
            "linecolor": "white",
            "ticks": ""
           },
           "bgcolor": "#E5ECF6",
           "caxis": {
            "gridcolor": "white",
            "linecolor": "white",
            "ticks": ""
           }
          },
          "title": {
           "x": 0.05
          },
          "xaxis": {
           "automargin": true,
           "gridcolor": "white",
           "linecolor": "white",
           "ticks": "",
           "title": {
            "standoff": 15
           },
           "zerolinecolor": "white",
           "zerolinewidth": 2
          },
          "yaxis": {
           "automargin": true,
           "gridcolor": "white",
           "linecolor": "white",
           "ticks": "",
           "title": {
            "standoff": 15
           },
           "zerolinecolor": "white",
           "zerolinewidth": 2
          }
         }
        },
        "title": {
         "text": "Mean audience size per spot by station"
        },
        "xaxis": {
         "anchor": "y",
         "autorange": true,
         "domain": [
          0,
          1
         ],
         "range": [
          0,
          3956.984033116499
         ],
         "title": {
          "text": "audience_size_hundreds"
         },
         "type": "linear"
        },
        "yaxis": {
         "anchor": "x",
         "autorange": true,
         "domain": [
          0,
          1
         ],
         "range": [
          -0.5,
          23.5
         ],
         "title": {
          "text": "station_name"
         },
         "type": "category"
        }
       }
      },
      "image/png": "[encoded data removed]"
     },
     "metadata": {},
     "output_type": "display_data"
    }
   ],
   "source": [
    "persil = spot_data[spot_data['clearcast_commercial_title'].str.contains(\"Persil\")]\n",
    "group_by_station = persil[persil['audience_name']==\"All Homes\"].groupby('station_name')['audience_size_hundreds'].mean().reset_index()\n",
    "\n",
    "fig = px.bar(group_by_station[group_by_station[\"audience_size_hundreds\"]>300], x='audience_size_hundreds', y='station_name', text_auto='.2s',\n",
    "            title=\"Mean audience size per spot by station\", height=1000)\n",
    "fig.show()"
   ]
  },
  {
   "cell_type": "markdown",
   "id": "19346137-e495-4e69-bda4-bb231c13503d",
   "metadata": {},
   "source": [
    "### On average for each audience and station what percentage of the target audience was reached"
   ]
  },
  {
   "cell_type": "code",
   "execution_count": 14,
   "id": "2ddf1652-3342-492e-b159-b5e2ca07baf7",
   "metadata": {},
   "outputs": [],
   "source": [
    "persil=persil.assign(audience_penetration = persil['audience_size_hundreds']/persil['audience_target_size_hundreds'])\n",
    "group_by_audience_and_station = persil.groupby(['audience_name', 'station_name'])['audience_penetration'].mean()\n",
    "group_by_audience_and_station = group_by_audience_and_station[group_by_audience_and_station>0.003].unstack().fillna(0)"
   ]
  },
  {
   "cell_type": "code",
   "execution_count": 15,
   "id": "620c3d30-e571-4a4d-82c6-df36ae93b0f9",
   "metadata": {},
   "outputs": [
    {
     "data": {
      "image/png": "[encoded data removed]",
      "text/plain": [
       "<Figure size 1800x1440 with 4 Axes>"
      ]
     },
     "metadata": {
      "needs_background": "light"
     },
     "output_type": "display_data"
    }
   ],
   "source": [
    "_ = sns.clustermap(group_by_audience_and_station, figsize = (25,20))"
   ]
  },
  {
   "cell_type": "markdown",
   "id": "7ea5ac93-dd62-42d3-967c-94e2e5634c8f",
   "metadata": {},
   "source": [
    "## How did the spots do over time?"
   ]
  },
  {
   "cell_type": "code",
   "execution_count": 16,
   "id": "a2f3c296-b4e6-47c6-a5c8-17b1db6df61a",
   "metadata": {},
   "outputs": [
    {
     "data": {
      "application/vnd.plotly.v1+json": {
       "config": {
        "plotlyServerURL": "https://plot.ly"
       },
       "data": [
        {
         "hovertemplate": "station_name=Sky Arts<br>spot_start_datetime=%{x}<br>audience_size_hundreds=%{y}<extra></extra>",
         "legendgroup": "Sky Arts",
         "marker": {
          "color": "#636efa",
          "size": 10,
          "symbol": "circle"
         },
         "mode": "markers",
         "name": "Sky Arts",
         "orientation": "v",
         "showlegend": true,
         "type": "scatter",
         "x": [
          "2022-03-25T00:16:39",
          "2022-03-25T20:03:09",
          "2022-03-26T19:30:08",
          "2022-03-27T21:18:45",
          "2022-03-27T22:05:30",
          "2022-03-27T22:18:39",
          "2022-03-28T21:44:37",
          "2022-03-29T19:28:29",
          "2022-03-30T23:42:27",
          "2022-03-31T20:41:57",
          "2022-03-31T21:45:21",
          "2022-03-31T23:19:41",
          "2022-03-31T23:57:55"
         ],
         "xaxis": "x",
         "y": [
          154,
          332,
          17,
          109,
          111,
          111,
          807,
          376,
          184,
          214,
          63,
          163,
          169
         ],
         "yaxis": "y"
        },
        {
         "hovertemplate": "station_name=Sky Atlantic<br>spot_start_datetime=%{x}<br>audience_size_hundreds=%{y}<extra></extra>",
         "legendgroup": "Sky Atlantic",
         "marker": {
          "color": "#EF553B",
          "size": 10,
          "symbol": "circle"
         },
         "mode": "markers",
         "name": "Sky Atlantic",
         "orientation": "v",
         "showlegend": true,
         "type": "scatter",
         "x": [
          "2022-03-14T20:18:57",
          "2022-03-16T20:56:24",
          "2022-03-19T21:25:46",
          "2022-03-19T23:49:52",
          "2022-03-20T00:58:23",
          "2022-03-21T20:11:47",
          "2022-03-25T19:28:58",
          "2022-03-25T21:37:22",
          "2022-04-01T21:58:26"
         ],
         "xaxis": "x",
         "y": [
          95,
          92,
          28,
          287,
          14,
          63,
          50,
          112,
          34
         ],
         "yaxis": "y"
        },
        {
         "hovertemplate": "station_name=Sky Atlantic +1<br>spot_start_datetime=%{x}<br>audience_size_hundreds=%{y}<extra></extra>",
         "legendgroup": "Sky Atlantic +1",
         "marker": {
          "color": "#00cc96",
          "size": 10,
          "symbol": "circle"
         },
         "mode": "markers",
         "name": "Sky Atlantic +1",
         "orientation": "v",
         "showlegend": true,
         "type": "scatter",
         "x": [
          "2022-03-14T21:18:57",
          "2022-03-21T21:11:47"
         ],
         "xaxis": "x",
         "y": [
          24,
          45
         ],
         "yaxis": "y"
        },
        {
         "hovertemplate": "station_name=Sky Cinema Action & Adventure<br>spot_start_datetime=%{x}<br>audience_size_hundreds=%{y}<extra></extra>",
         "legendgroup": "Sky Cinema Action & Adventure",
         "marker": {
          "color": "#ab63fa",
          "size": 10,
          "symbol": "circle"
         },
         "mode": "markers",
         "name": "Sky Cinema Action & Adventure",
         "orientation": "v",
         "showlegend": true,
         "type": "scatter",
         "x": [
          "2022-03-30T21:58:50"
         ],
         "xaxis": "x",
         "y": [
          67
         ],
         "yaxis": "y"
        },
        {
         "hovertemplate": "station_name=Sky Cinema Animation<br>spot_start_datetime=%{x}<br>audience_size_hundreds=%{y}<extra></extra>",
         "legendgroup": "Sky Cinema Animation",
         "marker": {
          "color": "#FFA15A",
          "size": 10,
          "symbol": "circle"
         },
         "mode": "markers",
         "name": "Sky Cinema Animation",
         "orientation": "v",
         "showlegend": true,
         "type": "scatter",
         "x": [
          "2022-03-27T23:26:39",
          "2022-03-28T04:25:10"
         ],
         "xaxis": "x",
         "y": [
          61,
          61
         ],
         "yaxis": "y"
        },
        {
         "hovertemplate": "station_name=Sky Cinema Crime & Thriller<br>spot_start_datetime=%{x}<br>audience_size_hundreds=%{y}<extra></extra>",
         "legendgroup": "Sky Cinema Crime & Thriller",
         "marker": {
          "color": "#19d3f3",
          "size": 10,
          "symbol": "circle"
         },
         "mode": "markers",
         "name": "Sky Cinema Crime & Thriller",
         "orientation": "v",
         "showlegend": true,
         "type": "scatter",
         "x": [
          "2022-03-26T20:00:53",
          "2022-03-29T19:58:30",
          "2022-04-02T05:22:38"
         ],
         "xaxis": "x",
         "y": [
          25,
          74,
          62
         ],
         "yaxis": "y"
        },
        {
         "hovertemplate": "station_name=Sky Cinema Premiere<br>spot_start_datetime=%{x}<br>audience_size_hundreds=%{y}<extra></extra>",
         "legendgroup": "Sky Cinema Premiere",
         "marker": {
          "color": "#FF6692",
          "size": 10,
          "symbol": "circle"
         },
         "mode": "markers",
         "name": "Sky Cinema Premiere",
         "orientation": "v",
         "showlegend": true,
         "type": "scatter",
         "x": [
          "2022-03-26T22:27:20"
         ],
         "xaxis": "x",
         "y": [
          31
         ],
         "yaxis": "y"
        },
        {
         "hovertemplate": "station_name=Sky Cinema Select<br>spot_start_datetime=%{x}<br>audience_size_hundreds=%{y}<extra></extra>",
         "legendgroup": "Sky Cinema Select",
         "marker": {
          "color": "#B6E880",
          "size": 10,
          "symbol": "circle"
         },
         "mode": "markers",
         "name": "Sky Cinema Select",
         "orientation": "v",
         "showlegend": true,
         "type": "scatter",
         "x": [
          "2022-04-01T18:14:24",
          "2022-04-02T01:05:54"
         ],
         "xaxis": "x",
         "y": [
          57,
          77
         ],
         "yaxis": "y"
        },
        {
         "hovertemplate": "station_name=Sky Comedy<br>spot_start_datetime=%{x}<br>audience_size_hundreds=%{y}<extra></extra>",
         "legendgroup": "Sky Comedy",
         "marker": {
          "color": "#FF97FF",
          "size": 10,
          "symbol": "circle"
         },
         "mode": "markers",
         "name": "Sky Comedy",
         "orientation": "v",
         "showlegend": true,
         "type": "scatter",
         "x": [
          "2022-03-23T19:12:12",
          "2022-03-24T20:25:48",
          "2022-03-28T00:19:35",
          "2022-03-28T20:13:34",
          "2022-03-28T21:46:31",
          "2022-03-29T18:42:58",
          "2022-03-29T20:58:14",
          "2022-04-01T18:43:54",
          "2022-04-01T19:44:29"
         ],
         "xaxis": "x",
         "y": [
          62,
          30,
          93,
          58,
          114,
          107,
          28,
          50,
          88
         ],
         "yaxis": "y"
        },
        {
         "hovertemplate": "station_name=Sky Crime<br>spot_start_datetime=%{x}<br>audience_size_hundreds=%{y}<extra></extra>",
         "legendgroup": "Sky Crime",
         "marker": {
          "color": "#FECB52",
          "size": 10,
          "symbol": "circle"
         },
         "mode": "markers",
         "name": "Sky Crime",
         "orientation": "v",
         "showlegend": true,
         "type": "scatter",
         "x": [
          "2022-03-14T23:13:41",
          "2022-03-14T23:30:41",
          "2022-03-15T00:43:43",
          "2022-03-16T00:01:30",
          "2022-03-16T00:14:56",
          "2022-03-16T21:15:06",
          "2022-03-17T20:27:29",
          "2022-03-17T21:12:00",
          "2022-03-19T23:14:18",
          "2022-03-20T21:15:05",
          "2022-03-20T21:44:33",
          "2022-03-20T23:25:47",
          "2022-03-20T23:43:15",
          "2022-03-22T23:08:29",
          "2022-03-24T21:13:03",
          "2022-03-25T23:29:46",
          "2022-03-26T00:29:00",
          "2022-03-26T21:43:36",
          "2022-03-27T00:13:47",
          "2022-03-27T20:15:18",
          "2022-03-27T22:18:46",
          "2022-03-27T22:55:34",
          "2022-03-28T19:10:49",
          "2022-03-28T23:26:43",
          "2022-03-29T23:08:38",
          "2022-03-30T00:56:33",
          "2022-04-01T20:58:34",
          "2022-04-01T22:29:14"
         ],
         "xaxis": "x",
         "y": [
          62,
          62,
          223,
          42,
          42,
          120,
          90,
          122,
          195,
          268,
          219,
          182,
          182,
          33,
          264,
          234,
          166,
          57,
          54,
          161,
          324,
          280,
          131,
          43,
          222,
          42,
          166,
          194
         ],
         "yaxis": "y"
        },
        {
         "hovertemplate": "station_name=Sky Crime+1<br>spot_start_datetime=%{x}<br>audience_size_hundreds=%{y}<extra></extra>",
         "legendgroup": "Sky Crime+1",
         "marker": {
          "color": "#636efa",
          "size": 10,
          "symbol": "circle"
         },
         "mode": "markers",
         "name": "Sky Crime+1",
         "orientation": "v",
         "showlegend": true,
         "type": "scatter",
         "x": [
          "2022-03-19T08:07:05",
          "2022-03-26T01:29:00",
          "2022-03-30T01:56:33"
         ],
         "xaxis": "x",
         "y": [
          73,
          64,
          45
         ],
         "yaxis": "y"
        },
        {
         "hovertemplate": "station_name=Sky Documentaries<br>spot_start_datetime=%{x}<br>audience_size_hundreds=%{y}<extra></extra>",
         "legendgroup": "Sky Documentaries",
         "marker": {
          "color": "#EF553B",
          "size": 10,
          "symbol": "circle"
         },
         "mode": "markers",
         "name": "Sky Documentaries",
         "orientation": "v",
         "showlegend": true,
         "type": "scatter",
         "x": [
          "2022-03-23T00:45:10"
         ],
         "xaxis": "x",
         "y": [
          33
         ],
         "yaxis": "y"
        },
        {
         "hovertemplate": "station_name=Sky History<br>spot_start_datetime=%{x}<br>audience_size_hundreds=%{y}<extra></extra>",
         "legendgroup": "Sky History",
         "marker": {
          "color": "#00cc96",
          "size": 10,
          "symbol": "circle"
         },
         "mode": "markers",
         "name": "Sky History",
         "orientation": "v",
         "showlegend": true,
         "type": "scatter",
         "x": [
          "2022-03-14T18:12:30",
          "2022-03-14T19:29:15",
          "2022-03-14T20:11:44",
          "2022-03-15T19:28:02",
          "2022-03-15T19:44:54",
          "2022-03-15T20:26:59",
          "2022-03-15T21:16:49",
          "2022-03-16T23:11:25",
          "2022-03-16T23:48:32",
          "2022-03-17T00:13:13",
          "2022-03-17T00:29:34",
          "2022-03-17T18:12:10",
          "2022-03-17T18:42:20",
          "2022-03-17T20:17:11",
          "2022-03-17T20:27:42",
          "2022-03-17T21:13:06",
          "2022-03-17T21:45:43",
          "2022-03-17T22:09:40",
          "2022-03-17T22:45:06",
          "2022-03-18T18:41:35",
          "2022-03-18T19:13:36",
          "2022-03-18T19:41:43",
          "2022-03-20T07:43:00",
          "2022-03-20T08:11:15",
          "2022-03-20T08:43:57",
          "2022-03-20T09:15:24",
          "2022-03-20T09:27:53",
          "2022-03-20T10:45:55",
          "2022-03-20T12:11:10",
          "2022-03-21T00:42:15",
          "2022-03-21T18:13:18",
          "2022-03-22T19:28:00",
          "2022-03-23T20:10:06",
          "2022-03-24T18:10:12",
          "2022-03-24T19:14:03",
          "2022-03-24T19:45:19",
          "2022-03-24T20:12:36",
          "2022-03-24T20:46:33",
          "2022-03-24T21:17:04",
          "2022-03-24T21:30:06",
          "2022-03-24T21:42:45",
          "2022-03-24T22:11:46",
          "2022-03-24T22:45:03",
          "2022-03-25T18:43:08",
          "2022-03-25T19:13:17",
          "2022-03-25T19:29:37",
          "2022-03-25T19:47:03",
          "2022-03-27T07:44:42",
          "2022-03-27T08:13:21",
          "2022-03-27T08:28:09",
          "2022-03-27T08:47:48",
          "2022-03-27T09:17:47",
          "2022-03-27T09:34:54",
          "2022-03-27T11:44:31",
          "2022-03-27T12:16:07",
          "2022-03-27T15:14:44",
          "2022-03-28T18:30:48",
          "2022-03-28T18:39:14",
          "2022-03-28T19:12:09",
          "2022-03-28T22:29:57",
          "2022-03-28T22:45:10",
          "2022-03-29T19:49:13",
          "2022-03-29T20:27:00",
          "2022-03-30T20:25:18",
          "2022-03-30T20:45:17",
          "2022-03-30T23:14:56",
          "2022-03-30T23:40:34",
          "2022-03-31T18:28:01",
          "2022-03-31T18:45:46",
          "2022-03-31T19:12:47",
          "2022-03-31T19:44:19",
          "2022-03-31T20:18:07",
          "2022-03-31T20:28:10",
          "2022-03-31T20:47:18",
          "2022-03-31T21:14:30",
          "2022-03-31T21:29:10",
          "2022-03-31T21:42:59",
          "2022-03-31T22:13:18",
          "2022-03-31T22:41:41",
          "2022-04-01T19:14:34",
          "2022-04-01T23:33:18",
          "2022-04-02T00:47:14"
         ],
         "xaxis": "x",
         "y": [
          142,
          124,
          248,
          48,
          81,
          152,
          157,
          97,
          142,
          87,
          93,
          148,
          279,
          92,
          62,
          37,
          95,
          140,
          95,
          151,
          214,
          244,
          53,
          98,
          98,
          192,
          102,
          49,
          45,
          82,
          176,
          35,
          232,
          105,
          220,
          133,
          171,
          171,
          357,
          427,
          177,
          231,
          152,
          28,
          142,
          114,
          114,
          100,
          213,
          428,
          428,
          132,
          100,
          241,
          141,
          91,
          68,
          89,
          273,
          65,
          133,
          145,
          152,
          114,
          114,
          187,
          245,
          146,
          146,
          194,
          419,
          187,
          187,
          146,
          250,
          278,
          146,
          238,
          332,
          141,
          73,
          73
         ],
         "yaxis": "y"
        },
        {
         "hovertemplate": "station_name=Sky History +1<br>spot_start_datetime=%{x}<br>audience_size_hundreds=%{y}<extra></extra>",
         "legendgroup": "Sky History +1",
         "marker": {
          "color": "#ab63fa",
          "size": 10,
          "symbol": "circle"
         },
         "mode": "markers",
         "name": "Sky History +1",
         "orientation": "v",
         "showlegend": true,
         "type": "scatter",
         "x": [
          "2022-03-15T22:16:49",
          "2022-03-17T20:10:27",
          "2022-03-17T21:17:11",
          "2022-03-17T21:27:42",
          "2022-03-17T22:13:06",
          "2022-03-17T22:45:43",
          "2022-03-17T23:09:40",
          "2022-03-17T23:45:06",
          "2022-03-20T08:43:00",
          "2022-03-24T20:45:19",
          "2022-03-24T21:12:36",
          "2022-03-27T12:44:31",
          "2022-03-27T16:14:44",
          "2022-03-28T19:09:28",
          "2022-03-31T00:14:56",
          "2022-03-31T00:40:34",
          "2022-03-31T21:18:07",
          "2022-03-31T23:41:41"
         ],
         "xaxis": "x",
         "y": [
          89,
          38,
          173,
          58,
          58,
          58,
          121,
          58,
          38,
          38,
          38,
          80,
          52,
          52,
          75,
          75,
          51,
          70
         ],
         "yaxis": "y"
        },
        {
         "hovertemplate": "station_name=Sky History 2<br>spot_start_datetime=%{x}<br>audience_size_hundreds=%{y}<extra></extra>",
         "legendgroup": "Sky History 2",
         "marker": {
          "color": "#FFA15A",
          "size": 10,
          "symbol": "circle"
         },
         "mode": "markers",
         "name": "Sky History 2",
         "orientation": "v",
         "showlegend": true,
         "type": "scatter",
         "x": [
          "2022-03-23T18:51:38"
         ],
         "xaxis": "x",
         "y": [
          68
         ],
         "yaxis": "y"
        },
        {
         "hovertemplate": "station_name=Sky Max<br>spot_start_datetime=%{x}<br>audience_size_hundreds=%{y}<extra></extra>",
         "legendgroup": "Sky Max",
         "marker": {
          "color": "#19d3f3",
          "size": 10,
          "symbol": "circle"
         },
         "mode": "markers",
         "name": "Sky Max",
         "orientation": "v",
         "showlegend": true,
         "type": "scatter",
         "x": [
          "2022-03-16T20:12:13",
          "2022-03-22T19:30:55",
          "2022-03-24T21:27:51",
          "2022-03-24T23:32:42",
          "2022-03-24T23:46:00",
          "2022-03-25T19:44:02",
          "2022-03-27T17:46:29",
          "2022-03-27T20:10:13",
          "2022-03-29T21:13:33",
          "2022-03-30T20:26:45",
          "2022-03-31T21:36:42",
          "2022-04-01T20:49:38",
          "2022-04-01T21:31:57",
          "2022-04-01T22:42:49"
         ],
         "xaxis": "x",
         "y": [
          13,
          179,
          71,
          32,
          85,
          143,
          26,
          29,
          71,
          122,
          165,
          20,
          176,
          164
         ],
         "yaxis": "y"
        },
        {
         "hovertemplate": "station_name=Sky Nature<br>spot_start_datetime=%{x}<br>audience_size_hundreds=%{y}<extra></extra>",
         "legendgroup": "Sky Nature",
         "marker": {
          "color": "#FF6692",
          "size": 10,
          "symbol": "circle"
         },
         "mode": "markers",
         "name": "Sky Nature",
         "orientation": "v",
         "showlegend": true,
         "type": "scatter",
         "x": [
          "2022-03-23T19:28:55",
          "2022-03-24T19:29:10",
          "2022-03-31T21:29:06"
         ],
         "xaxis": "x",
         "y": [
          65,
          21,
          41
         ],
         "yaxis": "y"
        },
        {
         "hovertemplate": "station_name=Sky News<br>spot_start_datetime=%{x}<br>audience_size_hundreds=%{y}<extra></extra>",
         "legendgroup": "Sky News",
         "marker": {
          "color": "#B6E880",
          "size": 10,
          "symbol": "circle"
         },
         "mode": "markers",
         "name": "Sky News",
         "orientation": "v",
         "showlegend": true,
         "type": "scatter",
         "x": [
          "2022-03-15T19:57:54",
          "2022-03-15T21:34:23",
          "2022-03-15T21:56:44",
          "2022-03-31T07:57:14"
         ],
         "xaxis": "x",
         "y": [
          1136,
          785,
          1513,
          1008
         ],
         "yaxis": "y"
        },
        {
         "hovertemplate": "station_name=Sky Replay<br>spot_start_datetime=%{x}<br>audience_size_hundreds=%{y}<extra></extra>",
         "legendgroup": "Sky Replay",
         "marker": {
          "color": "#FF97FF",
          "size": 10,
          "symbol": "circle"
         },
         "mode": "markers",
         "name": "Sky Replay",
         "orientation": "v",
         "showlegend": true,
         "type": "scatter",
         "x": [
          "2022-03-15T21:56:31",
          "2022-03-19T20:37:54",
          "2022-03-19T21:10:30",
          "2022-03-25T18:29:37",
          "2022-03-26T17:58:25",
          "2022-03-26T22:46:52",
          "2022-03-28T20:42:17",
          "2022-04-01T00:31:26"
         ],
         "xaxis": "x",
         "y": [
          25,
          21,
          67,
          86,
          36,
          9,
          24,
          166
         ],
         "yaxis": "y"
        },
        {
         "hovertemplate": "station_name=Sky Showcase<br>spot_start_datetime=%{x}<br>audience_size_hundreds=%{y}<extra></extra>",
         "legendgroup": "Sky Showcase",
         "marker": {
          "color": "#FECB52",
          "size": 10,
          "symbol": "circle"
         },
         "mode": "markers",
         "name": "Sky Showcase",
         "orientation": "v",
         "showlegend": true,
         "type": "scatter",
         "x": [
          "2022-03-14T18:26:48",
          "2022-03-14T18:56:42",
          "2022-03-14T19:25:43",
          "2022-03-14T19:41:18",
          "2022-03-14T19:56:28",
          "2022-03-15T17:56:12",
          "2022-03-15T18:27:11",
          "2022-03-15T19:15:29",
          "2022-03-15T19:58:21",
          "2022-03-15T21:28:24",
          "2022-03-16T18:28:16",
          "2022-03-16T18:46:49",
          "2022-03-16T18:56:09",
          "2022-03-16T19:26:01",
          "2022-03-16T19:42:48",
          "2022-03-16T19:56:06",
          "2022-03-16T22:13:19",
          "2022-03-17T18:42:08",
          "2022-03-17T19:09:51",
          "2022-03-17T19:45:31",
          "2022-03-17T20:25:32",
          "2022-03-17T22:20:23",
          "2022-03-18T20:08:45",
          "2022-03-19T11:47:28",
          "2022-03-19T21:56:14",
          "2022-03-19T22:21:16",
          "2022-03-20T18:06:53",
          "2022-03-20T18:37:17",
          "2022-03-20T20:29:29",
          "2022-03-21T17:42:15",
          "2022-03-21T18:38:27",
          "2022-03-21T18:58:08",
          "2022-03-21T19:26:30",
          "2022-03-21T19:43:23",
          "2022-03-21T19:57:26",
          "2022-03-22T18:25:59",
          "2022-03-22T19:42:22",
          "2022-03-23T18:57:46",
          "2022-03-23T19:39:24",
          "2022-03-24T18:41:46",
          "2022-03-24T19:44:58",
          "2022-03-24T20:11:37",
          "2022-03-24T20:43:12",
          "2022-03-24T21:57:35",
          "2022-03-25T14:56:57",
          "2022-03-25T19:09:55",
          "2022-03-25T19:39:20",
          "2022-03-25T20:09:19",
          "2022-03-25T20:41:07",
          "2022-03-25T21:28:16",
          "2022-03-25T22:15:26",
          "2022-03-25T23:45:41",
          "2022-03-26T20:12:47",
          "2022-03-26T22:19:54",
          "2022-03-26T22:41:37",
          "2022-03-26T23:19:07",
          "2022-03-27T09:39:54",
          "2022-03-27T18:56:21",
          "2022-03-27T19:28:04",
          "2022-03-27T20:14:41",
          "2022-03-27T20:37:07",
          "2022-03-28T18:29:02",
          "2022-03-28T18:39:59",
          "2022-03-28T18:56:43",
          "2022-03-28T19:26:27",
          "2022-03-28T19:56:26",
          "2022-03-28T20:30:39",
          "2022-03-28T22:14:39",
          "2022-03-29T17:56:29",
          "2022-03-29T19:26:18",
          "2022-03-29T19:56:27",
          "2022-03-29T21:11:06",
          "2022-03-29T22:24:42",
          "2022-03-29T22:49:53",
          "2022-03-29T23:31:52",
          "2022-03-30T18:28:09",
          "2022-03-30T18:38:35",
          "2022-03-30T19:27:43",
          "2022-03-30T19:39:58",
          "2022-03-30T20:27:39",
          "2022-03-30T22:49:35",
          "2022-03-31T18:26:49",
          "2022-03-31T18:58:58",
          "2022-03-31T19:10:13",
          "2022-03-31T19:56:24",
          "2022-03-31T20:09:25",
          "2022-03-31T22:44:27",
          "2022-04-01T18:42:43",
          "2022-04-01T19:39:01"
         ],
         "xaxis": "x",
         "y": [
          79,
          261,
          510,
          396,
          310,
          35,
          35,
          289,
          317,
          417,
          186,
          119,
          76,
          181,
          254,
          193,
          247,
          200,
          146,
          378,
          88,
          102,
          99,
          23,
          139,
          450,
          479,
          246,
          114,
          23,
          246,
          323,
          260,
          572,
          311,
          305,
          71,
          63,
          251,
          442,
          137,
          209,
          449,
          440,
          100,
          426,
          198,
          73,
          95,
          19,
          169,
          52,
          562,
          1306,
          1013,
          1047,
          164,
          161,
          325,
          210,
          275,
          425,
          304,
          96,
          134,
          23,
          231,
          108,
          52,
          336,
          226,
          78,
          191,
          48,
          39,
          193,
          100,
          65,
          494,
          129,
          39,
          42,
          165,
          395,
          91,
          201,
          230,
          165,
          446
         ],
         "yaxis": "y"
        },
        {
         "hovertemplate": "station_name=Sky Showcase +1<br>spot_start_datetime=%{x}<br>audience_size_hundreds=%{y}<extra></extra>",
         "legendgroup": "Sky Showcase +1",
         "marker": {
          "color": "#636efa",
          "size": 10,
          "symbol": "circle"
         },
         "mode": "markers",
         "name": "Sky Showcase +1",
         "orientation": "v",
         "showlegend": true,
         "type": "scatter",
         "x": [
          "2022-03-14T20:25:43",
          "2022-03-14T20:41:18",
          "2022-03-14T20:56:28",
          "2022-03-15T20:15:29",
          "2022-03-15T20:58:21",
          "2022-03-19T23:21:16",
          "2022-03-20T21:29:29",
          "2022-03-25T22:28:16",
          "2022-03-25T23:15:26",
          "2022-03-26T00:14:58",
          "2022-03-26T00:45:41",
          "2022-03-27T21:37:07",
          "2022-03-30T23:49:35",
          "2022-03-31T23:44:27"
         ],
         "xaxis": "x",
         "y": [
          23,
          23,
          23,
          31,
          31,
          44,
          88,
          61,
          61,
          61,
          61,
          103,
          56,
          48
         ],
         "yaxis": "y"
        },
        {
         "hovertemplate": "station_name=Sky Sports Action<br>spot_start_datetime=%{x}<br>audience_size_hundreds=%{y}<extra></extra>",
         "legendgroup": "Sky Sports Action",
         "marker": {
          "color": "#EF553B",
          "size": 10,
          "symbol": "circle"
         },
         "mode": "markers",
         "name": "Sky Sports Action",
         "orientation": "v",
         "showlegend": true,
         "type": "scatter",
         "x": [
          "2022-03-31T13:15:20",
          "2022-03-31T19:59:08"
         ],
         "xaxis": "x",
         "y": [
          63,
          597
         ],
         "yaxis": "y"
        },
        {
         "hovertemplate": "station_name=Sky Sports Arena<br>spot_start_datetime=%{x}<br>audience_size_hundreds=%{y}<extra></extra>",
         "legendgroup": "Sky Sports Arena",
         "marker": {
          "color": "#00cc96",
          "size": 10,
          "symbol": "circle"
         },
         "mode": "markers",
         "name": "Sky Sports Arena",
         "orientation": "v",
         "showlegend": true,
         "type": "scatter",
         "x": [
          "2022-03-19T12:18:04",
          "2022-03-27T03:06:51",
          "2022-03-28T00:20:17",
          "2022-03-28T00:34:32",
          "2022-03-28T01:27:10"
         ],
         "xaxis": "x",
         "y": [
          89,
          113,
          62,
          62,
          71
         ],
         "yaxis": "y"
        },
        {
         "hovertemplate": "station_name=Sky Sports Cricket<br>spot_start_datetime=%{x}<br>audience_size_hundreds=%{y}<extra></extra>",
         "legendgroup": "Sky Sports Cricket",
         "marker": {
          "color": "#ab63fa",
          "size": 10,
          "symbol": "circle"
         },
         "mode": "markers",
         "name": "Sky Sports Cricket",
         "orientation": "v",
         "showlegend": true,
         "type": "scatter",
         "x": [
          "2022-03-15T07:21:01",
          "2022-03-15T13:15:05",
          "2022-03-15T14:26:02",
          "2022-03-15T15:35:05",
          "2022-03-23T02:44:15"
         ],
         "xaxis": "x",
         "y": [
          132,
          99,
          145,
          26,
          44
         ],
         "yaxis": "y"
        },
        {
         "hovertemplate": "station_name=Sky Sports F1<br>spot_start_datetime=%{x}<br>audience_size_hundreds=%{y}<extra></extra>",
         "legendgroup": "Sky Sports F1",
         "marker": {
          "color": "#FFA15A",
          "size": 10,
          "symbol": "circle"
         },
         "mode": "markers",
         "name": "Sky Sports F1",
         "orientation": "v",
         "showlegend": true,
         "type": "scatter",
         "x": [
          "2022-03-15T21:55:09",
          "2022-03-19T08:06:07",
          "2022-03-19T08:51:52",
          "2022-03-23T22:55:08",
          "2022-03-23T23:42:39",
          "2022-03-25T13:27:27",
          "2022-03-25T16:33:39",
          "2022-03-25T22:25:48",
          "2022-03-28T14:22:25"
         ],
         "xaxis": "x",
         "y": [
          102,
          62,
          251,
          50,
          50,
          484,
          556,
          65,
          66
         ],
         "yaxis": "y"
        },
        {
         "hovertemplate": "station_name=Sky Sports Football<br>spot_start_datetime=%{x}<br>audience_size_hundreds=%{y}<extra></extra>",
         "legendgroup": "Sky Sports Football",
         "marker": {
          "color": "#19d3f3",
          "size": 10,
          "symbol": "circle"
         },
         "mode": "markers",
         "name": "Sky Sports Football",
         "orientation": "v",
         "showlegend": true,
         "type": "scatter",
         "x": [
          "2022-03-24T19:32:18"
         ],
         "xaxis": "x",
         "y": [
          467
         ],
         "yaxis": "y"
        },
        {
         "hovertemplate": "station_name=Sky Sports News<br>spot_start_datetime=%{x}<br>audience_size_hundreds=%{y}<extra></extra>",
         "legendgroup": "Sky Sports News",
         "marker": {
          "color": "#FF6692",
          "size": 10,
          "symbol": "circle"
         },
         "mode": "markers",
         "name": "Sky Sports News",
         "orientation": "v",
         "showlegend": true,
         "type": "scatter",
         "x": [
          "2022-03-15T20:40:43",
          "2022-03-15T20:50:14",
          "2022-03-15T21:02:37",
          "2022-03-15T22:01:47",
          "2022-03-16T20:49:43",
          "2022-03-16T21:09:34",
          "2022-03-16T21:41:55",
          "2022-03-19T09:55:45",
          "2022-03-20T07:56:15",
          "2022-03-20T11:58:15",
          "2022-03-20T13:15:10",
          "2022-03-22T21:43:16"
         ],
         "xaxis": "x",
         "y": [
          695,
          1066,
          743,
          903,
          336,
          444,
          218,
          298,
          199,
          294,
          107,
          365
         ],
         "yaxis": "y"
        },
        {
         "hovertemplate": "station_name=Sky Sports Racing<br>spot_start_datetime=%{x}<br>audience_size_hundreds=%{y}<extra></extra>",
         "legendgroup": "Sky Sports Racing",
         "marker": {
          "color": "#B6E880",
          "size": 10,
          "symbol": "circle"
         },
         "mode": "markers",
         "name": "Sky Sports Racing",
         "orientation": "v",
         "showlegend": true,
         "type": "scatter",
         "x": [
          "2022-03-16T18:11:47",
          "2022-03-19T11:19:22",
          "2022-03-19T16:09:14",
          "2022-03-19T16:41:27",
          "2022-03-19T17:12:56",
          "2022-03-19T20:45:42",
          "2022-03-29T15:11:18",
          "2022-03-29T15:24:07",
          "2022-03-29T15:58:55",
          "2022-03-29T17:33:52"
         ],
         "xaxis": "x",
         "y": [
          107,
          162,
          227,
          302,
          222,
          114,
          214,
          274,
          348,
          194
         ],
         "yaxis": "y"
        },
        {
         "hovertemplate": "station_name=Sky Witness<br>spot_start_datetime=%{x}<br>audience_size_hundreds=%{y}<extra></extra>",
         "legendgroup": "Sky Witness",
         "marker": {
          "color": "#FF97FF",
          "size": 10,
          "symbol": "circle"
         },
         "mode": "markers",
         "name": "Sky Witness",
         "orientation": "v",
         "showlegend": true,
         "type": "scatter",
         "x": [
          "2022-03-14T17:29:26",
          "2022-03-15T21:32:05",
          "2022-03-19T15:43:45",
          "2022-03-19T16:15:58",
          "2022-03-19T17:46:38",
          "2022-03-19T18:40:35",
          "2022-03-20T16:44:57",
          "2022-03-21T19:43:59",
          "2022-03-22T21:37:57",
          "2022-03-25T20:44:22",
          "2022-03-25T21:25:06",
          "2022-03-25T21:45:36",
          "2022-03-26T17:42:31",
          "2022-03-28T21:18:32",
          "2022-03-29T21:39:22",
          "2022-03-30T02:24:51",
          "2022-03-31T18:26:42",
          "2022-03-31T22:26:13"
         ],
         "xaxis": "x",
         "y": [
          15,
          990,
          57,
          172,
          185,
          136,
          278,
          342,
          843,
          1863,
          671,
          471,
          147,
          1018,
          1366,
          60,
          44,
          49
         ],
         "yaxis": "y"
        },
        {
         "hovertemplate": "station_name=Sky Witness +1<br>spot_start_datetime=%{x}<br>audience_size_hundreds=%{y}<extra></extra>",
         "legendgroup": "Sky Witness +1",
         "marker": {
          "color": "#FECB52",
          "size": 10,
          "symbol": "circle"
         },
         "mode": "markers",
         "name": "Sky Witness +1",
         "orientation": "v",
         "showlegend": true,
         "type": "scatter",
         "x": [
          "2022-03-15T22:32:05",
          "2022-03-22T22:37:57",
          "2022-03-25T21:44:22",
          "2022-03-28T22:18:32",
          "2022-03-29T22:39:22"
         ],
         "xaxis": "x",
         "y": [
          8,
          84,
          25,
          44,
          42
         ],
         "yaxis": "y"
        }
       ],
       "layout": {
        "height": 600,
        "legend": {
         "title": {
          "text": "station_name"
         },
         "tracegroupgap": 0
        },
        "margin": {
         "t": 60
        },
        "shapes": [
         {
          "layer": "below",
          "line": {
           "color": "grey",
           "width": 2
          },
          "type": "line",
          "x0": "2022-03-25T00:16:39",
          "x1": "2022-03-25T00:16:39",
          "y0": 0,
          "y1": 154
         },
         {
          "layer": "below",
          "line": {
           "color": "grey",
           "width": 2
          },
          "type": "line",
          "x0": "2022-03-25T20:03:09",
          "x1": "2022-03-25T20:03:09",
          "y0": 0,
          "y1": 332
         },
         {
          "layer": "below",
          "line": {
           "color": "grey",
           "width": 2
          },
          "type": "line",
          "x0": "2022-03-26T19:30:08",
          "x1": "2022-03-26T19:30:08",
          "y0": 0,
          "y1": 17
         },
         {
          "layer": "below",
          "line": {
           "color": "grey",
           "width": 2
          },
          "type": "line",
          "x0": "2022-03-27T21:18:45",
          "x1": "2022-03-27T21:18:45",
          "y0": 0,
          "y1": 109
         },
         {
          "layer": "below",
          "line": {
           "color": "grey",
           "width": 2
          },
          "type": "line",
          "x0": "2022-03-27T22:05:30",
          "x1": "2022-03-27T22:05:30",
          "y0": 0,
          "y1": 111
         },
         {
          "layer": "below",
          "line": {
           "color": "grey",
           "width": 2
          },
          "type": "line",
          "x0": "2022-03-27T22:18:39",
          "x1": "2022-03-27T22:18:39",
          "y0": 0,
          "y1": 111
         },
         {
          "layer": "below",
          "line": {
           "color": "grey",
           "width": 2
          },
          "type": "line",
          "x0": "2022-03-28T21:44:37",
          "x1": "2022-03-28T21:44:37",
          "y0": 0,
          "y1": 807
         },
         {
          "layer": "below",
          "line": {
           "color": "grey",
           "width": 2
          },
          "type": "line",
          "x0": "2022-03-29T19:28:29",
          "x1": "2022-03-29T19:28:29",
          "y0": 0,
          "y1": 376
         },
         {
          "layer": "below",
          "line": {
           "color": "grey",
           "width": 2
          },
          "type": "line",
          "x0": "2022-03-30T23:42:27",
          "x1": "2022-03-30T23:42:27",
          "y0": 0,
          "y1": 184
         },
         {
          "layer": "below",
          "line": {
           "color": "grey",
           "width": 2
          },
          "type": "line",
          "x0": "2022-03-31T20:41:57",
          "x1": "2022-03-31T20:41:57",
          "y0": 0,
          "y1": 214
         },
         {
          "layer": "below",
          "line": {
           "color": "grey",
           "width": 2
          },
          "type": "line",
          "x0": "2022-03-31T21:45:21",
          "x1": "2022-03-31T21:45:21",
          "y0": 0,
          "y1": 63
         },
         {
          "layer": "below",
          "line": {
           "color": "grey",
           "width": 2
          },
          "type": "line",
          "x0": "2022-03-31T23:19:41",
          "x1": "2022-03-31T23:19:41",
          "y0": 0,
          "y1": 163
         },
         {
          "layer": "below",
          "line": {
           "color": "grey",
           "width": 2
          },
          "type": "line",
          "x0": "2022-03-31T23:57:55",
          "x1": "2022-03-31T23:57:55",
          "y0": 0,
          "y1": 169
         },
         {
          "layer": "below",
          "line": {
           "color": "grey",
           "width": 2
          },
          "type": "line",
          "x0": "2022-03-14T20:18:57",
          "x1": "2022-03-14T20:18:57",
          "y0": 0,
          "y1": 95
         },
         {
          "layer": "below",
          "line": {
           "color": "grey",
           "width": 2
          },
          "type": "line",
          "x0": "2022-03-16T20:56:24",
          "x1": "2022-03-16T20:56:24",
          "y0": 0,
          "y1": 92
         },
         {
          "layer": "below",
          "line": {
           "color": "grey",
           "width": 2
          },
          "type": "line",
          "x0": "2022-03-19T21:25:46",
          "x1": "2022-03-19T21:25:46",
          "y0": 0,
          "y1": 28
         },
         {
          "layer": "below",
          "line": {
           "color": "grey",
           "width": 2
          },
          "type": "line",
          "x0": "2022-03-19T23:49:52",
          "x1": "2022-03-19T23:49:52",
          "y0": 0,
          "y1": 287
         },
         {
          "layer": "below",
          "line": {
           "color": "grey",
           "width": 2
          },
          "type": "line",
          "x0": "2022-03-20T00:58:23",
          "x1": "2022-03-20T00:58:23",
          "y0": 0,
          "y1": 14
         },
         {
          "layer": "below",
          "line": {
           "color": "grey",
           "width": 2
          },
          "type": "line",
          "x0": "2022-03-21T20:11:47",
          "x1": "2022-03-21T20:11:47",
          "y0": 0,
          "y1": 63
         },
         {
          "layer": "below",
          "line": {
           "color": "grey",
           "width": 2
          },
          "type": "line",
          "x0": "2022-03-25T19:28:58",
          "x1": "2022-03-25T19:28:58",
          "y0": 0,
          "y1": 50
         },
         {
          "layer": "below",
          "line": {
           "color": "grey",
           "width": 2
          },
          "type": "line",
          "x0": "2022-03-25T21:37:22",
          "x1": "2022-03-25T21:37:22",
          "y0": 0,
          "y1": 112
         },
         {
          "layer": "below",
          "line": {
           "color": "grey",
           "width": 2
          },
          "type": "line",
          "x0": "2022-04-01T21:58:26",
          "x1": "2022-04-01T21:58:26",
          "y0": 0,
          "y1": 34
         },
         {
          "layer": "below",
          "line": {
           "color": "grey",
           "width": 2
          },
          "type": "line",
          "x0": "2022-03-14T21:18:57",
          "x1": "2022-03-14T21:18:57",
          "y0": 0,
          "y1": 24
         },
         {
          "layer": "below",
          "line": {
           "color": "grey",
           "width": 2
          },
          "type": "line",
          "x0": "2022-03-21T21:11:47",
          "x1": "2022-03-21T21:11:47",
          "y0": 0,
          "y1": 45
         },
         {
          "layer": "below",
          "line": {
           "color": "grey",
           "width": 2
          },
          "type": "line",
          "x0": "2022-03-30T21:58:50",
          "x1": "2022-03-30T21:58:50",
          "y0": 0,
          "y1": 67
         },
         {
          "layer": "below",
          "line": {
           "color": "grey",
           "width": 2
          },
          "type": "line",
          "x0": "2022-03-27T23:26:39",
          "x1": "2022-03-27T23:26:39",
          "y0": 0,
          "y1": 61
         },
         {
          "layer": "below",
          "line": {
           "color": "grey",
           "width": 2
          },
          "type": "line",
          "x0": "2022-03-28T04:25:10",
          "x1": "2022-03-28T04:25:10",
          "y0": 0,
          "y1": 61
         },
         {
          "layer": "below",
          "line": {
           "color": "grey",
           "width": 2
          },
          "type": "line",
          "x0": "2022-03-26T20:00:53",
          "x1": "2022-03-26T20:00:53",
          "y0": 0,
          "y1": 25
         },
         {
          "layer": "below",
          "line": {
           "color": "grey",
           "width": 2
          },
          "type": "line",
          "x0": "2022-03-29T19:58:30",
          "x1": "2022-03-29T19:58:30",
          "y0": 0,
          "y1": 74
         },
         {
          "layer": "below",
          "line": {
           "color": "grey",
           "width": 2
          },
          "type": "line",
          "x0": "2022-04-02T05:22:38",
          "x1": "2022-04-02T05:22:38",
          "y0": 0,
          "y1": 62
         },
         {
          "layer": "below",
          "line": {
           "color": "grey",
           "width": 2
          },
          "type": "line",
          "x0": "2022-03-26T22:27:20",
          "x1": "2022-03-26T22:27:20",
          "y0": 0,
          "y1": 31
         },
         {
          "layer": "below",
          "line": {
           "color": "grey",
           "width": 2
          },
          "type": "line",
          "x0": "2022-04-01T18:14:24",
          "x1": "2022-04-01T18:14:24",
          "y0": 0,
          "y1": 57
         },
         {
          "layer": "below",
          "line": {
           "color": "grey",
           "width": 2
          },
          "type": "line",
          "x0": "2022-04-02T01:05:54",
          "x1": "2022-04-02T01:05:54",
          "y0": 0,
          "y1": 77
         },
         {
          "layer": "below",
          "line": {
           "color": "grey",
           "width": 2
          },
          "type": "line",
          "x0": "2022-03-23T19:12:12",
          "x1": "2022-03-23T19:12:12",
          "y0": 0,
          "y1": 62
         },
         {
          "layer": "below",
          "line": {
           "color": "grey",
           "width": 2
          },
          "type": "line",
          "x0": "2022-03-24T20:25:48",
          "x1": "2022-03-24T20:25:48",
          "y0": 0,
          "y1": 30
         },
         {
          "layer": "below",
          "line": {
           "color": "grey",
           "width": 2
          },
          "type": "line",
          "x0": "2022-03-28T00:19:35",
          "x1": "2022-03-28T00:19:35",
          "y0": 0,
          "y1": 93
         },
         {
          "layer": "below",
          "line": {
           "color": "grey",
           "width": 2
          },
          "type": "line",
          "x0": "2022-03-28T20:13:34",
          "x1": "2022-03-28T20:13:34",
          "y0": 0,
          "y1": 58
         },
         {
          "layer": "below",
          "line": {
           "color": "grey",
           "width": 2
          },
          "type": "line",
          "x0": "2022-03-28T21:46:31",
          "x1": "2022-03-28T21:46:31",
          "y0": 0,
          "y1": 114
         },
         {
          "layer": "below",
          "line": {
           "color": "grey",
           "width": 2
          },
          "type": "line",
          "x0": "2022-03-29T18:42:58",
          "x1": "2022-03-29T18:42:58",
          "y0": 0,
          "y1": 107
         },
         {
          "layer": "below",
          "line": {
           "color": "grey",
           "width": 2
          },
          "type": "line",
          "x0": "2022-03-29T20:58:14",
          "x1": "2022-03-29T20:58:14",
          "y0": 0,
          "y1": 28
         },
         {
          "layer": "below",
          "line": {
           "color": "grey",
           "width": 2
          },
          "type": "line",
          "x0": "2022-04-01T18:43:54",
          "x1": "2022-04-01T18:43:54",
          "y0": 0,
          "y1": 50
         },
         {
          "layer": "below",
          "line": {
           "color": "grey",
           "width": 2
          },
          "type": "line",
          "x0": "2022-04-01T19:44:29",
          "x1": "2022-04-01T19:44:29",
          "y0": 0,
          "y1": 88
         },
         {
          "layer": "below",
          "line": {
           "color": "grey",
           "width": 2
          },
          "type": "line",
          "x0": "2022-03-14T23:13:41",
          "x1": "2022-03-14T23:13:41",
          "y0": 0,
          "y1": 62
         },
         {
          "layer": "below",
          "line": {
           "color": "grey",
           "width": 2
          },
          "type": "line",
          "x0": "2022-03-14T23:30:41",
          "x1": "2022-03-14T23:30:41",
          "y0": 0,
          "y1": 62
         },
         {
          "layer": "below",
          "line": {
           "color": "grey",
           "width": 2
          },
          "type": "line",
          "x0": "2022-03-15T00:43:43",
          "x1": "2022-03-15T00:43:43",
          "y0": 0,
          "y1": 223
         },
         {
          "layer": "below",
          "line": {
           "color": "grey",
           "width": 2
          },
          "type": "line",
          "x0": "2022-03-16T00:01:30",
          "x1": "2022-03-16T00:01:30",
          "y0": 0,
          "y1": 42
         },
         {
          "layer": "below",
          "line": {
           "color": "grey",
           "width": 2
          },
          "type": "line",
          "x0": "2022-03-16T00:14:56",
          "x1": "2022-03-16T00:14:56",
          "y0": 0,
          "y1": 42
         },
         {
          "layer": "below",
          "line": {
           "color": "grey",
           "width": 2
          },
          "type": "line",
          "x0": "2022-03-16T21:15:06",
          "x1": "2022-03-16T21:15:06",
          "y0": 0,
          "y1": 120
         },
         {
          "layer": "below",
          "line": {
           "color": "grey",
           "width": 2
          },
          "type": "line",
          "x0": "2022-03-17T20:27:29",
          "x1": "2022-03-17T20:27:29",
          "y0": 0,
          "y1": 90
         },
         {
          "layer": "below",
          "line": {
           "color": "grey",
           "width": 2
          },
          "type": "line",
          "x0": "2022-03-17T21:12:00",
          "x1": "2022-03-17T21:12:00",
          "y0": 0,
          "y1": 122
         },
         {
          "layer": "below",
          "line": {
           "color": "grey",
           "width": 2
          },
          "type": "line",
          "x0": "2022-03-19T23:14:18",
          "x1": "2022-03-19T23:14:18",
          "y0": 0,
          "y1": 195
         },
         {
          "layer": "below",
          "line": {
           "color": "grey",
           "width": 2
          },
          "type": "line",
          "x0": "2022-03-20T21:15:05",
          "x1": "2022-03-20T21:15:05",
          "y0": 0,
          "y1": 268
         },
         {
          "layer": "below",
          "line": {
           "color": "grey",
           "width": 2
          },
          "type": "line",
          "x0": "2022-03-20T21:44:33",
          "x1": "2022-03-20T21:44:33",
          "y0": 0,
          "y1": 219
         },
         {
          "layer": "below",
          "line": {
           "color": "grey",
           "width": 2
          },
          "type": "line",
          "x0": "2022-03-20T23:25:47",
          "x1": "2022-03-20T23:25:47",
          "y0": 0,
          "y1": 182
         },
         {
          "layer": "below",
          "line": {
           "color": "grey",
           "width": 2
          },
          "type": "line",
          "x0": "2022-03-20T23:43:15",
          "x1": "2022-03-20T23:43:15",
          "y0": 0,
          "y1": 182
         },
         {
          "layer": "below",
          "line": {
           "color": "grey",
           "width": 2
          },
          "type": "line",
          "x0": "2022-03-22T23:08:29",
          "x1": "2022-03-22T23:08:29",
          "y0": 0,
          "y1": 33
         },
         {
          "layer": "below",
          "line": {
           "color": "grey",
           "width": 2
          },
          "type": "line",
          "x0": "2022-03-24T21:13:03",
          "x1": "2022-03-24T21:13:03",
          "y0": 0,
          "y1": 264
         },
         {
          "layer": "below",
          "line": {
           "color": "grey",
           "width": 2
          },
          "type": "line",
          "x0": "2022-03-25T23:29:46",
          "x1": "2022-03-25T23:29:46",
          "y0": 0,
          "y1": 234
         },
         {
          "layer": "below",
          "line": {
           "color": "grey",
           "width": 2
          },
          "type": "line",
          "x0": "2022-03-26T00:29:00",
          "x1": "2022-03-26T00:29:00",
          "y0": 0,
          "y1": 166
         },
         {
          "layer": "below",
          "line": {
           "color": "grey",
           "width": 2
          },
          "type": "line",
          "x0": "2022-03-26T21:43:36",
          "x1": "2022-03-26T21:43:36",
          "y0": 0,
          "y1": 57
         },
         {
          "layer": "below",
          "line": {
           "color": "grey",
           "width": 2
          },
          "type": "line",
          "x0": "2022-03-27T00:13:47",
          "x1": "2022-03-27T00:13:47",
          "y0": 0,
          "y1": 54
         },
         {
          "layer": "below",
          "line": {
           "color": "grey",
           "width": 2
          },
          "type": "line",
          "x0": "2022-03-27T20:15:18",
          "x1": "2022-03-27T20:15:18",
          "y0": 0,
          "y1": 161
         },
         {
          "layer": "below",
          "line": {
           "color": "grey",
           "width": 2
          },
          "type": "line",
          "x0": "2022-03-27T22:18:46",
          "x1": "2022-03-27T22:18:46",
          "y0": 0,
          "y1": 324
         },
         {
          "layer": "below",
          "line": {
           "color": "grey",
           "width": 2
          },
          "type": "line",
          "x0": "2022-03-27T22:55:34",
          "x1": "2022-03-27T22:55:34",
          "y0": 0,
          "y1": 280
         },
         {
          "layer": "below",
          "line": {
           "color": "grey",
           "width": 2
          },
          "type": "line",
          "x0": "2022-03-28T19:10:49",
          "x1": "2022-03-28T19:10:49",
          "y0": 0,
          "y1": 131
         },
         {
          "layer": "below",
          "line": {
           "color": "grey",
           "width": 2
          },
          "type": "line",
          "x0": "2022-03-28T23:26:43",
          "x1": "2022-03-28T23:26:43",
          "y0": 0,
          "y1": 43
         },
         {
          "layer": "below",
          "line": {
           "color": "grey",
           "width": 2
          },
          "type": "line",
          "x0": "2022-03-29T23:08:38",
          "x1": "2022-03-29T23:08:38",
          "y0": 0,
          "y1": 222
         },
         {
          "layer": "below",
          "line": {
           "color": "grey",
           "width": 2
          },
          "type": "line",
          "x0": "2022-03-30T00:56:33",
          "x1": "2022-03-30T00:56:33",
          "y0": 0,
          "y1": 42
         },
         {
          "layer": "below",
          "line": {
           "color": "grey",
           "width": 2
          },
          "type": "line",
          "x0": "2022-04-01T20:58:34",
          "x1": "2022-04-01T20:58:34",
          "y0": 0,
          "y1": 166
         },
         {
          "layer": "below",
          "line": {
           "color": "grey",
           "width": 2
          },
          "type": "line",
          "x0": "2022-04-01T22:29:14",
          "x1": "2022-04-01T22:29:14",
          "y0": 0,
          "y1": 194
         },
         {
          "layer": "below",
          "line": {
           "color": "grey",
           "width": 2
          },
          "type": "line",
          "x0": "2022-03-19T08:07:05",
          "x1": "2022-03-19T08:07:05",
          "y0": 0,
          "y1": 73
         },
         {
          "layer": "below",
          "line": {
           "color": "grey",
           "width": 2
          },
          "type": "line",
          "x0": "2022-03-26T01:29:00",
          "x1": "2022-03-26T01:29:00",
          "y0": 0,
          "y1": 64
         },
         {
          "layer": "below",
          "line": {
           "color": "grey",
           "width": 2
          },
          "type": "line",
          "x0": "2022-03-30T01:56:33",
          "x1": "2022-03-30T01:56:33",
          "y0": 0,
          "y1": 45
         },
         {
          "layer": "below",
          "line": {
           "color": "grey",
           "width": 2
          },
          "type": "line",
          "x0": "2022-03-23T00:45:10",
          "x1": "2022-03-23T00:45:10",
          "y0": 0,
          "y1": 33
         },
         {
          "layer": "below",
          "line": {
           "color": "grey",
           "width": 2
          },
          "type": "line",
          "x0": "2022-03-14T18:12:30",
          "x1": "2022-03-14T18:12:30",
          "y0": 0,
          "y1": 142
         },
         {
          "layer": "below",
          "line": {
           "color": "grey",
           "width": 2
          },
          "type": "line",
          "x0": "2022-03-14T19:29:15",
          "x1": "2022-03-14T19:29:15",
          "y0": 0,
          "y1": 124
         },
         {
          "layer": "below",
          "line": {
           "color": "grey",
           "width": 2
          },
          "type": "line",
          "x0": "2022-03-14T20:11:44",
          "x1": "2022-03-14T20:11:44",
          "y0": 0,
          "y1": 248
         },
         {
          "layer": "below",
          "line": {
           "color": "grey",
           "width": 2
          },
          "type": "line",
          "x0": "2022-03-15T19:28:02",
          "x1": "2022-03-15T19:28:02",
          "y0": 0,
          "y1": 48
         },
         {
          "layer": "below",
          "line": {
           "color": "grey",
           "width": 2
          },
          "type": "line",
          "x0": "2022-03-15T19:44:54",
          "x1": "2022-03-15T19:44:54",
          "y0": 0,
          "y1": 81
         },
         {
          "layer": "below",
          "line": {
           "color": "grey",
           "width": 2
          },
          "type": "line",
          "x0": "2022-03-15T20:26:59",
          "x1": "2022-03-15T20:26:59",
          "y0": 0,
          "y1": 152
         },
         {
          "layer": "below",
          "line": {
           "color": "grey",
           "width": 2
          },
          "type": "line",
          "x0": "2022-03-15T21:16:49",
          "x1": "2022-03-15T21:16:49",
          "y0": 0,
          "y1": 157
         },
         {
          "layer": "below",
          "line": {
           "color": "grey",
           "width": 2
          },
          "type": "line",
          "x0": "2022-03-16T23:11:25",
          "x1": "2022-03-16T23:11:25",
          "y0": 0,
          "y1": 97
         },
         {
          "layer": "below",
          "line": {
           "color": "grey",
           "width": 2
          },
          "type": "line",
          "x0": "2022-03-16T23:48:32",
          "x1": "2022-03-16T23:48:32",
          "y0": 0,
          "y1": 142
         },
         {
          "layer": "below",
          "line": {
           "color": "grey",
           "width": 2
          },
          "type": "line",
          "x0": "2022-03-17T00:13:13",
          "x1": "2022-03-17T00:13:13",
          "y0": 0,
          "y1": 87
         },
         {
          "layer": "below",
          "line": {
           "color": "grey",
           "width": 2
          },
          "type": "line",
          "x0": "2022-03-17T00:29:34",
          "x1": "2022-03-17T00:29:34",
          "y0": 0,
          "y1": 93
         },
         {
          "layer": "below",
          "line": {
           "color": "grey",
           "width": 2
          },
          "type": "line",
          "x0": "2022-03-17T18:12:10",
          "x1": "2022-03-17T18:12:10",
          "y0": 0,
          "y1": 148
         },
         {
          "layer": "below",
          "line": {
           "color": "grey",
           "width": 2
          },
          "type": "line",
          "x0": "2022-03-17T18:42:20",
          "x1": "2022-03-17T18:42:20",
          "y0": 0,
          "y1": 279
         },
         {
          "layer": "below",
          "line": {
           "color": "grey",
           "width": 2
          },
          "type": "line",
          "x0": "2022-03-17T20:17:11",
          "x1": "2022-03-17T20:17:11",
          "y0": 0,
          "y1": 92
         },
         {
          "layer": "below",
          "line": {
           "color": "grey",
           "width": 2
          },
          "type": "line",
          "x0": "2022-03-17T20:27:42",
          "x1": "2022-03-17T20:27:42",
          "y0": 0,
          "y1": 62
         },
         {
          "layer": "below",
          "line": {
           "color": "grey",
           "width": 2
          },
          "type": "line",
          "x0": "2022-03-17T21:13:06",
          "x1": "2022-03-17T21:13:06",
          "y0": 0,
          "y1": 37
         },
         {
          "layer": "below",
          "line": {
           "color": "grey",
           "width": 2
          },
          "type": "line",
          "x0": "2022-03-17T21:45:43",
          "x1": "2022-03-17T21:45:43",
          "y0": 0,
          "y1": 95
         },
         {
          "layer": "below",
          "line": {
           "color": "grey",
           "width": 2
          },
          "type": "line",
          "x0": "2022-03-17T22:09:40",
          "x1": "2022-03-17T22:09:40",
          "y0": 0,
          "y1": 140
         },
         {
          "layer": "below",
          "line": {
           "color": "grey",
           "width": 2
          },
          "type": "line",
          "x0": "2022-03-17T22:45:06",
          "x1": "2022-03-17T22:45:06",
          "y0": 0,
          "y1": 95
         },
         {
          "layer": "below",
          "line": {
           "color": "grey",
           "width": 2
          },
          "type": "line",
          "x0": "2022-03-18T18:41:35",
          "x1": "2022-03-18T18:41:35",
          "y0": 0,
          "y1": 151
         },
         {
          "layer": "below",
          "line": {
           "color": "grey",
           "width": 2
          },
          "type": "line",
          "x0": "2022-03-18T19:13:36",
          "x1": "2022-03-18T19:13:36",
          "y0": 0,
          "y1": 214
         },
         {
          "layer": "below",
          "line": {
           "color": "grey",
           "width": 2
          },
          "type": "line",
          "x0": "2022-03-18T19:41:43",
          "x1": "2022-03-18T19:41:43",
          "y0": 0,
          "y1": 244
         },
         {
          "layer": "below",
          "line": {
           "color": "grey",
           "width": 2
          },
          "type": "line",
          "x0": "2022-03-20T07:43:00",
          "x1": "2022-03-20T07:43:00",
          "y0": 0,
          "y1": 53
         },
         {
          "layer": "below",
          "line": {
           "color": "grey",
           "width": 2
          },
          "type": "line",
          "x0": "2022-03-20T08:11:15",
          "x1": "2022-03-20T08:11:15",
          "y0": 0,
          "y1": 98
         },
         {
          "layer": "below",
          "line": {
           "color": "grey",
           "width": 2
          },
          "type": "line",
          "x0": "2022-03-20T08:43:57",
          "x1": "2022-03-20T08:43:57",
          "y0": 0,
          "y1": 98
         },
         {
          "layer": "below",
          "line": {
           "color": "grey",
           "width": 2
          },
          "type": "line",
          "x0": "2022-03-20T09:15:24",
          "x1": "2022-03-20T09:15:24",
          "y0": 0,
          "y1": 192
         },
         {
          "layer": "below",
          "line": {
           "color": "grey",
           "width": 2
          },
          "type": "line",
          "x0": "2022-03-20T09:27:53",
          "x1": "2022-03-20T09:27:53",
          "y0": 0,
          "y1": 102
         },
         {
          "layer": "below",
          "line": {
           "color": "grey",
           "width": 2
          },
          "type": "line",
          "x0": "2022-03-20T10:45:55",
          "x1": "2022-03-20T10:45:55",
          "y0": 0,
          "y1": 49
         },
         {
          "layer": "below",
          "line": {
           "color": "grey",
           "width": 2
          },
          "type": "line",
          "x0": "2022-03-20T12:11:10",
          "x1": "2022-03-20T12:11:10",
          "y0": 0,
          "y1": 45
         },
         {
          "layer": "below",
          "line": {
           "color": "grey",
           "width": 2
          },
          "type": "line",
          "x0": "2022-03-21T00:42:15",
          "x1": "2022-03-21T00:42:15",
          "y0": 0,
          "y1": 82
         },
         {
          "layer": "below",
          "line": {
           "color": "grey",
           "width": 2
          },
          "type": "line",
          "x0": "2022-03-21T18:13:18",
          "x1": "2022-03-21T18:13:18",
          "y0": 0,
          "y1": 176
         },
         {
          "layer": "below",
          "line": {
           "color": "grey",
           "width": 2
          },
          "type": "line",
          "x0": "2022-03-22T19:28:00",
          "x1": "2022-03-22T19:28:00",
          "y0": 0,
          "y1": 35
         },
         {
          "layer": "below",
          "line": {
           "color": "grey",
           "width": 2
          },
          "type": "line",
          "x0": "2022-03-23T20:10:06",
          "x1": "2022-03-23T20:10:06",
          "y0": 0,
          "y1": 232
         },
         {
          "layer": "below",
          "line": {
           "color": "grey",
           "width": 2
          },
          "type": "line",
          "x0": "2022-03-24T18:10:12",
          "x1": "2022-03-24T18:10:12",
          "y0": 0,
          "y1": 105
         },
         {
          "layer": "below",
          "line": {
           "color": "grey",
           "width": 2
          },
          "type": "line",
          "x0": "2022-03-24T19:14:03",
          "x1": "2022-03-24T19:14:03",
          "y0": 0,
          "y1": 220
         },
         {
          "layer": "below",
          "line": {
           "color": "grey",
           "width": 2
          },
          "type": "line",
          "x0": "2022-03-24T19:45:19",
          "x1": "2022-03-24T19:45:19",
          "y0": 0,
          "y1": 133
         },
         {
          "layer": "below",
          "line": {
           "color": "grey",
           "width": 2
          },
          "type": "line",
          "x0": "2022-03-24T20:12:36",
          "x1": "2022-03-24T20:12:36",
          "y0": 0,
          "y1": 171
         },
         {
          "layer": "below",
          "line": {
           "color": "grey",
           "width": 2
          },
          "type": "line",
          "x0": "2022-03-24T20:46:33",
          "x1": "2022-03-24T20:46:33",
          "y0": 0,
          "y1": 171
         },
         {
          "layer": "below",
          "line": {
           "color": "grey",
           "width": 2
          },
          "type": "line",
          "x0": "2022-03-24T21:17:04",
          "x1": "2022-03-24T21:17:04",
          "y0": 0,
          "y1": 357
         },
         {
          "layer": "below",
          "line": {
           "color": "grey",
           "width": 2
          },
          "type": "line",
          "x0": "2022-03-24T21:30:06",
          "x1": "2022-03-24T21:30:06",
          "y0": 0,
          "y1": 427
         },
         {
          "layer": "below",
          "line": {
           "color": "grey",
           "width": 2
          },
          "type": "line",
          "x0": "2022-03-24T21:42:45",
          "x1": "2022-03-24T21:42:45",
          "y0": 0,
          "y1": 177
         },
         {
          "layer": "below",
          "line": {
           "color": "grey",
           "width": 2
          },
          "type": "line",
          "x0": "2022-03-24T22:11:46",
          "x1": "2022-03-24T22:11:46",
          "y0": 0,
          "y1": 231
         },
         {
          "layer": "below",
          "line": {
           "color": "grey",
           "width": 2
          },
          "type": "line",
          "x0": "2022-03-24T22:45:03",
          "x1": "2022-03-24T22:45:03",
          "y0": 0,
          "y1": 152
         },
         {
          "layer": "below",
          "line": {
           "color": "grey",
           "width": 2
          },
          "type": "line",
          "x0": "2022-03-25T18:43:08",
          "x1": "2022-03-25T18:43:08",
          "y0": 0,
          "y1": 28
         },
         {
          "layer": "below",
          "line": {
           "color": "grey",
           "width": 2
          },
          "type": "line",
          "x0": "2022-03-25T19:13:17",
          "x1": "2022-03-25T19:13:17",
          "y0": 0,
          "y1": 142
         },
         {
          "layer": "below",
          "line": {
           "color": "grey",
           "width": 2
          },
          "type": "line",
          "x0": "2022-03-25T19:29:37",
          "x1": "2022-03-25T19:29:37",
          "y0": 0,
          "y1": 114
         },
         {
          "layer": "below",
          "line": {
           "color": "grey",
           "width": 2
          },
          "type": "line",
          "x0": "2022-03-25T19:47:03",
          "x1": "2022-03-25T19:47:03",
          "y0": 0,
          "y1": 114
         },
         {
          "layer": "below",
          "line": {
           "color": "grey",
           "width": 2
          },
          "type": "line",
          "x0": "2022-03-27T07:44:42",
          "x1": "2022-03-27T07:44:42",
          "y0": 0,
          "y1": 100
         },
         {
          "layer": "below",
          "line": {
           "color": "grey",
           "width": 2
          },
          "type": "line",
          "x0": "2022-03-27T08:13:21",
          "x1": "2022-03-27T08:13:21",
          "y0": 0,
          "y1": 213
         },
         {
          "layer": "below",
          "line": {
           "color": "grey",
           "width": 2
          },
          "type": "line",
          "x0": "2022-03-27T08:28:09",
          "x1": "2022-03-27T08:28:09",
          "y0": 0,
          "y1": 428
         },
         {
          "layer": "below",
          "line": {
           "color": "grey",
           "width": 2
          },
          "type": "line",
          "x0": "2022-03-27T08:47:48",
          "x1": "2022-03-27T08:47:48",
          "y0": 0,
          "y1": 428
         },
         {
          "layer": "below",
          "line": {
           "color": "grey",
           "width": 2
          },
          "type": "line",
          "x0": "2022-03-27T09:17:47",
          "x1": "2022-03-27T09:17:47",
          "y0": 0,
          "y1": 132
         },
         {
          "layer": "below",
          "line": {
           "color": "grey",
           "width": 2
          },
          "type": "line",
          "x0": "2022-03-27T09:34:54",
          "x1": "2022-03-27T09:34:54",
          "y0": 0,
          "y1": 100
         },
         {
          "layer": "below",
          "line": {
           "color": "grey",
           "width": 2
          },
          "type": "line",
          "x0": "2022-03-27T11:44:31",
          "x1": "2022-03-27T11:44:31",
          "y0": 0,
          "y1": 241
         },
         {
          "layer": "below",
          "line": {
           "color": "grey",
           "width": 2
          },
          "type": "line",
          "x0": "2022-03-27T12:16:07",
          "x1": "2022-03-27T12:16:07",
          "y0": 0,
          "y1": 141
         },
         {
          "layer": "below",
          "line": {
           "color": "grey",
           "width": 2
          },
          "type": "line",
          "x0": "2022-03-27T15:14:44",
          "x1": "2022-03-27T15:14:44",
          "y0": 0,
          "y1": 91
         },
         {
          "layer": "below",
          "line": {
           "color": "grey",
           "width": 2
          },
          "type": "line",
          "x0": "2022-03-28T18:30:48",
          "x1": "2022-03-28T18:30:48",
          "y0": 0,
          "y1": 68
         },
         {
          "layer": "below",
          "line": {
           "color": "grey",
           "width": 2
          },
          "type": "line",
          "x0": "2022-03-28T18:39:14",
          "x1": "2022-03-28T18:39:14",
          "y0": 0,
          "y1": 89
         },
         {
          "layer": "below",
          "line": {
           "color": "grey",
           "width": 2
          },
          "type": "line",
          "x0": "2022-03-28T19:12:09",
          "x1": "2022-03-28T19:12:09",
          "y0": 0,
          "y1": 273
         },
         {
          "layer": "below",
          "line": {
           "color": "grey",
           "width": 2
          },
          "type": "line",
          "x0": "2022-03-28T22:29:57",
          "x1": "2022-03-28T22:29:57",
          "y0": 0,
          "y1": 65
         },
         {
          "layer": "below",
          "line": {
           "color": "grey",
           "width": 2
          },
          "type": "line",
          "x0": "2022-03-28T22:45:10",
          "x1": "2022-03-28T22:45:10",
          "y0": 0,
          "y1": 133
         },
         {
          "layer": "below",
          "line": {
           "color": "grey",
           "width": 2
          },
          "type": "line",
          "x0": "2022-03-29T19:49:13",
          "x1": "2022-03-29T19:49:13",
          "y0": 0,
          "y1": 145
         },
         {
          "layer": "below",
          "line": {
           "color": "grey",
           "width": 2
          },
          "type": "line",
          "x0": "2022-03-29T20:27:00",
          "x1": "2022-03-29T20:27:00",
          "y0": 0,
          "y1": 152
         },
         {
          "layer": "below",
          "line": {
           "color": "grey",
           "width": 2
          },
          "type": "line",
          "x0": "2022-03-30T20:25:18",
          "x1": "2022-03-30T20:25:18",
          "y0": 0,
          "y1": 114
         },
         {
          "layer": "below",
          "line": {
           "color": "grey",
           "width": 2
          },
          "type": "line",
          "x0": "2022-03-30T20:45:17",
          "x1": "2022-03-30T20:45:17",
          "y0": 0,
          "y1": 114
         },
         {
          "layer": "below",
          "line": {
           "color": "grey",
           "width": 2
          },
          "type": "line",
          "x0": "2022-03-30T23:14:56",
          "x1": "2022-03-30T23:14:56",
          "y0": 0,
          "y1": 187
         },
         {
          "layer": "below",
          "line": {
           "color": "grey",
           "width": 2
          },
          "type": "line",
          "x0": "2022-03-30T23:40:34",
          "x1": "2022-03-30T23:40:34",
          "y0": 0,
          "y1": 245
         },
         {
          "layer": "below",
          "line": {
           "color": "grey",
           "width": 2
          },
          "type": "line",
          "x0": "2022-03-31T18:28:01",
          "x1": "2022-03-31T18:28:01",
          "y0": 0,
          "y1": 146
         },
         {
          "layer": "below",
          "line": {
           "color": "grey",
           "width": 2
          },
          "type": "line",
          "x0": "2022-03-31T18:45:46",
          "x1": "2022-03-31T18:45:46",
          "y0": 0,
          "y1": 146
         },
         {
          "layer": "below",
          "line": {
           "color": "grey",
           "width": 2
          },
          "type": "line",
          "x0": "2022-03-31T19:12:47",
          "x1": "2022-03-31T19:12:47",
          "y0": 0,
          "y1": 194
         },
         {
          "layer": "below",
          "line": {
           "color": "grey",
           "width": 2
          },
          "type": "line",
          "x0": "2022-03-31T19:44:19",
          "x1": "2022-03-31T19:44:19",
          "y0": 0,
          "y1": 419
         },
         {
          "layer": "below",
          "line": {
           "color": "grey",
           "width": 2
          },
          "type": "line",
          "x0": "2022-03-31T20:18:07",
          "x1": "2022-03-31T20:18:07",
          "y0": 0,
          "y1": 187
         },
         {
          "layer": "below",
          "line": {
           "color": "grey",
           "width": 2
          },
          "type": "line",
          "x0": "2022-03-31T20:28:10",
          "x1": "2022-03-31T20:28:10",
          "y0": 0,
          "y1": 187
         },
         {
          "layer": "below",
          "line": {
           "color": "grey",
           "width": 2
          },
          "type": "line",
          "x0": "2022-03-31T20:47:18",
          "x1": "2022-03-31T20:47:18",
          "y0": 0,
          "y1": 146
         },
         {
          "layer": "below",
          "line": {
           "color": "grey",
           "width": 2
          },
          "type": "line",
          "x0": "2022-03-31T21:14:30",
          "x1": "2022-03-31T21:14:30",
          "y0": 0,
          "y1": 250
         },
         {
          "layer": "below",
          "line": {
           "color": "grey",
           "width": 2
          },
          "type": "line",
          "x0": "2022-03-31T21:29:10",
          "x1": "2022-03-31T21:29:10",
          "y0": 0,
          "y1": 278
         },
         {
          "layer": "below",
          "line": {
           "color": "grey",
           "width": 2
          },
          "type": "line",
          "x0": "2022-03-31T21:42:59",
          "x1": "2022-03-31T21:42:59",
          "y0": 0,
          "y1": 146
         },
         {
          "layer": "below",
          "line": {
           "color": "grey",
           "width": 2
          },
          "type": "line",
          "x0": "2022-03-31T22:13:18",
          "x1": "2022-03-31T22:13:18",
          "y0": 0,
          "y1": 238
         },
         {
          "layer": "below",
          "line": {
           "color": "grey",
           "width": 2
          },
          "type": "line",
          "x0": "2022-03-31T22:41:41",
          "x1": "2022-03-31T22:41:41",
          "y0": 0,
          "y1": 332
         },
         {
          "layer": "below",
          "line": {
           "color": "grey",
           "width": 2
          },
          "type": "line",
          "x0": "2022-04-01T19:14:34",
          "x1": "2022-04-01T19:14:34",
          "y0": 0,
          "y1": 141
         },
         {
          "layer": "below",
          "line": {
           "color": "grey",
           "width": 2
          },
          "type": "line",
          "x0": "2022-04-01T23:33:18",
          "x1": "2022-04-01T23:33:18",
          "y0": 0,
          "y1": 73
         },
         {
          "layer": "below",
          "line": {
           "color": "grey",
           "width": 2
          },
          "type": "line",
          "x0": "2022-04-02T00:47:14",
          "x1": "2022-04-02T00:47:14",
          "y0": 0,
          "y1": 73
         },
         {
          "layer": "below",
          "line": {
           "color": "grey",
           "width": 2
          },
          "type": "line",
          "x0": "2022-03-15T22:16:49",
          "x1": "2022-03-15T22:16:49",
          "y0": 0,
          "y1": 89
         },
         {
          "layer": "below",
          "line": {
           "color": "grey",
           "width": 2
          },
          "type": "line",
          "x0": "2022-03-17T20:10:27",
          "x1": "2022-03-17T20:10:27",
          "y0": 0,
          "y1": 38
         },
         {
          "layer": "below",
          "line": {
           "color": "grey",
           "width": 2
          },
          "type": "line",
          "x0": "2022-03-17T21:17:11",
          "x1": "2022-03-17T21:17:11",
          "y0": 0,
          "y1": 173
         },
         {
          "layer": "below",
          "line": {
           "color": "grey",
           "width": 2
          },
          "type": "line",
          "x0": "2022-03-17T21:27:42",
          "x1": "2022-03-17T21:27:42",
          "y0": 0,
          "y1": 58
         },
         {
          "layer": "below",
          "line": {
           "color": "grey",
           "width": 2
          },
          "type": "line",
          "x0": "2022-03-17T22:13:06",
          "x1": "2022-03-17T22:13:06",
          "y0": 0,
          "y1": 58
         },
         {
          "layer": "below",
          "line": {
           "color": "grey",
           "width": 2
          },
          "type": "line",
          "x0": "2022-03-17T22:45:43",
          "x1": "2022-03-17T22:45:43",
          "y0": 0,
          "y1": 58
         },
         {
          "layer": "below",
          "line": {
           "color": "grey",
           "width": 2
          },
          "type": "line",
          "x0": "2022-03-17T23:09:40",
          "x1": "2022-03-17T23:09:40",
          "y0": 0,
          "y1": 121
         },
         {
          "layer": "below",
          "line": {
           "color": "grey",
           "width": 2
          },
          "type": "line",
          "x0": "2022-03-17T23:45:06",
          "x1": "2022-03-17T23:45:06",
          "y0": 0,
          "y1": 58
         },
         {
          "layer": "below",
          "line": {
           "color": "grey",
           "width": 2
          },
          "type": "line",
          "x0": "2022-03-20T08:43:00",
          "x1": "2022-03-20T08:43:00",
          "y0": 0,
          "y1": 38
         },
         {
          "layer": "below",
          "line": {
           "color": "grey",
           "width": 2
          },
          "type": "line",
          "x0": "2022-03-24T20:45:19",
          "x1": "2022-03-24T20:45:19",
          "y0": 0,
          "y1": 38
         },
         {
          "layer": "below",
          "line": {
           "color": "grey",
           "width": 2
          },
          "type": "line",
          "x0": "2022-03-24T21:12:36",
          "x1": "2022-03-24T21:12:36",
          "y0": 0,
          "y1": 38
         },
         {
          "layer": "below",
          "line": {
           "color": "grey",
           "width": 2
          },
          "type": "line",
          "x0": "2022-03-27T12:44:31",
          "x1": "2022-03-27T12:44:31",
          "y0": 0,
          "y1": 80
         },
         {
          "layer": "below",
          "line": {
           "color": "grey",
           "width": 2
          },
          "type": "line",
          "x0": "2022-03-27T16:14:44",
          "x1": "2022-03-27T16:14:44",
          "y0": 0,
          "y1": 52
         },
         {
          "layer": "below",
          "line": {
           "color": "grey",
           "width": 2
          },
          "type": "line",
          "x0": "2022-03-28T19:09:28",
          "x1": "2022-03-28T19:09:28",
          "y0": 0,
          "y1": 52
         },
         {
          "layer": "below",
          "line": {
           "color": "grey",
           "width": 2
          },
          "type": "line",
          "x0": "2022-03-31T00:14:56",
          "x1": "2022-03-31T00:14:56",
          "y0": 0,
          "y1": 75
         },
         {
          "layer": "below",
          "line": {
           "color": "grey",
           "width": 2
          },
          "type": "line",
          "x0": "2022-03-31T00:40:34",
          "x1": "2022-03-31T00:40:34",
          "y0": 0,
          "y1": 75
         },
         {
          "layer": "below",
          "line": {
           "color": "grey",
           "width": 2
          },
          "type": "line",
          "x0": "2022-03-31T21:18:07",
          "x1": "2022-03-31T21:18:07",
          "y0": 0,
          "y1": 51
         },
         {
          "layer": "below",
          "line": {
           "color": "grey",
           "width": 2
          },
          "type": "line",
          "x0": "2022-03-31T23:41:41",
          "x1": "2022-03-31T23:41:41",
          "y0": 0,
          "y1": 70
         },
         {
          "layer": "below",
          "line": {
           "color": "grey",
           "width": 2
          },
          "type": "line",
          "x0": "2022-03-23T18:51:38",
          "x1": "2022-03-23T18:51:38",
          "y0": 0,
          "y1": 68
         },
         {
          "layer": "below",
          "line": {
           "color": "grey",
           "width": 2
          },
          "type": "line",
          "x0": "2022-03-16T20:12:13",
          "x1": "2022-03-16T20:12:13",
          "y0": 0,
          "y1": 13
         },
         {
          "layer": "below",
          "line": {
           "color": "grey",
           "width": 2
          },
          "type": "line",
          "x0": "2022-03-22T19:30:55",
          "x1": "2022-03-22T19:30:55",
          "y0": 0,
          "y1": 179
         },
         {
          "layer": "below",
          "line": {
           "color": "grey",
           "width": 2
          },
          "type": "line",
          "x0": "2022-03-24T21:27:51",
          "x1": "2022-03-24T21:27:51",
          "y0": 0,
          "y1": 71
         },
         {
          "layer": "below",
          "line": {
           "color": "grey",
           "width": 2
          },
          "type": "line",
          "x0": "2022-03-24T23:32:42",
          "x1": "2022-03-24T23:32:42",
          "y0": 0,
          "y1": 32
         },
         {
          "layer": "below",
          "line": {
           "color": "grey",
           "width": 2
          },
          "type": "line",
          "x0": "2022-03-24T23:46:00",
          "x1": "2022-03-24T23:46:00",
          "y0": 0,
          "y1": 85
         },
         {
          "layer": "below",
          "line": {
           "color": "grey",
           "width": 2
          },
          "type": "line",
          "x0": "2022-03-25T19:44:02",
          "x1": "2022-03-25T19:44:02",
          "y0": 0,
          "y1": 143
         },
         {
          "layer": "below",
          "line": {
           "color": "grey",
           "width": 2
          },
          "type": "line",
          "x0": "2022-03-27T17:46:29",
          "x1": "2022-03-27T17:46:29",
          "y0": 0,
          "y1": 26
         },
         {
          "layer": "below",
          "line": {
           "color": "grey",
           "width": 2
          },
          "type": "line",
          "x0": "2022-03-27T20:10:13",
          "x1": "2022-03-27T20:10:13",
          "y0": 0,
          "y1": 29
         },
         {
          "layer": "below",
          "line": {
           "color": "grey",
           "width": 2
          },
          "type": "line",
          "x0": "2022-03-29T21:13:33",
          "x1": "2022-03-29T21:13:33",
          "y0": 0,
          "y1": 71
         },
         {
          "layer": "below",
          "line": {
           "color": "grey",
           "width": 2
          },
          "type": "line",
          "x0": "2022-03-30T20:26:45",
          "x1": "2022-03-30T20:26:45",
          "y0": 0,
          "y1": 122
         },
         {
          "layer": "below",
          "line": {
           "color": "grey",
           "width": 2
          },
          "type": "line",
          "x0": "2022-03-31T21:36:42",
          "x1": "2022-03-31T21:36:42",
          "y0": 0,
          "y1": 165
         },
         {
          "layer": "below",
          "line": {
           "color": "grey",
           "width": 2
          },
          "type": "line",
          "x0": "2022-04-01T20:49:38",
          "x1": "2022-04-01T20:49:38",
          "y0": 0,
          "y1": 20
         },
         {
          "layer": "below",
          "line": {
           "color": "grey",
           "width": 2
          },
          "type": "line",
          "x0": "2022-04-01T21:31:57",
          "x1": "2022-04-01T21:31:57",
          "y0": 0,
          "y1": 176
         },
         {
          "layer": "below",
          "line": {
           "color": "grey",
           "width": 2
          },
          "type": "line",
          "x0": "2022-04-01T22:42:49",
          "x1": "2022-04-01T22:42:49",
          "y0": 0,
          "y1": 164
         },
         {
          "layer": "below",
          "line": {
           "color": "grey",
           "width": 2
          },
          "type": "line",
          "x0": "2022-03-23T19:28:55",
          "x1": "2022-03-23T19:28:55",
          "y0": 0,
          "y1": 65
         },
         {
          "layer": "below",
          "line": {
           "color": "grey",
           "width": 2
          },
          "type": "line",
          "x0": "2022-03-24T19:29:10",
          "x1": "2022-03-24T19:29:10",
          "y0": 0,
          "y1": 21
         },
         {
          "layer": "below",
          "line": {
           "color": "grey",
           "width": 2
          },
          "type": "line",
          "x0": "2022-03-31T21:29:06",
          "x1": "2022-03-31T21:29:06",
          "y0": 0,
          "y1": 41
         },
         {
          "layer": "below",
          "line": {
           "color": "grey",
           "width": 2
          },
          "type": "line",
          "x0": "2022-03-15T19:57:54",
          "x1": "2022-03-15T19:57:54",
          "y0": 0,
          "y1": 1136
         },
         {
          "layer": "below",
          "line": {
           "color": "grey",
           "width": 2
          },
          "type": "line",
          "x0": "2022-03-15T21:34:23",
          "x1": "2022-03-15T21:34:23",
          "y0": 0,
          "y1": 785
         },
         {
          "layer": "below",
          "line": {
           "color": "grey",
           "width": 2
          },
          "type": "line",
          "x0": "2022-03-15T21:56:44",
          "x1": "2022-03-15T21:56:44",
          "y0": 0,
          "y1": 1513
         },
         {
          "layer": "below",
          "line": {
           "color": "grey",
           "width": 2
          },
          "type": "line",
          "x0": "2022-03-31T07:57:14",
          "x1": "2022-03-31T07:57:14",
          "y0": 0,
          "y1": 1008
         },
         {
          "layer": "below",
          "line": {
           "color": "grey",
           "width": 2
          },
          "type": "line",
          "x0": "2022-03-15T21:56:31",
          "x1": "2022-03-15T21:56:31",
          "y0": 0,
          "y1": 25
         },
         {
          "layer": "below",
          "line": {
           "color": "grey",
           "width": 2
          },
          "type": "line",
          "x0": "2022-03-19T20:37:54",
          "x1": "2022-03-19T20:37:54",
          "y0": 0,
          "y1": 21
         },
         {
          "layer": "below",
          "line": {
           "color": "grey",
           "width": 2
          },
          "type": "line",
          "x0": "2022-03-19T21:10:30",
          "x1": "2022-03-19T21:10:30",
          "y0": 0,
          "y1": 67
         },
         {
          "layer": "below",
          "line": {
           "color": "grey",
           "width": 2
          },
          "type": "line",
          "x0": "2022-03-25T18:29:37",
          "x1": "2022-03-25T18:29:37",
          "y0": 0,
          "y1": 86
         },
         {
          "layer": "below",
          "line": {
           "color": "grey",
           "width": 2
          },
          "type": "line",
          "x0": "2022-03-26T17:58:25",
          "x1": "2022-03-26T17:58:25",
          "y0": 0,
          "y1": 36
         },
         {
          "layer": "below",
          "line": {
           "color": "grey",
           "width": 2
          },
          "type": "line",
          "x0": "2022-03-26T22:46:52",
          "x1": "2022-03-26T22:46:52",
          "y0": 0,
          "y1": 9
         },
         {
          "layer": "below",
          "line": {
           "color": "grey",
           "width": 2
          },
          "type": "line",
          "x0": "2022-03-28T20:42:17",
          "x1": "2022-03-28T20:42:17",
          "y0": 0,
          "y1": 24
         },
         {
          "layer": "below",
          "line": {
           "color": "grey",
           "width": 2
          },
          "type": "line",
          "x0": "2022-04-01T00:31:26",
          "x1": "2022-04-01T00:31:26",
          "y0": 0,
          "y1": 166
         },
         {
          "layer": "below",
          "line": {
           "color": "grey",
           "width": 2
          },
          "type": "line",
          "x0": "2022-03-14T18:26:48",
          "x1": "2022-03-14T18:26:48",
          "y0": 0,
          "y1": 79
         },
         {
          "layer": "below",
          "line": {
           "color": "grey",
           "width": 2
          },
          "type": "line",
          "x0": "2022-03-14T18:56:42",
          "x1": "2022-03-14T18:56:42",
          "y0": 0,
          "y1": 261
         },
         {
          "layer": "below",
          "line": {
           "color": "grey",
           "width": 2
          },
          "type": "line",
          "x0": "2022-03-14T19:25:43",
          "x1": "2022-03-14T19:25:43",
          "y0": 0,
          "y1": 510
         },
         {
          "layer": "below",
          "line": {
           "color": "grey",
           "width": 2
          },
          "type": "line",
          "x0": "2022-03-14T19:41:18",
          "x1": "2022-03-14T19:41:18",
          "y0": 0,
          "y1": 396
         },
         {
          "layer": "below",
          "line": {
           "color": "grey",
           "width": 2
          },
          "type": "line",
          "x0": "2022-03-14T19:56:28",
          "x1": "2022-03-14T19:56:28",
          "y0": 0,
          "y1": 310
         },
         {
          "layer": "below",
          "line": {
           "color": "grey",
           "width": 2
          },
          "type": "line",
          "x0": "2022-03-15T17:56:12",
          "x1": "2022-03-15T17:56:12",
          "y0": 0,
          "y1": 35
         },
         {
          "layer": "below",
          "line": {
           "color": "grey",
           "width": 2
          },
          "type": "line",
          "x0": "2022-03-15T18:27:11",
          "x1": "2022-03-15T18:27:11",
          "y0": 0,
          "y1": 35
         },
         {
          "layer": "below",
          "line": {
           "color": "grey",
           "width": 2
          },
          "type": "line",
          "x0": "2022-03-15T19:15:29",
          "x1": "2022-03-15T19:15:29",
          "y0": 0,
          "y1": 289
         },
         {
          "layer": "below",
          "line": {
           "color": "grey",
           "width": 2
          },
          "type": "line",
          "x0": "2022-03-15T19:58:21",
          "x1": "2022-03-15T19:58:21",
          "y0": 0,
          "y1": 317
         },
         {
          "layer": "below",
          "line": {
           "color": "grey",
           "width": 2
          },
          "type": "line",
          "x0": "2022-03-15T21:28:24",
          "x1": "2022-03-15T21:28:24",
          "y0": 0,
          "y1": 417
         },
         {
          "layer": "below",
          "line": {
           "color": "grey",
           "width": 2
          },
          "type": "line",
          "x0": "2022-03-16T18:28:16",
          "x1": "2022-03-16T18:28:16",
          "y0": 0,
          "y1": 186
         },
         {
          "layer": "below",
          "line": {
           "color": "grey",
           "width": 2
          },
          "type": "line",
          "x0": "2022-03-16T18:46:49",
          "x1": "2022-03-16T18:46:49",
          "y0": 0,
          "y1": 119
         },
         {
          "layer": "below",
          "line": {
           "color": "grey",
           "width": 2
          },
          "type": "line",
          "x0": "2022-03-16T18:56:09",
          "x1": "2022-03-16T18:56:09",
          "y0": 0,
          "y1": 76
         },
         {
          "layer": "below",
          "line": {
           "color": "grey",
           "width": 2
          },
          "type": "line",
          "x0": "2022-03-16T19:26:01",
          "x1": "2022-03-16T19:26:01",
          "y0": 0,
          "y1": 181
         },
         {
          "layer": "below",
          "line": {
           "color": "grey",
           "width": 2
          },
          "type": "line",
          "x0": "2022-03-16T19:42:48",
          "x1": "2022-03-16T19:42:48",
          "y0": 0,
          "y1": 254
         },
         {
          "layer": "below",
          "line": {
           "color": "grey",
           "width": 2
          },
          "type": "line",
          "x0": "2022-03-16T19:56:06",
          "x1": "2022-03-16T19:56:06",
          "y0": 0,
          "y1": 193
         },
         {
          "layer": "below",
          "line": {
           "color": "grey",
           "width": 2
          },
          "type": "line",
          "x0": "2022-03-16T22:13:19",
          "x1": "2022-03-16T22:13:19",
          "y0": 0,
          "y1": 247
         },
         {
          "layer": "below",
          "line": {
           "color": "grey",
           "width": 2
          },
          "type": "line",
          "x0": "2022-03-17T18:42:08",
          "x1": "2022-03-17T18:42:08",
          "y0": 0,
          "y1": 200
         },
         {
          "layer": "below",
          "line": {
           "color": "grey",
           "width": 2
          },
          "type": "line",
          "x0": "2022-03-17T19:09:51",
          "x1": "2022-03-17T19:09:51",
          "y0": 0,
          "y1": 146
         },
         {
          "layer": "below",
          "line": {
           "color": "grey",
           "width": 2
          },
          "type": "line",
          "x0": "2022-03-17T19:45:31",
          "x1": "2022-03-17T19:45:31",
          "y0": 0,
          "y1": 378
         },
         {
          "layer": "below",
          "line": {
           "color": "grey",
           "width": 2
          },
          "type": "line",
          "x0": "2022-03-17T20:25:32",
          "x1": "2022-03-17T20:25:32",
          "y0": 0,
          "y1": 88
         },
         {
          "layer": "below",
          "line": {
           "color": "grey",
           "width": 2
          },
          "type": "line",
          "x0": "2022-03-17T22:20:23",
          "x1": "2022-03-17T22:20:23",
          "y0": 0,
          "y1": 102
         },
         {
          "layer": "below",
          "line": {
           "color": "grey",
           "width": 2
          },
          "type": "line",
          "x0": "2022-03-18T20:08:45",
          "x1": "2022-03-18T20:08:45",
          "y0": 0,
          "y1": 99
         },
         {
          "layer": "below",
          "line": {
           "color": "grey",
           "width": 2
          },
          "type": "line",
          "x0": "2022-03-19T11:47:28",
          "x1": "2022-03-19T11:47:28",
          "y0": 0,
          "y1": 23
         },
         {
          "layer": "below",
          "line": {
           "color": "grey",
           "width": 2
          },
          "type": "line",
          "x0": "2022-03-19T21:56:14",
          "x1": "2022-03-19T21:56:14",
          "y0": 0,
          "y1": 139
         },
         {
          "layer": "below",
          "line": {
           "color": "grey",
           "width": 2
          },
          "type": "line",
          "x0": "2022-03-19T22:21:16",
          "x1": "2022-03-19T22:21:16",
          "y0": 0,
          "y1": 450
         },
         {
          "layer": "below",
          "line": {
           "color": "grey",
           "width": 2
          },
          "type": "line",
          "x0": "2022-03-20T18:06:53",
          "x1": "2022-03-20T18:06:53",
          "y0": 0,
          "y1": 479
         },
         {
          "layer": "below",
          "line": {
           "color": "grey",
           "width": 2
          },
          "type": "line",
          "x0": "2022-03-20T18:37:17",
          "x1": "2022-03-20T18:37:17",
          "y0": 0,
          "y1": 246
         },
         {
          "layer": "below",
          "line": {
           "color": "grey",
           "width": 2
          },
          "type": "line",
          "x0": "2022-03-20T20:29:29",
          "x1": "2022-03-20T20:29:29",
          "y0": 0,
          "y1": 114
         },
         {
          "layer": "below",
          "line": {
           "color": "grey",
           "width": 2
          },
          "type": "line",
          "x0": "2022-03-21T17:42:15",
          "x1": "2022-03-21T17:42:15",
          "y0": 0,
          "y1": 23
         },
         {
          "layer": "below",
          "line": {
           "color": "grey",
           "width": 2
          },
          "type": "line",
          "x0": "2022-03-21T18:38:27",
          "x1": "2022-03-21T18:38:27",
          "y0": 0,
          "y1": 246
         },
         {
          "layer": "below",
          "line": {
           "color": "grey",
           "width": 2
          },
          "type": "line",
          "x0": "2022-03-21T18:58:08",
          "x1": "2022-03-21T18:58:08",
          "y0": 0,
          "y1": 323
         },
         {
          "layer": "below",
          "line": {
           "color": "grey",
           "width": 2
          },
          "type": "line",
          "x0": "2022-03-21T19:26:30",
          "x1": "2022-03-21T19:26:30",
          "y0": 0,
          "y1": 260
         },
         {
          "layer": "below",
          "line": {
           "color": "grey",
           "width": 2
          },
          "type": "line",
          "x0": "2022-03-21T19:43:23",
          "x1": "2022-03-21T19:43:23",
          "y0": 0,
          "y1": 572
         },
         {
          "layer": "below",
          "line": {
           "color": "grey",
           "width": 2
          },
          "type": "line",
          "x0": "2022-03-21T19:57:26",
          "x1": "2022-03-21T19:57:26",
          "y0": 0,
          "y1": 311
         },
         {
          "layer": "below",
          "line": {
           "color": "grey",
           "width": 2
          },
          "type": "line",
          "x0": "2022-03-22T18:25:59",
          "x1": "2022-03-22T18:25:59",
          "y0": 0,
          "y1": 305
         },
         {
          "layer": "below",
          "line": {
           "color": "grey",
           "width": 2
          },
          "type": "line",
          "x0": "2022-03-22T19:42:22",
          "x1": "2022-03-22T19:42:22",
          "y0": 0,
          "y1": 71
         },
         {
          "layer": "below",
          "line": {
           "color": "grey",
           "width": 2
          },
          "type": "line",
          "x0": "2022-03-23T18:57:46",
          "x1": "2022-03-23T18:57:46",
          "y0": 0,
          "y1": 63
         },
         {
          "layer": "below",
          "line": {
           "color": "grey",
           "width": 2
          },
          "type": "line",
          "x0": "2022-03-23T19:39:24",
          "x1": "2022-03-23T19:39:24",
          "y0": 0,
          "y1": 251
         },
         {
          "layer": "below",
          "line": {
           "color": "grey",
           "width": 2
          },
          "type": "line",
          "x0": "2022-03-24T18:41:46",
          "x1": "2022-03-24T18:41:46",
          "y0": 0,
          "y1": 442
         },
         {
          "layer": "below",
          "line": {
           "color": "grey",
           "width": 2
          },
          "type": "line",
          "x0": "2022-03-24T19:44:58",
          "x1": "2022-03-24T19:44:58",
          "y0": 0,
          "y1": 137
         },
         {
          "layer": "below",
          "line": {
           "color": "grey",
           "width": 2
          },
          "type": "line",
          "x0": "2022-03-24T20:11:37",
          "x1": "2022-03-24T20:11:37",
          "y0": 0,
          "y1": 209
         },
         {
          "layer": "below",
          "line": {
           "color": "grey",
           "width": 2
          },
          "type": "line",
          "x0": "2022-03-24T20:43:12",
          "x1": "2022-03-24T20:43:12",
          "y0": 0,
          "y1": 449
         },
         {
          "layer": "below",
          "line": {
           "color": "grey",
           "width": 2
          },
          "type": "line",
          "x0": "2022-03-24T21:57:35",
          "x1": "2022-03-24T21:57:35",
          "y0": 0,
          "y1": 440
         },
         {
          "layer": "below",
          "line": {
           "color": "grey",
           "width": 2
          },
          "type": "line",
          "x0": "2022-03-25T14:56:57",
          "x1": "2022-03-25T14:56:57",
          "y0": 0,
          "y1": 100
         },
         {
          "layer": "below",
          "line": {
           "color": "grey",
           "width": 2
          },
          "type": "line",
          "x0": "2022-03-25T19:09:55",
          "x1": "2022-03-25T19:09:55",
          "y0": 0,
          "y1": 426
         },
         {
          "layer": "below",
          "line": {
           "color": "grey",
           "width": 2
          },
          "type": "line",
          "x0": "2022-03-25T19:39:20",
          "x1": "2022-03-25T19:39:20",
          "y0": 0,
          "y1": 198
         },
         {
          "layer": "below",
          "line": {
           "color": "grey",
           "width": 2
          },
          "type": "line",
          "x0": "2022-03-25T20:09:19",
          "x1": "2022-03-25T20:09:19",
          "y0": 0,
          "y1": 73
         },
         {
          "layer": "below",
          "line": {
           "color": "grey",
           "width": 2
          },
          "type": "line",
          "x0": "2022-03-25T20:41:07",
          "x1": "2022-03-25T20:41:07",
          "y0": 0,
          "y1": 95
         },
         {
          "layer": "below",
          "line": {
           "color": "grey",
           "width": 2
          },
          "type": "line",
          "x0": "2022-03-25T21:28:16",
          "x1": "2022-03-25T21:28:16",
          "y0": 0,
          "y1": 19
         },
         {
          "layer": "below",
          "line": {
           "color": "grey",
           "width": 2
          },
          "type": "line",
          "x0": "2022-03-25T22:15:26",
          "x1": "2022-03-25T22:15:26",
          "y0": 0,
          "y1": 169
         },
         {
          "layer": "below",
          "line": {
           "color": "grey",
           "width": 2
          },
          "type": "line",
          "x0": "2022-03-25T23:45:41",
          "x1": "2022-03-25T23:45:41",
          "y0": 0,
          "y1": 52
         },
         {
          "layer": "below",
          "line": {
           "color": "grey",
           "width": 2
          },
          "type": "line",
          "x0": "2022-03-26T20:12:47",
          "x1": "2022-03-26T20:12:47",
          "y0": 0,
          "y1": 562
         },
         {
          "layer": "below",
          "line": {
           "color": "grey",
           "width": 2
          },
          "type": "line",
          "x0": "2022-03-26T22:19:54",
          "x1": "2022-03-26T22:19:54",
          "y0": 0,
          "y1": 1306
         },
         {
          "layer": "below",
          "line": {
           "color": "grey",
           "width": 2
          },
          "type": "line",
          "x0": "2022-03-26T22:41:37",
          "x1": "2022-03-26T22:41:37",
          "y0": 0,
          "y1": 1013
         },
         {
          "layer": "below",
          "line": {
           "color": "grey",
           "width": 2
          },
          "type": "line",
          "x0": "2022-03-26T23:19:07",
          "x1": "2022-03-26T23:19:07",
          "y0": 0,
          "y1": 1047
         },
         {
          "layer": "below",
          "line": {
           "color": "grey",
           "width": 2
          },
          "type": "line",
          "x0": "2022-03-27T09:39:54",
          "x1": "2022-03-27T09:39:54",
          "y0": 0,
          "y1": 164
         },
         {
          "layer": "below",
          "line": {
           "color": "grey",
           "width": 2
          },
          "type": "line",
          "x0": "2022-03-27T18:56:21",
          "x1": "2022-03-27T18:56:21",
          "y0": 0,
          "y1": 161
         },
         {
          "layer": "below",
          "line": {
           "color": "grey",
           "width": 2
          },
          "type": "line",
          "x0": "2022-03-27T19:28:04",
          "x1": "2022-03-27T19:28:04",
          "y0": 0,
          "y1": 325
         },
         {
          "layer": "below",
          "line": {
           "color": "grey",
           "width": 2
          },
          "type": "line",
          "x0": "2022-03-27T20:14:41",
          "x1": "2022-03-27T20:14:41",
          "y0": 0,
          "y1": 210
         },
         {
          "layer": "below",
          "line": {
           "color": "grey",
           "width": 2
          },
          "type": "line",
          "x0": "2022-03-27T20:37:07",
          "x1": "2022-03-27T20:37:07",
          "y0": 0,
          "y1": 275
         },
         {
          "layer": "below",
          "line": {
           "color": "grey",
           "width": 2
          },
          "type": "line",
          "x0": "2022-03-28T18:29:02",
          "x1": "2022-03-28T18:29:02",
          "y0": 0,
          "y1": 425
         },
         {
          "layer": "below",
          "line": {
           "color": "grey",
           "width": 2
          },
          "type": "line",
          "x0": "2022-03-28T18:39:59",
          "x1": "2022-03-28T18:39:59",
          "y0": 0,
          "y1": 304
         },
         {
          "layer": "below",
          "line": {
           "color": "grey",
           "width": 2
          },
          "type": "line",
          "x0": "2022-03-28T18:56:43",
          "x1": "2022-03-28T18:56:43",
          "y0": 0,
          "y1": 96
         },
         {
          "layer": "below",
          "line": {
           "color": "grey",
           "width": 2
          },
          "type": "line",
          "x0": "2022-03-28T19:26:27",
          "x1": "2022-03-28T19:26:27",
          "y0": 0,
          "y1": 134
         },
         {
          "layer": "below",
          "line": {
           "color": "grey",
           "width": 2
          },
          "type": "line",
          "x0": "2022-03-28T19:56:26",
          "x1": "2022-03-28T19:56:26",
          "y0": 0,
          "y1": 23
         },
         {
          "layer": "below",
          "line": {
           "color": "grey",
           "width": 2
          },
          "type": "line",
          "x0": "2022-03-28T20:30:39",
          "x1": "2022-03-28T20:30:39",
          "y0": 0,
          "y1": 231
         },
         {
          "layer": "below",
          "line": {
           "color": "grey",
           "width": 2
          },
          "type": "line",
          "x0": "2022-03-28T22:14:39",
          "x1": "2022-03-28T22:14:39",
          "y0": 0,
          "y1": 108
         },
         {
          "layer": "below",
          "line": {
           "color": "grey",
           "width": 2
          },
          "type": "line",
          "x0": "2022-03-29T17:56:29",
          "x1": "2022-03-29T17:56:29",
          "y0": 0,
          "y1": 52
         },
         {
          "layer": "below",
          "line": {
           "color": "grey",
           "width": 2
          },
          "type": "line",
          "x0": "2022-03-29T19:26:18",
          "x1": "2022-03-29T19:26:18",
          "y0": 0,
          "y1": 336
         },
         {
          "layer": "below",
          "line": {
           "color": "grey",
           "width": 2
          },
          "type": "line",
          "x0": "2022-03-29T19:56:27",
          "x1": "2022-03-29T19:56:27",
          "y0": 0,
          "y1": 226
         },
         {
          "layer": "below",
          "line": {
           "color": "grey",
           "width": 2
          },
          "type": "line",
          "x0": "2022-03-29T21:11:06",
          "x1": "2022-03-29T21:11:06",
          "y0": 0,
          "y1": 78
         },
         {
          "layer": "below",
          "line": {
           "color": "grey",
           "width": 2
          },
          "type": "line",
          "x0": "2022-03-29T22:24:42",
          "x1": "2022-03-29T22:24:42",
          "y0": 0,
          "y1": 191
         },
         {
          "layer": "below",
          "line": {
           "color": "grey",
           "width": 2
          },
          "type": "line",
          "x0": "2022-03-29T22:49:53",
          "x1": "2022-03-29T22:49:53",
          "y0": 0,
          "y1": 48
         },
         {
          "layer": "below",
          "line": {
           "color": "grey",
           "width": 2
          },
          "type": "line",
          "x0": "2022-03-29T23:31:52",
          "x1": "2022-03-29T23:31:52",
          "y0": 0,
          "y1": 39
         },
         {
          "layer": "below",
          "line": {
           "color": "grey",
           "width": 2
          },
          "type": "line",
          "x0": "2022-03-30T18:28:09",
          "x1": "2022-03-30T18:28:09",
          "y0": 0,
          "y1": 193
         },
         {
          "layer": "below",
          "line": {
           "color": "grey",
           "width": 2
          },
          "type": "line",
          "x0": "2022-03-30T18:38:35",
          "x1": "2022-03-30T18:38:35",
          "y0": 0,
          "y1": 100
         },
         {
          "layer": "below",
          "line": {
           "color": "grey",
           "width": 2
          },
          "type": "line",
          "x0": "2022-03-30T19:27:43",
          "x1": "2022-03-30T19:27:43",
          "y0": 0,
          "y1": 65
         },
         {
          "layer": "below",
          "line": {
           "color": "grey",
           "width": 2
          },
          "type": "line",
          "x0": "2022-03-30T19:39:58",
          "x1": "2022-03-30T19:39:58",
          "y0": 0,
          "y1": 494
         },
         {
          "layer": "below",
          "line": {
           "color": "grey",
           "width": 2
          },
          "type": "line",
          "x0": "2022-03-30T20:27:39",
          "x1": "2022-03-30T20:27:39",
          "y0": 0,
          "y1": 129
         },
         {
          "layer": "below",
          "line": {
           "color": "grey",
           "width": 2
          },
          "type": "line",
          "x0": "2022-03-30T22:49:35",
          "x1": "2022-03-30T22:49:35",
          "y0": 0,
          "y1": 39
         },
         {
          "layer": "below",
          "line": {
           "color": "grey",
           "width": 2
          },
          "type": "line",
          "x0": "2022-03-31T18:26:49",
          "x1": "2022-03-31T18:26:49",
          "y0": 0,
          "y1": 42
         },
         {
          "layer": "below",
          "line": {
           "color": "grey",
           "width": 2
          },
          "type": "line",
          "x0": "2022-03-31T18:58:58",
          "x1": "2022-03-31T18:58:58",
          "y0": 0,
          "y1": 165
         },
         {
          "layer": "below",
          "line": {
           "color": "grey",
           "width": 2
          },
          "type": "line",
          "x0": "2022-03-31T19:10:13",
          "x1": "2022-03-31T19:10:13",
          "y0": 0,
          "y1": 395
         },
         {
          "layer": "below",
          "line": {
           "color": "grey",
           "width": 2
          },
          "type": "line",
          "x0": "2022-03-31T19:56:24",
          "x1": "2022-03-31T19:56:24",
          "y0": 0,
          "y1": 91
         },
         {
          "layer": "below",
          "line": {
           "color": "grey",
           "width": 2
          },
          "type": "line",
          "x0": "2022-03-31T20:09:25",
          "x1": "2022-03-31T20:09:25",
          "y0": 0,
          "y1": 201
         },
         {
          "layer": "below",
          "line": {
           "color": "grey",
           "width": 2
          },
          "type": "line",
          "x0": "2022-03-31T22:44:27",
          "x1": "2022-03-31T22:44:27",
          "y0": 0,
          "y1": 230
         },
         {
          "layer": "below",
          "line": {
           "color": "grey",
           "width": 2
          },
          "type": "line",
          "x0": "2022-04-01T18:42:43",
          "x1": "2022-04-01T18:42:43",
          "y0": 0,
          "y1": 165
         },
         {
          "layer": "below",
          "line": {
           "color": "grey",
           "width": 2
          },
          "type": "line",
          "x0": "2022-04-01T19:39:01",
          "x1": "2022-04-01T19:39:01",
          "y0": 0,
          "y1": 446
         },
         {
          "layer": "below",
          "line": {
           "color": "grey",
           "width": 2
          },
          "type": "line",
          "x0": "2022-03-14T20:25:43",
          "x1": "2022-03-14T20:25:43",
          "y0": 0,
          "y1": 23
         },
         {
          "layer": "below",
          "line": {
           "color": "grey",
           "width": 2
          },
          "type": "line",
          "x0": "2022-03-14T20:41:18",
          "x1": "2022-03-14T20:41:18",
          "y0": 0,
          "y1": 23
         },
         {
          "layer": "below",
          "line": {
           "color": "grey",
           "width": 2
          },
          "type": "line",
          "x0": "2022-03-14T20:56:28",
          "x1": "2022-03-14T20:56:28",
          "y0": 0,
          "y1": 23
         },
         {
          "layer": "below",
          "line": {
           "color": "grey",
           "width": 2
          },
          "type": "line",
          "x0": "2022-03-15T20:15:29",
          "x1": "2022-03-15T20:15:29",
          "y0": 0,
          "y1": 31
         },
         {
          "layer": "below",
          "line": {
           "color": "grey",
           "width": 2
          },
          "type": "line",
          "x0": "2022-03-15T20:58:21",
          "x1": "2022-03-15T20:58:21",
          "y0": 0,
          "y1": 31
         },
         {
          "layer": "below",
          "line": {
           "color": "grey",
           "width": 2
          },
          "type": "line",
          "x0": "2022-03-19T23:21:16",
          "x1": "2022-03-19T23:21:16",
          "y0": 0,
          "y1": 44
         },
         {
          "layer": "below",
          "line": {
           "color": "grey",
           "width": 2
          },
          "type": "line",
          "x0": "2022-03-20T21:29:29",
          "x1": "2022-03-20T21:29:29",
          "y0": 0,
          "y1": 88
         },
         {
          "layer": "below",
          "line": {
           "color": "grey",
           "width": 2
          },
          "type": "line",
          "x0": "2022-03-25T22:28:16",
          "x1": "2022-03-25T22:28:16",
          "y0": 0,
          "y1": 61
         },
         {
          "layer": "below",
          "line": {
           "color": "grey",
           "width": 2
          },
          "type": "line",
          "x0": "2022-03-25T23:15:26",
          "x1": "2022-03-25T23:15:26",
          "y0": 0,
          "y1": 61
         },
         {
          "layer": "below",
          "line": {
           "color": "grey",
           "width": 2
          },
          "type": "line",
          "x0": "2022-03-26T00:14:58",
          "x1": "2022-03-26T00:14:58",
          "y0": 0,
          "y1": 61
         },
         {
          "layer": "below",
          "line": {
           "color": "grey",
           "width": 2
          },
          "type": "line",
          "x0": "2022-03-26T00:45:41",
          "x1": "2022-03-26T00:45:41",
          "y0": 0,
          "y1": 61
         },
         {
          "layer": "below",
          "line": {
           "color": "grey",
           "width": 2
          },
          "type": "line",
          "x0": "2022-03-27T21:37:07",
          "x1": "2022-03-27T21:37:07",
          "y0": 0,
          "y1": 103
         },
         {
          "layer": "below",
          "line": {
           "color": "grey",
           "width": 2
          },
          "type": "line",
          "x0": "2022-03-30T23:49:35",
          "x1": "2022-03-30T23:49:35",
          "y0": 0,
          "y1": 56
         },
         {
          "layer": "below",
          "line": {
           "color": "grey",
           "width": 2
          },
          "type": "line",
          "x0": "2022-03-31T23:44:27",
          "x1": "2022-03-31T23:44:27",
          "y0": 0,
          "y1": 48
         },
         {
          "layer": "below",
          "line": {
           "color": "grey",
           "width": 2
          },
          "type": "line",
          "x0": "2022-03-31T13:15:20",
          "x1": "2022-03-31T13:15:20",
          "y0": 0,
          "y1": 63
         },
         {
          "layer": "below",
          "line": {
           "color": "grey",
           "width": 2
          },
          "type": "line",
          "x0": "2022-03-31T19:59:08",
          "x1": "2022-03-31T19:59:08",
          "y0": 0,
          "y1": 597
         },
         {
          "layer": "below",
          "line": {
           "color": "grey",
           "width": 2
          },
          "type": "line",
          "x0": "2022-03-19T12:18:04",
          "x1": "2022-03-19T12:18:04",
          "y0": 0,
          "y1": 89
         },
         {
          "layer": "below",
          "line": {
           "color": "grey",
           "width": 2
          },
          "type": "line",
          "x0": "2022-03-27T03:06:51",
          "x1": "2022-03-27T03:06:51",
          "y0": 0,
          "y1": 113
         },
         {
          "layer": "below",
          "line": {
           "color": "grey",
           "width": 2
          },
          "type": "line",
          "x0": "2022-03-28T00:20:17",
          "x1": "2022-03-28T00:20:17",
          "y0": 0,
          "y1": 62
         },
         {
          "layer": "below",
          "line": {
           "color": "grey",
           "width": 2
          },
          "type": "line",
          "x0": "2022-03-28T00:34:32",
          "x1": "2022-03-28T00:34:32",
          "y0": 0,
          "y1": 62
         },
         {
          "layer": "below",
          "line": {
           "color": "grey",
           "width": 2
          },
          "type": "line",
          "x0": "2022-03-28T01:27:10",
          "x1": "2022-03-28T01:27:10",
          "y0": 0,
          "y1": 71
         },
         {
          "layer": "below",
          "line": {
           "color": "grey",
           "width": 2
          },
          "type": "line",
          "x0": "2022-03-15T07:21:01",
          "x1": "2022-03-15T07:21:01",
          "y0": 0,
          "y1": 132
         },
         {
          "layer": "below",
          "line": {
           "color": "grey",
           "width": 2
          },
          "type": "line",
          "x0": "2022-03-15T13:15:05",
          "x1": "2022-03-15T13:15:05",
          "y0": 0,
          "y1": 99
         },
         {
          "layer": "below",
          "line": {
           "color": "grey",
           "width": 2
          },
          "type": "line",
          "x0": "2022-03-15T14:26:02",
          "x1": "2022-03-15T14:26:02",
          "y0": 0,
          "y1": 145
         },
         {
          "layer": "below",
          "line": {
           "color": "grey",
           "width": 2
          },
          "type": "line",
          "x0": "2022-03-15T15:35:05",
          "x1": "2022-03-15T15:35:05",
          "y0": 0,
          "y1": 26
         },
         {
          "layer": "below",
          "line": {
           "color": "grey",
           "width": 2
          },
          "type": "line",
          "x0": "2022-03-23T02:44:15",
          "x1": "2022-03-23T02:44:15",
          "y0": 0,
          "y1": 44
         },
         {
          "layer": "below",
          "line": {
           "color": "grey",
           "width": 2
          },
          "type": "line",
          "x0": "2022-03-15T21:55:09",
          "x1": "2022-03-15T21:55:09",
          "y0": 0,
          "y1": 102
         },
         {
          "layer": "below",
          "line": {
           "color": "grey",
           "width": 2
          },
          "type": "line",
          "x0": "2022-03-19T08:06:07",
          "x1": "2022-03-19T08:06:07",
          "y0": 0,
          "y1": 62
         },
         {
          "layer": "below",
          "line": {
           "color": "grey",
           "width": 2
          },
          "type": "line",
          "x0": "2022-03-19T08:51:52",
          "x1": "2022-03-19T08:51:52",
          "y0": 0,
          "y1": 251
         },
         {
          "layer": "below",
          "line": {
           "color": "grey",
           "width": 2
          },
          "type": "line",
          "x0": "2022-03-23T22:55:08",
          "x1": "2022-03-23T22:55:08",
          "y0": 0,
          "y1": 50
         },
         {
          "layer": "below",
          "line": {
           "color": "grey",
           "width": 2
          },
          "type": "line",
          "x0": "2022-03-23T23:42:39",
          "x1": "2022-03-23T23:42:39",
          "y0": 0,
          "y1": 50
         },
         {
          "layer": "below",
          "line": {
           "color": "grey",
           "width": 2
          },
          "type": "line",
          "x0": "2022-03-25T13:27:27",
          "x1": "2022-03-25T13:27:27",
          "y0": 0,
          "y1": 484
         },
         {
          "layer": "below",
          "line": {
           "color": "grey",
           "width": 2
          },
          "type": "line",
          "x0": "2022-03-25T16:33:39",
          "x1": "2022-03-25T16:33:39",
          "y0": 0,
          "y1": 556
         },
         {
          "layer": "below",
          "line": {
           "color": "grey",
           "width": 2
          },
          "type": "line",
          "x0": "2022-03-25T22:25:48",
          "x1": "2022-03-25T22:25:48",
          "y0": 0,
          "y1": 65
         },
         {
          "layer": "below",
          "line": {
           "color": "grey",
           "width": 2
          },
          "type": "line",
          "x0": "2022-03-28T14:22:25",
          "x1": "2022-03-28T14:22:25",
          "y0": 0,
          "y1": 66
         },
         {
          "layer": "below",
          "line": {
           "color": "grey",
           "width": 2
          },
          "type": "line",
          "x0": "2022-03-24T19:32:18",
          "x1": "2022-03-24T19:32:18",
          "y0": 0,
          "y1": 467
         },
         {
          "layer": "below",
          "line": {
           "color": "grey",
           "width": 2
          },
          "type": "line",
          "x0": "2022-03-15T20:40:43",
          "x1": "2022-03-15T20:40:43",
          "y0": 0,
          "y1": 695
         },
         {
          "layer": "below",
          "line": {
           "color": "grey",
           "width": 2
          },
          "type": "line",
          "x0": "2022-03-15T20:50:14",
          "x1": "2022-03-15T20:50:14",
          "y0": 0,
          "y1": 1066
         },
         {
          "layer": "below",
          "line": {
           "color": "grey",
           "width": 2
          },
          "type": "line",
          "x0": "2022-03-15T21:02:37",
          "x1": "2022-03-15T21:02:37",
          "y0": 0,
          "y1": 743
         },
         {
          "layer": "below",
          "line": {
           "color": "grey",
           "width": 2
          },
          "type": "line",
          "x0": "2022-03-15T22:01:47",
          "x1": "2022-03-15T22:01:47",
          "y0": 0,
          "y1": 903
         },
         {
          "layer": "below",
          "line": {
           "color": "grey",
           "width": 2
          },
          "type": "line",
          "x0": "2022-03-16T20:49:43",
          "x1": "2022-03-16T20:49:43",
          "y0": 0,
          "y1": 336
         },
         {
          "layer": "below",
          "line": {
           "color": "grey",
           "width": 2
          },
          "type": "line",
          "x0": "2022-03-16T21:09:34",
          "x1": "2022-03-16T21:09:34",
          "y0": 0,
          "y1": 444
         },
         {
          "layer": "below",
          "line": {
           "color": "grey",
           "width": 2
          },
          "type": "line",
          "x0": "2022-03-16T21:41:55",
          "x1": "2022-03-16T21:41:55",
          "y0": 0,
          "y1": 218
         },
         {
          "layer": "below",
          "line": {
           "color": "grey",
           "width": 2
          },
          "type": "line",
          "x0": "2022-03-19T09:55:45",
          "x1": "2022-03-19T09:55:45",
          "y0": 0,
          "y1": 298
         },
         {
          "layer": "below",
          "line": {
           "color": "grey",
           "width": 2
          },
          "type": "line",
          "x0": "2022-03-20T07:56:15",
          "x1": "2022-03-20T07:56:15",
          "y0": 0,
          "y1": 199
         },
         {
          "layer": "below",
          "line": {
           "color": "grey",
           "width": 2
          },
          "type": "line",
          "x0": "2022-03-20T11:58:15",
          "x1": "2022-03-20T11:58:15",
          "y0": 0,
          "y1": 294
         },
         {
          "layer": "below",
          "line": {
           "color": "grey",
           "width": 2
          },
          "type": "line",
          "x0": "2022-03-20T13:15:10",
          "x1": "2022-03-20T13:15:10",
          "y0": 0,
          "y1": 107
         },
         {
          "layer": "below",
          "line": {
           "color": "grey",
           "width": 2
          },
          "type": "line",
          "x0": "2022-03-22T21:43:16",
          "x1": "2022-03-22T21:43:16",
          "y0": 0,
          "y1": 365
         },
         {
          "layer": "below",
          "line": {
           "color": "grey",
           "width": 2
          },
          "type": "line",
          "x0": "2022-03-16T18:11:47",
          "x1": "2022-03-16T18:11:47",
          "y0": 0,
          "y1": 107
         },
         {
          "layer": "below",
          "line": {
           "color": "grey",
           "width": 2
          },
          "type": "line",
          "x0": "2022-03-19T11:19:22",
          "x1": "2022-03-19T11:19:22",
          "y0": 0,
          "y1": 162
         },
         {
          "layer": "below",
          "line": {
           "color": "grey",
           "width": 2
          },
          "type": "line",
          "x0": "2022-03-19T16:09:14",
          "x1": "2022-03-19T16:09:14",
          "y0": 0,
          "y1": 227
         },
         {
          "layer": "below",
          "line": {
           "color": "grey",
           "width": 2
          },
          "type": "line",
          "x0": "2022-03-19T16:41:27",
          "x1": "2022-03-19T16:41:27",
          "y0": 0,
          "y1": 302
         },
         {
          "layer": "below",
          "line": {
           "color": "grey",
           "width": 2
          },
          "type": "line",
          "x0": "2022-03-19T17:12:56",
          "x1": "2022-03-19T17:12:56",
          "y0": 0,
          "y1": 222
         },
         {
          "layer": "below",
          "line": {
           "color": "grey",
           "width": 2
          },
          "type": "line",
          "x0": "2022-03-19T20:45:42",
          "x1": "2022-03-19T20:45:42",
          "y0": 0,
          "y1": 114
         },
         {
          "layer": "below",
          "line": {
           "color": "grey",
           "width": 2
          },
          "type": "line",
          "x0": "2022-03-29T15:11:18",
          "x1": "2022-03-29T15:11:18",
          "y0": 0,
          "y1": 214
         },
         {
          "layer": "below",
          "line": {
           "color": "grey",
           "width": 2
          },
          "type": "line",
          "x0": "2022-03-29T15:24:07",
          "x1": "2022-03-29T15:24:07",
          "y0": 0,
          "y1": 274
         },
         {
          "layer": "below",
          "line": {
           "color": "grey",
           "width": 2
          },
          "type": "line",
          "x0": "2022-03-29T15:58:55",
          "x1": "2022-03-29T15:58:55",
          "y0": 0,
          "y1": 348
         },
         {
          "layer": "below",
          "line": {
           "color": "grey",
           "width": 2
          },
          "type": "line",
          "x0": "2022-03-29T17:33:52",
          "x1": "2022-03-29T17:33:52",
          "y0": 0,
          "y1": 194
         },
         {
          "layer": "below",
          "line": {
           "color": "grey",
           "width": 2
          },
          "type": "line",
          "x0": "2022-03-14T17:29:26",
          "x1": "2022-03-14T17:29:26",
          "y0": 0,
          "y1": 15
         },
         {
          "layer": "below",
          "line": {
           "color": "grey",
           "width": 2
          },
          "type": "line",
          "x0": "2022-03-15T21:32:05",
          "x1": "2022-03-15T21:32:05",
          "y0": 0,
          "y1": 990
         },
         {
          "layer": "below",
          "line": {
           "color": "grey",
           "width": 2
          },
          "type": "line",
          "x0": "2022-03-19T15:43:45",
          "x1": "2022-03-19T15:43:45",
          "y0": 0,
          "y1": 57
         },
         {
          "layer": "below",
          "line": {
           "color": "grey",
           "width": 2
          },
          "type": "line",
          "x0": "2022-03-19T16:15:58",
          "x1": "2022-03-19T16:15:58",
          "y0": 0,
          "y1": 172
         },
         {
          "layer": "below",
          "line": {
           "color": "grey",
           "width": 2
          },
          "type": "line",
          "x0": "2022-03-19T17:46:38",
          "x1": "2022-03-19T17:46:38",
          "y0": 0,
          "y1": 185
         },
         {
          "layer": "below",
          "line": {
           "color": "grey",
           "width": 2
          },
          "type": "line",
          "x0": "2022-03-19T18:40:35",
          "x1": "2022-03-19T18:40:35",
          "y0": 0,
          "y1": 136
         },
         {
          "layer": "below",
          "line": {
           "color": "grey",
           "width": 2
          },
          "type": "line",
          "x0": "2022-03-20T16:44:57",
          "x1": "2022-03-20T16:44:57",
          "y0": 0,
          "y1": 278
         },
         {
          "layer": "below",
          "line": {
           "color": "grey",
           "width": 2
          },
          "type": "line",
          "x0": "2022-03-21T19:43:59",
          "x1": "2022-03-21T19:43:59",
          "y0": 0,
          "y1": 342
         },
         {
          "layer": "below",
          "line": {
           "color": "grey",
           "width": 2
          },
          "type": "line",
          "x0": "2022-03-22T21:37:57",
          "x1": "2022-03-22T21:37:57",
          "y0": 0,
          "y1": 843
         },
         {
          "layer": "below",
          "line": {
           "color": "grey",
           "width": 2
          },
          "type": "line",
          "x0": "2022-03-25T20:44:22",
          "x1": "2022-03-25T20:44:22",
          "y0": 0,
          "y1": 1863
         },
         {
          "layer": "below",
          "line": {
           "color": "grey",
           "width": 2
          },
          "type": "line",
          "x0": "2022-03-25T21:25:06",
          "x1": "2022-03-25T21:25:06",
          "y0": 0,
          "y1": 671
         },
         {
          "layer": "below",
          "line": {
           "color": "grey",
           "width": 2
          },
          "type": "line",
          "x0": "2022-03-25T21:45:36",
          "x1": "2022-03-25T21:45:36",
          "y0": 0,
          "y1": 471
         },
         {
          "layer": "below",
          "line": {
           "color": "grey",
           "width": 2
          },
          "type": "line",
          "x0": "2022-03-26T17:42:31",
          "x1": "2022-03-26T17:42:31",
          "y0": 0,
          "y1": 147
         },
         {
          "layer": "below",
          "line": {
           "color": "grey",
           "width": 2
          },
          "type": "line",
          "x0": "2022-03-28T21:18:32",
          "x1": "2022-03-28T21:18:32",
          "y0": 0,
          "y1": 1018
         },
         {
          "layer": "below",
          "line": {
           "color": "grey",
           "width": 2
          },
          "type": "line",
          "x0": "2022-03-29T21:39:22",
          "x1": "2022-03-29T21:39:22",
          "y0": 0,
          "y1": 1366
         },
         {
          "layer": "below",
          "line": {
           "color": "grey",
           "width": 2
          },
          "type": "line",
          "x0": "2022-03-30T02:24:51",
          "x1": "2022-03-30T02:24:51",
          "y0": 0,
          "y1": 60
         },
         {
          "layer": "below",
          "line": {
           "color": "grey",
           "width": 2
          },
          "type": "line",
          "x0": "2022-03-31T18:26:42",
          "x1": "2022-03-31T18:26:42",
          "y0": 0,
          "y1": 44
         },
         {
          "layer": "below",
          "line": {
           "color": "grey",
           "width": 2
          },
          "type": "line",
          "x0": "2022-03-31T22:26:13",
          "x1": "2022-03-31T22:26:13",
          "y0": 0,
          "y1": 49
         },
         {
          "layer": "below",
          "line": {
           "color": "grey",
           "width": 2
          },
          "type": "line",
          "x0": "2022-03-15T22:32:05",
          "x1": "2022-03-15T22:32:05",
          "y0": 0,
          "y1": 8
         },
         {
          "layer": "below",
          "line": {
           "color": "grey",
           "width": 2
          },
          "type": "line",
          "x0": "2022-03-22T22:37:57",
          "x1": "2022-03-22T22:37:57",
          "y0": 0,
          "y1": 84
         },
         {
          "layer": "below",
          "line": {
           "color": "grey",
           "width": 2
          },
          "type": "line",
          "x0": "2022-03-25T21:44:22",
          "x1": "2022-03-25T21:44:22",
          "y0": 0,
          "y1": 25
         },
         {
          "layer": "below",
          "line": {
           "color": "grey",
           "width": 2
          },
          "type": "line",
          "x0": "2022-03-28T22:18:32",
          "x1": "2022-03-28T22:18:32",
          "y0": 0,
          "y1": 44
         },
         {
          "layer": "below",
          "line": {
           "color": "grey",
           "width": 2
          },
          "type": "line",
          "x0": "2022-03-29T22:39:22",
          "x1": "2022-03-29T22:39:22",
          "y0": 0,
          "y1": 42
         }
        ],
        "template": {
         "data": {
          "bar": [
           {
            "error_x": {
             "color": "#2a3f5f"
            },
            "error_y": {
             "color": "#2a3f5f"
            },
            "marker": {
             "line": {
              "color": "#E5ECF6",
              "width": 0.5
             },
             "pattern": {
              "fillmode": "overlay",
              "size": 10,
              "solidity": 0.2
             }
            },
            "type": "bar"
           }
          ],
          "barpolar": [
           {
            "marker": {
             "line": {
              "color": "#E5ECF6",
              "width": 0.5
             },
             "pattern": {
              "fillmode": "overlay",
              "size": 10,
              "solidity": 0.2
             }
            },
            "type": "barpolar"
           }
          ],
          "carpet": [
           {
            "aaxis": {
             "endlinecolor": "#2a3f5f",
             "gridcolor": "white",
             "linecolor": "white",
             "minorgridcolor": "white",
             "startlinecolor": "#2a3f5f"
            },
            "baxis": {
             "endlinecolor": "#2a3f5f",
             "gridcolor": "white",
             "linecolor": "white",
             "minorgridcolor": "white",
             "startlinecolor": "#2a3f5f"
            },
            "type": "carpet"
           }
          ],
          "choropleth": [
           {
            "colorbar": {
             "outlinewidth": 0,
             "ticks": ""
            },
            "type": "choropleth"
           }
          ],
          "contour": [
           {
            "colorbar": {
             "outlinewidth": 0,
             "ticks": ""
            },
            "colorscale": [
             [
              0,
              "#0d0887"
             ],
             [
              0.1111111111111111,
              "#46039f"
             ],
             [
              0.2222222222222222,
              "#7201a8"
             ],
             [
              0.3333333333333333,
              "#9c179e"
             ],
             [
              0.4444444444444444,
              "#bd3786"
             ],
             [
              0.5555555555555556,
              "#d8576b"
             ],
             [
              0.6666666666666666,
              "#ed7953"
             ],
             [
              0.7777777777777778,
              "#fb9f3a"
             ],
             [
              0.8888888888888888,
              "#fdca26"
             ],
             [
              1,
              "#f0f921"
             ]
            ],
            "type": "contour"
           }
          ],
          "contourcarpet": [
           {
            "colorbar": {
             "outlinewidth": 0,
             "ticks": ""
            },
            "type": "contourcarpet"
           }
          ],
          "heatmap": [
           {
            "colorbar": {
             "outlinewidth": 0,
             "ticks": ""
            },
            "colorscale": [
             [
              0,
              "#0d0887"
             ],
             [
              0.1111111111111111,
              "#46039f"
             ],
             [
              0.2222222222222222,
              "#7201a8"
             ],
             [
              0.3333333333333333,
              "#9c179e"
             ],
             [
              0.4444444444444444,
              "#bd3786"
             ],
             [
              0.5555555555555556,
              "#d8576b"
             ],
             [
              0.6666666666666666,
              "#ed7953"
             ],
             [
              0.7777777777777778,
              "#fb9f3a"
             ],
             [
              0.8888888888888888,
              "#fdca26"
             ],
             [
              1,
              "#f0f921"
             ]
            ],
            "type": "heatmap"
           }
          ],
          "heatmapgl": [
           {
            "colorbar": {
             "outlinewidth": 0,
             "ticks": ""
            },
            "colorscale": [
             [
              0,
              "#0d0887"
             ],
             [
              0.1111111111111111,
              "#46039f"
             ],
             [
              0.2222222222222222,
              "#7201a8"
             ],
             [
              0.3333333333333333,
              "#9c179e"
             ],
             [
              0.4444444444444444,
              "#bd3786"
             ],
             [
              0.5555555555555556,
              "#d8576b"
             ],
             [
              0.6666666666666666,
              "#ed7953"
             ],
             [
              0.7777777777777778,
              "#fb9f3a"
             ],
             [
              0.8888888888888888,
              "#fdca26"
             ],
             [
              1,
              "#f0f921"
             ]
            ],
            "type": "heatmapgl"
           }
          ],
          "histogram": [
           {
            "marker": {
             "pattern": {
              "fillmode": "overlay",
              "size": 10,
              "solidity": 0.2
             }
            },
            "type": "histogram"
           }
          ],
          "histogram2d": [
           {
            "colorbar": {
             "outlinewidth": 0,
             "ticks": ""
            },
            "colorscale": [
             [
              0,
              "#0d0887"
             ],
             [
              0.1111111111111111,
              "#46039f"
             ],
             [
              0.2222222222222222,
              "#7201a8"
             ],
             [
              0.3333333333333333,
              "#9c179e"
             ],
             [
              0.4444444444444444,
              "#bd3786"
             ],
             [
              0.5555555555555556,
              "#d8576b"
             ],
             [
              0.6666666666666666,
              "#ed7953"
             ],
             [
              0.7777777777777778,
              "#fb9f3a"
             ],
             [
              0.8888888888888888,
              "#fdca26"
             ],
             [
              1,
              "#f0f921"
             ]
            ],
            "type": "histogram2d"
           }
          ],
          "histogram2dcontour": [
           {
            "colorbar": {
             "outlinewidth": 0,
             "ticks": ""
            },
            "colorscale": [
             [
              0,
              "#0d0887"
             ],
             [
              0.1111111111111111,
              "#46039f"
             ],
             [
              0.2222222222222222,
              "#7201a8"
             ],
             [
              0.3333333333333333,
              "#9c179e"
             ],
             [
              0.4444444444444444,
              "#bd3786"
             ],
             [
              0.5555555555555556,
              "#d8576b"
             ],
             [
              0.6666666666666666,
              "#ed7953"
             ],
             [
              0.7777777777777778,
              "#fb9f3a"
             ],
             [
              0.8888888888888888,
              "#fdca26"
             ],
             [
              1,
              "#f0f921"
             ]
            ],
            "type": "histogram2dcontour"
           }
          ],
          "mesh3d": [
           {
            "colorbar": {
             "outlinewidth": 0,
             "ticks": ""
            },
            "type": "mesh3d"
           }
          ],
          "parcoords": [
           {
            "line": {
             "colorbar": {
              "outlinewidth": 0,
              "ticks": ""
             }
            },
            "type": "parcoords"
           }
          ],
          "pie": [
           {
            "automargin": true,
            "type": "pie"
           }
          ],
          "scatter": [
           {
            "marker": {
             "colorbar": {
              "outlinewidth": 0,
              "ticks": ""
             }
            },
            "type": "scatter"
           }
          ],
          "scatter3d": [
           {
            "line": {
             "colorbar": {
              "outlinewidth": 0,
              "ticks": ""
             }
            },
            "marker": {
             "colorbar": {
              "outlinewidth": 0,
              "ticks": ""
             }
            },
            "type": "scatter3d"
           }
          ],
          "scattercarpet": [
           {
            "marker": {
             "colorbar": {
              "outlinewidth": 0,
              "ticks": ""
             }
            },
            "type": "scattercarpet"
           }
          ],
          "scattergeo": [
           {
            "marker": {
             "colorbar": {
              "outlinewidth": 0,
              "ticks": ""
             }
            },
            "type": "scattergeo"
           }
          ],
          "scattergl": [
           {
            "marker": {
             "colorbar": {
              "outlinewidth": 0,
              "ticks": ""
             }
            },
            "type": "scattergl"
           }
          ],
          "scattermapbox": [
           {
            "marker": {
             "colorbar": {
              "outlinewidth": 0,
              "ticks": ""
             }
            },
            "type": "scattermapbox"
           }
          ],
          "scatterpolar": [
           {
            "marker": {
             "colorbar": {
              "outlinewidth": 0,
              "ticks": ""
             }
            },
            "type": "scatterpolar"
           }
          ],
          "scatterpolargl": [
           {
            "marker": {
             "colorbar": {
              "outlinewidth": 0,
              "ticks": ""
             }
            },
            "type": "scatterpolargl"
           }
          ],
          "scatterternary": [
           {
            "marker": {
             "colorbar": {
              "outlinewidth": 0,
              "ticks": ""
             }
            },
            "type": "scatterternary"
           }
          ],
          "surface": [
           {
            "colorbar": {
             "outlinewidth": 0,
             "ticks": ""
            },
            "colorscale": [
             [
              0,
              "#0d0887"
             ],
             [
              0.1111111111111111,
              "#46039f"
             ],
             [
              0.2222222222222222,
              "#7201a8"
             ],
             [
              0.3333333333333333,
              "#9c179e"
             ],
             [
              0.4444444444444444,
              "#bd3786"
             ],
             [
              0.5555555555555556,
              "#d8576b"
             ],
             [
              0.6666666666666666,
              "#ed7953"
             ],
             [
              0.7777777777777778,
              "#fb9f3a"
             ],
             [
              0.8888888888888888,
              "#fdca26"
             ],
             [
              1,
              "#f0f921"
             ]
            ],
            "type": "surface"
           }
          ],
          "table": [
           {
            "cells": {
             "fill": {
              "color": "#EBF0F8"
             },
             "line": {
              "color": "white"
             }
            },
            "header": {
             "fill": {
              "color": "#C8D4E3"
             },
             "line": {
              "color": "white"
             }
            },
            "type": "table"
           }
          ]
         },
         "layout": {
          "annotationdefaults": {
           "arrowcolor": "#2a3f5f",
           "arrowhead": 0,
           "arrowwidth": 1
          },
          "autotypenumbers": "strict",
          "coloraxis": {
           "colorbar": {
            "outlinewidth": 0,
            "ticks": ""
           }
          },
          "colorscale": {
           "diverging": [
            [
             0,
             "#8e0152"
            ],
            [
             0.1,
             "#c51b7d"
            ],
            [
             0.2,
             "#de77ae"
            ],
            [
             0.3,
             "#f1b6da"
            ],
            [
             0.4,
             "#fde0ef"
            ],
            [
             0.5,
             "#f7f7f7"
            ],
            [
             0.6,
             "#e6f5d0"
            ],
            [
             0.7,
             "#b8e186"
            ],
            [
             0.8,
             "#7fbc41"
            ],
            [
             0.9,
             "#4d9221"
            ],
            [
             1,
             "#276419"
            ]
           ],
           "sequential": [
            [
             0,
             "#0d0887"
            ],
            [
             0.1111111111111111,
             "#46039f"
            ],
            [
             0.2222222222222222,
             "#7201a8"
            ],
            [
             0.3333333333333333,
             "#9c179e"
            ],
            [
             0.4444444444444444,
             "#bd3786"
            ],
            [
             0.5555555555555556,
             "#d8576b"
            ],
            [
             0.6666666666666666,
             "#ed7953"
            ],
            [
             0.7777777777777778,
             "#fb9f3a"
            ],
            [
             0.8888888888888888,
             "#fdca26"
            ],
            [
             1,
             "#f0f921"
            ]
           ],
           "sequentialminus": [
            [
             0,
             "#0d0887"
            ],
            [
             0.1111111111111111,
             "#46039f"
            ],
            [
             0.2222222222222222,
             "#7201a8"
            ],
            [
             0.3333333333333333,
             "#9c179e"
            ],
            [
             0.4444444444444444,
             "#bd3786"
            ],
            [
             0.5555555555555556,
             "#d8576b"
            ],
            [
             0.6666666666666666,
             "#ed7953"
            ],
            [
             0.7777777777777778,
             "#fb9f3a"
            ],
            [
             0.8888888888888888,
             "#fdca26"
            ],
            [
             1,
             "#f0f921"
            ]
           ]
          },
          "colorway": [
           "#636efa",
           "#EF553B",
           "#00cc96",
           "#ab63fa",
           "#FFA15A",
           "#19d3f3",
           "#FF6692",
           "#B6E880",
           "#FF97FF",
           "#FECB52"
          ],
          "font": {
           "color": "#2a3f5f"
          },
          "geo": {
           "bgcolor": "white",
           "lakecolor": "white",
           "landcolor": "#E5ECF6",
           "showlakes": true,
           "showland": true,
           "subunitcolor": "white"
          },
          "hoverlabel": {
           "align": "left"
          },
          "hovermode": "closest",
          "mapbox": {
           "style": "light"
          },
          "paper_bgcolor": "white",
          "plot_bgcolor": "#E5ECF6",
          "polar": {
           "angularaxis": {
            "gridcolor": "white",
            "linecolor": "white",
            "ticks": ""
           },
           "bgcolor": "#E5ECF6",
           "radialaxis": {
            "gridcolor": "white",
            "linecolor": "white",
            "ticks": ""
           }
          },
          "scene": {
           "xaxis": {
            "backgroundcolor": "#E5ECF6",
            "gridcolor": "white",
            "gridwidth": 2,
            "linecolor": "white",
            "showbackground": true,
            "ticks": "",
            "zerolinecolor": "white"
           },
           "yaxis": {
            "backgroundcolor": "#E5ECF6",
            "gridcolor": "white",
            "gridwidth": 2,
            "linecolor": "white",
            "showbackground": true,
            "ticks": "",
            "zerolinecolor": "white"
           },
           "zaxis": {
            "backgroundcolor": "#E5ECF6",
            "gridcolor": "white",
            "gridwidth": 2,
            "linecolor": "white",
            "showbackground": true,
            "ticks": "",
            "zerolinecolor": "white"
           }
          },
          "shapedefaults": {
           "line": {
            "color": "#2a3f5f"
           }
          },
          "ternary": {
           "aaxis": {
            "gridcolor": "white",
            "linecolor": "white",
            "ticks": ""
           },
           "baxis": {
            "gridcolor": "white",
            "linecolor": "white",
            "ticks": ""
           },
           "bgcolor": "#E5ECF6",
           "caxis": {
            "gridcolor": "white",
            "linecolor": "white",
            "ticks": ""
           }
          },
          "title": {
           "x": 0.05
          },
          "xaxis": {
           "automargin": true,
           "gridcolor": "white",
           "linecolor": "white",
           "ticks": "",
           "title": {
            "standoff": 15
           },
           "zerolinecolor": "white",
           "zerolinewidth": 2
          },
          "yaxis": {
           "automargin": true,
           "gridcolor": "white",
           "linecolor": "white",
           "ticks": "",
           "title": {
            "standoff": 15
           },
           "zerolinecolor": "white",
           "zerolinewidth": 2
          }
         }
        },
        "width": 1400,
        "xaxis": {
         "anchor": "y",
         "autorange": true,
         "domain": [
          0,
          1
         ],
         "range": [
          "2022-03-13 13:31:16.7231",
          "2022-04-03 09:20:47.2769"
         ],
         "title": {
          "text": "spot_start_datetime"
         },
         "type": "date"
        },
        "yaxis": {
         "anchor": "x",
         "autorange": true,
         "domain": [
          0,
          1
         ],
         "range": [
          -127.140099626401,
          1998.140099626401
         ],
         "title": {
          "text": "audience_size_hundreds"
         },
         "type": "linear"
        }
       }
      },
      "image/png": "[encoded data removed]"
     },
     "metadata": {},
     "output_type": "display_data"
    }
   ],
   "source": [
    "persil_sky = spot_data[(spot_data['clearcast_commercial_title'].str.contains(\"Persil\")) \n",
    "                   & (spot_data['audience_name']=='All Homes')\n",
    "                   & (spot_data['station_name'].str.contains(\"Sky\"))].sort_values(['station_name', 'spot_start_datetime'])\n",
    "\n",
    "fig = px.scatter(persil_sky, x=\"spot_start_datetime\", y=\"audience_size_hundreds\", color=\"station_name\", width = 1400, height = 600)\n",
    "fig.update_traces(marker={'size': 10})\n",
    "\n",
    "shapes=[dict(\n",
    "        type='line',\n",
    "        x0 = persil_sky['spot_start_datetime'].iloc[i],\n",
    "        y0 = 0,\n",
    "        x1 = persil_sky['spot_start_datetime'].iloc[i],\n",
    "        y1 = persil_sky['audience_size_hundreds'].iloc[i],\n",
    "        layer='below',\n",
    "        line = dict(\n",
    "            color = 'grey',\n",
    "            width = 2\n",
    "        )\n",
    "    ) for i in range(len(persil_sky['audience_size_hundreds']))]\n",
    "\n",
    "fig.update_layout(shapes = shapes)"
   ]
  }
 ],
 "metadata": {
  "kernelspec": {
   "display_name": "Python 3 (ipykernel)",
   "language": "python",
   "name": "python3"
  },
  "language_info": {
   "codemirror_mode": {
    "name": "ipython",
    "version": 3
   },
   "file_extension": ".py",
   "mimetype": "text/x-python",
   "name": "python",
   "nbconvert_exporter": "python",
   "pygments_lexer": "ipython3",
   "version": "3.9.12"
  }
 },
 "nbformat": 4,
 "nbformat_minor": 5
}
