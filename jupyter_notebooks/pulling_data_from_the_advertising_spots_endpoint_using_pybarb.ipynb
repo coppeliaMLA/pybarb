{
 "cells": [
  {
   "attachments": {},
   "cell_type": "markdown",
   "id": "3ac80477-f4ab-47ab-8225-1848acdc85bd",
   "metadata": {},
   "source": [
    "# Pulling data from the advertising spots endpoint using pybarb\n",
    "\n",
    "In this demo we will show you how to pull data from the advertising spots endpoint and then manipulate it using the pybarb library. To show this we will demonstrate a typical media agency use-case in which an agency has run a TV advertising campaign for their client. As part of their post campaign analysis they would like to understand how well the adverts have performed\n",
    "\n",
    "1. By TV station\n",
    "2. By audience \n",
    "3. And over time.   \n",
    "\n",
    "Note the full API documentation can be found [here](https://barb-api.co.uk/api-docs). \n",
    "\n",
    "It might also be useful to consult the [Getting Started](https://barb-api.co.uk/api-docs#section/Getting-started) section for information about authentication and basic API usage.\n"
   ]
  },
  {
   "cell_type": "markdown",
   "id": "e1a2f0cd",
   "metadata": {},
   "source": [
    "## Querying the API with pybarb\n",
    "\n",
    "First we connect to the API using the `pybarb` package as described in \"Connecting to the Barb API using Python\". "
   ]
  },
  {
   "cell_type": "code",
   "execution_count": 1,
   "id": "1d9c1dfe",
   "metadata": {},
   "outputs": [],
   "source": [
    "import json\n",
    "import pybarb as pb\n",
    "\n",
    "# Set the working directory\n",
    "working_directory = '/path/to/your/dir/'\n",
    "\n",
    "# Get the access token\n",
    "with open(working_directory + \"creds.json\") as file:\n",
    "    creds = json.load(file)\n",
    "\n",
    "# Create a BarbAPI object and connect\n",
    "barb_api = pb.BarbAPI(creds)\n",
    "barb_api.connect()\n",
    "\n"
   ]
  },
  {
   "cell_type": "markdown",
   "id": "6565e3a4",
   "metadata": {},
   "source": [
    "## Get data from the API\n",
    "\n",
    "Let's say as the media agency Mindshare we are interested in the Persil campaign that was shown over for our client Unilever. If we don't have it already, our first use of the API is to find out our own buyer name.\n",
    "\n",
    "### The buyer name"
   ]
  },
  {
   "cell_type": "code",
   "execution_count": 2,
   "id": "817ab24c",
   "metadata": {},
   "outputs": [
    {
     "data": {
      "text/plain": [
       "['mindshare_media_irel', 'mindshare_media_uk_l', 'unilever_mindshare_(']"
      ]
     },
     "execution_count": 2,
     "metadata": {},
     "output_type": "execute_result"
    }
   ],
   "source": [
    "barb_api.list_buyers(\"mindshare\")"
   ]
  },
  {
   "cell_type": "markdown",
   "id": "f392449a",
   "metadata": {},
   "source": [
    "### The advertiser name\n",
    "\n",
    "We could bring back all the data for Mindshare but it would be better to limit it to the spots that were placed for Unilever. For this we need the right name for Unilever home products. "
   ]
  },
  {
   "cell_type": "code",
   "execution_count": 3,
   "id": "bd88aff2",
   "metadata": {},
   "outputs": [
    {
     "data": {
      "text/plain": [
       "['UNILEVER_BESTFOODS',\n",
       " 'UNILEVER_ICE_CREAM_&',\n",
       " 'UNILEVER_IRELAND',\n",
       " 'UNILEVER_UK_HOME_&_P',\n",
       " 'UNILEVER_UK_LIMITED']"
      ]
     },
     "execution_count": 3,
     "metadata": {},
     "output_type": "execute_result"
    }
   ],
   "source": [
    "barb_api.list_advertisers(\"unilever\")"
   ]
  },
  {
   "cell_type": "markdown",
   "id": "5341a0ec",
   "metadata": {},
   "source": [
    "### The panel code"
   ]
  },
  {
   "cell_type": "markdown",
   "id": "8598edb0",
   "metadata": {},
   "source": [
    "Finally, we are only interested in the BBC Network panel so we can use the [panels](https://barb-api.co.uk/api-docs#tag/Metadata/operation/panelsList) end point to get the right code. We need to find the right name for the panel."
   ]
  },
  {
   "cell_type": "code",
   "execution_count": 4,
   "id": "b4aedc6a",
   "metadata": {},
   "outputs": [
    {
     "data": {
      "text/plain": [
       "['BBC Network',\n",
       " 'BBC East Region',\n",
       " 'BBC West Region',\n",
       " 'BBC South West Region',\n",
       " 'BBC South Region',\n",
       " 'BBC Yorkshire & Lincolnshire',\n",
       " 'BBC North East & Cumbria',\n",
       " 'BBC North West Region',\n",
       " 'BBC Scotland Region',\n",
       " 'BBC Ulster Region',\n",
       " 'BBC Wales Region',\n",
       " 'BBC Midlands West',\n",
       " 'BBC Midlands East',\n",
       " 'BBC London',\n",
       " 'BBC South East']"
      ]
     },
     "execution_count": 4,
     "metadata": {},
     "output_type": "execute_result"
    }
   ],
   "source": [
    "barb_api.list_panels(\"bbc\")"
   ]
  },
  {
   "cell_type": "markdown",
   "id": "2c020254",
   "metadata": {},
   "source": [
    "### Querying the advertising spots endpoint\n",
    "\n",
    "Now we know all the relevant metadata we can query the advertising spots endpoint. This can be done very simply using pybarb's `advertising_spots` method. "
   ]
  },
  {
   "cell_type": "code",
   "execution_count": 5,
   "id": "a001b5c9",
   "metadata": {},
   "outputs": [],
   "source": [
    "spot_data = barb_api.advertising_spots(min_transmission_date = \"2022-01-01\",\n",
    "                           max_transmission_date = \"2022-04-01\", \n",
    "                           buyer =  \"mindshare_media_uk_l\", \n",
    "                           advertiser = \"UNILEVER_UK_HOME_&_P\",\n",
    "                           panel=\"BBC Network\")"
   ]
  },
  {
   "cell_type": "markdown",
   "id": "32db90d3",
   "metadata": {},
   "source": [
    "## Accessing the data\n",
    "\n",
    "The raw data is stored in the `api_response_data` attribute of the resulting object (in this case the object named `spot_data`)"
   ]
  },
  {
   "cell_type": "markdown",
   "id": "3ec62701",
   "metadata": {},
   "source": [
    "However it is easier to access it as a dataframe. To do this, we can use the `to_dataframe()` method, which flattens the nested json structure."
   ]
  },
  {
   "cell_type": "code",
   "execution_count": 6,
   "id": "1b99816c",
   "metadata": {},
   "outputs": [
    {
     "data": {
      "text/html": [
       "<div>\n",
       "<style scoped>\n",
       "    .dataframe tbody tr th:only-of-type {\n",
       "        vertical-align: middle;\n",
       "    }\n",
       "\n",
       "    .dataframe tbody tr th {\n",
       "        vertical-align: top;\n",
       "    }\n",
       "\n",
       "    .dataframe thead th {\n",
       "        text-align: right;\n",
       "    }\n",
       "</style>\n",
       "<table border=\"1\" class=\"dataframe\">\n",
       "  <thead>\n",
       "    <tr style=\"text-align: right;\">\n",
       "      <th></th>\n",
       "      <th>panel_region</th>\n",
       "      <th>station_name</th>\n",
       "      <th>spot_type</th>\n",
       "      <th>spot_start_datetime</th>\n",
       "      <th>spot_duration</th>\n",
       "      <th>preceding_programme_name</th>\n",
       "      <th>succeeding_programme_name</th>\n",
       "      <th>break_type</th>\n",
       "      <th>position_in_break</th>\n",
       "      <th>broadcaster_spot_number</th>\n",
       "      <th>...</th>\n",
       "      <th>clearcast_buyer_code</th>\n",
       "      <th>clearcast_buyer_name</th>\n",
       "      <th>clearcast_advertiser_code</th>\n",
       "      <th>clearcast_advertiser_name</th>\n",
       "      <th>campaign_approval_id</th>\n",
       "      <th>sales_house_name</th>\n",
       "      <th>audience_name</th>\n",
       "      <th>audience_size_hundreds</th>\n",
       "      <th>audience_target_size_hundreds</th>\n",
       "      <th>date_of_transmission</th>\n",
       "    </tr>\n",
       "  </thead>\n",
       "  <tbody>\n",
       "    <tr>\n",
       "      <th>0</th>\n",
       "      <td>BBC Network</td>\n",
       "      <td>Magic TV</td>\n",
       "      <td>spot</td>\n",
       "      <td>2022-03-18 21:36:35</td>\n",
       "      <td>30</td>\n",
       "      <td>TBA</td>\n",
       "      <td>TBA</td>\n",
       "      <td>centre break</td>\n",
       "      <td>other</td>\n",
       "      <td>180948555</td>\n",
       "      <td>...</td>\n",
       "      <td>B000925</td>\n",
       "      <td>MINDSHARE MEDIA UK L</td>\n",
       "      <td>A004642</td>\n",
       "      <td>UNILEVER UK HOME &amp; P</td>\n",
       "      <td>1048980.0</td>\n",
       "      <td>Channel 4 Sales</td>\n",
       "      <td>Men ABC1 16-34</td>\n",
       "      <td>0</td>\n",
       "      <td>41000</td>\n",
       "      <td>2022-03-18</td>\n",
       "    </tr>\n",
       "    <tr>\n",
       "      <th>1</th>\n",
       "      <td>BBC Network</td>\n",
       "      <td>Magic TV</td>\n",
       "      <td>spot</td>\n",
       "      <td>2022-03-18 21:36:35</td>\n",
       "      <td>30</td>\n",
       "      <td>TBA</td>\n",
       "      <td>TBA</td>\n",
       "      <td>centre break</td>\n",
       "      <td>other</td>\n",
       "      <td>180948555</td>\n",
       "      <td>...</td>\n",
       "      <td>B000925</td>\n",
       "      <td>MINDSHARE MEDIA UK L</td>\n",
       "      <td>A004642</td>\n",
       "      <td>UNILEVER UK HOME &amp; P</td>\n",
       "      <td>1048980.0</td>\n",
       "      <td>Channel 4 Sales</td>\n",
       "      <td>Men 35-44</td>\n",
       "      <td>0</td>\n",
       "      <td>39910</td>\n",
       "      <td>2022-03-18</td>\n",
       "    </tr>\n",
       "    <tr>\n",
       "      <th>2</th>\n",
       "      <td>BBC Network</td>\n",
       "      <td>Magic TV</td>\n",
       "      <td>spot</td>\n",
       "      <td>2022-03-18 21:36:35</td>\n",
       "      <td>30</td>\n",
       "      <td>TBA</td>\n",
       "      <td>TBA</td>\n",
       "      <td>centre break</td>\n",
       "      <td>other</td>\n",
       "      <td>180948555</td>\n",
       "      <td>...</td>\n",
       "      <td>B000925</td>\n",
       "      <td>MINDSHARE MEDIA UK L</td>\n",
       "      <td>A004642</td>\n",
       "      <td>UNILEVER UK HOME &amp; P</td>\n",
       "      <td>1048980.0</td>\n",
       "      <td>Channel 4 Sales</td>\n",
       "      <td>All Men</td>\n",
       "      <td>0</td>\n",
       "      <td>250100</td>\n",
       "      <td>2022-03-18</td>\n",
       "    </tr>\n",
       "    <tr>\n",
       "      <th>3</th>\n",
       "      <td>BBC Network</td>\n",
       "      <td>Magic TV</td>\n",
       "      <td>spot</td>\n",
       "      <td>2022-03-18 21:36:35</td>\n",
       "      <td>30</td>\n",
       "      <td>TBA</td>\n",
       "      <td>TBA</td>\n",
       "      <td>centre break</td>\n",
       "      <td>other</td>\n",
       "      <td>180948555</td>\n",
       "      <td>...</td>\n",
       "      <td>B000925</td>\n",
       "      <td>MINDSHARE MEDIA UK L</td>\n",
       "      <td>A004642</td>\n",
       "      <td>UNILEVER UK HOME &amp; P</td>\n",
       "      <td>1048980.0</td>\n",
       "      <td>Channel 4 Sales</td>\n",
       "      <td>Adults 16-34</td>\n",
       "      <td>0</td>\n",
       "      <td>141860</td>\n",
       "      <td>2022-03-18</td>\n",
       "    </tr>\n",
       "    <tr>\n",
       "      <th>4</th>\n",
       "      <td>BBC Network</td>\n",
       "      <td>Magic TV</td>\n",
       "      <td>spot</td>\n",
       "      <td>2022-03-18 21:36:35</td>\n",
       "      <td>30</td>\n",
       "      <td>TBA</td>\n",
       "      <td>TBA</td>\n",
       "      <td>centre break</td>\n",
       "      <td>other</td>\n",
       "      <td>180948555</td>\n",
       "      <td>...</td>\n",
       "      <td>B000925</td>\n",
       "      <td>MINDSHARE MEDIA UK L</td>\n",
       "      <td>A004642</td>\n",
       "      <td>UNILEVER UK HOME &amp; P</td>\n",
       "      <td>1048980.0</td>\n",
       "      <td>Channel 4 Sales</td>\n",
       "      <td>Adults C2</td>\n",
       "      <td>0</td>\n",
       "      <td>108040</td>\n",
       "      <td>2022-03-18</td>\n",
       "    </tr>\n",
       "    <tr>\n",
       "      <th>...</th>\n",
       "      <td>...</td>\n",
       "      <td>...</td>\n",
       "      <td>...</td>\n",
       "      <td>...</td>\n",
       "      <td>...</td>\n",
       "      <td>...</td>\n",
       "      <td>...</td>\n",
       "      <td>...</td>\n",
       "      <td>...</td>\n",
       "      <td>...</td>\n",
       "      <td>...</td>\n",
       "      <td>...</td>\n",
       "      <td>...</td>\n",
       "      <td>...</td>\n",
       "      <td>...</td>\n",
       "      <td>...</td>\n",
       "      <td>...</td>\n",
       "      <td>...</td>\n",
       "      <td>...</td>\n",
       "      <td>...</td>\n",
       "      <td>...</td>\n",
       "    </tr>\n",
       "    <tr>\n",
       "      <th>821875</th>\n",
       "      <td>BBC Network</td>\n",
       "      <td>Channel 5+1</td>\n",
       "      <td>spot</td>\n",
       "      <td>2022-03-28 22:45:13</td>\n",
       "      <td>30</td>\n",
       "      <td>HMP WAKEFIELD: EVIL BEHIND BARS</td>\n",
       "      <td>HMP WAKEFIELD: EVIL BEHIND BARS</td>\n",
       "      <td>centre break</td>\n",
       "      <td>first</td>\n",
       "      <td>891210435</td>\n",
       "      <td>...</td>\n",
       "      <td>B000925</td>\n",
       "      <td>MINDSHARE MEDIA UK L</td>\n",
       "      <td>A004642</td>\n",
       "      <td>UNILEVER UK HOME &amp; P</td>\n",
       "      <td>1062588.0</td>\n",
       "      <td>Sky Media</td>\n",
       "      <td>Adults 18-20</td>\n",
       "      <td>0</td>\n",
       "      <td>20000</td>\n",
       "      <td>2022-03-28</td>\n",
       "    </tr>\n",
       "    <tr>\n",
       "      <th>821876</th>\n",
       "      <td>BBC Network</td>\n",
       "      <td>Channel 5+1</td>\n",
       "      <td>spot</td>\n",
       "      <td>2022-03-28 22:45:13</td>\n",
       "      <td>30</td>\n",
       "      <td>HMP WAKEFIELD: EVIL BEHIND BARS</td>\n",
       "      <td>HMP WAKEFIELD: EVIL BEHIND BARS</td>\n",
       "      <td>centre break</td>\n",
       "      <td>first</td>\n",
       "      <td>891210435</td>\n",
       "      <td>...</td>\n",
       "      <td>B000925</td>\n",
       "      <td>MINDSHARE MEDIA UK L</td>\n",
       "      <td>A004642</td>\n",
       "      <td>UNILEVER UK HOME &amp; P</td>\n",
       "      <td>1062588.0</td>\n",
       "      <td>Sky Media</td>\n",
       "      <td>Adults, Lightest Sixth</td>\n",
       "      <td>0</td>\n",
       "      <td>85520</td>\n",
       "      <td>2022-03-28</td>\n",
       "    </tr>\n",
       "    <tr>\n",
       "      <th>821877</th>\n",
       "      <td>BBC Network</td>\n",
       "      <td>Channel 5+1</td>\n",
       "      <td>spot</td>\n",
       "      <td>2022-03-28 22:45:13</td>\n",
       "      <td>30</td>\n",
       "      <td>HMP WAKEFIELD: EVIL BEHIND BARS</td>\n",
       "      <td>HMP WAKEFIELD: EVIL BEHIND BARS</td>\n",
       "      <td>centre break</td>\n",
       "      <td>first</td>\n",
       "      <td>891210435</td>\n",
       "      <td>...</td>\n",
       "      <td>B000925</td>\n",
       "      <td>MINDSHARE MEDIA UK L</td>\n",
       "      <td>A004642</td>\n",
       "      <td>UNILEVER UK HOME &amp; P</td>\n",
       "      <td>1062588.0</td>\n",
       "      <td>Sky Media</td>\n",
       "      <td>Boys 10-12</td>\n",
       "      <td>0</td>\n",
       "      <td>12340</td>\n",
       "      <td>2022-03-28</td>\n",
       "    </tr>\n",
       "    <tr>\n",
       "      <th>821878</th>\n",
       "      <td>BBC Network</td>\n",
       "      <td>Channel 5+1</td>\n",
       "      <td>spot</td>\n",
       "      <td>2022-03-28 22:45:13</td>\n",
       "      <td>30</td>\n",
       "      <td>HMP WAKEFIELD: EVIL BEHIND BARS</td>\n",
       "      <td>HMP WAKEFIELD: EVIL BEHIND BARS</td>\n",
       "      <td>centre break</td>\n",
       "      <td>first</td>\n",
       "      <td>891210435</td>\n",
       "      <td>...</td>\n",
       "      <td>B000925</td>\n",
       "      <td>MINDSHARE MEDIA UK L</td>\n",
       "      <td>A004642</td>\n",
       "      <td>UNILEVER UK HOME &amp; P</td>\n",
       "      <td>1062588.0</td>\n",
       "      <td>Sky Media</td>\n",
       "      <td>Men 18-20</td>\n",
       "      <td>0</td>\n",
       "      <td>10530</td>\n",
       "      <td>2022-03-28</td>\n",
       "    </tr>\n",
       "    <tr>\n",
       "      <th>821879</th>\n",
       "      <td>BBC Network</td>\n",
       "      <td>Channel 5+1</td>\n",
       "      <td>spot</td>\n",
       "      <td>2022-03-28 22:45:13</td>\n",
       "      <td>30</td>\n",
       "      <td>HMP WAKEFIELD: EVIL BEHIND BARS</td>\n",
       "      <td>HMP WAKEFIELD: EVIL BEHIND BARS</td>\n",
       "      <td>centre break</td>\n",
       "      <td>first</td>\n",
       "      <td>891210435</td>\n",
       "      <td>...</td>\n",
       "      <td>B000925</td>\n",
       "      <td>MINDSHARE MEDIA UK L</td>\n",
       "      <td>A004642</td>\n",
       "      <td>UNILEVER UK HOME &amp; P</td>\n",
       "      <td>1062588.0</td>\n",
       "      <td>Sky Media</td>\n",
       "      <td>Men ABC1 16-24</td>\n",
       "      <td>0</td>\n",
       "      <td>17130</td>\n",
       "      <td>2022-03-28</td>\n",
       "    </tr>\n",
       "  </tbody>\n",
       "</table>\n",
       "<p>821880 rows × 24 columns</p>\n",
       "</div>"
      ],
      "text/plain": [
       "       panel_region station_name spot_type spot_start_datetime  spot_duration  \\\n",
       "0       BBC Network     Magic TV      spot 2022-03-18 21:36:35             30   \n",
       "1       BBC Network     Magic TV      spot 2022-03-18 21:36:35             30   \n",
       "2       BBC Network     Magic TV      spot 2022-03-18 21:36:35             30   \n",
       "3       BBC Network     Magic TV      spot 2022-03-18 21:36:35             30   \n",
       "4       BBC Network     Magic TV      spot 2022-03-18 21:36:35             30   \n",
       "...             ...          ...       ...                 ...            ...   \n",
       "821875  BBC Network  Channel 5+1      spot 2022-03-28 22:45:13             30   \n",
       "821876  BBC Network  Channel 5+1      spot 2022-03-28 22:45:13             30   \n",
       "821877  BBC Network  Channel 5+1      spot 2022-03-28 22:45:13             30   \n",
       "821878  BBC Network  Channel 5+1      spot 2022-03-28 22:45:13             30   \n",
       "821879  BBC Network  Channel 5+1      spot 2022-03-28 22:45:13             30   \n",
       "\n",
       "               preceding_programme_name        succeeding_programme_name  \\\n",
       "0                                   TBA                              TBA   \n",
       "1                                   TBA                              TBA   \n",
       "2                                   TBA                              TBA   \n",
       "3                                   TBA                              TBA   \n",
       "4                                   TBA                              TBA   \n",
       "...                                 ...                              ...   \n",
       "821875  HMP WAKEFIELD: EVIL BEHIND BARS  HMP WAKEFIELD: EVIL BEHIND BARS   \n",
       "821876  HMP WAKEFIELD: EVIL BEHIND BARS  HMP WAKEFIELD: EVIL BEHIND BARS   \n",
       "821877  HMP WAKEFIELD: EVIL BEHIND BARS  HMP WAKEFIELD: EVIL BEHIND BARS   \n",
       "821878  HMP WAKEFIELD: EVIL BEHIND BARS  HMP WAKEFIELD: EVIL BEHIND BARS   \n",
       "821879  HMP WAKEFIELD: EVIL BEHIND BARS  HMP WAKEFIELD: EVIL BEHIND BARS   \n",
       "\n",
       "          break_type position_in_break broadcaster_spot_number  ...  \\\n",
       "0       centre break             other               180948555  ...   \n",
       "1       centre break             other               180948555  ...   \n",
       "2       centre break             other               180948555  ...   \n",
       "3       centre break             other               180948555  ...   \n",
       "4       centre break             other               180948555  ...   \n",
       "...              ...               ...                     ...  ...   \n",
       "821875  centre break             first               891210435  ...   \n",
       "821876  centre break             first               891210435  ...   \n",
       "821877  centre break             first               891210435  ...   \n",
       "821878  centre break             first               891210435  ...   \n",
       "821879  centre break             first               891210435  ...   \n",
       "\n",
       "       clearcast_buyer_code  clearcast_buyer_name  clearcast_advertiser_code  \\\n",
       "0                   B000925  MINDSHARE MEDIA UK L                    A004642   \n",
       "1                   B000925  MINDSHARE MEDIA UK L                    A004642   \n",
       "2                   B000925  MINDSHARE MEDIA UK L                    A004642   \n",
       "3                   B000925  MINDSHARE MEDIA UK L                    A004642   \n",
       "4                   B000925  MINDSHARE MEDIA UK L                    A004642   \n",
       "...                     ...                   ...                        ...   \n",
       "821875              B000925  MINDSHARE MEDIA UK L                    A004642   \n",
       "821876              B000925  MINDSHARE MEDIA UK L                    A004642   \n",
       "821877              B000925  MINDSHARE MEDIA UK L                    A004642   \n",
       "821878              B000925  MINDSHARE MEDIA UK L                    A004642   \n",
       "821879              B000925  MINDSHARE MEDIA UK L                    A004642   \n",
       "\n",
       "       clearcast_advertiser_name campaign_approval_id sales_house_name  \\\n",
       "0           UNILEVER UK HOME & P            1048980.0  Channel 4 Sales   \n",
       "1           UNILEVER UK HOME & P            1048980.0  Channel 4 Sales   \n",
       "2           UNILEVER UK HOME & P            1048980.0  Channel 4 Sales   \n",
       "3           UNILEVER UK HOME & P            1048980.0  Channel 4 Sales   \n",
       "4           UNILEVER UK HOME & P            1048980.0  Channel 4 Sales   \n",
       "...                          ...                  ...              ...   \n",
       "821875      UNILEVER UK HOME & P            1062588.0        Sky Media   \n",
       "821876      UNILEVER UK HOME & P            1062588.0        Sky Media   \n",
       "821877      UNILEVER UK HOME & P            1062588.0        Sky Media   \n",
       "821878      UNILEVER UK HOME & P            1062588.0        Sky Media   \n",
       "821879      UNILEVER UK HOME & P            1062588.0        Sky Media   \n",
       "\n",
       "                 audience_name audience_size_hundreds  \\\n",
       "0               Men ABC1 16-34                      0   \n",
       "1                    Men 35-44                      0   \n",
       "2                      All Men                      0   \n",
       "3                 Adults 16-34                      0   \n",
       "4                    Adults C2                      0   \n",
       "...                        ...                    ...   \n",
       "821875            Adults 18-20                      0   \n",
       "821876  Adults, Lightest Sixth                      0   \n",
       "821877              Boys 10-12                      0   \n",
       "821878               Men 18-20                      0   \n",
       "821879          Men ABC1 16-24                      0   \n",
       "\n",
       "        audience_target_size_hundreds date_of_transmission  \n",
       "0                               41000           2022-03-18  \n",
       "1                               39910           2022-03-18  \n",
       "2                              250100           2022-03-18  \n",
       "3                              141860           2022-03-18  \n",
       "4                              108040           2022-03-18  \n",
       "...                               ...                  ...  \n",
       "821875                          20000           2022-03-28  \n",
       "821876                          85520           2022-03-28  \n",
       "821877                          12340           2022-03-28  \n",
       "821878                          10530           2022-03-28  \n",
       "821879                          17130           2022-03-28  \n",
       "\n",
       "[821880 rows x 24 columns]"
      ]
     },
     "execution_count": 6,
     "metadata": {},
     "output_type": "execute_result"
    }
   ],
   "source": [
    "spot_df = spot_data.to_dataframe()\n",
    "spot_df\n"
   ]
  },
  {
   "cell_type": "markdown",
   "id": "f48379c9",
   "metadata": {},
   "source": [
    "## Manipulating the data\n",
    "\n",
    "We can also get a pivot of the data which turns the audiences into columns."
   ]
  },
  {
   "cell_type": "code",
   "execution_count": 7,
   "id": "0920113b",
   "metadata": {},
   "outputs": [
    {
     "data": {
      "text/html": [
       "<div>\n",
       "<style scoped>\n",
       "    .dataframe tbody tr th:only-of-type {\n",
       "        vertical-align: middle;\n",
       "    }\n",
       "\n",
       "    .dataframe tbody tr th {\n",
       "        vertical-align: top;\n",
       "    }\n",
       "\n",
       "    .dataframe thead th {\n",
       "        text-align: right;\n",
       "    }\n",
       "</style>\n",
       "<table border=\"1\" class=\"dataframe\">\n",
       "  <thead>\n",
       "    <tr style=\"text-align: right;\">\n",
       "      <th></th>\n",
       "      <th></th>\n",
       "      <th></th>\n",
       "      <th>audience_name</th>\n",
       "      <th>ABC1 Adults, Lightest Third</th>\n",
       "      <th>Adults 16-24</th>\n",
       "      <th>Adults 16-34</th>\n",
       "      <th>Adults 16-34, Lightest Third</th>\n",
       "      <th>Adults 18-20</th>\n",
       "      <th>Adults 21-24</th>\n",
       "      <th>Adults 35-44</th>\n",
       "      <th>Adults 45-49</th>\n",
       "      <th>Adults 45-54</th>\n",
       "      <th>Adults 55-64</th>\n",
       "      <th>...</th>\n",
       "      <th>Men AB</th>\n",
       "      <th>Men AB working full-time</th>\n",
       "      <th>Men ABC1</th>\n",
       "      <th>Men ABC1 16-24</th>\n",
       "      <th>Men ABC1 16-34</th>\n",
       "      <th>Men ABC1 16-44</th>\n",
       "      <th>Men ABC1 35-54</th>\n",
       "      <th>Men ABC1 working full-time</th>\n",
       "      <th>Men C2</th>\n",
       "      <th>Men working full-time</th>\n",
       "    </tr>\n",
       "    <tr>\n",
       "      <th>panel_region</th>\n",
       "      <th>station_name</th>\n",
       "      <th>date_of_transmission</th>\n",
       "      <th>clearcast_commercial_title</th>\n",
       "      <th></th>\n",
       "      <th></th>\n",
       "      <th></th>\n",
       "      <th></th>\n",
       "      <th></th>\n",
       "      <th></th>\n",
       "      <th></th>\n",
       "      <th></th>\n",
       "      <th></th>\n",
       "      <th></th>\n",
       "      <th></th>\n",
       "      <th></th>\n",
       "      <th></th>\n",
       "      <th></th>\n",
       "      <th></th>\n",
       "      <th></th>\n",
       "      <th></th>\n",
       "      <th></th>\n",
       "      <th></th>\n",
       "      <th></th>\n",
       "      <th></th>\n",
       "    </tr>\n",
       "  </thead>\n",
       "  <tbody>\n",
       "    <tr>\n",
       "      <th rowspan=\"11\" valign=\"top\">BBC Network</th>\n",
       "      <th rowspan=\"5\" valign=\"top\">4Music</th>\n",
       "      <th rowspan=\"2\" valign=\"top\">2022-03-14</th>\n",
       "      <th>Dove Reverse Selfie</th>\n",
       "      <td>63</td>\n",
       "      <td>0</td>\n",
       "      <td>197</td>\n",
       "      <td>0</td>\n",
       "      <td>0</td>\n",
       "      <td>0</td>\n",
       "      <td>559</td>\n",
       "      <td>127</td>\n",
       "      <td>857</td>\n",
       "      <td>76</td>\n",
       "      <td>...</td>\n",
       "      <td>223</td>\n",
       "      <td>197</td>\n",
       "      <td>329</td>\n",
       "      <td>0</td>\n",
       "      <td>48</td>\n",
       "      <td>133</td>\n",
       "      <td>149</td>\n",
       "      <td>260</td>\n",
       "      <td>426</td>\n",
       "      <td>718</td>\n",
       "    </tr>\n",
       "    <tr>\n",
       "      <th>Persil Gaia 30</th>\n",
       "      <td>0</td>\n",
       "      <td>36</td>\n",
       "      <td>36</td>\n",
       "      <td>0</td>\n",
       "      <td>0</td>\n",
       "      <td>36</td>\n",
       "      <td>0</td>\n",
       "      <td>0</td>\n",
       "      <td>0</td>\n",
       "      <td>0</td>\n",
       "      <td>...</td>\n",
       "      <td>0</td>\n",
       "      <td>0</td>\n",
       "      <td>0</td>\n",
       "      <td>0</td>\n",
       "      <td>0</td>\n",
       "      <td>0</td>\n",
       "      <td>0</td>\n",
       "      <td>0</td>\n",
       "      <td>0</td>\n",
       "      <td>0</td>\n",
       "    </tr>\n",
       "    <tr>\n",
       "      <th rowspan=\"2\" valign=\"top\">2022-03-15</th>\n",
       "      <th>Dove Reverse Selfie</th>\n",
       "      <td>41</td>\n",
       "      <td>0</td>\n",
       "      <td>151</td>\n",
       "      <td>0</td>\n",
       "      <td>0</td>\n",
       "      <td>0</td>\n",
       "      <td>185</td>\n",
       "      <td>0</td>\n",
       "      <td>0</td>\n",
       "      <td>0</td>\n",
       "      <td>...</td>\n",
       "      <td>209</td>\n",
       "      <td>209</td>\n",
       "      <td>209</td>\n",
       "      <td>0</td>\n",
       "      <td>53</td>\n",
       "      <td>209</td>\n",
       "      <td>156</td>\n",
       "      <td>209</td>\n",
       "      <td>0</td>\n",
       "      <td>256</td>\n",
       "    </tr>\n",
       "    <tr>\n",
       "      <th>Persil Gaia 30</th>\n",
       "      <td>0</td>\n",
       "      <td>0</td>\n",
       "      <td>0</td>\n",
       "      <td>0</td>\n",
       "      <td>0</td>\n",
       "      <td>0</td>\n",
       "      <td>0</td>\n",
       "      <td>0</td>\n",
       "      <td>0</td>\n",
       "      <td>0</td>\n",
       "      <td>...</td>\n",
       "      <td>0</td>\n",
       "      <td>0</td>\n",
       "      <td>0</td>\n",
       "      <td>0</td>\n",
       "      <td>0</td>\n",
       "      <td>0</td>\n",
       "      <td>0</td>\n",
       "      <td>0</td>\n",
       "      <td>0</td>\n",
       "      <td>0</td>\n",
       "    </tr>\n",
       "    <tr>\n",
       "      <th>2022-03-16</th>\n",
       "      <th>Dove Reverse Selfie</th>\n",
       "      <td>15</td>\n",
       "      <td>108</td>\n",
       "      <td>369</td>\n",
       "      <td>0</td>\n",
       "      <td>108</td>\n",
       "      <td>0</td>\n",
       "      <td>49</td>\n",
       "      <td>42</td>\n",
       "      <td>58</td>\n",
       "      <td>166</td>\n",
       "      <td>...</td>\n",
       "      <td>61</td>\n",
       "      <td>0</td>\n",
       "      <td>233</td>\n",
       "      <td>0</td>\n",
       "      <td>0</td>\n",
       "      <td>0</td>\n",
       "      <td>26</td>\n",
       "      <td>26</td>\n",
       "      <td>77</td>\n",
       "      <td>26</td>\n",
       "    </tr>\n",
       "    <tr>\n",
       "      <th>...</th>\n",
       "      <th>...</th>\n",
       "      <th>...</th>\n",
       "      <td>...</td>\n",
       "      <td>...</td>\n",
       "      <td>...</td>\n",
       "      <td>...</td>\n",
       "      <td>...</td>\n",
       "      <td>...</td>\n",
       "      <td>...</td>\n",
       "      <td>...</td>\n",
       "      <td>...</td>\n",
       "      <td>...</td>\n",
       "      <td>...</td>\n",
       "      <td>...</td>\n",
       "      <td>...</td>\n",
       "      <td>...</td>\n",
       "      <td>...</td>\n",
       "      <td>...</td>\n",
       "      <td>...</td>\n",
       "      <td>...</td>\n",
       "      <td>...</td>\n",
       "      <td>...</td>\n",
       "      <td>...</td>\n",
       "    </tr>\n",
       "    <tr>\n",
       "      <th rowspan=\"5\" valign=\"top\">Zee TV</th>\n",
       "      <th>2022-03-30</th>\n",
       "      <th>Dove Reverse Selfie 30s</th>\n",
       "      <td>0</td>\n",
       "      <td>0</td>\n",
       "      <td>0</td>\n",
       "      <td>0</td>\n",
       "      <td>0</td>\n",
       "      <td>0</td>\n",
       "      <td>0</td>\n",
       "      <td>0</td>\n",
       "      <td>0</td>\n",
       "      <td>0</td>\n",
       "      <td>...</td>\n",
       "      <td>0</td>\n",
       "      <td>0</td>\n",
       "      <td>0</td>\n",
       "      <td>0</td>\n",
       "      <td>0</td>\n",
       "      <td>0</td>\n",
       "      <td>0</td>\n",
       "      <td>0</td>\n",
       "      <td>0</td>\n",
       "      <td>0</td>\n",
       "    </tr>\n",
       "    <tr>\n",
       "      <th>2022-03-31</th>\n",
       "      <th>Persil Gaia 30 NEW</th>\n",
       "      <td>0</td>\n",
       "      <td>0</td>\n",
       "      <td>0</td>\n",
       "      <td>0</td>\n",
       "      <td>0</td>\n",
       "      <td>0</td>\n",
       "      <td>0</td>\n",
       "      <td>0</td>\n",
       "      <td>0</td>\n",
       "      <td>0</td>\n",
       "      <td>...</td>\n",
       "      <td>0</td>\n",
       "      <td>0</td>\n",
       "      <td>0</td>\n",
       "      <td>0</td>\n",
       "      <td>0</td>\n",
       "      <td>0</td>\n",
       "      <td>0</td>\n",
       "      <td>0</td>\n",
       "      <td>0</td>\n",
       "      <td>0</td>\n",
       "    </tr>\n",
       "    <tr>\n",
       "      <th rowspan=\"3\" valign=\"top\">2022-04-01</th>\n",
       "      <th>Dove Gradual Self Tan Mousse</th>\n",
       "      <td>0</td>\n",
       "      <td>0</td>\n",
       "      <td>0</td>\n",
       "      <td>0</td>\n",
       "      <td>0</td>\n",
       "      <td>0</td>\n",
       "      <td>0</td>\n",
       "      <td>0</td>\n",
       "      <td>0</td>\n",
       "      <td>0</td>\n",
       "      <td>...</td>\n",
       "      <td>0</td>\n",
       "      <td>0</td>\n",
       "      <td>0</td>\n",
       "      <td>0</td>\n",
       "      <td>0</td>\n",
       "      <td>0</td>\n",
       "      <td>0</td>\n",
       "      <td>0</td>\n",
       "      <td>0</td>\n",
       "      <td>0</td>\n",
       "    </tr>\n",
       "    <tr>\n",
       "      <th>Dove Reverse Selfie 30s</th>\n",
       "      <td>0</td>\n",
       "      <td>0</td>\n",
       "      <td>0</td>\n",
       "      <td>0</td>\n",
       "      <td>0</td>\n",
       "      <td>0</td>\n",
       "      <td>0</td>\n",
       "      <td>0</td>\n",
       "      <td>0</td>\n",
       "      <td>0</td>\n",
       "      <td>...</td>\n",
       "      <td>0</td>\n",
       "      <td>0</td>\n",
       "      <td>0</td>\n",
       "      <td>0</td>\n",
       "      <td>0</td>\n",
       "      <td>0</td>\n",
       "      <td>0</td>\n",
       "      <td>0</td>\n",
       "      <td>0</td>\n",
       "      <td>0</td>\n",
       "    </tr>\n",
       "    <tr>\n",
       "      <th>Persil Gaia 30 NEW</th>\n",
       "      <td>0</td>\n",
       "      <td>0</td>\n",
       "      <td>0</td>\n",
       "      <td>0</td>\n",
       "      <td>0</td>\n",
       "      <td>0</td>\n",
       "      <td>0</td>\n",
       "      <td>0</td>\n",
       "      <td>0</td>\n",
       "      <td>0</td>\n",
       "      <td>...</td>\n",
       "      <td>0</td>\n",
       "      <td>0</td>\n",
       "      <td>0</td>\n",
       "      <td>0</td>\n",
       "      <td>0</td>\n",
       "      <td>0</td>\n",
       "      <td>0</td>\n",
       "      <td>0</td>\n",
       "      <td>0</td>\n",
       "      <td>0</td>\n",
       "    </tr>\n",
       "  </tbody>\n",
       "</table>\n",
       "<p>4658 rows × 60 columns</p>\n",
       "</div>"
      ],
      "text/plain": [
       "audience_name                                                                ABC1 Adults, Lightest Third  \\\n",
       "panel_region station_name date_of_transmission clearcast_commercial_title                                  \n",
       "BBC Network  4Music       2022-03-14           Dove Reverse Selfie                                    63   \n",
       "                                               Persil Gaia 30                                          0   \n",
       "                          2022-03-15           Dove Reverse Selfie                                    41   \n",
       "                                               Persil Gaia 30                                          0   \n",
       "                          2022-03-16           Dove Reverse Selfie                                    15   \n",
       "...                                                                                                  ...   \n",
       "             Zee TV       2022-03-30           Dove Reverse Selfie 30s                                 0   \n",
       "                          2022-03-31           Persil Gaia 30 NEW                                      0   \n",
       "                          2022-04-01           Dove Gradual Self Tan Mousse                            0   \n",
       "                                               Dove Reverse Selfie 30s                                 0   \n",
       "                                               Persil Gaia 30 NEW                                      0   \n",
       "\n",
       "audience_name                                                                Adults 16-24  \\\n",
       "panel_region station_name date_of_transmission clearcast_commercial_title                   \n",
       "BBC Network  4Music       2022-03-14           Dove Reverse Selfie                      0   \n",
       "                                               Persil Gaia 30                          36   \n",
       "                          2022-03-15           Dove Reverse Selfie                      0   \n",
       "                                               Persil Gaia 30                           0   \n",
       "                          2022-03-16           Dove Reverse Selfie                    108   \n",
       "...                                                                                   ...   \n",
       "             Zee TV       2022-03-30           Dove Reverse Selfie 30s                  0   \n",
       "                          2022-03-31           Persil Gaia 30 NEW                       0   \n",
       "                          2022-04-01           Dove Gradual Self Tan Mousse             0   \n",
       "                                               Dove Reverse Selfie 30s                  0   \n",
       "                                               Persil Gaia 30 NEW                       0   \n",
       "\n",
       "audience_name                                                                Adults 16-34  \\\n",
       "panel_region station_name date_of_transmission clearcast_commercial_title                   \n",
       "BBC Network  4Music       2022-03-14           Dove Reverse Selfie                    197   \n",
       "                                               Persil Gaia 30                          36   \n",
       "                          2022-03-15           Dove Reverse Selfie                    151   \n",
       "                                               Persil Gaia 30                           0   \n",
       "                          2022-03-16           Dove Reverse Selfie                    369   \n",
       "...                                                                                   ...   \n",
       "             Zee TV       2022-03-30           Dove Reverse Selfie 30s                  0   \n",
       "                          2022-03-31           Persil Gaia 30 NEW                       0   \n",
       "                          2022-04-01           Dove Gradual Self Tan Mousse             0   \n",
       "                                               Dove Reverse Selfie 30s                  0   \n",
       "                                               Persil Gaia 30 NEW                       0   \n",
       "\n",
       "audience_name                                                                Adults 16-34, Lightest Third  \\\n",
       "panel_region station_name date_of_transmission clearcast_commercial_title                                   \n",
       "BBC Network  4Music       2022-03-14           Dove Reverse Selfie                                      0   \n",
       "                                               Persil Gaia 30                                           0   \n",
       "                          2022-03-15           Dove Reverse Selfie                                      0   \n",
       "                                               Persil Gaia 30                                           0   \n",
       "                          2022-03-16           Dove Reverse Selfie                                      0   \n",
       "...                                                                                                   ...   \n",
       "             Zee TV       2022-03-30           Dove Reverse Selfie 30s                                  0   \n",
       "                          2022-03-31           Persil Gaia 30 NEW                                       0   \n",
       "                          2022-04-01           Dove Gradual Self Tan Mousse                             0   \n",
       "                                               Dove Reverse Selfie 30s                                  0   \n",
       "                                               Persil Gaia 30 NEW                                       0   \n",
       "\n",
       "audience_name                                                                Adults 18-20  \\\n",
       "panel_region station_name date_of_transmission clearcast_commercial_title                   \n",
       "BBC Network  4Music       2022-03-14           Dove Reverse Selfie                      0   \n",
       "                                               Persil Gaia 30                           0   \n",
       "                          2022-03-15           Dove Reverse Selfie                      0   \n",
       "                                               Persil Gaia 30                           0   \n",
       "                          2022-03-16           Dove Reverse Selfie                    108   \n",
       "...                                                                                   ...   \n",
       "             Zee TV       2022-03-30           Dove Reverse Selfie 30s                  0   \n",
       "                          2022-03-31           Persil Gaia 30 NEW                       0   \n",
       "                          2022-04-01           Dove Gradual Self Tan Mousse             0   \n",
       "                                               Dove Reverse Selfie 30s                  0   \n",
       "                                               Persil Gaia 30 NEW                       0   \n",
       "\n",
       "audience_name                                                                Adults 21-24  \\\n",
       "panel_region station_name date_of_transmission clearcast_commercial_title                   \n",
       "BBC Network  4Music       2022-03-14           Dove Reverse Selfie                      0   \n",
       "                                               Persil Gaia 30                          36   \n",
       "                          2022-03-15           Dove Reverse Selfie                      0   \n",
       "                                               Persil Gaia 30                           0   \n",
       "                          2022-03-16           Dove Reverse Selfie                      0   \n",
       "...                                                                                   ...   \n",
       "             Zee TV       2022-03-30           Dove Reverse Selfie 30s                  0   \n",
       "                          2022-03-31           Persil Gaia 30 NEW                       0   \n",
       "                          2022-04-01           Dove Gradual Self Tan Mousse             0   \n",
       "                                               Dove Reverse Selfie 30s                  0   \n",
       "                                               Persil Gaia 30 NEW                       0   \n",
       "\n",
       "audience_name                                                                Adults 35-44  \\\n",
       "panel_region station_name date_of_transmission clearcast_commercial_title                   \n",
       "BBC Network  4Music       2022-03-14           Dove Reverse Selfie                    559   \n",
       "                                               Persil Gaia 30                           0   \n",
       "                          2022-03-15           Dove Reverse Selfie                    185   \n",
       "                                               Persil Gaia 30                           0   \n",
       "                          2022-03-16           Dove Reverse Selfie                     49   \n",
       "...                                                                                   ...   \n",
       "             Zee TV       2022-03-30           Dove Reverse Selfie 30s                  0   \n",
       "                          2022-03-31           Persil Gaia 30 NEW                       0   \n",
       "                          2022-04-01           Dove Gradual Self Tan Mousse             0   \n",
       "                                               Dove Reverse Selfie 30s                  0   \n",
       "                                               Persil Gaia 30 NEW                       0   \n",
       "\n",
       "audience_name                                                                Adults 45-49  \\\n",
       "panel_region station_name date_of_transmission clearcast_commercial_title                   \n",
       "BBC Network  4Music       2022-03-14           Dove Reverse Selfie                    127   \n",
       "                                               Persil Gaia 30                           0   \n",
       "                          2022-03-15           Dove Reverse Selfie                      0   \n",
       "                                               Persil Gaia 30                           0   \n",
       "                          2022-03-16           Dove Reverse Selfie                     42   \n",
       "...                                                                                   ...   \n",
       "             Zee TV       2022-03-30           Dove Reverse Selfie 30s                  0   \n",
       "                          2022-03-31           Persil Gaia 30 NEW                       0   \n",
       "                          2022-04-01           Dove Gradual Self Tan Mousse             0   \n",
       "                                               Dove Reverse Selfie 30s                  0   \n",
       "                                               Persil Gaia 30 NEW                       0   \n",
       "\n",
       "audience_name                                                                Adults 45-54  \\\n",
       "panel_region station_name date_of_transmission clearcast_commercial_title                   \n",
       "BBC Network  4Music       2022-03-14           Dove Reverse Selfie                    857   \n",
       "                                               Persil Gaia 30                           0   \n",
       "                          2022-03-15           Dove Reverse Selfie                      0   \n",
       "                                               Persil Gaia 30                           0   \n",
       "                          2022-03-16           Dove Reverse Selfie                     58   \n",
       "...                                                                                   ...   \n",
       "             Zee TV       2022-03-30           Dove Reverse Selfie 30s                  0   \n",
       "                          2022-03-31           Persil Gaia 30 NEW                       0   \n",
       "                          2022-04-01           Dove Gradual Self Tan Mousse             0   \n",
       "                                               Dove Reverse Selfie 30s                  0   \n",
       "                                               Persil Gaia 30 NEW                       0   \n",
       "\n",
       "audience_name                                                                Adults 55-64  \\\n",
       "panel_region station_name date_of_transmission clearcast_commercial_title                   \n",
       "BBC Network  4Music       2022-03-14           Dove Reverse Selfie                     76   \n",
       "                                               Persil Gaia 30                           0   \n",
       "                          2022-03-15           Dove Reverse Selfie                      0   \n",
       "                                               Persil Gaia 30                           0   \n",
       "                          2022-03-16           Dove Reverse Selfie                    166   \n",
       "...                                                                                   ...   \n",
       "             Zee TV       2022-03-30           Dove Reverse Selfie 30s                  0   \n",
       "                          2022-03-31           Persil Gaia 30 NEW                       0   \n",
       "                          2022-04-01           Dove Gradual Self Tan Mousse             0   \n",
       "                                               Dove Reverse Selfie 30s                  0   \n",
       "                                               Persil Gaia 30 NEW                       0   \n",
       "\n",
       "audience_name                                                                ...  \\\n",
       "panel_region station_name date_of_transmission clearcast_commercial_title    ...   \n",
       "BBC Network  4Music       2022-03-14           Dove Reverse Selfie           ...   \n",
       "                                               Persil Gaia 30                ...   \n",
       "                          2022-03-15           Dove Reverse Selfie           ...   \n",
       "                                               Persil Gaia 30                ...   \n",
       "                          2022-03-16           Dove Reverse Selfie           ...   \n",
       "...                                                                          ...   \n",
       "             Zee TV       2022-03-30           Dove Reverse Selfie 30s       ...   \n",
       "                          2022-03-31           Persil Gaia 30 NEW            ...   \n",
       "                          2022-04-01           Dove Gradual Self Tan Mousse  ...   \n",
       "                                               Dove Reverse Selfie 30s       ...   \n",
       "                                               Persil Gaia 30 NEW            ...   \n",
       "\n",
       "audience_name                                                                Men AB  \\\n",
       "panel_region station_name date_of_transmission clearcast_commercial_title             \n",
       "BBC Network  4Music       2022-03-14           Dove Reverse Selfie              223   \n",
       "                                               Persil Gaia 30                     0   \n",
       "                          2022-03-15           Dove Reverse Selfie              209   \n",
       "                                               Persil Gaia 30                     0   \n",
       "                          2022-03-16           Dove Reverse Selfie               61   \n",
       "...                                                                             ...   \n",
       "             Zee TV       2022-03-30           Dove Reverse Selfie 30s            0   \n",
       "                          2022-03-31           Persil Gaia 30 NEW                 0   \n",
       "                          2022-04-01           Dove Gradual Self Tan Mousse       0   \n",
       "                                               Dove Reverse Selfie 30s            0   \n",
       "                                               Persil Gaia 30 NEW                 0   \n",
       "\n",
       "audience_name                                                                Men AB working full-time  \\\n",
       "panel_region station_name date_of_transmission clearcast_commercial_title                               \n",
       "BBC Network  4Music       2022-03-14           Dove Reverse Selfie                                197   \n",
       "                                               Persil Gaia 30                                       0   \n",
       "                          2022-03-15           Dove Reverse Selfie                                209   \n",
       "                                               Persil Gaia 30                                       0   \n",
       "                          2022-03-16           Dove Reverse Selfie                                  0   \n",
       "...                                                                                               ...   \n",
       "             Zee TV       2022-03-30           Dove Reverse Selfie 30s                              0   \n",
       "                          2022-03-31           Persil Gaia 30 NEW                                   0   \n",
       "                          2022-04-01           Dove Gradual Self Tan Mousse                         0   \n",
       "                                               Dove Reverse Selfie 30s                              0   \n",
       "                                               Persil Gaia 30 NEW                                   0   \n",
       "\n",
       "audience_name                                                                Men ABC1  \\\n",
       "panel_region station_name date_of_transmission clearcast_commercial_title               \n",
       "BBC Network  4Music       2022-03-14           Dove Reverse Selfie                329   \n",
       "                                               Persil Gaia 30                       0   \n",
       "                          2022-03-15           Dove Reverse Selfie                209   \n",
       "                                               Persil Gaia 30                       0   \n",
       "                          2022-03-16           Dove Reverse Selfie                233   \n",
       "...                                                                               ...   \n",
       "             Zee TV       2022-03-30           Dove Reverse Selfie 30s              0   \n",
       "                          2022-03-31           Persil Gaia 30 NEW                   0   \n",
       "                          2022-04-01           Dove Gradual Self Tan Mousse         0   \n",
       "                                               Dove Reverse Selfie 30s              0   \n",
       "                                               Persil Gaia 30 NEW                   0   \n",
       "\n",
       "audience_name                                                                Men ABC1 16-24  \\\n",
       "panel_region station_name date_of_transmission clearcast_commercial_title                     \n",
       "BBC Network  4Music       2022-03-14           Dove Reverse Selfie                        0   \n",
       "                                               Persil Gaia 30                             0   \n",
       "                          2022-03-15           Dove Reverse Selfie                        0   \n",
       "                                               Persil Gaia 30                             0   \n",
       "                          2022-03-16           Dove Reverse Selfie                        0   \n",
       "...                                                                                     ...   \n",
       "             Zee TV       2022-03-30           Dove Reverse Selfie 30s                    0   \n",
       "                          2022-03-31           Persil Gaia 30 NEW                         0   \n",
       "                          2022-04-01           Dove Gradual Self Tan Mousse               0   \n",
       "                                               Dove Reverse Selfie 30s                    0   \n",
       "                                               Persil Gaia 30 NEW                         0   \n",
       "\n",
       "audience_name                                                                Men ABC1 16-34  \\\n",
       "panel_region station_name date_of_transmission clearcast_commercial_title                     \n",
       "BBC Network  4Music       2022-03-14           Dove Reverse Selfie                       48   \n",
       "                                               Persil Gaia 30                             0   \n",
       "                          2022-03-15           Dove Reverse Selfie                       53   \n",
       "                                               Persil Gaia 30                             0   \n",
       "                          2022-03-16           Dove Reverse Selfie                        0   \n",
       "...                                                                                     ...   \n",
       "             Zee TV       2022-03-30           Dove Reverse Selfie 30s                    0   \n",
       "                          2022-03-31           Persil Gaia 30 NEW                         0   \n",
       "                          2022-04-01           Dove Gradual Self Tan Mousse               0   \n",
       "                                               Dove Reverse Selfie 30s                    0   \n",
       "                                               Persil Gaia 30 NEW                         0   \n",
       "\n",
       "audience_name                                                                Men ABC1 16-44  \\\n",
       "panel_region station_name date_of_transmission clearcast_commercial_title                     \n",
       "BBC Network  4Music       2022-03-14           Dove Reverse Selfie                      133   \n",
       "                                               Persil Gaia 30                             0   \n",
       "                          2022-03-15           Dove Reverse Selfie                      209   \n",
       "                                               Persil Gaia 30                             0   \n",
       "                          2022-03-16           Dove Reverse Selfie                        0   \n",
       "...                                                                                     ...   \n",
       "             Zee TV       2022-03-30           Dove Reverse Selfie 30s                    0   \n",
       "                          2022-03-31           Persil Gaia 30 NEW                         0   \n",
       "                          2022-04-01           Dove Gradual Self Tan Mousse               0   \n",
       "                                               Dove Reverse Selfie 30s                    0   \n",
       "                                               Persil Gaia 30 NEW                         0   \n",
       "\n",
       "audience_name                                                                Men ABC1 35-54  \\\n",
       "panel_region station_name date_of_transmission clearcast_commercial_title                     \n",
       "BBC Network  4Music       2022-03-14           Dove Reverse Selfie                      149   \n",
       "                                               Persil Gaia 30                             0   \n",
       "                          2022-03-15           Dove Reverse Selfie                      156   \n",
       "                                               Persil Gaia 30                             0   \n",
       "                          2022-03-16           Dove Reverse Selfie                       26   \n",
       "...                                                                                     ...   \n",
       "             Zee TV       2022-03-30           Dove Reverse Selfie 30s                    0   \n",
       "                          2022-03-31           Persil Gaia 30 NEW                         0   \n",
       "                          2022-04-01           Dove Gradual Self Tan Mousse               0   \n",
       "                                               Dove Reverse Selfie 30s                    0   \n",
       "                                               Persil Gaia 30 NEW                         0   \n",
       "\n",
       "audience_name                                                                Men ABC1 working full-time  \\\n",
       "panel_region station_name date_of_transmission clearcast_commercial_title                                 \n",
       "BBC Network  4Music       2022-03-14           Dove Reverse Selfie                                  260   \n",
       "                                               Persil Gaia 30                                         0   \n",
       "                          2022-03-15           Dove Reverse Selfie                                  209   \n",
       "                                               Persil Gaia 30                                         0   \n",
       "                          2022-03-16           Dove Reverse Selfie                                   26   \n",
       "...                                                                                                 ...   \n",
       "             Zee TV       2022-03-30           Dove Reverse Selfie 30s                                0   \n",
       "                          2022-03-31           Persil Gaia 30 NEW                                     0   \n",
       "                          2022-04-01           Dove Gradual Self Tan Mousse                           0   \n",
       "                                               Dove Reverse Selfie 30s                                0   \n",
       "                                               Persil Gaia 30 NEW                                     0   \n",
       "\n",
       "audience_name                                                                Men C2  \\\n",
       "panel_region station_name date_of_transmission clearcast_commercial_title             \n",
       "BBC Network  4Music       2022-03-14           Dove Reverse Selfie              426   \n",
       "                                               Persil Gaia 30                     0   \n",
       "                          2022-03-15           Dove Reverse Selfie                0   \n",
       "                                               Persil Gaia 30                     0   \n",
       "                          2022-03-16           Dove Reverse Selfie               77   \n",
       "...                                                                             ...   \n",
       "             Zee TV       2022-03-30           Dove Reverse Selfie 30s            0   \n",
       "                          2022-03-31           Persil Gaia 30 NEW                 0   \n",
       "                          2022-04-01           Dove Gradual Self Tan Mousse       0   \n",
       "                                               Dove Reverse Selfie 30s            0   \n",
       "                                               Persil Gaia 30 NEW                 0   \n",
       "\n",
       "audience_name                                                                Men working full-time  \n",
       "panel_region station_name date_of_transmission clearcast_commercial_title                           \n",
       "BBC Network  4Music       2022-03-14           Dove Reverse Selfie                             718  \n",
       "                                               Persil Gaia 30                                    0  \n",
       "                          2022-03-15           Dove Reverse Selfie                             256  \n",
       "                                               Persil Gaia 30                                    0  \n",
       "                          2022-03-16           Dove Reverse Selfie                              26  \n",
       "...                                                                                            ...  \n",
       "             Zee TV       2022-03-30           Dove Reverse Selfie 30s                           0  \n",
       "                          2022-03-31           Persil Gaia 30 NEW                                0  \n",
       "                          2022-04-01           Dove Gradual Self Tan Mousse                      0  \n",
       "                                               Dove Reverse Selfie 30s                           0  \n",
       "                                               Persil Gaia 30 NEW                                0  \n",
       "\n",
       "[4658 rows x 60 columns]"
      ]
     },
     "execution_count": 7,
     "metadata": {},
     "output_type": "execute_result"
    }
   ],
   "source": [
    "spot_data.audience_pivot()"
   ]
  },
  {
   "cell_type": "markdown",
   "id": "04f559f3",
   "metadata": {},
   "source": [
    "## Analysing the Persil campaign\n",
    "\n",
    "### On average how did each station perform?\n",
    "\n",
    "Let's limit the data to Persil adverts"
   ]
  },
  {
   "cell_type": "code",
   "execution_count": 8,
   "id": "22b4bb84",
   "metadata": {},
   "outputs": [
    {
     "data": {
      "application/vnd.plotly.v1+json": {
       "config": {
        "plotlyServerURL": "https://plot.ly"
       },
       "data": [
        {
         "alignmentgroup": "True",
         "hovertemplate": "audience_size_hundreds=%{x}<br>station_name=%{y}<extra></extra>",
         "legendgroup": "",
         "marker": {
          "color": "#636efa",
          "pattern": {
           "shape": ""
          }
         },
         "name": "",
         "offsetgroup": "",
         "orientation": "h",
         "showlegend": false,
         "textposition": "auto",
         "texttemplate": "%{x:.2s}",
         "type": "bar",
         "x": [
          393.7241379310345,
          464.49295774647885,
          830.2564102564103,
          379.3448275862069,
          366.1142857142857,
          3759.1348314606744,
          307.4269662921348,
          414.8235294117647,
          510,
          881.696,
          456,
          309.17391304347825,
          3089.6666666666665,
          2526.3333333333335,
          580.8723404255319,
          569.8333333333334,
          347.27777777777777,
          632.7954545454545,
          426.44117647058823,
          1110.5,
          467,
          472.3333333333333,
          435.35
         ],
         "xaxis": "x",
         "y": [
          "5ACTION",
          "5STAR",
          "5USA",
          "BLAZE",
          "CBS Reality",
          "Channel 5",
          "Channel 5+1",
          "Dave",
          "Drama",
          "E4",
          "Film4",
          "GOLD",
          "ITV",
          "ITV HD",
          "ITV2",
          "More4",
          "Pick",
          "Quest",
          "Quest Red",
          "Sky News",
          "Sky Sports Football",
          "Sky Sports News",
          "Sky Witness"
         ],
         "yaxis": "y"
        }
       ],
       "layout": {
        "barmode": "relative",
        "height": 1000,
        "legend": {
         "tracegroupgap": 0
        },
        "template": {
         "data": {
          "bar": [
           {
            "error_x": {
             "color": "#2a3f5f"
            },
            "error_y": {
             "color": "#2a3f5f"
            },
            "marker": {
             "line": {
              "color": "#E5ECF6",
              "width": 0.5
             },
             "pattern": {
              "fillmode": "overlay",
              "size": 10,
              "solidity": 0.2
             }
            },
            "type": "bar"
           }
          ],
          "barpolar": [
           {
            "marker": {
             "line": {
              "color": "#E5ECF6",
              "width": 0.5
             },
             "pattern": {
              "fillmode": "overlay",
              "size": 10,
              "solidity": 0.2
             }
            },
            "type": "barpolar"
           }
          ],
          "carpet": [
           {
            "aaxis": {
             "endlinecolor": "#2a3f5f",
             "gridcolor": "white",
             "linecolor": "white",
             "minorgridcolor": "white",
             "startlinecolor": "#2a3f5f"
            },
            "baxis": {
             "endlinecolor": "#2a3f5f",
             "gridcolor": "white",
             "linecolor": "white",
             "minorgridcolor": "white",
             "startlinecolor": "#2a3f5f"
            },
            "type": "carpet"
           }
          ],
          "choropleth": [
           {
            "colorbar": {
             "outlinewidth": 0,
             "ticks": ""
            },
            "type": "choropleth"
           }
          ],
          "contour": [
           {
            "colorbar": {
             "outlinewidth": 0,
             "ticks": ""
            },
            "colorscale": [
             [
              0,
              "#0d0887"
             ],
             [
              0.1111111111111111,
              "#46039f"
             ],
             [
              0.2222222222222222,
              "#7201a8"
             ],
             [
              0.3333333333333333,
              "#9c179e"
             ],
             [
              0.4444444444444444,
              "#bd3786"
             ],
             [
              0.5555555555555556,
              "#d8576b"
             ],
             [
              0.6666666666666666,
              "#ed7953"
             ],
             [
              0.7777777777777778,
              "#fb9f3a"
             ],
             [
              0.8888888888888888,
              "#fdca26"
             ],
             [
              1,
              "#f0f921"
             ]
            ],
            "type": "contour"
           }
          ],
          "contourcarpet": [
           {
            "colorbar": {
             "outlinewidth": 0,
             "ticks": ""
            },
            "type": "contourcarpet"
           }
          ],
          "heatmap": [
           {
            "colorbar": {
             "outlinewidth": 0,
             "ticks": ""
            },
            "colorscale": [
             [
              0,
              "#0d0887"
             ],
             [
              0.1111111111111111,
              "#46039f"
             ],
             [
              0.2222222222222222,
              "#7201a8"
             ],
             [
              0.3333333333333333,
              "#9c179e"
             ],
             [
              0.4444444444444444,
              "#bd3786"
             ],
             [
              0.5555555555555556,
              "#d8576b"
             ],
             [
              0.6666666666666666,
              "#ed7953"
             ],
             [
              0.7777777777777778,
              "#fb9f3a"
             ],
             [
              0.8888888888888888,
              "#fdca26"
             ],
             [
              1,
              "#f0f921"
             ]
            ],
            "type": "heatmap"
           }
          ],
          "heatmapgl": [
           {
            "colorbar": {
             "outlinewidth": 0,
             "ticks": ""
            },
            "colorscale": [
             [
              0,
              "#0d0887"
             ],
             [
              0.1111111111111111,
              "#46039f"
             ],
             [
              0.2222222222222222,
              "#7201a8"
             ],
             [
              0.3333333333333333,
              "#9c179e"
             ],
             [
              0.4444444444444444,
              "#bd3786"
             ],
             [
              0.5555555555555556,
              "#d8576b"
             ],
             [
              0.6666666666666666,
              "#ed7953"
             ],
             [
              0.7777777777777778,
              "#fb9f3a"
             ],
             [
              0.8888888888888888,
              "#fdca26"
             ],
             [
              1,
              "#f0f921"
             ]
            ],
            "type": "heatmapgl"
           }
          ],
          "histogram": [
           {
            "marker": {
             "pattern": {
              "fillmode": "overlay",
              "size": 10,
              "solidity": 0.2
             }
            },
            "type": "histogram"
           }
          ],
          "histogram2d": [
           {
            "colorbar": {
             "outlinewidth": 0,
             "ticks": ""
            },
            "colorscale": [
             [
              0,
              "#0d0887"
             ],
             [
              0.1111111111111111,
              "#46039f"
             ],
             [
              0.2222222222222222,
              "#7201a8"
             ],
             [
              0.3333333333333333,
              "#9c179e"
             ],
             [
              0.4444444444444444,
              "#bd3786"
             ],
             [
              0.5555555555555556,
              "#d8576b"
             ],
             [
              0.6666666666666666,
              "#ed7953"
             ],
             [
              0.7777777777777778,
              "#fb9f3a"
             ],
             [
              0.8888888888888888,
              "#fdca26"
             ],
             [
              1,
              "#f0f921"
             ]
            ],
            "type": "histogram2d"
           }
          ],
          "histogram2dcontour": [
           {
            "colorbar": {
             "outlinewidth": 0,
             "ticks": ""
            },
            "colorscale": [
             [
              0,
              "#0d0887"
             ],
             [
              0.1111111111111111,
              "#46039f"
             ],
             [
              0.2222222222222222,
              "#7201a8"
             ],
             [
              0.3333333333333333,
              "#9c179e"
             ],
             [
              0.4444444444444444,
              "#bd3786"
             ],
             [
              0.5555555555555556,
              "#d8576b"
             ],
             [
              0.6666666666666666,
              "#ed7953"
             ],
             [
              0.7777777777777778,
              "#fb9f3a"
             ],
             [
              0.8888888888888888,
              "#fdca26"
             ],
             [
              1,
              "#f0f921"
             ]
            ],
            "type": "histogram2dcontour"
           }
          ],
          "mesh3d": [
           {
            "colorbar": {
             "outlinewidth": 0,
             "ticks": ""
            },
            "type": "mesh3d"
           }
          ],
          "parcoords": [
           {
            "line": {
             "colorbar": {
              "outlinewidth": 0,
              "ticks": ""
             }
            },
            "type": "parcoords"
           }
          ],
          "pie": [
           {
            "automargin": true,
            "type": "pie"
           }
          ],
          "scatter": [
           {
            "fillpattern": {
             "fillmode": "overlay",
             "size": 10,
             "solidity": 0.2
            },
            "type": "scatter"
           }
          ],
          "scatter3d": [
           {
            "line": {
             "colorbar": {
              "outlinewidth": 0,
              "ticks": ""
             }
            },
            "marker": {
             "colorbar": {
              "outlinewidth": 0,
              "ticks": ""
             }
            },
            "type": "scatter3d"
           }
          ],
          "scattercarpet": [
           {
            "marker": {
             "colorbar": {
              "outlinewidth": 0,
              "ticks": ""
             }
            },
            "type": "scattercarpet"
           }
          ],
          "scattergeo": [
           {
            "marker": {
             "colorbar": {
              "outlinewidth": 0,
              "ticks": ""
             }
            },
            "type": "scattergeo"
           }
          ],
          "scattergl": [
           {
            "marker": {
             "colorbar": {
              "outlinewidth": 0,
              "ticks": ""
             }
            },
            "type": "scattergl"
           }
          ],
          "scattermapbox": [
           {
            "marker": {
             "colorbar": {
              "outlinewidth": 0,
              "ticks": ""
             }
            },
            "type": "scattermapbox"
           }
          ],
          "scatterpolar": [
           {
            "marker": {
             "colorbar": {
              "outlinewidth": 0,
              "ticks": ""
             }
            },
            "type": "scatterpolar"
           }
          ],
          "scatterpolargl": [
           {
            "marker": {
             "colorbar": {
              "outlinewidth": 0,
              "ticks": ""
             }
            },
            "type": "scatterpolargl"
           }
          ],
          "scatterternary": [
           {
            "marker": {
             "colorbar": {
              "outlinewidth": 0,
              "ticks": ""
             }
            },
            "type": "scatterternary"
           }
          ],
          "surface": [
           {
            "colorbar": {
             "outlinewidth": 0,
             "ticks": ""
            },
            "colorscale": [
             [
              0,
              "#0d0887"
             ],
             [
              0.1111111111111111,
              "#46039f"
             ],
             [
              0.2222222222222222,
              "#7201a8"
             ],
             [
              0.3333333333333333,
              "#9c179e"
             ],
             [
              0.4444444444444444,
              "#bd3786"
             ],
             [
              0.5555555555555556,
              "#d8576b"
             ],
             [
              0.6666666666666666,
              "#ed7953"
             ],
             [
              0.7777777777777778,
              "#fb9f3a"
             ],
             [
              0.8888888888888888,
              "#fdca26"
             ],
             [
              1,
              "#f0f921"
             ]
            ],
            "type": "surface"
           }
          ],
          "table": [
           {
            "cells": {
             "fill": {
              "color": "#EBF0F8"
             },
             "line": {
              "color": "white"
             }
            },
            "header": {
             "fill": {
              "color": "#C8D4E3"
             },
             "line": {
              "color": "white"
             }
            },
            "type": "table"
           }
          ]
         },
         "layout": {
          "annotationdefaults": {
           "arrowcolor": "#2a3f5f",
           "arrowhead": 0,
           "arrowwidth": 1
          },
          "autotypenumbers": "strict",
          "coloraxis": {
           "colorbar": {
            "outlinewidth": 0,
            "ticks": ""
           }
          },
          "colorscale": {
           "diverging": [
            [
             0,
             "#8e0152"
            ],
            [
             0.1,
             "#c51b7d"
            ],
            [
             0.2,
             "#de77ae"
            ],
            [
             0.3,
             "#f1b6da"
            ],
            [
             0.4,
             "#fde0ef"
            ],
            [
             0.5,
             "#f7f7f7"
            ],
            [
             0.6,
             "#e6f5d0"
            ],
            [
             0.7,
             "#b8e186"
            ],
            [
             0.8,
             "#7fbc41"
            ],
            [
             0.9,
             "#4d9221"
            ],
            [
             1,
             "#276419"
            ]
           ],
           "sequential": [
            [
             0,
             "#0d0887"
            ],
            [
             0.1111111111111111,
             "#46039f"
            ],
            [
             0.2222222222222222,
             "#7201a8"
            ],
            [
             0.3333333333333333,
             "#9c179e"
            ],
            [
             0.4444444444444444,
             "#bd3786"
            ],
            [
             0.5555555555555556,
             "#d8576b"
            ],
            [
             0.6666666666666666,
             "#ed7953"
            ],
            [
             0.7777777777777778,
             "#fb9f3a"
            ],
            [
             0.8888888888888888,
             "#fdca26"
            ],
            [
             1,
             "#f0f921"
            ]
           ],
           "sequentialminus": [
            [
             0,
             "#0d0887"
            ],
            [
             0.1111111111111111,
             "#46039f"
            ],
            [
             0.2222222222222222,
             "#7201a8"
            ],
            [
             0.3333333333333333,
             "#9c179e"
            ],
            [
             0.4444444444444444,
             "#bd3786"
            ],
            [
             0.5555555555555556,
             "#d8576b"
            ],
            [
             0.6666666666666666,
             "#ed7953"
            ],
            [
             0.7777777777777778,
             "#fb9f3a"
            ],
            [
             0.8888888888888888,
             "#fdca26"
            ],
            [
             1,
             "#f0f921"
            ]
           ]
          },
          "colorway": [
           "#636efa",
           "#EF553B",
           "#00cc96",
           "#ab63fa",
           "#FFA15A",
           "#19d3f3",
           "#FF6692",
           "#B6E880",
           "#FF97FF",
           "#FECB52"
          ],
          "font": {
           "color": "#2a3f5f"
          },
          "geo": {
           "bgcolor": "white",
           "lakecolor": "white",
           "landcolor": "#E5ECF6",
           "showlakes": true,
           "showland": true,
           "subunitcolor": "white"
          },
          "hoverlabel": {
           "align": "left"
          },
          "hovermode": "closest",
          "mapbox": {
           "style": "light"
          },
          "paper_bgcolor": "white",
          "plot_bgcolor": "#E5ECF6",
          "polar": {
           "angularaxis": {
            "gridcolor": "white",
            "linecolor": "white",
            "ticks": ""
           },
           "bgcolor": "#E5ECF6",
           "radialaxis": {
            "gridcolor": "white",
            "linecolor": "white",
            "ticks": ""
           }
          },
          "scene": {
           "xaxis": {
            "backgroundcolor": "#E5ECF6",
            "gridcolor": "white",
            "gridwidth": 2,
            "linecolor": "white",
            "showbackground": true,
            "ticks": "",
            "zerolinecolor": "white"
           },
           "yaxis": {
            "backgroundcolor": "#E5ECF6",
            "gridcolor": "white",
            "gridwidth": 2,
            "linecolor": "white",
            "showbackground": true,
            "ticks": "",
            "zerolinecolor": "white"
           },
           "zaxis": {
            "backgroundcolor": "#E5ECF6",
            "gridcolor": "white",
            "gridwidth": 2,
            "linecolor": "white",
            "showbackground": true,
            "ticks": "",
            "zerolinecolor": "white"
           }
          },
          "shapedefaults": {
           "line": {
            "color": "#2a3f5f"
           }
          },
          "ternary": {
           "aaxis": {
            "gridcolor": "white",
            "linecolor": "white",
            "ticks": ""
           },
           "baxis": {
            "gridcolor": "white",
            "linecolor": "white",
            "ticks": ""
           },
           "bgcolor": "#E5ECF6",
           "caxis": {
            "gridcolor": "white",
            "linecolor": "white",
            "ticks": ""
           }
          },
          "title": {
           "x": 0.05
          },
          "xaxis": {
           "automargin": true,
           "gridcolor": "white",
           "linecolor": "white",
           "ticks": "",
           "title": {
            "standoff": 15
           },
           "zerolinecolor": "white",
           "zerolinewidth": 2
          },
          "yaxis": {
           "automargin": true,
           "gridcolor": "white",
           "linecolor": "white",
           "ticks": "",
           "title": {
            "standoff": 15
           },
           "zerolinecolor": "white",
           "zerolinewidth": 2
          }
         }
        },
        "title": {
         "text": "Mean audience size per spot by station"
        },
        "xaxis": {
         "anchor": "y",
         "domain": [
          0,
          1
         ],
         "title": {
          "text": "audience_size_hundreds"
         }
        },
        "yaxis": {
         "anchor": "x",
         "domain": [
          0,
          1
         ],
         "title": {
          "text": "station_name"
         }
        }
       }
      }
     },
     "metadata": {},
     "output_type": "display_data"
    }
   ],
   "source": [
    "import plotly.express as px\n",
    "persil = spot_df[spot_df['clearcast_commercial_title'].str.contains(\"Persil\")]\n",
    "group_by_station = persil[persil['audience_name']==\"All Homes\"].groupby('station_name')['audience_size_hundreds'].mean().reset_index()\n",
    "\n",
    "fig = px.bar(group_by_station[group_by_station[\"audience_size_hundreds\"]>300], x='audience_size_hundreds', y='station_name', text_auto='.2s',\n",
    "            title=\"Mean audience size per spot by station\", height=1000)\n",
    "fig.show()"
   ]
  },
  {
   "cell_type": "markdown",
   "id": "09aaf7b0",
   "metadata": {},
   "source": [
    "### On average for each audience and station what percentage of the target audience was reached\n",
    "\n",
    "We can use pandas to create a matrix where each row is a station and each column is an audience. The values in the matrix will be the mean percentage of the target audience reached by Persil commercials broadcast on the station."
   ]
  },
  {
   "cell_type": "code",
   "execution_count": 9,
   "id": "2deb0eab",
   "metadata": {},
   "outputs": [
    {
     "data": {
      "text/html": [
       "<div>\n",
       "<style scoped>\n",
       "    .dataframe tbody tr th:only-of-type {\n",
       "        vertical-align: middle;\n",
       "    }\n",
       "\n",
       "    .dataframe tbody tr th {\n",
       "        vertical-align: top;\n",
       "    }\n",
       "\n",
       "    .dataframe thead th {\n",
       "        text-align: right;\n",
       "    }\n",
       "</style>\n",
       "<table border=\"1\" class=\"dataframe\">\n",
       "  <thead>\n",
       "    <tr style=\"text-align: right;\">\n",
       "      <th>station_name</th>\n",
       "      <th>Channel 5</th>\n",
       "      <th>ITV HD</th>\n",
       "      <th>ITV</th>\n",
       "      <th>Drama</th>\n",
       "      <th>Sky News</th>\n",
       "      <th>5USA</th>\n",
       "      <th>E4</th>\n",
       "      <th>Kerrang</th>\n",
       "      <th>Sky History</th>\n",
       "      <th>Quest</th>\n",
       "    </tr>\n",
       "    <tr>\n",
       "      <th>audience_name</th>\n",
       "      <th></th>\n",
       "      <th></th>\n",
       "      <th></th>\n",
       "      <th></th>\n",
       "      <th></th>\n",
       "      <th></th>\n",
       "      <th></th>\n",
       "      <th></th>\n",
       "      <th></th>\n",
       "      <th></th>\n",
       "    </tr>\n",
       "  </thead>\n",
       "  <tbody>\n",
       "    <tr>\n",
       "      <th>Adults 16-34</th>\n",
       "      <td>0.003166</td>\n",
       "      <td>0.000000</td>\n",
       "      <td>0.000000</td>\n",
       "      <td>0.000000</td>\n",
       "      <td>0.000000</td>\n",
       "      <td>0.000000</td>\n",
       "      <td>0.000000</td>\n",
       "      <td>0.000000</td>\n",
       "      <td>0.00000</td>\n",
       "      <td>0.000000</td>\n",
       "    </tr>\n",
       "    <tr>\n",
       "      <th>Adults 18-20</th>\n",
       "      <td>0.000000</td>\n",
       "      <td>0.004600</td>\n",
       "      <td>0.000000</td>\n",
       "      <td>0.000000</td>\n",
       "      <td>0.000000</td>\n",
       "      <td>0.000000</td>\n",
       "      <td>0.000000</td>\n",
       "      <td>0.000000</td>\n",
       "      <td>0.00000</td>\n",
       "      <td>0.000000</td>\n",
       "    </tr>\n",
       "    <tr>\n",
       "      <th>Adults 35-44</th>\n",
       "      <td>0.005883</td>\n",
       "      <td>0.003930</td>\n",
       "      <td>0.003286</td>\n",
       "      <td>0.000000</td>\n",
       "      <td>0.000000</td>\n",
       "      <td>0.000000</td>\n",
       "      <td>0.000000</td>\n",
       "      <td>0.000000</td>\n",
       "      <td>0.00000</td>\n",
       "      <td>0.000000</td>\n",
       "    </tr>\n",
       "    <tr>\n",
       "      <th>Adults 45-49</th>\n",
       "      <td>0.009966</td>\n",
       "      <td>0.003662</td>\n",
       "      <td>0.007181</td>\n",
       "      <td>0.003299</td>\n",
       "      <td>0.003857</td>\n",
       "      <td>0.000000</td>\n",
       "      <td>0.000000</td>\n",
       "      <td>0.000000</td>\n",
       "      <td>0.00000</td>\n",
       "      <td>0.000000</td>\n",
       "    </tr>\n",
       "    <tr>\n",
       "      <th>Adults 45-54</th>\n",
       "      <td>0.011160</td>\n",
       "      <td>0.010770</td>\n",
       "      <td>0.009088</td>\n",
       "      <td>0.000000</td>\n",
       "      <td>0.006363</td>\n",
       "      <td>0.000000</td>\n",
       "      <td>0.000000</td>\n",
       "      <td>0.000000</td>\n",
       "      <td>0.00000</td>\n",
       "      <td>0.000000</td>\n",
       "    </tr>\n",
       "    <tr>\n",
       "      <th>Adults 55-64</th>\n",
       "      <td>0.014960</td>\n",
       "      <td>0.009471</td>\n",
       "      <td>0.013648</td>\n",
       "      <td>0.000000</td>\n",
       "      <td>0.003243</td>\n",
       "      <td>0.000000</td>\n",
       "      <td>0.000000</td>\n",
       "      <td>0.000000</td>\n",
       "      <td>0.00000</td>\n",
       "      <td>0.000000</td>\n",
       "    </tr>\n",
       "    <tr>\n",
       "      <th>Adults AB</th>\n",
       "      <td>0.006954</td>\n",
       "      <td>0.000000</td>\n",
       "      <td>0.004149</td>\n",
       "      <td>0.000000</td>\n",
       "      <td>0.000000</td>\n",
       "      <td>0.000000</td>\n",
       "      <td>0.000000</td>\n",
       "      <td>0.000000</td>\n",
       "      <td>0.00000</td>\n",
       "      <td>0.000000</td>\n",
       "    </tr>\n",
       "    <tr>\n",
       "      <th>Adults ABC1</th>\n",
       "      <td>0.008225</td>\n",
       "      <td>0.004323</td>\n",
       "      <td>0.004813</td>\n",
       "      <td>0.000000</td>\n",
       "      <td>0.000000</td>\n",
       "      <td>0.000000</td>\n",
       "      <td>0.000000</td>\n",
       "      <td>0.000000</td>\n",
       "      <td>0.00000</td>\n",
       "      <td>0.000000</td>\n",
       "    </tr>\n",
       "    <tr>\n",
       "      <th>Adults ABC1 35-54</th>\n",
       "      <td>0.007075</td>\n",
       "      <td>0.004964</td>\n",
       "      <td>0.003876</td>\n",
       "      <td>0.000000</td>\n",
       "      <td>0.003920</td>\n",
       "      <td>0.000000</td>\n",
       "      <td>0.000000</td>\n",
       "      <td>0.000000</td>\n",
       "      <td>0.00000</td>\n",
       "      <td>0.000000</td>\n",
       "    </tr>\n",
       "    <tr>\n",
       "      <th>Adults C2</th>\n",
       "      <td>0.012418</td>\n",
       "      <td>0.006908</td>\n",
       "      <td>0.009512</td>\n",
       "      <td>0.000000</td>\n",
       "      <td>0.000000</td>\n",
       "      <td>0.000000</td>\n",
       "      <td>0.000000</td>\n",
       "      <td>0.000000</td>\n",
       "      <td>0.00000</td>\n",
       "      <td>0.000000</td>\n",
       "    </tr>\n",
       "    <tr>\n",
       "      <th>Adults working full-time</th>\n",
       "      <td>0.007776</td>\n",
       "      <td>0.004999</td>\n",
       "      <td>0.005539</td>\n",
       "      <td>0.000000</td>\n",
       "      <td>0.000000</td>\n",
       "      <td>0.000000</td>\n",
       "      <td>0.000000</td>\n",
       "      <td>0.000000</td>\n",
       "      <td>0.00000</td>\n",
       "      <td>0.000000</td>\n",
       "    </tr>\n",
       "    <tr>\n",
       "      <th>All Adults</th>\n",
       "      <td>0.010311</td>\n",
       "      <td>0.005966</td>\n",
       "      <td>0.007384</td>\n",
       "      <td>0.000000</td>\n",
       "      <td>0.000000</td>\n",
       "      <td>0.000000</td>\n",
       "      <td>0.000000</td>\n",
       "      <td>0.000000</td>\n",
       "      <td>0.00000</td>\n",
       "      <td>0.000000</td>\n",
       "    </tr>\n",
       "    <tr>\n",
       "      <th>All Homes</th>\n",
       "      <td>0.013877</td>\n",
       "      <td>0.009326</td>\n",
       "      <td>0.011406</td>\n",
       "      <td>0.000000</td>\n",
       "      <td>0.004099</td>\n",
       "      <td>0.003065</td>\n",
       "      <td>0.003255</td>\n",
       "      <td>0.000000</td>\n",
       "      <td>0.00000</td>\n",
       "      <td>0.000000</td>\n",
       "    </tr>\n",
       "    <tr>\n",
       "      <th>All Houseperson</th>\n",
       "      <td>0.012107</td>\n",
       "      <td>0.007464</td>\n",
       "      <td>0.009635</td>\n",
       "      <td>0.000000</td>\n",
       "      <td>0.000000</td>\n",
       "      <td>0.000000</td>\n",
       "      <td>0.000000</td>\n",
       "      <td>0.000000</td>\n",
       "      <td>0.00000</td>\n",
       "      <td>0.000000</td>\n",
       "    </tr>\n",
       "    <tr>\n",
       "      <th>All Men</th>\n",
       "      <td>0.009286</td>\n",
       "      <td>0.004066</td>\n",
       "      <td>0.005163</td>\n",
       "      <td>0.000000</td>\n",
       "      <td>0.003032</td>\n",
       "      <td>0.000000</td>\n",
       "      <td>0.000000</td>\n",
       "      <td>0.000000</td>\n",
       "      <td>0.00000</td>\n",
       "      <td>0.000000</td>\n",
       "    </tr>\n",
       "    <tr>\n",
       "      <th>Boys 04-15</th>\n",
       "      <td>0.000000</td>\n",
       "      <td>0.003047</td>\n",
       "      <td>0.000000</td>\n",
       "      <td>0.000000</td>\n",
       "      <td>0.000000</td>\n",
       "      <td>0.000000</td>\n",
       "      <td>0.000000</td>\n",
       "      <td>0.000000</td>\n",
       "      <td>0.00000</td>\n",
       "      <td>0.000000</td>\n",
       "    </tr>\n",
       "    <tr>\n",
       "      <th>Boys 10-12</th>\n",
       "      <td>0.000000</td>\n",
       "      <td>0.012210</td>\n",
       "      <td>0.000000</td>\n",
       "      <td>0.000000</td>\n",
       "      <td>0.000000</td>\n",
       "      <td>0.000000</td>\n",
       "      <td>0.000000</td>\n",
       "      <td>0.000000</td>\n",
       "      <td>0.00000</td>\n",
       "      <td>0.000000</td>\n",
       "    </tr>\n",
       "    <tr>\n",
       "      <th>Children 10-12</th>\n",
       "      <td>0.003480</td>\n",
       "      <td>0.006656</td>\n",
       "      <td>0.005187</td>\n",
       "      <td>0.000000</td>\n",
       "      <td>0.000000</td>\n",
       "      <td>0.000000</td>\n",
       "      <td>0.000000</td>\n",
       "      <td>0.000000</td>\n",
       "      <td>0.00000</td>\n",
       "      <td>0.000000</td>\n",
       "    </tr>\n",
       "    <tr>\n",
       "      <th>Houseperson 16-34</th>\n",
       "      <td>0.004104</td>\n",
       "      <td>0.000000</td>\n",
       "      <td>0.000000</td>\n",
       "      <td>0.000000</td>\n",
       "      <td>0.000000</td>\n",
       "      <td>0.000000</td>\n",
       "      <td>0.000000</td>\n",
       "      <td>0.000000</td>\n",
       "      <td>0.00000</td>\n",
       "      <td>0.000000</td>\n",
       "    </tr>\n",
       "    <tr>\n",
       "      <th>Houseperson 16-44</th>\n",
       "      <td>0.005428</td>\n",
       "      <td>0.003597</td>\n",
       "      <td>0.000000</td>\n",
       "      <td>0.000000</td>\n",
       "      <td>0.000000</td>\n",
       "      <td>0.000000</td>\n",
       "      <td>0.000000</td>\n",
       "      <td>0.000000</td>\n",
       "      <td>0.00000</td>\n",
       "      <td>0.000000</td>\n",
       "    </tr>\n",
       "    <tr>\n",
       "      <th>Houseperson 35-54</th>\n",
       "      <td>0.009015</td>\n",
       "      <td>0.009700</td>\n",
       "      <td>0.006624</td>\n",
       "      <td>0.000000</td>\n",
       "      <td>0.004766</td>\n",
       "      <td>0.000000</td>\n",
       "      <td>0.003030</td>\n",
       "      <td>0.000000</td>\n",
       "      <td>0.00000</td>\n",
       "      <td>0.000000</td>\n",
       "    </tr>\n",
       "    <tr>\n",
       "      <th>Houseperson ABC1</th>\n",
       "      <td>0.009775</td>\n",
       "      <td>0.005413</td>\n",
       "      <td>0.006295</td>\n",
       "      <td>0.000000</td>\n",
       "      <td>0.000000</td>\n",
       "      <td>0.000000</td>\n",
       "      <td>0.000000</td>\n",
       "      <td>0.000000</td>\n",
       "      <td>0.00000</td>\n",
       "      <td>0.000000</td>\n",
       "    </tr>\n",
       "    <tr>\n",
       "      <th>Houseperson ABC1 16-34</th>\n",
       "      <td>0.000000</td>\n",
       "      <td>0.000000</td>\n",
       "      <td>0.003581</td>\n",
       "      <td>0.000000</td>\n",
       "      <td>0.000000</td>\n",
       "      <td>0.000000</td>\n",
       "      <td>0.000000</td>\n",
       "      <td>0.000000</td>\n",
       "      <td>0.00000</td>\n",
       "      <td>0.000000</td>\n",
       "    </tr>\n",
       "    <tr>\n",
       "      <th>Houseperson with children 0-15</th>\n",
       "      <td>0.006861</td>\n",
       "      <td>0.004311</td>\n",
       "      <td>0.006708</td>\n",
       "      <td>0.000000</td>\n",
       "      <td>0.000000</td>\n",
       "      <td>0.000000</td>\n",
       "      <td>0.000000</td>\n",
       "      <td>0.000000</td>\n",
       "      <td>0.00000</td>\n",
       "      <td>0.000000</td>\n",
       "    </tr>\n",
       "    <tr>\n",
       "      <th>Houseperson with children 0-3</th>\n",
       "      <td>0.004072</td>\n",
       "      <td>0.000000</td>\n",
       "      <td>0.000000</td>\n",
       "      <td>0.000000</td>\n",
       "      <td>0.000000</td>\n",
       "      <td>0.000000</td>\n",
       "      <td>0.000000</td>\n",
       "      <td>0.000000</td>\n",
       "      <td>0.00000</td>\n",
       "      <td>0.000000</td>\n",
       "    </tr>\n",
       "    <tr>\n",
       "      <th>Houseperson working full-time</th>\n",
       "      <td>0.008730</td>\n",
       "      <td>0.006427</td>\n",
       "      <td>0.007125</td>\n",
       "      <td>0.000000</td>\n",
       "      <td>0.003210</td>\n",
       "      <td>0.000000</td>\n",
       "      <td>0.000000</td>\n",
       "      <td>0.000000</td>\n",
       "      <td>0.00000</td>\n",
       "      <td>0.000000</td>\n",
       "    </tr>\n",
       "    <tr>\n",
       "      <th>Individuals AB</th>\n",
       "      <td>0.005971</td>\n",
       "      <td>0.000000</td>\n",
       "      <td>0.003707</td>\n",
       "      <td>0.000000</td>\n",
       "      <td>0.000000</td>\n",
       "      <td>0.000000</td>\n",
       "      <td>0.000000</td>\n",
       "      <td>0.000000</td>\n",
       "      <td>0.00000</td>\n",
       "      <td>0.000000</td>\n",
       "    </tr>\n",
       "    <tr>\n",
       "      <th>Individuals C1</th>\n",
       "      <td>0.008251</td>\n",
       "      <td>0.005172</td>\n",
       "      <td>0.004616</td>\n",
       "      <td>0.000000</td>\n",
       "      <td>0.000000</td>\n",
       "      <td>0.000000</td>\n",
       "      <td>0.000000</td>\n",
       "      <td>0.000000</td>\n",
       "      <td>0.00000</td>\n",
       "      <td>0.000000</td>\n",
       "    </tr>\n",
       "    <tr>\n",
       "      <th>Individuals C2</th>\n",
       "      <td>0.010638</td>\n",
       "      <td>0.005839</td>\n",
       "      <td>0.008394</td>\n",
       "      <td>0.000000</td>\n",
       "      <td>0.000000</td>\n",
       "      <td>0.000000</td>\n",
       "      <td>0.000000</td>\n",
       "      <td>0.000000</td>\n",
       "      <td>0.00000</td>\n",
       "      <td>0.000000</td>\n",
       "    </tr>\n",
       "    <tr>\n",
       "      <th>Men 16-34</th>\n",
       "      <td>0.003254</td>\n",
       "      <td>0.000000</td>\n",
       "      <td>0.000000</td>\n",
       "      <td>0.000000</td>\n",
       "      <td>0.000000</td>\n",
       "      <td>0.000000</td>\n",
       "      <td>0.000000</td>\n",
       "      <td>0.000000</td>\n",
       "      <td>0.00000</td>\n",
       "      <td>0.000000</td>\n",
       "    </tr>\n",
       "    <tr>\n",
       "      <th>Men 35-44</th>\n",
       "      <td>0.004232</td>\n",
       "      <td>0.000000</td>\n",
       "      <td>0.003132</td>\n",
       "      <td>0.000000</td>\n",
       "      <td>0.004573</td>\n",
       "      <td>0.000000</td>\n",
       "      <td>0.000000</td>\n",
       "      <td>0.003767</td>\n",
       "      <td>0.00000</td>\n",
       "      <td>0.000000</td>\n",
       "    </tr>\n",
       "    <tr>\n",
       "      <th>Men 45-49</th>\n",
       "      <td>0.010858</td>\n",
       "      <td>0.003935</td>\n",
       "      <td>0.005859</td>\n",
       "      <td>0.003692</td>\n",
       "      <td>0.005083</td>\n",
       "      <td>0.000000</td>\n",
       "      <td>0.000000</td>\n",
       "      <td>0.000000</td>\n",
       "      <td>0.00312</td>\n",
       "      <td>0.000000</td>\n",
       "    </tr>\n",
       "    <tr>\n",
       "      <th>Men 45-54</th>\n",
       "      <td>0.010568</td>\n",
       "      <td>0.007111</td>\n",
       "      <td>0.004800</td>\n",
       "      <td>0.000000</td>\n",
       "      <td>0.006815</td>\n",
       "      <td>0.000000</td>\n",
       "      <td>0.000000</td>\n",
       "      <td>0.000000</td>\n",
       "      <td>0.00000</td>\n",
       "      <td>0.000000</td>\n",
       "    </tr>\n",
       "    <tr>\n",
       "      <th>Men 55-64</th>\n",
       "      <td>0.013575</td>\n",
       "      <td>0.005752</td>\n",
       "      <td>0.009120</td>\n",
       "      <td>0.000000</td>\n",
       "      <td>0.003661</td>\n",
       "      <td>0.000000</td>\n",
       "      <td>0.000000</td>\n",
       "      <td>0.000000</td>\n",
       "      <td>0.00000</td>\n",
       "      <td>0.003571</td>\n",
       "    </tr>\n",
       "    <tr>\n",
       "      <th>Men AB</th>\n",
       "      <td>0.005933</td>\n",
       "      <td>0.000000</td>\n",
       "      <td>0.003312</td>\n",
       "      <td>0.000000</td>\n",
       "      <td>0.003531</td>\n",
       "      <td>0.000000</td>\n",
       "      <td>0.000000</td>\n",
       "      <td>0.000000</td>\n",
       "      <td>0.00000</td>\n",
       "      <td>0.000000</td>\n",
       "    </tr>\n",
       "    <tr>\n",
       "      <th>Men AB working full-time</th>\n",
       "      <td>0.004622</td>\n",
       "      <td>0.000000</td>\n",
       "      <td>0.003045</td>\n",
       "      <td>0.000000</td>\n",
       "      <td>0.003896</td>\n",
       "      <td>0.000000</td>\n",
       "      <td>0.000000</td>\n",
       "      <td>0.000000</td>\n",
       "      <td>0.00000</td>\n",
       "      <td>0.000000</td>\n",
       "    </tr>\n",
       "    <tr>\n",
       "      <th>Men ABC1</th>\n",
       "      <td>0.007108</td>\n",
       "      <td>0.003788</td>\n",
       "      <td>0.003851</td>\n",
       "      <td>0.000000</td>\n",
       "      <td>0.003609</td>\n",
       "      <td>0.000000</td>\n",
       "      <td>0.000000</td>\n",
       "      <td>0.000000</td>\n",
       "      <td>0.00000</td>\n",
       "      <td>0.000000</td>\n",
       "    </tr>\n",
       "    <tr>\n",
       "      <th>Men ABC1 16-34</th>\n",
       "      <td>0.000000</td>\n",
       "      <td>0.000000</td>\n",
       "      <td>0.003398</td>\n",
       "      <td>0.000000</td>\n",
       "      <td>0.000000</td>\n",
       "      <td>0.000000</td>\n",
       "      <td>0.000000</td>\n",
       "      <td>0.000000</td>\n",
       "      <td>0.00000</td>\n",
       "      <td>0.000000</td>\n",
       "    </tr>\n",
       "    <tr>\n",
       "      <th>Men ABC1 16-44</th>\n",
       "      <td>0.000000</td>\n",
       "      <td>0.000000</td>\n",
       "      <td>0.003267</td>\n",
       "      <td>0.000000</td>\n",
       "      <td>0.000000</td>\n",
       "      <td>0.000000</td>\n",
       "      <td>0.000000</td>\n",
       "      <td>0.000000</td>\n",
       "      <td>0.00000</td>\n",
       "      <td>0.000000</td>\n",
       "    </tr>\n",
       "    <tr>\n",
       "      <th>Men ABC1 35-54</th>\n",
       "      <td>0.006140</td>\n",
       "      <td>0.003605</td>\n",
       "      <td>0.003306</td>\n",
       "      <td>0.000000</td>\n",
       "      <td>0.005638</td>\n",
       "      <td>0.000000</td>\n",
       "      <td>0.000000</td>\n",
       "      <td>0.000000</td>\n",
       "      <td>0.00000</td>\n",
       "      <td>0.000000</td>\n",
       "    </tr>\n",
       "    <tr>\n",
       "      <th>Men ABC1 working full-time</th>\n",
       "      <td>0.005978</td>\n",
       "      <td>0.003159</td>\n",
       "      <td>0.000000</td>\n",
       "      <td>0.000000</td>\n",
       "      <td>0.003983</td>\n",
       "      <td>0.000000</td>\n",
       "      <td>0.000000</td>\n",
       "      <td>0.000000</td>\n",
       "      <td>0.00000</td>\n",
       "      <td>0.000000</td>\n",
       "    </tr>\n",
       "    <tr>\n",
       "      <th>Men C2</th>\n",
       "      <td>0.012254</td>\n",
       "      <td>0.003497</td>\n",
       "      <td>0.005325</td>\n",
       "      <td>0.000000</td>\n",
       "      <td>0.000000</td>\n",
       "      <td>0.000000</td>\n",
       "      <td>0.000000</td>\n",
       "      <td>0.000000</td>\n",
       "      <td>0.00000</td>\n",
       "      <td>0.003143</td>\n",
       "    </tr>\n",
       "    <tr>\n",
       "      <th>Men working full-time</th>\n",
       "      <td>0.007473</td>\n",
       "      <td>0.003538</td>\n",
       "      <td>0.003994</td>\n",
       "      <td>0.000000</td>\n",
       "      <td>0.000000</td>\n",
       "      <td>0.000000</td>\n",
       "      <td>0.000000</td>\n",
       "      <td>0.000000</td>\n",
       "      <td>0.00000</td>\n",
       "      <td>0.000000</td>\n",
       "    </tr>\n",
       "  </tbody>\n",
       "</table>\n",
       "</div>"
      ],
      "text/plain": [
       "station_name                    Channel 5    ITV HD       ITV     Drama  \\\n",
       "audience_name                                                             \n",
       "Adults 16-34                     0.003166  0.000000  0.000000  0.000000   \n",
       "Adults 18-20                     0.000000  0.004600  0.000000  0.000000   \n",
       "Adults 35-44                     0.005883  0.003930  0.003286  0.000000   \n",
       "Adults 45-49                     0.009966  0.003662  0.007181  0.003299   \n",
       "Adults 45-54                     0.011160  0.010770  0.009088  0.000000   \n",
       "Adults 55-64                     0.014960  0.009471  0.013648  0.000000   \n",
       "Adults AB                        0.006954  0.000000  0.004149  0.000000   \n",
       "Adults ABC1                      0.008225  0.004323  0.004813  0.000000   \n",
       "Adults ABC1 35-54                0.007075  0.004964  0.003876  0.000000   \n",
       "Adults C2                        0.012418  0.006908  0.009512  0.000000   \n",
       "Adults working full-time         0.007776  0.004999  0.005539  0.000000   \n",
       "All Adults                       0.010311  0.005966  0.007384  0.000000   \n",
       "All Homes                        0.013877  0.009326  0.011406  0.000000   \n",
       "All Houseperson                  0.012107  0.007464  0.009635  0.000000   \n",
       "All Men                          0.009286  0.004066  0.005163  0.000000   \n",
       "Boys 04-15                       0.000000  0.003047  0.000000  0.000000   \n",
       "Boys 10-12                       0.000000  0.012210  0.000000  0.000000   \n",
       "Children 10-12                   0.003480  0.006656  0.005187  0.000000   \n",
       "Houseperson 16-34                0.004104  0.000000  0.000000  0.000000   \n",
       "Houseperson 16-44                0.005428  0.003597  0.000000  0.000000   \n",
       "Houseperson 35-54                0.009015  0.009700  0.006624  0.000000   \n",
       "Houseperson ABC1                 0.009775  0.005413  0.006295  0.000000   \n",
       "Houseperson ABC1 16-34           0.000000  0.000000  0.003581  0.000000   \n",
       "Houseperson with children 0-15   0.006861  0.004311  0.006708  0.000000   \n",
       "Houseperson with children 0-3    0.004072  0.000000  0.000000  0.000000   \n",
       "Houseperson working full-time    0.008730  0.006427  0.007125  0.000000   \n",
       "Individuals AB                   0.005971  0.000000  0.003707  0.000000   \n",
       "Individuals C1                   0.008251  0.005172  0.004616  0.000000   \n",
       "Individuals C2                   0.010638  0.005839  0.008394  0.000000   \n",
       "Men 16-34                        0.003254  0.000000  0.000000  0.000000   \n",
       "Men 35-44                        0.004232  0.000000  0.003132  0.000000   \n",
       "Men 45-49                        0.010858  0.003935  0.005859  0.003692   \n",
       "Men 45-54                        0.010568  0.007111  0.004800  0.000000   \n",
       "Men 55-64                        0.013575  0.005752  0.009120  0.000000   \n",
       "Men AB                           0.005933  0.000000  0.003312  0.000000   \n",
       "Men AB working full-time         0.004622  0.000000  0.003045  0.000000   \n",
       "Men ABC1                         0.007108  0.003788  0.003851  0.000000   \n",
       "Men ABC1 16-34                   0.000000  0.000000  0.003398  0.000000   \n",
       "Men ABC1 16-44                   0.000000  0.000000  0.003267  0.000000   \n",
       "Men ABC1 35-54                   0.006140  0.003605  0.003306  0.000000   \n",
       "Men ABC1 working full-time       0.005978  0.003159  0.000000  0.000000   \n",
       "Men C2                           0.012254  0.003497  0.005325  0.000000   \n",
       "Men working full-time            0.007473  0.003538  0.003994  0.000000   \n",
       "\n",
       "station_name                    Sky News      5USA        E4   Kerrang  \\\n",
       "audience_name                                                            \n",
       "Adults 16-34                    0.000000  0.000000  0.000000  0.000000   \n",
       "Adults 18-20                    0.000000  0.000000  0.000000  0.000000   \n",
       "Adults 35-44                    0.000000  0.000000  0.000000  0.000000   \n",
       "Adults 45-49                    0.003857  0.000000  0.000000  0.000000   \n",
       "Adults 45-54                    0.006363  0.000000  0.000000  0.000000   \n",
       "Adults 55-64                    0.003243  0.000000  0.000000  0.000000   \n",
       "Adults AB                       0.000000  0.000000  0.000000  0.000000   \n",
       "Adults ABC1                     0.000000  0.000000  0.000000  0.000000   \n",
       "Adults ABC1 35-54               0.003920  0.000000  0.000000  0.000000   \n",
       "Adults C2                       0.000000  0.000000  0.000000  0.000000   \n",
       "Adults working full-time        0.000000  0.000000  0.000000  0.000000   \n",
       "All Adults                      0.000000  0.000000  0.000000  0.000000   \n",
       "All Homes                       0.004099  0.003065  0.003255  0.000000   \n",
       "All Houseperson                 0.000000  0.000000  0.000000  0.000000   \n",
       "All Men                         0.003032  0.000000  0.000000  0.000000   \n",
       "Boys 04-15                      0.000000  0.000000  0.000000  0.000000   \n",
       "Boys 10-12                      0.000000  0.000000  0.000000  0.000000   \n",
       "Children 10-12                  0.000000  0.000000  0.000000  0.000000   \n",
       "Houseperson 16-34               0.000000  0.000000  0.000000  0.000000   \n",
       "Houseperson 16-44               0.000000  0.000000  0.000000  0.000000   \n",
       "Houseperson 35-54               0.004766  0.000000  0.003030  0.000000   \n",
       "Houseperson ABC1                0.000000  0.000000  0.000000  0.000000   \n",
       "Houseperson ABC1 16-34          0.000000  0.000000  0.000000  0.000000   \n",
       "Houseperson with children 0-15  0.000000  0.000000  0.000000  0.000000   \n",
       "Houseperson with children 0-3   0.000000  0.000000  0.000000  0.000000   \n",
       "Houseperson working full-time   0.003210  0.000000  0.000000  0.000000   \n",
       "Individuals AB                  0.000000  0.000000  0.000000  0.000000   \n",
       "Individuals C1                  0.000000  0.000000  0.000000  0.000000   \n",
       "Individuals C2                  0.000000  0.000000  0.000000  0.000000   \n",
       "Men 16-34                       0.000000  0.000000  0.000000  0.000000   \n",
       "Men 35-44                       0.004573  0.000000  0.000000  0.003767   \n",
       "Men 45-49                       0.005083  0.000000  0.000000  0.000000   \n",
       "Men 45-54                       0.006815  0.000000  0.000000  0.000000   \n",
       "Men 55-64                       0.003661  0.000000  0.000000  0.000000   \n",
       "Men AB                          0.003531  0.000000  0.000000  0.000000   \n",
       "Men AB working full-time        0.003896  0.000000  0.000000  0.000000   \n",
       "Men ABC1                        0.003609  0.000000  0.000000  0.000000   \n",
       "Men ABC1 16-34                  0.000000  0.000000  0.000000  0.000000   \n",
       "Men ABC1 16-44                  0.000000  0.000000  0.000000  0.000000   \n",
       "Men ABC1 35-54                  0.005638  0.000000  0.000000  0.000000   \n",
       "Men ABC1 working full-time      0.003983  0.000000  0.000000  0.000000   \n",
       "Men C2                          0.000000  0.000000  0.000000  0.000000   \n",
       "Men working full-time           0.000000  0.000000  0.000000  0.000000   \n",
       "\n",
       "station_name                    Sky History     Quest  \n",
       "audience_name                                          \n",
       "Adults 16-34                        0.00000  0.000000  \n",
       "Adults 18-20                        0.00000  0.000000  \n",
       "Adults 35-44                        0.00000  0.000000  \n",
       "Adults 45-49                        0.00000  0.000000  \n",
       "Adults 45-54                        0.00000  0.000000  \n",
       "Adults 55-64                        0.00000  0.000000  \n",
       "Adults AB                           0.00000  0.000000  \n",
       "Adults ABC1                         0.00000  0.000000  \n",
       "Adults ABC1 35-54                   0.00000  0.000000  \n",
       "Adults C2                           0.00000  0.000000  \n",
       "Adults working full-time            0.00000  0.000000  \n",
       "All Adults                          0.00000  0.000000  \n",
       "All Homes                           0.00000  0.000000  \n",
       "All Houseperson                     0.00000  0.000000  \n",
       "All Men                             0.00000  0.000000  \n",
       "Boys 04-15                          0.00000  0.000000  \n",
       "Boys 10-12                          0.00000  0.000000  \n",
       "Children 10-12                      0.00000  0.000000  \n",
       "Houseperson 16-34                   0.00000  0.000000  \n",
       "Houseperson 16-44                   0.00000  0.000000  \n",
       "Houseperson 35-54                   0.00000  0.000000  \n",
       "Houseperson ABC1                    0.00000  0.000000  \n",
       "Houseperson ABC1 16-34              0.00000  0.000000  \n",
       "Houseperson with children 0-15      0.00000  0.000000  \n",
       "Houseperson with children 0-3       0.00000  0.000000  \n",
       "Houseperson working full-time       0.00000  0.000000  \n",
       "Individuals AB                      0.00000  0.000000  \n",
       "Individuals C1                      0.00000  0.000000  \n",
       "Individuals C2                      0.00000  0.000000  \n",
       "Men 16-34                           0.00000  0.000000  \n",
       "Men 35-44                           0.00000  0.000000  \n",
       "Men 45-49                           0.00312  0.000000  \n",
       "Men 45-54                           0.00000  0.000000  \n",
       "Men 55-64                           0.00000  0.003571  \n",
       "Men AB                              0.00000  0.000000  \n",
       "Men AB working full-time            0.00000  0.000000  \n",
       "Men ABC1                            0.00000  0.000000  \n",
       "Men ABC1 16-34                      0.00000  0.000000  \n",
       "Men ABC1 16-44                      0.00000  0.000000  \n",
       "Men ABC1 35-54                      0.00000  0.000000  \n",
       "Men ABC1 working full-time          0.00000  0.000000  \n",
       "Men C2                              0.00000  0.003143  \n",
       "Men working full-time               0.00000  0.000000  "
      ]
     },
     "execution_count": 9,
     "metadata": {},
     "output_type": "execute_result"
    }
   ],
   "source": [
    "persil=persil.assign(audience_penetration = persil['audience_size_hundreds']/persil['audience_target_size_hundreds'])\n",
    "group_by_audience_and_station = persil.groupby(['audience_name', 'station_name'])['audience_penetration'].mean()\n",
    "group_by_audience_and_station = group_by_audience_and_station[group_by_audience_and_station>0.003].unstack().fillna(0)\n",
    "group_by_audience_and_station"
   ]
  },
  {
   "cell_type": "markdown",
   "id": "3a151320",
   "metadata": {},
   "source": [
    "This can be visualised using a seaborn clustermap"
   ]
  },
  {
   "cell_type": "code",
   "execution_count": 10,
   "id": "2a90d2c8",
   "metadata": {},
   "outputs": [
    {
     "data": {
      "image/png": "[encoded data removed]",
      "text/plain": [
       "<Figure size 2500x2000 with 4 Axes>"
      ]
     },
     "metadata": {},
     "output_type": "display_data"
    }
   ],
   "source": [
    "import seaborn as sns\n",
    "_ = sns.clustermap(group_by_audience_and_station, figsize = (25,20))"
   ]
  },
  {
   "cell_type": "markdown",
   "id": "45ff51a6",
   "metadata": {},
   "source": [
    "## How did the spots do over time?\n",
    "\n",
    "Say we wanted to focus in on Sky, and to look at how individual spots performed over time. We could do this with the following code:"
   ]
  },
  {
   "cell_type": "code",
   "execution_count": 11,
   "id": "e210c96a",
   "metadata": {},
   "outputs": [
    {
     "name": "stderr",
     "output_type": "stream",
     "text": [
      "/Users/simon_business/anaconda3/envs/pybarb/lib/python3.9/site-packages/_plotly_utils/basevalidators.py:105: FutureWarning:\n",
      "\n",
      "The behavior of DatetimeProperties.to_pydatetime is deprecated, in a future version this will return a Series containing python datetime objects instead of an ndarray. To retain the old behavior, call `np.array` on the result\n",
      "\n"
     ]
    },
    {
     "data": {
      "application/vnd.plotly.v1+json": {
       "config": {
        "plotlyServerURL": "https://plot.ly"
       },
       "data": [
        {
         "hovertemplate": "station_name=Sky Arts<br>spot_start_datetime=%{x}<br>audience_size_hundreds=%{y}<extra></extra>",
         "legendgroup": "Sky Arts",
         "marker": {
          "color": "#636efa",
          "size": 10,
          "symbol": "circle"
         },
         "mode": "markers",
         "name": "Sky Arts",
         "orientation": "v",
         "showlegend": true,
         "type": "scatter",
         "x": [
          "2022-03-19T02:08:05",
          "2022-03-25T00:16:39",
          "2022-03-25T20:03:09",
          "2022-03-26T19:30:08",
          "2022-03-27T21:18:45",
          "2022-03-27T22:05:30",
          "2022-03-27T22:18:39",
          "2022-03-28T21:44:37",
          "2022-03-29T19:28:29",
          "2022-03-30T23:42:27",
          "2022-03-31T20:41:57",
          "2022-03-31T21:45:21",
          "2022-03-31T23:19:41",
          "2022-03-31T23:57:55"
         ],
         "xaxis": "x",
         "y": [
          0,
          154,
          332,
          17,
          109,
          111,
          111,
          807,
          376,
          184,
          214,
          63,
          163,
          169
         ],
         "yaxis": "y"
        },
        {
         "hovertemplate": "station_name=Sky Atlantic<br>spot_start_datetime=%{x}<br>audience_size_hundreds=%{y}<extra></extra>",
         "legendgroup": "Sky Atlantic",
         "marker": {
          "color": "#EF553B",
          "size": 10,
          "symbol": "circle"
         },
         "mode": "markers",
         "name": "Sky Atlantic",
         "orientation": "v",
         "showlegend": true,
         "type": "scatter",
         "x": [
          "2022-03-14T20:18:57",
          "2022-03-16T20:56:24",
          "2022-03-19T21:25:46",
          "2022-03-19T22:02:14",
          "2022-03-19T22:54:41",
          "2022-03-19T23:49:52",
          "2022-03-20T00:58:23",
          "2022-03-20T01:37:18",
          "2022-03-20T02:01:04",
          "2022-03-20T02:38:06",
          "2022-03-20T02:53:35",
          "2022-03-20T03:14:19",
          "2022-03-21T20:11:47",
          "2022-03-23T23:08:23",
          "2022-03-24T02:22:49",
          "2022-03-25T19:28:58",
          "2022-03-25T21:37:22",
          "2022-03-25T22:18:39",
          "2022-03-25T22:57:26",
          "2022-03-26T21:17:13",
          "2022-03-26T22:00:21",
          "2022-03-26T22:49:12",
          "2022-03-27T22:23:19",
          "2022-03-28T05:58:20",
          "2022-03-29T23:48:24",
          "2022-03-30T23:48:01",
          "2022-04-01T21:58:26",
          "2022-04-02T00:18:50",
          "2022-04-02T04:44:46"
         ],
         "xaxis": "x",
         "y": [
          95,
          92,
          28,
          0,
          0,
          287,
          14,
          0,
          0,
          0,
          0,
          0,
          63,
          0,
          0,
          50,
          112,
          0,
          0,
          0,
          0,
          0,
          0,
          0,
          0,
          0,
          34,
          0,
          0
         ],
         "yaxis": "y"
        },
        {
         "hovertemplate": "station_name=Sky Atlantic +1<br>spot_start_datetime=%{x}<br>audience_size_hundreds=%{y}<extra></extra>",
         "legendgroup": "Sky Atlantic +1",
         "marker": {
          "color": "#00cc96",
          "size": 10,
          "symbol": "circle"
         },
         "mode": "markers",
         "name": "Sky Atlantic +1",
         "orientation": "v",
         "showlegend": true,
         "type": "scatter",
         "x": [
          "2022-03-14T21:18:57",
          "2022-03-16T21:56:24",
          "2022-03-19T22:25:46",
          "2022-03-19T23:02:14",
          "2022-03-19T23:54:41",
          "2022-03-20T00:49:52",
          "2022-03-20T01:58:23",
          "2022-03-20T02:37:18",
          "2022-03-20T03:01:04",
          "2022-03-20T03:38:06",
          "2022-03-20T03:53:35",
          "2022-03-20T04:14:19",
          "2022-03-21T21:11:47",
          "2022-03-24T00:08:23",
          "2022-03-24T03:22:49",
          "2022-03-25T20:28:58",
          "2022-03-25T22:37:22",
          "2022-03-25T23:18:39",
          "2022-03-25T23:57:26",
          "2022-03-26T22:17:13",
          "2022-03-26T23:00:21",
          "2022-03-26T23:49:12",
          "2022-03-27T23:23:19",
          "2022-03-28T06:58:20",
          "2022-03-30T00:48:24",
          "2022-03-31T00:48:01",
          "2022-04-01T22:58:26",
          "2022-04-02T01:18:50",
          "2022-04-02T05:44:46"
         ],
         "xaxis": "x",
         "y": [
          24,
          0,
          0,
          0,
          0,
          0,
          0,
          0,
          0,
          0,
          0,
          0,
          45,
          0,
          0,
          0,
          0,
          0,
          0,
          0,
          0,
          0,
          0,
          0,
          0,
          0,
          0,
          0,
          0
         ],
         "yaxis": "y"
        },
        {
         "hovertemplate": "station_name=Sky Cinema Action & Adventure<br>spot_start_datetime=%{x}<br>audience_size_hundreds=%{y}<extra></extra>",
         "legendgroup": "Sky Cinema Action & Adventure",
         "marker": {
          "color": "#ab63fa",
          "size": 10,
          "symbol": "circle"
         },
         "mode": "markers",
         "name": "Sky Cinema Action & Adventure",
         "orientation": "v",
         "showlegend": true,
         "type": "scatter",
         "x": [
          "2022-03-30T21:58:50",
          "2022-04-01T23:46:52"
         ],
         "xaxis": "x",
         "y": [
          67,
          0
         ],
         "yaxis": "y"
        },
        {
         "hovertemplate": "station_name=Sky Cinema Animation<br>spot_start_datetime=%{x}<br>audience_size_hundreds=%{y}<extra></extra>",
         "legendgroup": "Sky Cinema Animation",
         "marker": {
          "color": "#FFA15A",
          "size": 10,
          "symbol": "circle"
         },
         "mode": "markers",
         "name": "Sky Cinema Animation",
         "orientation": "v",
         "showlegend": true,
         "type": "scatter",
         "x": [
          "2022-03-23T18:32:47",
          "2022-03-27T21:38:33",
          "2022-03-27T23:26:39",
          "2022-03-28T01:11:15",
          "2022-03-28T02:39:45",
          "2022-03-28T04:25:10"
         ],
         "xaxis": "x",
         "y": [
          0,
          0,
          61,
          0,
          0,
          61
         ],
         "yaxis": "y"
        },
        {
         "hovertemplate": "station_name=Sky Cinema Comedy<br>spot_start_datetime=%{x}<br>audience_size_hundreds=%{y}<extra></extra>",
         "legendgroup": "Sky Cinema Comedy",
         "marker": {
          "color": "#19d3f3",
          "size": 10,
          "symbol": "circle"
         },
         "mode": "markers",
         "name": "Sky Cinema Comedy",
         "orientation": "v",
         "showlegend": true,
         "type": "scatter",
         "x": [
          "2022-03-26T20:56:05",
          "2022-03-27T00:18:20",
          "2022-03-27T03:28:05",
          "2022-03-27T20:54:38",
          "2022-03-30T23:39:09",
          "2022-04-01T08:00:55",
          "2022-04-01T19:57:10",
          "2022-04-01T21:53:58",
          "2022-04-02T00:20:48",
          "2022-04-02T02:16:46",
          "2022-04-02T04:01:18"
         ],
         "xaxis": "x",
         "y": [
          0,
          0,
          0,
          0,
          0,
          0,
          0,
          0,
          0,
          0,
          0
         ],
         "yaxis": "y"
        },
        {
         "hovertemplate": "station_name=Sky Cinema Crime & Thriller<br>spot_start_datetime=%{x}<br>audience_size_hundreds=%{y}<extra></extra>",
         "legendgroup": "Sky Cinema Crime & Thriller",
         "marker": {
          "color": "#FF6692",
          "size": 10,
          "symbol": "circle"
         },
         "mode": "markers",
         "name": "Sky Cinema Crime & Thriller",
         "orientation": "v",
         "showlegend": true,
         "type": "scatter",
         "x": [
          "2022-03-24T03:53:42",
          "2022-03-26T18:17:05",
          "2022-03-26T20:00:53",
          "2022-03-28T17:46:16",
          "2022-03-28T19:24:33",
          "2022-03-29T02:20:45",
          "2022-03-29T04:29:47",
          "2022-03-29T19:58:30",
          "2022-03-29T21:59:56",
          "2022-03-31T19:18:32",
          "2022-04-01T21:51:09",
          "2022-04-02T05:22:38"
         ],
         "xaxis": "x",
         "y": [
          0,
          0,
          25,
          0,
          0,
          0,
          0,
          74,
          0,
          0,
          0,
          62
         ],
         "yaxis": "y"
        },
        {
         "hovertemplate": "station_name=Sky Cinema Drama & Romance<br>spot_start_datetime=%{x}<br>audience_size_hundreds=%{y}<extra></extra>",
         "legendgroup": "Sky Cinema Drama & Romance",
         "marker": {
          "color": "#B6E880",
          "size": 10,
          "symbol": "circle"
         },
         "mode": "markers",
         "name": "Sky Cinema Drama & Romance",
         "orientation": "v",
         "showlegend": true,
         "type": "scatter",
         "x": [
          "2022-03-27T18:09:45",
          "2022-03-27T19:54:29",
          "2022-03-27T20:01:59",
          "2022-03-30T23:28:44",
          "2022-04-01T05:19:49",
          "2022-04-01T15:59:12"
         ],
         "xaxis": "x",
         "y": [
          0,
          0,
          0,
          0,
          0,
          0
         ],
         "yaxis": "y"
        },
        {
         "hovertemplate": "station_name=Sky Cinema Family<br>spot_start_datetime=%{x}<br>audience_size_hundreds=%{y}<extra></extra>",
         "legendgroup": "Sky Cinema Family",
         "marker": {
          "color": "#FF97FF",
          "size": 10,
          "symbol": "circle"
         },
         "mode": "markers",
         "name": "Sky Cinema Family",
         "orientation": "v",
         "showlegend": true,
         "type": "scatter",
         "x": [
          "2022-03-19T08:23:36",
          "2022-03-19T09:58:33",
          "2022-03-19T11:28:06",
          "2022-03-19T13:28:20",
          "2022-03-19T15:17:36",
          "2022-03-19T18:40:42",
          "2022-03-20T00:22:19"
         ],
         "xaxis": "x",
         "y": [
          0,
          0,
          0,
          0,
          0,
          0,
          0
         ],
         "yaxis": "y"
        },
        {
         "hovertemplate": "station_name=Sky Cinema Greats<br>spot_start_datetime=%{x}<br>audience_size_hundreds=%{y}<extra></extra>",
         "legendgroup": "Sky Cinema Greats",
         "marker": {
          "color": "#FECB52",
          "size": 10,
          "symbol": "circle"
         },
         "mode": "markers",
         "name": "Sky Cinema Greats",
         "orientation": "v",
         "showlegend": true,
         "type": "scatter",
         "x": [
          "2022-03-29T20:00:53"
         ],
         "xaxis": "x",
         "y": [
          0
         ],
         "yaxis": "y"
        },
        {
         "hovertemplate": "station_name=Sky Cinema Premiere<br>spot_start_datetime=%{x}<br>audience_size_hundreds=%{y}<extra></extra>",
         "legendgroup": "Sky Cinema Premiere",
         "marker": {
          "color": "#636efa",
          "size": 10,
          "symbol": "circle"
         },
         "mode": "markers",
         "name": "Sky Cinema Premiere",
         "orientation": "v",
         "showlegend": true,
         "type": "scatter",
         "x": [
          "2022-03-15T09:21:50",
          "2022-03-26T22:27:20",
          "2022-03-30T03:07:22",
          "2022-03-31T05:06:56",
          "2022-03-31T19:57:17"
         ],
         "xaxis": "x",
         "y": [
          0,
          31,
          0,
          0,
          0
         ],
         "yaxis": "y"
        },
        {
         "hovertemplate": "station_name=Sky Cinema Premiere+1<br>spot_start_datetime=%{x}<br>audience_size_hundreds=%{y}<extra></extra>",
         "legendgroup": "Sky Cinema Premiere+1",
         "marker": {
          "color": "#EF553B",
          "size": 10,
          "symbol": "circle"
         },
         "mode": "markers",
         "name": "Sky Cinema Premiere+1",
         "orientation": "v",
         "showlegend": true,
         "type": "scatter",
         "x": [
          "2022-03-15T10:21:50",
          "2022-03-26T23:27:20",
          "2022-03-30T04:07:22",
          "2022-03-31T06:06:56",
          "2022-03-31T20:57:17"
         ],
         "xaxis": "x",
         "y": [
          0,
          0,
          0,
          0,
          0
         ],
         "yaxis": "y"
        },
        {
         "hovertemplate": "station_name=Sky Cinema Sci-Fi & Horror<br>spot_start_datetime=%{x}<br>audience_size_hundreds=%{y}<extra></extra>",
         "legendgroup": "Sky Cinema Sci-Fi & Horror",
         "marker": {
          "color": "#00cc96",
          "size": 10,
          "symbol": "circle"
         },
         "mode": "markers",
         "name": "Sky Cinema Sci-Fi & Horror",
         "orientation": "v",
         "showlegend": true,
         "type": "scatter",
         "x": [
          "2022-03-19T17:54:55",
          "2022-03-23T21:38:39",
          "2022-03-26T19:27:21",
          "2022-03-28T17:40:28",
          "2022-03-28T19:56:32",
          "2022-03-29T19:10:40",
          "2022-03-29T21:00:08",
          "2022-03-29T22:30:50",
          "2022-03-30T21:46:41",
          "2022-03-30T23:42:52",
          "2022-03-31T03:33:04",
          "2022-03-31T18:58:50",
          "2022-03-31T20:59:23"
         ],
         "xaxis": "x",
         "y": [
          0,
          0,
          0,
          0,
          0,
          0,
          0,
          0,
          0,
          0,
          0,
          0,
          0
         ],
         "yaxis": "y"
        },
        {
         "hovertemplate": "station_name=Sky Cinema Select<br>spot_start_datetime=%{x}<br>audience_size_hundreds=%{y}<extra></extra>",
         "legendgroup": "Sky Cinema Select",
         "marker": {
          "color": "#ab63fa",
          "size": 10,
          "symbol": "circle"
         },
         "mode": "markers",
         "name": "Sky Cinema Select",
         "orientation": "v",
         "showlegend": true,
         "type": "scatter",
         "x": [
          "2022-04-01T18:14:24",
          "2022-04-01T19:47:26",
          "2022-04-02T01:05:54",
          "2022-04-02T05:33:11"
         ],
         "xaxis": "x",
         "y": [
          57,
          0,
          77,
          0
         ],
         "yaxis": "y"
        },
        {
         "hovertemplate": "station_name=Sky Comedy<br>spot_start_datetime=%{x}<br>audience_size_hundreds=%{y}<extra></extra>",
         "legendgroup": "Sky Comedy",
         "marker": {
          "color": "#FFA15A",
          "size": 10,
          "symbol": "circle"
         },
         "mode": "markers",
         "name": "Sky Comedy",
         "orientation": "v",
         "showlegend": true,
         "type": "scatter",
         "x": [
          "2022-03-14T18:12:16",
          "2022-03-15T11:41:17",
          "2022-03-17T02:40:38",
          "2022-03-17T20:20:09",
          "2022-03-20T17:42:41",
          "2022-03-23T19:12:12",
          "2022-03-23T23:13:37",
          "2022-03-24T02:37:24",
          "2022-03-24T20:25:48",
          "2022-03-26T23:27:32",
          "2022-03-27T20:13:33",
          "2022-03-28T00:19:35",
          "2022-03-28T20:13:34",
          "2022-03-28T21:46:31",
          "2022-03-28T22:24:27",
          "2022-03-29T18:42:58",
          "2022-03-29T19:26:46",
          "2022-03-29T20:58:14",
          "2022-03-30T20:26:11",
          "2022-03-30T20:56:51",
          "2022-03-30T21:42:40",
          "2022-03-31T18:27:07",
          "2022-03-31T20:28:19",
          "2022-03-31T20:43:33",
          "2022-03-31T22:11:58",
          "2022-03-31T22:57:19",
          "2022-03-31T23:25:20",
          "2022-04-01T10:13:38",
          "2022-04-01T18:04:17",
          "2022-04-01T18:43:54",
          "2022-04-01T19:44:29"
         ],
         "xaxis": "x",
         "y": [
          0,
          0,
          0,
          0,
          0,
          62,
          0,
          0,
          30,
          0,
          0,
          93,
          58,
          114,
          0,
          107,
          0,
          28,
          0,
          0,
          0,
          0,
          0,
          0,
          0,
          0,
          0,
          0,
          0,
          50,
          88
         ],
         "yaxis": "y"
        },
        {
         "hovertemplate": "station_name=Sky Crime<br>spot_start_datetime=%{x}<br>audience_size_hundreds=%{y}<extra></extra>",
         "legendgroup": "Sky Crime",
         "marker": {
          "color": "#19d3f3",
          "size": 10,
          "symbol": "circle"
         },
         "mode": "markers",
         "name": "Sky Crime",
         "orientation": "v",
         "showlegend": true,
         "type": "scatter",
         "x": [
          "2022-03-14T23:13:41",
          "2022-03-14T23:30:41",
          "2022-03-15T00:43:43",
          "2022-03-15T22:47:53",
          "2022-03-16T00:01:30",
          "2022-03-16T00:14:56",
          "2022-03-16T21:15:06",
          "2022-03-17T20:27:29",
          "2022-03-17T21:12:00",
          "2022-03-18T23:14:48",
          "2022-03-18T23:44:25",
          "2022-03-19T07:07:05",
          "2022-03-19T19:16:34",
          "2022-03-19T23:14:18",
          "2022-03-20T21:15:05",
          "2022-03-20T21:44:33",
          "2022-03-20T23:25:47",
          "2022-03-20T23:43:15",
          "2022-03-22T23:08:29",
          "2022-03-24T21:13:03",
          "2022-03-25T23:29:46",
          "2022-03-26T00:29:00",
          "2022-03-26T21:43:36",
          "2022-03-26T22:44:27",
          "2022-03-27T00:13:47",
          "2022-03-27T20:15:18",
          "2022-03-27T22:18:46",
          "2022-03-27T22:55:34",
          "2022-03-28T19:10:49",
          "2022-03-28T23:26:43",
          "2022-03-29T23:08:38",
          "2022-03-30T00:56:33",
          "2022-04-01T20:58:34",
          "2022-04-01T22:29:14"
         ],
         "xaxis": "x",
         "y": [
          62,
          62,
          223,
          0,
          42,
          42,
          120,
          90,
          122,
          0,
          0,
          0,
          0,
          195,
          268,
          219,
          182,
          182,
          33,
          264,
          234,
          166,
          57,
          0,
          54,
          161,
          324,
          280,
          131,
          43,
          222,
          42,
          166,
          194
         ],
         "yaxis": "y"
        },
        {
         "hovertemplate": "station_name=Sky Crime+1<br>spot_start_datetime=%{x}<br>audience_size_hundreds=%{y}<extra></extra>",
         "legendgroup": "Sky Crime+1",
         "marker": {
          "color": "#FF6692",
          "size": 10,
          "symbol": "circle"
         },
         "mode": "markers",
         "name": "Sky Crime+1",
         "orientation": "v",
         "showlegend": true,
         "type": "scatter",
         "x": [
          "2022-03-15T00:13:41",
          "2022-03-15T00:30:41",
          "2022-03-15T01:43:43",
          "2022-03-15T23:47:53",
          "2022-03-16T01:01:30",
          "2022-03-16T01:14:56",
          "2022-03-16T22:15:06",
          "2022-03-17T21:27:29",
          "2022-03-17T22:12:00",
          "2022-03-19T00:14:48",
          "2022-03-19T00:44:25",
          "2022-03-19T08:07:05",
          "2022-03-19T20:16:34",
          "2022-03-20T00:14:18",
          "2022-03-20T22:15:05",
          "2022-03-20T22:44:33",
          "2022-03-21T00:25:47",
          "2022-03-21T00:43:15",
          "2022-03-23T00:08:29",
          "2022-03-24T22:13:03",
          "2022-03-26T00:29:46",
          "2022-03-26T01:29:00",
          "2022-03-26T22:43:36",
          "2022-03-26T23:44:27",
          "2022-03-27T01:13:47",
          "2022-03-27T21:15:18",
          "2022-03-27T23:18:46",
          "2022-03-27T23:55:34",
          "2022-03-28T20:10:49",
          "2022-03-29T00:26:43",
          "2022-03-30T00:08:38",
          "2022-03-30T01:56:33",
          "2022-04-01T21:58:34",
          "2022-04-01T23:29:14"
         ],
         "xaxis": "x",
         "y": [
          0,
          0,
          0,
          0,
          0,
          0,
          0,
          0,
          0,
          0,
          0,
          73,
          0,
          0,
          0,
          0,
          0,
          0,
          0,
          0,
          0,
          64,
          0,
          0,
          0,
          0,
          0,
          0,
          0,
          0,
          0,
          45,
          0,
          0
         ],
         "yaxis": "y"
        },
        {
         "hovertemplate": "station_name=Sky Documentaries<br>spot_start_datetime=%{x}<br>audience_size_hundreds=%{y}<extra></extra>",
         "legendgroup": "Sky Documentaries",
         "marker": {
          "color": "#B6E880",
          "size": 10,
          "symbol": "circle"
         },
         "mode": "markers",
         "name": "Sky Documentaries",
         "orientation": "v",
         "showlegend": true,
         "type": "scatter",
         "x": [
          "2022-03-22T00:27:17",
          "2022-03-23T00:45:10",
          "2022-03-31T23:31:38"
         ],
         "xaxis": "x",
         "y": [
          0,
          33,
          0
         ],
         "yaxis": "y"
        },
        {
         "hovertemplate": "station_name=Sky History<br>spot_start_datetime=%{x}<br>audience_size_hundreds=%{y}<extra></extra>",
         "legendgroup": "Sky History",
         "marker": {
          "color": "#FF97FF",
          "size": 10,
          "symbol": "circle"
         },
         "mode": "markers",
         "name": "Sky History",
         "orientation": "v",
         "showlegend": true,
         "type": "scatter",
         "x": [
          "2022-03-14T18:12:30",
          "2022-03-14T19:29:15",
          "2022-03-14T20:11:44",
          "2022-03-15T19:28:02",
          "2022-03-15T19:44:54",
          "2022-03-15T20:26:59",
          "2022-03-15T21:16:49",
          "2022-03-16T20:12:45",
          "2022-03-16T20:26:39",
          "2022-03-16T23:11:25",
          "2022-03-16T23:48:32",
          "2022-03-17T00:13:13",
          "2022-03-17T00:29:34",
          "2022-03-17T18:12:10",
          "2022-03-17T18:42:20",
          "2022-03-17T19:10:27",
          "2022-03-17T20:17:11",
          "2022-03-17T20:27:42",
          "2022-03-17T21:13:06",
          "2022-03-17T21:45:43",
          "2022-03-17T22:09:40",
          "2022-03-17T22:45:06",
          "2022-03-18T18:41:35",
          "2022-03-18T19:13:36",
          "2022-03-18T19:41:43",
          "2022-03-20T07:43:00",
          "2022-03-20T08:11:15",
          "2022-03-20T08:43:57",
          "2022-03-20T09:15:24",
          "2022-03-20T09:27:53",
          "2022-03-20T10:45:55",
          "2022-03-20T12:11:10",
          "2022-03-21T00:42:15",
          "2022-03-21T18:13:18",
          "2022-03-22T19:28:00",
          "2022-03-22T19:47:53",
          "2022-03-23T20:10:06",
          "2022-03-24T16:14:15",
          "2022-03-24T18:10:12",
          "2022-03-24T18:39:09",
          "2022-03-24T19:14:03",
          "2022-03-24T19:45:19",
          "2022-03-24T20:12:36",
          "2022-03-24T20:46:33",
          "2022-03-24T21:17:04",
          "2022-03-24T21:30:06",
          "2022-03-24T21:42:45",
          "2022-03-24T22:11:46",
          "2022-03-24T22:45:03",
          "2022-03-25T18:09:28",
          "2022-03-25T18:28:21",
          "2022-03-25T18:43:08",
          "2022-03-25T19:13:17",
          "2022-03-25T19:29:37",
          "2022-03-25T19:47:03",
          "2022-03-27T07:44:42",
          "2022-03-27T08:13:21",
          "2022-03-27T08:28:09",
          "2022-03-27T08:47:48",
          "2022-03-27T09:17:47",
          "2022-03-27T09:34:54",
          "2022-03-27T11:44:31",
          "2022-03-27T12:16:07",
          "2022-03-27T15:14:44",
          "2022-03-28T00:39:21",
          "2022-03-28T18:09:28",
          "2022-03-28T18:30:48",
          "2022-03-28T18:39:14",
          "2022-03-28T19:12:09",
          "2022-03-28T22:29:57",
          "2022-03-28T22:45:10",
          "2022-03-29T19:49:13",
          "2022-03-29T20:27:00",
          "2022-03-30T20:25:18",
          "2022-03-30T20:45:17",
          "2022-03-30T23:14:56",
          "2022-03-30T23:40:34",
          "2022-03-31T18:13:30",
          "2022-03-31T18:28:01",
          "2022-03-31T18:45:46",
          "2022-03-31T19:12:47",
          "2022-03-31T19:44:19",
          "2022-03-31T20:18:07",
          "2022-03-31T20:28:10",
          "2022-03-31T20:47:18",
          "2022-03-31T21:14:30",
          "2022-03-31T21:29:10",
          "2022-03-31T21:42:59",
          "2022-03-31T22:13:18",
          "2022-03-31T22:41:41",
          "2022-04-01T19:14:34",
          "2022-04-01T20:12:29",
          "2022-04-01T20:45:41",
          "2022-04-01T23:33:18",
          "2022-04-02T00:47:14"
         ],
         "xaxis": "x",
         "y": [
          142,
          124,
          248,
          48,
          81,
          152,
          157,
          0,
          0,
          97,
          142,
          87,
          93,
          148,
          279,
          0,
          92,
          62,
          37,
          95,
          140,
          95,
          151,
          214,
          244,
          53,
          98,
          98,
          192,
          102,
          49,
          45,
          82,
          176,
          35,
          0,
          232,
          0,
          105,
          0,
          220,
          133,
          171,
          171,
          357,
          427,
          177,
          231,
          152,
          0,
          0,
          28,
          142,
          114,
          114,
          100,
          213,
          428,
          428,
          132,
          100,
          241,
          141,
          91,
          0,
          0,
          68,
          89,
          273,
          65,
          133,
          145,
          152,
          114,
          114,
          187,
          245,
          0,
          146,
          146,
          194,
          419,
          187,
          187,
          146,
          250,
          278,
          146,
          238,
          332,
          141,
          0,
          0,
          73,
          73
         ],
         "yaxis": "y"
        },
        {
         "hovertemplate": "station_name=Sky History +1<br>spot_start_datetime=%{x}<br>audience_size_hundreds=%{y}<extra></extra>",
         "legendgroup": "Sky History +1",
         "marker": {
          "color": "#FECB52",
          "size": 10,
          "symbol": "circle"
         },
         "mode": "markers",
         "name": "Sky History +1",
         "orientation": "v",
         "showlegend": true,
         "type": "scatter",
         "x": [
          "2022-03-14T19:12:30",
          "2022-03-14T20:29:15",
          "2022-03-14T21:11:44",
          "2022-03-15T20:28:02",
          "2022-03-15T20:44:54",
          "2022-03-15T21:26:59",
          "2022-03-15T22:16:49",
          "2022-03-16T21:12:45",
          "2022-03-16T21:26:39",
          "2022-03-17T00:11:25",
          "2022-03-17T00:48:32",
          "2022-03-17T01:13:13",
          "2022-03-17T01:29:34",
          "2022-03-17T19:12:10",
          "2022-03-17T19:42:20",
          "2022-03-17T20:10:27",
          "2022-03-17T21:17:11",
          "2022-03-17T21:27:42",
          "2022-03-17T22:13:06",
          "2022-03-17T22:45:43",
          "2022-03-17T23:09:40",
          "2022-03-17T23:45:06",
          "2022-03-18T19:41:35",
          "2022-03-18T20:13:36",
          "2022-03-18T20:41:43",
          "2022-03-20T08:43:00",
          "2022-03-20T09:11:15",
          "2022-03-20T09:43:57",
          "2022-03-20T10:15:24",
          "2022-03-20T10:27:53",
          "2022-03-20T11:45:55",
          "2022-03-20T13:11:10",
          "2022-03-21T01:42:15",
          "2022-03-21T19:13:18",
          "2022-03-22T20:28:00",
          "2022-03-22T20:47:53",
          "2022-03-23T21:10:06",
          "2022-03-24T17:14:15",
          "2022-03-24T19:10:12",
          "2022-03-24T19:39:09",
          "2022-03-24T20:14:03",
          "2022-03-24T20:45:19",
          "2022-03-24T21:12:36",
          "2022-03-24T21:46:33",
          "2022-03-24T22:17:04",
          "2022-03-24T22:30:06",
          "2022-03-24T22:42:45",
          "2022-03-24T23:11:46",
          "2022-03-24T23:45:03",
          "2022-03-25T19:09:28",
          "2022-03-25T19:28:21",
          "2022-03-25T19:43:08",
          "2022-03-25T20:13:17",
          "2022-03-25T20:29:37",
          "2022-03-25T20:47:03",
          "2022-03-27T08:44:42",
          "2022-03-27T09:13:21",
          "2022-03-27T09:28:09",
          "2022-03-27T09:47:48",
          "2022-03-27T10:17:47",
          "2022-03-27T10:34:54",
          "2022-03-27T12:44:31",
          "2022-03-27T13:16:07",
          "2022-03-27T16:14:44",
          "2022-03-28T01:39:21",
          "2022-03-28T19:09:28",
          "2022-03-28T19:30:48",
          "2022-03-28T19:39:14",
          "2022-03-28T20:12:09",
          "2022-03-28T23:29:57",
          "2022-03-28T23:45:10",
          "2022-03-29T20:49:13",
          "2022-03-29T21:27:00",
          "2022-03-30T21:25:18",
          "2022-03-30T21:45:17",
          "2022-03-31T00:14:56",
          "2022-03-31T00:40:34",
          "2022-03-31T19:13:30",
          "2022-03-31T19:28:01",
          "2022-03-31T19:45:46",
          "2022-03-31T20:12:47",
          "2022-03-31T20:44:19",
          "2022-03-31T21:18:07",
          "2022-03-31T21:28:10",
          "2022-03-31T21:47:18",
          "2022-03-31T22:14:30",
          "2022-03-31T22:29:10",
          "2022-03-31T22:42:59",
          "2022-03-31T23:13:18",
          "2022-03-31T23:41:41",
          "2022-04-01T20:14:34",
          "2022-04-01T21:12:29",
          "2022-04-01T21:45:41",
          "2022-04-02T00:33:18",
          "2022-04-02T01:47:14"
         ],
         "xaxis": "x",
         "y": [
          0,
          0,
          0,
          0,
          0,
          0,
          89,
          0,
          0,
          0,
          0,
          0,
          0,
          0,
          0,
          38,
          173,
          58,
          58,
          58,
          121,
          58,
          0,
          0,
          0,
          38,
          0,
          0,
          0,
          0,
          0,
          0,
          0,
          0,
          0,
          0,
          0,
          0,
          0,
          0,
          0,
          38,
          38,
          0,
          0,
          0,
          0,
          0,
          0,
          0,
          0,
          0,
          0,
          0,
          0,
          0,
          0,
          0,
          0,
          0,
          0,
          80,
          0,
          52,
          0,
          52,
          0,
          0,
          0,
          0,
          0,
          0,
          0,
          0,
          0,
          75,
          75,
          0,
          0,
          0,
          0,
          0,
          51,
          0,
          0,
          0,
          0,
          0,
          0,
          70,
          0,
          0,
          0,
          0,
          0
         ],
         "yaxis": "y"
        },
        {
         "hovertemplate": "station_name=Sky History 2<br>spot_start_datetime=%{x}<br>audience_size_hundreds=%{y}<extra></extra>",
         "legendgroup": "Sky History 2",
         "marker": {
          "color": "#636efa",
          "size": 10,
          "symbol": "circle"
         },
         "mode": "markers",
         "name": "Sky History 2",
         "orientation": "v",
         "showlegend": true,
         "type": "scatter",
         "x": [
          "2022-03-23T18:51:38",
          "2022-03-25T22:46:15",
          "2022-03-30T17:13:38",
          "2022-03-30T23:47:28",
          "2022-04-01T17:47:30",
          "2022-04-01T22:31:33",
          "2022-04-02T00:31:54",
          "2022-04-02T01:30:23"
         ],
         "xaxis": "x",
         "y": [
          68,
          0,
          0,
          0,
          0,
          0,
          0,
          0
         ],
         "yaxis": "y"
        },
        {
         "hovertemplate": "station_name=Sky Max<br>spot_start_datetime=%{x}<br>audience_size_hundreds=%{y}<extra></extra>",
         "legendgroup": "Sky Max",
         "marker": {
          "color": "#EF553B",
          "size": 10,
          "symbol": "circle"
         },
         "mode": "markers",
         "name": "Sky Max",
         "orientation": "v",
         "showlegend": true,
         "type": "scatter",
         "x": [
          "2022-03-16T20:12:13",
          "2022-03-17T23:18:51",
          "2022-03-17T23:55:20",
          "2022-03-20T17:59:15",
          "2022-03-22T00:18:16",
          "2022-03-22T00:38:03",
          "2022-03-22T18:46:58",
          "2022-03-22T19:30:55",
          "2022-03-24T01:28:10",
          "2022-03-24T21:27:51",
          "2022-03-24T23:32:42",
          "2022-03-24T23:46:00",
          "2022-03-25T19:44:02",
          "2022-03-26T00:09:51",
          "2022-03-27T17:46:29",
          "2022-03-27T18:48:23",
          "2022-03-27T19:20:15",
          "2022-03-27T20:10:13",
          "2022-03-29T00:13:22",
          "2022-03-29T21:13:33",
          "2022-03-29T23:38:34",
          "2022-03-30T20:26:45",
          "2022-03-30T22:47:59",
          "2022-03-31T21:36:42",
          "2022-03-31T22:29:43",
          "2022-03-31T23:11:25",
          "2022-03-31T23:57:50",
          "2022-04-01T20:49:38",
          "2022-04-01T21:31:57",
          "2022-04-01T22:42:49",
          "2022-04-02T03:09:45"
         ],
         "xaxis": "x",
         "y": [
          13,
          0,
          0,
          0,
          0,
          0,
          0,
          179,
          0,
          71,
          32,
          85,
          143,
          0,
          26,
          0,
          0,
          29,
          0,
          71,
          0,
          122,
          0,
          165,
          0,
          0,
          0,
          20,
          176,
          164,
          0
         ],
         "yaxis": "y"
        },
        {
         "hovertemplate": "station_name=Sky Nature<br>spot_start_datetime=%{x}<br>audience_size_hundreds=%{y}<extra></extra>",
         "legendgroup": "Sky Nature",
         "marker": {
          "color": "#00cc96",
          "size": 10,
          "symbol": "circle"
         },
         "mode": "markers",
         "name": "Sky Nature",
         "orientation": "v",
         "showlegend": true,
         "type": "scatter",
         "x": [
          "2022-03-23T19:28:55",
          "2022-03-24T19:29:10",
          "2022-03-24T20:11:58",
          "2022-03-29T11:43:26",
          "2022-03-31T21:29:06",
          "2022-04-01T21:18:15"
         ],
         "xaxis": "x",
         "y": [
          65,
          21,
          0,
          0,
          41,
          0
         ],
         "yaxis": "y"
        },
        {
         "hovertemplate": "station_name=Sky News<br>spot_start_datetime=%{x}<br>audience_size_hundreds=%{y}<extra></extra>",
         "legendgroup": "Sky News",
         "marker": {
          "color": "#ab63fa",
          "size": 10,
          "symbol": "circle"
         },
         "mode": "markers",
         "name": "Sky News",
         "orientation": "v",
         "showlegend": true,
         "type": "scatter",
         "x": [
          "2022-03-15T19:57:54",
          "2022-03-15T21:34:23",
          "2022-03-15T21:56:44",
          "2022-03-31T07:57:14"
         ],
         "xaxis": "x",
         "y": [
          1136,
          785,
          1513,
          1008
         ],
         "yaxis": "y"
        },
        {
         "hovertemplate": "station_name=Sky Replay<br>spot_start_datetime=%{x}<br>audience_size_hundreds=%{y}<extra></extra>",
         "legendgroup": "Sky Replay",
         "marker": {
          "color": "#FFA15A",
          "size": 10,
          "symbol": "circle"
         },
         "mode": "markers",
         "name": "Sky Replay",
         "orientation": "v",
         "showlegend": true,
         "type": "scatter",
         "x": [
          "2022-03-14T17:57:40",
          "2022-03-14T22:41:40",
          "2022-03-14T23:11:52",
          "2022-03-15T21:31:24",
          "2022-03-15T21:56:31",
          "2022-03-19T20:11:04",
          "2022-03-19T20:37:54",
          "2022-03-19T21:10:30",
          "2022-03-20T20:43:47",
          "2022-03-21T17:58:55",
          "2022-03-23T23:44:44",
          "2022-03-24T18:31:03",
          "2022-03-24T19:08:50",
          "2022-03-24T19:47:43",
          "2022-03-24T20:08:23",
          "2022-03-24T21:21:00",
          "2022-03-24T21:33:28",
          "2022-03-24T22:37:32",
          "2022-03-25T18:29:37",
          "2022-03-25T20:07:49",
          "2022-03-25T20:27:49",
          "2022-03-25T21:25:55",
          "2022-03-25T21:35:51",
          "2022-03-25T22:49:23",
          "2022-03-25T23:28:43",
          "2022-03-26T00:13:12",
          "2022-03-26T17:58:25",
          "2022-03-26T19:28:16",
          "2022-03-26T20:13:09",
          "2022-03-26T20:44:31",
          "2022-03-26T22:46:52",
          "2022-03-26T23:59:36",
          "2022-03-27T00:24:26",
          "2022-03-27T08:08:30",
          "2022-03-27T20:42:18",
          "2022-03-28T20:42:17",
          "2022-03-28T22:14:15",
          "2022-03-30T00:15:59",
          "2022-03-31T01:19:39",
          "2022-04-01T00:31:26",
          "2022-04-01T13:41:30",
          "2022-04-01T17:28:18",
          "2022-04-01T17:58:38",
          "2022-04-02T00:31:53"
         ],
         "xaxis": "x",
         "y": [
          0,
          0,
          0,
          0,
          25,
          0,
          21,
          67,
          0,
          0,
          0,
          0,
          0,
          0,
          0,
          0,
          0,
          0,
          86,
          0,
          0,
          0,
          0,
          0,
          0,
          0,
          36,
          0,
          0,
          0,
          9,
          0,
          0,
          0,
          0,
          24,
          0,
          0,
          0,
          166,
          0,
          0,
          0,
          0
         ],
         "yaxis": "y"
        },
        {
         "hovertemplate": "station_name=Sky Showcase<br>spot_start_datetime=%{x}<br>audience_size_hundreds=%{y}<extra></extra>",
         "legendgroup": "Sky Showcase",
         "marker": {
          "color": "#19d3f3",
          "size": 10,
          "symbol": "circle"
         },
         "mode": "markers",
         "name": "Sky Showcase",
         "orientation": "v",
         "showlegend": true,
         "type": "scatter",
         "x": [
          "2022-03-14T18:26:48",
          "2022-03-14T18:56:42",
          "2022-03-14T19:25:43",
          "2022-03-14T19:41:18",
          "2022-03-14T19:56:28",
          "2022-03-15T17:56:12",
          "2022-03-15T18:27:11",
          "2022-03-15T19:15:29",
          "2022-03-15T19:58:21",
          "2022-03-15T21:28:24",
          "2022-03-16T18:28:16",
          "2022-03-16T18:46:49",
          "2022-03-16T18:56:09",
          "2022-03-16T19:26:01",
          "2022-03-16T19:42:48",
          "2022-03-16T19:56:06",
          "2022-03-16T22:13:19",
          "2022-03-17T18:42:08",
          "2022-03-17T19:09:51",
          "2022-03-17T19:45:31",
          "2022-03-17T20:09:37",
          "2022-03-17T20:25:32",
          "2022-03-17T22:20:23",
          "2022-03-18T20:08:45",
          "2022-03-19T11:47:28",
          "2022-03-19T21:56:14",
          "2022-03-19T22:21:16",
          "2022-03-20T18:06:53",
          "2022-03-20T18:37:17",
          "2022-03-20T20:29:29",
          "2022-03-21T17:42:15",
          "2022-03-21T18:26:11",
          "2022-03-21T18:38:27",
          "2022-03-21T18:58:08",
          "2022-03-21T19:26:30",
          "2022-03-21T19:43:23",
          "2022-03-21T19:57:26",
          "2022-03-22T17:58:24",
          "2022-03-22T18:25:59",
          "2022-03-22T19:42:22",
          "2022-03-23T18:57:46",
          "2022-03-23T19:39:24",
          "2022-03-24T18:41:46",
          "2022-03-24T19:44:58",
          "2022-03-24T20:11:37",
          "2022-03-24T20:43:12",
          "2022-03-24T21:57:35",
          "2022-03-25T14:56:57",
          "2022-03-25T17:26:57",
          "2022-03-25T19:09:55",
          "2022-03-25T19:39:20",
          "2022-03-25T20:09:19",
          "2022-03-25T20:41:07",
          "2022-03-25T21:28:16",
          "2022-03-25T22:15:26",
          "2022-03-25T23:14:58",
          "2022-03-25T23:45:41",
          "2022-03-26T20:12:47",
          "2022-03-26T22:19:54",
          "2022-03-26T22:41:37",
          "2022-03-26T23:19:07",
          "2022-03-27T09:39:54",
          "2022-03-27T18:08:37",
          "2022-03-27T18:56:21",
          "2022-03-27T19:28:04",
          "2022-03-27T20:14:41",
          "2022-03-27T20:37:07",
          "2022-03-28T18:29:02",
          "2022-03-28T18:39:59",
          "2022-03-28T18:56:43",
          "2022-03-28T19:26:27",
          "2022-03-28T19:56:26",
          "2022-03-28T20:30:39",
          "2022-03-28T22:14:39",
          "2022-03-29T17:56:29",
          "2022-03-29T19:26:18",
          "2022-03-29T19:56:27",
          "2022-03-29T21:11:06",
          "2022-03-29T22:24:42",
          "2022-03-29T22:49:53",
          "2022-03-29T23:31:52",
          "2022-03-30T18:28:09",
          "2022-03-30T18:38:35",
          "2022-03-30T18:57:29",
          "2022-03-30T19:27:43",
          "2022-03-30T19:39:58",
          "2022-03-30T20:27:39",
          "2022-03-30T22:49:35",
          "2022-03-31T18:26:49",
          "2022-03-31T18:58:58",
          "2022-03-31T19:10:13",
          "2022-03-31T19:56:24",
          "2022-03-31T20:09:25",
          "2022-03-31T22:44:27",
          "2022-04-01T18:42:43",
          "2022-04-01T19:39:01"
         ],
         "xaxis": "x",
         "y": [
          79,
          261,
          510,
          396,
          310,
          35,
          35,
          289,
          317,
          417,
          186,
          119,
          76,
          181,
          254,
          193,
          247,
          200,
          146,
          378,
          0,
          88,
          102,
          99,
          23,
          139,
          450,
          479,
          246,
          114,
          23,
          0,
          246,
          323,
          260,
          572,
          311,
          0,
          305,
          71,
          63,
          251,
          442,
          137,
          209,
          449,
          440,
          100,
          0,
          426,
          198,
          73,
          95,
          19,
          169,
          0,
          52,
          562,
          1306,
          1013,
          1047,
          164,
          0,
          161,
          325,
          210,
          275,
          425,
          304,
          96,
          134,
          23,
          231,
          108,
          52,
          336,
          226,
          78,
          191,
          48,
          39,
          193,
          100,
          0,
          65,
          494,
          129,
          39,
          42,
          165,
          395,
          91,
          201,
          230,
          165,
          446
         ],
         "yaxis": "y"
        },
        {
         "hovertemplate": "station_name=Sky Showcase +1<br>spot_start_datetime=%{x}<br>audience_size_hundreds=%{y}<extra></extra>",
         "legendgroup": "Sky Showcase +1",
         "marker": {
          "color": "#FF6692",
          "size": 10,
          "symbol": "circle"
         },
         "mode": "markers",
         "name": "Sky Showcase +1",
         "orientation": "v",
         "showlegend": true,
         "type": "scatter",
         "x": [
          "2022-03-14T19:26:48",
          "2022-03-14T19:56:42",
          "2022-03-14T20:25:43",
          "2022-03-14T20:41:18",
          "2022-03-14T20:56:28",
          "2022-03-15T18:56:12",
          "2022-03-15T19:27:11",
          "2022-03-15T20:15:29",
          "2022-03-15T20:58:21",
          "2022-03-15T22:28:24",
          "2022-03-16T19:28:16",
          "2022-03-16T19:46:49",
          "2022-03-16T19:56:09",
          "2022-03-16T20:26:01",
          "2022-03-16T20:42:48",
          "2022-03-16T20:56:06",
          "2022-03-16T23:13:19",
          "2022-03-17T19:42:08",
          "2022-03-17T20:09:51",
          "2022-03-17T20:45:31",
          "2022-03-17T21:09:37",
          "2022-03-17T21:25:32",
          "2022-03-17T23:20:23",
          "2022-03-18T21:08:45",
          "2022-03-19T12:47:28",
          "2022-03-19T22:56:14",
          "2022-03-19T23:21:16",
          "2022-03-20T19:06:53",
          "2022-03-20T19:37:17",
          "2022-03-20T21:29:29",
          "2022-03-21T18:42:15",
          "2022-03-21T19:26:11",
          "2022-03-21T19:38:27",
          "2022-03-21T19:58:08",
          "2022-03-21T20:26:30",
          "2022-03-21T20:43:23",
          "2022-03-21T20:57:26",
          "2022-03-22T18:58:24",
          "2022-03-22T19:25:59",
          "2022-03-22T20:42:22",
          "2022-03-23T19:57:46",
          "2022-03-23T20:39:24",
          "2022-03-24T19:41:46",
          "2022-03-24T20:44:58",
          "2022-03-24T21:11:37",
          "2022-03-24T21:43:12",
          "2022-03-24T22:57:35",
          "2022-03-25T15:56:57",
          "2022-03-25T18:26:57",
          "2022-03-25T20:09:55",
          "2022-03-25T20:39:20",
          "2022-03-25T21:09:19",
          "2022-03-25T21:41:07",
          "2022-03-25T22:28:16",
          "2022-03-25T23:15:26",
          "2022-03-26T00:14:58",
          "2022-03-26T00:45:41",
          "2022-03-26T21:12:47",
          "2022-03-26T23:19:54",
          "2022-03-26T23:41:37",
          "2022-03-27T00:19:07",
          "2022-03-27T10:39:54",
          "2022-03-27T19:08:37",
          "2022-03-27T19:56:21",
          "2022-03-27T20:28:04",
          "2022-03-27T21:14:41",
          "2022-03-27T21:37:07",
          "2022-03-28T19:29:02",
          "2022-03-28T19:39:59",
          "2022-03-28T19:56:43",
          "2022-03-28T20:26:27",
          "2022-03-28T20:56:26",
          "2022-03-28T21:30:39",
          "2022-03-28T23:14:39",
          "2022-03-29T18:56:29",
          "2022-03-29T20:26:18",
          "2022-03-29T20:56:27",
          "2022-03-29T22:11:06",
          "2022-03-29T23:24:42",
          "2022-03-29T23:49:53",
          "2022-03-30T00:31:52",
          "2022-03-30T19:28:09",
          "2022-03-30T19:38:35",
          "2022-03-30T19:57:29",
          "2022-03-30T20:27:43",
          "2022-03-30T20:39:58",
          "2022-03-30T21:27:39",
          "2022-03-30T23:49:35",
          "2022-03-31T19:26:49",
          "2022-03-31T19:58:58",
          "2022-03-31T20:10:13",
          "2022-03-31T20:56:24",
          "2022-03-31T21:09:25",
          "2022-03-31T23:44:27",
          "2022-04-01T19:42:43",
          "2022-04-01T20:39:01"
         ],
         "xaxis": "x",
         "y": [
          0,
          0,
          23,
          23,
          23,
          0,
          0,
          31,
          31,
          0,
          0,
          0,
          0,
          0,
          0,
          0,
          0,
          0,
          0,
          0,
          0,
          0,
          0,
          0,
          0,
          0,
          44,
          0,
          0,
          88,
          0,
          0,
          0,
          0,
          0,
          0,
          0,
          0,
          0,
          0,
          0,
          0,
          0,
          0,
          0,
          0,
          0,
          0,
          0,
          0,
          0,
          0,
          0,
          61,
          61,
          61,
          61,
          0,
          0,
          0,
          0,
          0,
          0,
          0,
          0,
          0,
          103,
          0,
          0,
          0,
          0,
          0,
          0,
          0,
          0,
          0,
          0,
          0,
          0,
          0,
          0,
          0,
          0,
          0,
          0,
          0,
          0,
          56,
          0,
          0,
          0,
          0,
          0,
          48,
          0,
          0
         ],
         "yaxis": "y"
        },
        {
         "hovertemplate": "station_name=Sky Sports Action<br>spot_start_datetime=%{x}<br>audience_size_hundreds=%{y}<extra></extra>",
         "legendgroup": "Sky Sports Action",
         "marker": {
          "color": "#B6E880",
          "size": 10,
          "symbol": "circle"
         },
         "mode": "markers",
         "name": "Sky Sports Action",
         "orientation": "v",
         "showlegend": true,
         "type": "scatter",
         "x": [
          "2022-03-18T07:25:42",
          "2022-03-18T08:14:49",
          "2022-03-18T21:33:00",
          "2022-03-19T00:25:27",
          "2022-03-19T05:55:02",
          "2022-03-20T17:19:42",
          "2022-03-20T19:21:57",
          "2022-03-22T05:09:43",
          "2022-03-24T00:10:58",
          "2022-03-24T04:58:30",
          "2022-03-24T05:09:23",
          "2022-03-25T12:55:28",
          "2022-03-25T21:48:21",
          "2022-03-25T22:02:00",
          "2022-03-26T00:43:19",
          "2022-03-26T02:58:15",
          "2022-03-26T03:29:15",
          "2022-03-27T10:25:11",
          "2022-03-27T15:04:49",
          "2022-03-27T17:45:54",
          "2022-03-28T03:04:56",
          "2022-03-28T18:15:24",
          "2022-03-29T03:14:20",
          "2022-03-29T03:26:41",
          "2022-03-30T21:28:25",
          "2022-03-31T05:05:41",
          "2022-03-31T06:31:32",
          "2022-03-31T12:16:29",
          "2022-03-31T13:15:20",
          "2022-03-31T14:12:09",
          "2022-03-31T19:59:08",
          "2022-04-01T05:28:17"
         ],
         "xaxis": "x",
         "y": [
          0,
          0,
          0,
          0,
          0,
          0,
          0,
          0,
          0,
          0,
          0,
          0,
          0,
          0,
          0,
          0,
          0,
          0,
          0,
          0,
          0,
          0,
          0,
          0,
          0,
          0,
          0,
          0,
          63,
          0,
          597,
          0
         ],
         "yaxis": "y"
        },
        {
         "hovertemplate": "station_name=Sky Sports Arena<br>spot_start_datetime=%{x}<br>audience_size_hundreds=%{y}<extra></extra>",
         "legendgroup": "Sky Sports Arena",
         "marker": {
          "color": "#FF97FF",
          "size": 10,
          "symbol": "circle"
         },
         "mode": "markers",
         "name": "Sky Sports Arena",
         "orientation": "v",
         "showlegend": true,
         "type": "scatter",
         "x": [
          "2022-03-18T07:14:31",
          "2022-03-18T16:29:00",
          "2022-03-18T22:59:24",
          "2022-03-19T12:18:04",
          "2022-03-21T01:58:15",
          "2022-03-25T21:12:11",
          "2022-03-25T21:30:35",
          "2022-03-26T21:19:13",
          "2022-03-26T22:39:28",
          "2022-03-27T00:28:01",
          "2022-03-27T00:36:08",
          "2022-03-27T02:38:52",
          "2022-03-27T03:06:51",
          "2022-03-27T20:11:45",
          "2022-03-27T22:35:02",
          "2022-03-28T00:20:17",
          "2022-03-28T00:34:32",
          "2022-03-28T01:27:10",
          "2022-03-28T22:06:44",
          "2022-03-29T01:09:57",
          "2022-03-29T05:35:31",
          "2022-03-29T05:57:42",
          "2022-03-29T07:58:30",
          "2022-03-31T04:59:02"
         ],
         "xaxis": "x",
         "y": [
          0,
          0,
          0,
          89,
          0,
          0,
          0,
          0,
          0,
          0,
          0,
          0,
          113,
          0,
          0,
          62,
          62,
          71,
          0,
          0,
          0,
          0,
          0,
          0
         ],
         "yaxis": "y"
        },
        {
         "hovertemplate": "station_name=Sky Sports Cricket<br>spot_start_datetime=%{x}<br>audience_size_hundreds=%{y}<extra></extra>",
         "legendgroup": "Sky Sports Cricket",
         "marker": {
          "color": "#FECB52",
          "size": 10,
          "symbol": "circle"
         },
         "mode": "markers",
         "name": "Sky Sports Cricket",
         "orientation": "v",
         "showlegend": true,
         "type": "scatter",
         "x": [
          "2022-03-15T07:21:01",
          "2022-03-15T12:39:22",
          "2022-03-15T12:58:15",
          "2022-03-15T13:15:05",
          "2022-03-15T14:26:02",
          "2022-03-15T15:35:05",
          "2022-03-23T02:44:15"
         ],
         "xaxis": "x",
         "y": [
          132,
          0,
          0,
          99,
          145,
          26,
          44
         ],
         "yaxis": "y"
        },
        {
         "hovertemplate": "station_name=Sky Sports F1<br>spot_start_datetime=%{x}<br>audience_size_hundreds=%{y}<extra></extra>",
         "legendgroup": "Sky Sports F1",
         "marker": {
          "color": "#636efa",
          "size": 10,
          "symbol": "circle"
         },
         "mode": "markers",
         "name": "Sky Sports F1",
         "orientation": "v",
         "showlegend": true,
         "type": "scatter",
         "x": [
          "2022-03-15T20:09:00",
          "2022-03-15T20:30:40",
          "2022-03-15T21:55:09",
          "2022-03-19T06:50:08",
          "2022-03-19T08:06:07",
          "2022-03-19T08:51:52",
          "2022-03-22T10:33:23",
          "2022-03-22T14:43:22",
          "2022-03-22T15:21:05",
          "2022-03-23T14:09:39",
          "2022-03-23T14:57:30",
          "2022-03-23T22:55:08",
          "2022-03-23T23:42:39",
          "2022-03-25T13:27:27",
          "2022-03-25T16:33:39",
          "2022-03-25T22:25:48",
          "2022-03-26T00:19:49",
          "2022-03-28T14:22:25"
         ],
         "xaxis": "x",
         "y": [
          0,
          0,
          102,
          0,
          62,
          251,
          0,
          0,
          0,
          0,
          0,
          50,
          50,
          484,
          556,
          65,
          0,
          66
         ],
         "yaxis": "y"
        },
        {
         "hovertemplate": "station_name=Sky Sports Football<br>spot_start_datetime=%{x}<br>audience_size_hundreds=%{y}<extra></extra>",
         "legendgroup": "Sky Sports Football",
         "marker": {
          "color": "#EF553B",
          "size": 10,
          "symbol": "circle"
         },
         "mode": "markers",
         "name": "Sky Sports Football",
         "orientation": "v",
         "showlegend": true,
         "type": "scatter",
         "x": [
          "2022-03-24T19:32:18"
         ],
         "xaxis": "x",
         "y": [
          467
         ],
         "yaxis": "y"
        },
        {
         "hovertemplate": "station_name=Sky Sports News<br>spot_start_datetime=%{x}<br>audience_size_hundreds=%{y}<extra></extra>",
         "legendgroup": "Sky Sports News",
         "marker": {
          "color": "#00cc96",
          "size": 10,
          "symbol": "circle"
         },
         "mode": "markers",
         "name": "Sky Sports News",
         "orientation": "v",
         "showlegend": true,
         "type": "scatter",
         "x": [
          "2022-03-15T20:40:43",
          "2022-03-15T20:50:14",
          "2022-03-15T21:02:37",
          "2022-03-15T22:01:47",
          "2022-03-16T20:49:43",
          "2022-03-16T21:09:34",
          "2022-03-16T21:41:55",
          "2022-03-19T09:55:45",
          "2022-03-20T07:56:15",
          "2022-03-20T11:58:15",
          "2022-03-20T13:15:10",
          "2022-03-22T21:43:16"
         ],
         "xaxis": "x",
         "y": [
          695,
          1066,
          743,
          903,
          336,
          444,
          218,
          298,
          199,
          294,
          107,
          365
         ],
         "yaxis": "y"
        },
        {
         "hovertemplate": "station_name=Sky Sports Racing<br>spot_start_datetime=%{x}<br>audience_size_hundreds=%{y}<extra></extra>",
         "legendgroup": "Sky Sports Racing",
         "marker": {
          "color": "#ab63fa",
          "size": 10,
          "symbol": "circle"
         },
         "mode": "markers",
         "name": "Sky Sports Racing",
         "orientation": "v",
         "showlegend": true,
         "type": "scatter",
         "x": [
          "2022-03-16T18:11:47",
          "2022-03-16T18:29:37",
          "2022-03-19T08:42:30",
          "2022-03-19T09:27:59",
          "2022-03-19T11:19:22",
          "2022-03-19T12:44:46",
          "2022-03-19T14:06:36",
          "2022-03-19T14:57:44",
          "2022-03-19T15:17:36",
          "2022-03-19T16:09:14",
          "2022-03-19T16:41:27",
          "2022-03-19T17:12:56",
          "2022-03-19T17:57:42",
          "2022-03-19T18:26:47",
          "2022-03-19T19:06:10",
          "2022-03-19T20:45:42",
          "2022-03-19T21:08:59",
          "2022-03-19T21:49:22",
          "2022-03-19T23:33:08",
          "2022-03-19T23:51:50",
          "2022-03-20T00:05:42",
          "2022-03-20T00:44:13",
          "2022-03-20T10:58:05",
          "2022-03-21T00:57:28",
          "2022-03-21T07:12:26",
          "2022-03-21T07:27:19",
          "2022-03-21T21:03:16",
          "2022-03-21T21:48:32",
          "2022-03-21T22:27:06",
          "2022-03-25T07:57:51",
          "2022-03-26T08:13:24",
          "2022-03-29T07:13:55",
          "2022-03-29T07:28:48",
          "2022-03-29T10:57:44",
          "2022-03-29T12:06:36",
          "2022-03-29T15:11:18",
          "2022-03-29T15:24:07",
          "2022-03-29T15:58:55",
          "2022-03-29T17:33:52",
          "2022-03-29T23:17:35",
          "2022-03-29T23:31:10",
          "2022-03-29T23:46:06"
         ],
         "xaxis": "x",
         "y": [
          107,
          0,
          0,
          0,
          162,
          0,
          0,
          0,
          0,
          227,
          302,
          222,
          0,
          0,
          0,
          114,
          0,
          0,
          0,
          0,
          0,
          0,
          0,
          0,
          0,
          0,
          0,
          0,
          0,
          0,
          0,
          0,
          0,
          0,
          0,
          214,
          274,
          348,
          194,
          0,
          0,
          0
         ],
         "yaxis": "y"
        },
        {
         "hovertemplate": "station_name=Sky Witness<br>spot_start_datetime=%{x}<br>audience_size_hundreds=%{y}<extra></extra>",
         "legendgroup": "Sky Witness",
         "marker": {
          "color": "#FFA15A",
          "size": 10,
          "symbol": "circle"
         },
         "mode": "markers",
         "name": "Sky Witness",
         "orientation": "v",
         "showlegend": true,
         "type": "scatter",
         "x": [
          "2022-03-14T17:29:26",
          "2022-03-15T21:32:05",
          "2022-03-16T17:42:39",
          "2022-03-19T15:43:45",
          "2022-03-19T16:15:58",
          "2022-03-19T17:46:38",
          "2022-03-19T18:40:35",
          "2022-03-20T16:44:57",
          "2022-03-21T19:43:59",
          "2022-03-22T21:37:57",
          "2022-03-25T20:44:22",
          "2022-03-25T21:25:06",
          "2022-03-25T21:45:36",
          "2022-03-26T17:42:31",
          "2022-03-26T18:46:35",
          "2022-03-28T21:18:32",
          "2022-03-29T21:39:22",
          "2022-03-30T02:24:51",
          "2022-03-31T18:26:42",
          "2022-03-31T22:26:13"
         ],
         "xaxis": "x",
         "y": [
          15,
          990,
          0,
          57,
          172,
          185,
          136,
          278,
          342,
          843,
          1863,
          671,
          471,
          147,
          0,
          1018,
          1366,
          60,
          44,
          49
         ],
         "yaxis": "y"
        },
        {
         "hovertemplate": "station_name=Sky Witness +1<br>spot_start_datetime=%{x}<br>audience_size_hundreds=%{y}<extra></extra>",
         "legendgroup": "Sky Witness +1",
         "marker": {
          "color": "#19d3f3",
          "size": 10,
          "symbol": "circle"
         },
         "mode": "markers",
         "name": "Sky Witness +1",
         "orientation": "v",
         "showlegend": true,
         "type": "scatter",
         "x": [
          "2022-03-14T18:29:26",
          "2022-03-15T22:32:05",
          "2022-03-16T18:42:39",
          "2022-03-19T16:43:45",
          "2022-03-19T17:15:58",
          "2022-03-19T18:46:38",
          "2022-03-19T19:40:35",
          "2022-03-20T17:44:57",
          "2022-03-21T20:43:59",
          "2022-03-22T22:37:57",
          "2022-03-25T21:44:22",
          "2022-03-25T22:25:06",
          "2022-03-25T22:45:36",
          "2022-03-26T18:42:31",
          "2022-03-26T19:46:35",
          "2022-03-28T22:18:32",
          "2022-03-29T22:39:22",
          "2022-03-30T03:24:51",
          "2022-03-31T19:26:42",
          "2022-03-31T23:26:13"
         ],
         "xaxis": "x",
         "y": [
          0,
          8,
          0,
          0,
          0,
          0,
          0,
          0,
          0,
          84,
          25,
          0,
          0,
          0,
          0,
          44,
          42,
          0,
          0,
          0
         ],
         "yaxis": "y"
        }
       ],
       "layout": {
        "height": 600,
        "legend": {
         "title": {
          "text": "station_name"
         },
         "tracegroupgap": 0
        },
        "margin": {
         "t": 60
        },
        "shapes": [
         {
          "layer": "below",
          "line": {
           "color": "grey",
           "width": 2
          },
          "type": "line",
          "x0": "2022-03-19T02:08:05",
          "x1": "2022-03-19T02:08:05",
          "y0": 0,
          "y1": 0
         },
         {
          "layer": "below",
          "line": {
           "color": "grey",
           "width": 2
          },
          "type": "line",
          "x0": "2022-03-25T00:16:39",
          "x1": "2022-03-25T00:16:39",
          "y0": 0,
          "y1": 154
         },
         {
          "layer": "below",
          "line": {
           "color": "grey",
           "width": 2
          },
          "type": "line",
          "x0": "2022-03-25T20:03:09",
          "x1": "2022-03-25T20:03:09",
          "y0": 0,
          "y1": 332
         },
         {
          "layer": "below",
          "line": {
           "color": "grey",
           "width": 2
          },
          "type": "line",
          "x0": "2022-03-26T19:30:08",
          "x1": "2022-03-26T19:30:08",
          "y0": 0,
          "y1": 17
         },
         {
          "layer": "below",
          "line": {
           "color": "grey",
           "width": 2
          },
          "type": "line",
          "x0": "2022-03-27T21:18:45",
          "x1": "2022-03-27T21:18:45",
          "y0": 0,
          "y1": 109
         },
         {
          "layer": "below",
          "line": {
           "color": "grey",
           "width": 2
          },
          "type": "line",
          "x0": "2022-03-27T22:05:30",
          "x1": "2022-03-27T22:05:30",
          "y0": 0,
          "y1": 111
         },
         {
          "layer": "below",
          "line": {
           "color": "grey",
           "width": 2
          },
          "type": "line",
          "x0": "2022-03-27T22:18:39",
          "x1": "2022-03-27T22:18:39",
          "y0": 0,
          "y1": 111
         },
         {
          "layer": "below",
          "line": {
           "color": "grey",
           "width": 2
          },
          "type": "line",
          "x0": "2022-03-28T21:44:37",
          "x1": "2022-03-28T21:44:37",
          "y0": 0,
          "y1": 807
         },
         {
          "layer": "below",
          "line": {
           "color": "grey",
           "width": 2
          },
          "type": "line",
          "x0": "2022-03-29T19:28:29",
          "x1": "2022-03-29T19:28:29",
          "y0": 0,
          "y1": 376
         },
         {
          "layer": "below",
          "line": {
           "color": "grey",
           "width": 2
          },
          "type": "line",
          "x0": "2022-03-30T23:42:27",
          "x1": "2022-03-30T23:42:27",
          "y0": 0,
          "y1": 184
         },
         {
          "layer": "below",
          "line": {
           "color": "grey",
           "width": 2
          },
          "type": "line",
          "x0": "2022-03-31T20:41:57",
          "x1": "2022-03-31T20:41:57",
          "y0": 0,
          "y1": 214
         },
         {
          "layer": "below",
          "line": {
           "color": "grey",
           "width": 2
          },
          "type": "line",
          "x0": "2022-03-31T21:45:21",
          "x1": "2022-03-31T21:45:21",
          "y0": 0,
          "y1": 63
         },
         {
          "layer": "below",
          "line": {
           "color": "grey",
           "width": 2
          },
          "type": "line",
          "x0": "2022-03-31T23:19:41",
          "x1": "2022-03-31T23:19:41",
          "y0": 0,
          "y1": 163
         },
         {
          "layer": "below",
          "line": {
           "color": "grey",
           "width": 2
          },
          "type": "line",
          "x0": "2022-03-31T23:57:55",
          "x1": "2022-03-31T23:57:55",
          "y0": 0,
          "y1": 169
         },
         {
          "layer": "below",
          "line": {
           "color": "grey",
           "width": 2
          },
          "type": "line",
          "x0": "2022-03-14T20:18:57",
          "x1": "2022-03-14T20:18:57",
          "y0": 0,
          "y1": 95
         },
         {
          "layer": "below",
          "line": {
           "color": "grey",
           "width": 2
          },
          "type": "line",
          "x0": "2022-03-16T20:56:24",
          "x1": "2022-03-16T20:56:24",
          "y0": 0,
          "y1": 92
         },
         {
          "layer": "below",
          "line": {
           "color": "grey",
           "width": 2
          },
          "type": "line",
          "x0": "2022-03-19T21:25:46",
          "x1": "2022-03-19T21:25:46",
          "y0": 0,
          "y1": 28
         },
         {
          "layer": "below",
          "line": {
           "color": "grey",
           "width": 2
          },
          "type": "line",
          "x0": "2022-03-19T22:02:14",
          "x1": "2022-03-19T22:02:14",
          "y0": 0,
          "y1": 0
         },
         {
          "layer": "below",
          "line": {
           "color": "grey",
           "width": 2
          },
          "type": "line",
          "x0": "2022-03-19T22:54:41",
          "x1": "2022-03-19T22:54:41",
          "y0": 0,
          "y1": 0
         },
         {
          "layer": "below",
          "line": {
           "color": "grey",
           "width": 2
          },
          "type": "line",
          "x0": "2022-03-19T23:49:52",
          "x1": "2022-03-19T23:49:52",
          "y0": 0,
          "y1": 287
         },
         {
          "layer": "below",
          "line": {
           "color": "grey",
           "width": 2
          },
          "type": "line",
          "x0": "2022-03-20T00:58:23",
          "x1": "2022-03-20T00:58:23",
          "y0": 0,
          "y1": 14
         },
         {
          "layer": "below",
          "line": {
           "color": "grey",
           "width": 2
          },
          "type": "line",
          "x0": "2022-03-20T01:37:18",
          "x1": "2022-03-20T01:37:18",
          "y0": 0,
          "y1": 0
         },
         {
          "layer": "below",
          "line": {
           "color": "grey",
           "width": 2
          },
          "type": "line",
          "x0": "2022-03-20T02:01:04",
          "x1": "2022-03-20T02:01:04",
          "y0": 0,
          "y1": 0
         },
         {
          "layer": "below",
          "line": {
           "color": "grey",
           "width": 2
          },
          "type": "line",
          "x0": "2022-03-20T02:38:06",
          "x1": "2022-03-20T02:38:06",
          "y0": 0,
          "y1": 0
         },
         {
          "layer": "below",
          "line": {
           "color": "grey",
           "width": 2
          },
          "type": "line",
          "x0": "2022-03-20T02:53:35",
          "x1": "2022-03-20T02:53:35",
          "y0": 0,
          "y1": 0
         },
         {
          "layer": "below",
          "line": {
           "color": "grey",
           "width": 2
          },
          "type": "line",
          "x0": "2022-03-20T03:14:19",
          "x1": "2022-03-20T03:14:19",
          "y0": 0,
          "y1": 0
         },
         {
          "layer": "below",
          "line": {
           "color": "grey",
           "width": 2
          },
          "type": "line",
          "x0": "2022-03-21T20:11:47",
          "x1": "2022-03-21T20:11:47",
          "y0": 0,
          "y1": 63
         },
         {
          "layer": "below",
          "line": {
           "color": "grey",
           "width": 2
          },
          "type": "line",
          "x0": "2022-03-23T23:08:23",
          "x1": "2022-03-23T23:08:23",
          "y0": 0,
          "y1": 0
         },
         {
          "layer": "below",
          "line": {
           "color": "grey",
           "width": 2
          },
          "type": "line",
          "x0": "2022-03-24T02:22:49",
          "x1": "2022-03-24T02:22:49",
          "y0": 0,
          "y1": 0
         },
         {
          "layer": "below",
          "line": {
           "color": "grey",
           "width": 2
          },
          "type": "line",
          "x0": "2022-03-25T19:28:58",
          "x1": "2022-03-25T19:28:58",
          "y0": 0,
          "y1": 50
         },
         {
          "layer": "below",
          "line": {
           "color": "grey",
           "width": 2
          },
          "type": "line",
          "x0": "2022-03-25T21:37:22",
          "x1": "2022-03-25T21:37:22",
          "y0": 0,
          "y1": 112
         },
         {
          "layer": "below",
          "line": {
           "color": "grey",
           "width": 2
          },
          "type": "line",
          "x0": "2022-03-25T22:18:39",
          "x1": "2022-03-25T22:18:39",
          "y0": 0,
          "y1": 0
         },
         {
          "layer": "below",
          "line": {
           "color": "grey",
           "width": 2
          },
          "type": "line",
          "x0": "2022-03-25T22:57:26",
          "x1": "2022-03-25T22:57:26",
          "y0": 0,
          "y1": 0
         },
         {
          "layer": "below",
          "line": {
           "color": "grey",
           "width": 2
          },
          "type": "line",
          "x0": "2022-03-26T21:17:13",
          "x1": "2022-03-26T21:17:13",
          "y0": 0,
          "y1": 0
         },
         {
          "layer": "below",
          "line": {
           "color": "grey",
           "width": 2
          },
          "type": "line",
          "x0": "2022-03-26T22:00:21",
          "x1": "2022-03-26T22:00:21",
          "y0": 0,
          "y1": 0
         },
         {
          "layer": "below",
          "line": {
           "color": "grey",
           "width": 2
          },
          "type": "line",
          "x0": "2022-03-26T22:49:12",
          "x1": "2022-03-26T22:49:12",
          "y0": 0,
          "y1": 0
         },
         {
          "layer": "below",
          "line": {
           "color": "grey",
           "width": 2
          },
          "type": "line",
          "x0": "2022-03-27T22:23:19",
          "x1": "2022-03-27T22:23:19",
          "y0": 0,
          "y1": 0
         },
         {
          "layer": "below",
          "line": {
           "color": "grey",
           "width": 2
          },
          "type": "line",
          "x0": "2022-03-28T05:58:20",
          "x1": "2022-03-28T05:58:20",
          "y0": 0,
          "y1": 0
         },
         {
          "layer": "below",
          "line": {
           "color": "grey",
           "width": 2
          },
          "type": "line",
          "x0": "2022-03-29T23:48:24",
          "x1": "2022-03-29T23:48:24",
          "y0": 0,
          "y1": 0
         },
         {
          "layer": "below",
          "line": {
           "color": "grey",
           "width": 2
          },
          "type": "line",
          "x0": "2022-03-30T23:48:01",
          "x1": "2022-03-30T23:48:01",
          "y0": 0,
          "y1": 0
         },
         {
          "layer": "below",
          "line": {
           "color": "grey",
           "width": 2
          },
          "type": "line",
          "x0": "2022-04-01T21:58:26",
          "x1": "2022-04-01T21:58:26",
          "y0": 0,
          "y1": 34
         },
         {
          "layer": "below",
          "line": {
           "color": "grey",
           "width": 2
          },
          "type": "line",
          "x0": "2022-04-02T00:18:50",
          "x1": "2022-04-02T00:18:50",
          "y0": 0,
          "y1": 0
         },
         {
          "layer": "below",
          "line": {
           "color": "grey",
           "width": 2
          },
          "type": "line",
          "x0": "2022-04-02T04:44:46",
          "x1": "2022-04-02T04:44:46",
          "y0": 0,
          "y1": 0
         },
         {
          "layer": "below",
          "line": {
           "color": "grey",
           "width": 2
          },
          "type": "line",
          "x0": "2022-03-14T21:18:57",
          "x1": "2022-03-14T21:18:57",
          "y0": 0,
          "y1": 24
         },
         {
          "layer": "below",
          "line": {
           "color": "grey",
           "width": 2
          },
          "type": "line",
          "x0": "2022-03-16T21:56:24",
          "x1": "2022-03-16T21:56:24",
          "y0": 0,
          "y1": 0
         },
         {
          "layer": "below",
          "line": {
           "color": "grey",
           "width": 2
          },
          "type": "line",
          "x0": "2022-03-19T22:25:46",
          "x1": "2022-03-19T22:25:46",
          "y0": 0,
          "y1": 0
         },
         {
          "layer": "below",
          "line": {
           "color": "grey",
           "width": 2
          },
          "type": "line",
          "x0": "2022-03-19T23:02:14",
          "x1": "2022-03-19T23:02:14",
          "y0": 0,
          "y1": 0
         },
         {
          "layer": "below",
          "line": {
           "color": "grey",
           "width": 2
          },
          "type": "line",
          "x0": "2022-03-19T23:54:41",
          "x1": "2022-03-19T23:54:41",
          "y0": 0,
          "y1": 0
         },
         {
          "layer": "below",
          "line": {
           "color": "grey",
           "width": 2
          },
          "type": "line",
          "x0": "2022-03-20T00:49:52",
          "x1": "2022-03-20T00:49:52",
          "y0": 0,
          "y1": 0
         },
         {
          "layer": "below",
          "line": {
           "color": "grey",
           "width": 2
          },
          "type": "line",
          "x0": "2022-03-20T01:58:23",
          "x1": "2022-03-20T01:58:23",
          "y0": 0,
          "y1": 0
         },
         {
          "layer": "below",
          "line": {
           "color": "grey",
           "width": 2
          },
          "type": "line",
          "x0": "2022-03-20T02:37:18",
          "x1": "2022-03-20T02:37:18",
          "y0": 0,
          "y1": 0
         },
         {
          "layer": "below",
          "line": {
           "color": "grey",
           "width": 2
          },
          "type": "line",
          "x0": "2022-03-20T03:01:04",
          "x1": "2022-03-20T03:01:04",
          "y0": 0,
          "y1": 0
         },
         {
          "layer": "below",
          "line": {
           "color": "grey",
           "width": 2
          },
          "type": "line",
          "x0": "2022-03-20T03:38:06",
          "x1": "2022-03-20T03:38:06",
          "y0": 0,
          "y1": 0
         },
         {
          "layer": "below",
          "line": {
           "color": "grey",
           "width": 2
          },
          "type": "line",
          "x0": "2022-03-20T03:53:35",
          "x1": "2022-03-20T03:53:35",
          "y0": 0,
          "y1": 0
         },
         {
          "layer": "below",
          "line": {
           "color": "grey",
           "width": 2
          },
          "type": "line",
          "x0": "2022-03-20T04:14:19",
          "x1": "2022-03-20T04:14:19",
          "y0": 0,
          "y1": 0
         },
         {
          "layer": "below",
          "line": {
           "color": "grey",
           "width": 2
          },
          "type": "line",
          "x0": "2022-03-21T21:11:47",
          "x1": "2022-03-21T21:11:47",
          "y0": 0,
          "y1": 45
         },
         {
          "layer": "below",
          "line": {
           "color": "grey",
           "width": 2
          },
          "type": "line",
          "x0": "2022-03-24T00:08:23",
          "x1": "2022-03-24T00:08:23",
          "y0": 0,
          "y1": 0
         },
         {
          "layer": "below",
          "line": {
           "color": "grey",
           "width": 2
          },
          "type": "line",
          "x0": "2022-03-24T03:22:49",
          "x1": "2022-03-24T03:22:49",
          "y0": 0,
          "y1": 0
         },
         {
          "layer": "below",
          "line": {
           "color": "grey",
           "width": 2
          },
          "type": "line",
          "x0": "2022-03-25T20:28:58",
          "x1": "2022-03-25T20:28:58",
          "y0": 0,
          "y1": 0
         },
         {
          "layer": "below",
          "line": {
           "color": "grey",
           "width": 2
          },
          "type": "line",
          "x0": "2022-03-25T22:37:22",
          "x1": "2022-03-25T22:37:22",
          "y0": 0,
          "y1": 0
         },
         {
          "layer": "below",
          "line": {
           "color": "grey",
           "width": 2
          },
          "type": "line",
          "x0": "2022-03-25T23:18:39",
          "x1": "2022-03-25T23:18:39",
          "y0": 0,
          "y1": 0
         },
         {
          "layer": "below",
          "line": {
           "color": "grey",
           "width": 2
          },
          "type": "line",
          "x0": "2022-03-25T23:57:26",
          "x1": "2022-03-25T23:57:26",
          "y0": 0,
          "y1": 0
         },
         {
          "layer": "below",
          "line": {
           "color": "grey",
           "width": 2
          },
          "type": "line",
          "x0": "2022-03-26T22:17:13",
          "x1": "2022-03-26T22:17:13",
          "y0": 0,
          "y1": 0
         },
         {
          "layer": "below",
          "line": {
           "color": "grey",
           "width": 2
          },
          "type": "line",
          "x0": "2022-03-26T23:00:21",
          "x1": "2022-03-26T23:00:21",
          "y0": 0,
          "y1": 0
         },
         {
          "layer": "below",
          "line": {
           "color": "grey",
           "width": 2
          },
          "type": "line",
          "x0": "2022-03-26T23:49:12",
          "x1": "2022-03-26T23:49:12",
          "y0": 0,
          "y1": 0
         },
         {
          "layer": "below",
          "line": {
           "color": "grey",
           "width": 2
          },
          "type": "line",
          "x0": "2022-03-27T23:23:19",
          "x1": "2022-03-27T23:23:19",
          "y0": 0,
          "y1": 0
         },
         {
          "layer": "below",
          "line": {
           "color": "grey",
           "width": 2
          },
          "type": "line",
          "x0": "2022-03-28T06:58:20",
          "x1": "2022-03-28T06:58:20",
          "y0": 0,
          "y1": 0
         },
         {
          "layer": "below",
          "line": {
           "color": "grey",
           "width": 2
          },
          "type": "line",
          "x0": "2022-03-30T00:48:24",
          "x1": "2022-03-30T00:48:24",
          "y0": 0,
          "y1": 0
         },
         {
          "layer": "below",
          "line": {
           "color": "grey",
           "width": 2
          },
          "type": "line",
          "x0": "2022-03-31T00:48:01",
          "x1": "2022-03-31T00:48:01",
          "y0": 0,
          "y1": 0
         },
         {
          "layer": "below",
          "line": {
           "color": "grey",
           "width": 2
          },
          "type": "line",
          "x0": "2022-04-01T22:58:26",
          "x1": "2022-04-01T22:58:26",
          "y0": 0,
          "y1": 0
         },
         {
          "layer": "below",
          "line": {
           "color": "grey",
           "width": 2
          },
          "type": "line",
          "x0": "2022-04-02T01:18:50",
          "x1": "2022-04-02T01:18:50",
          "y0": 0,
          "y1": 0
         },
         {
          "layer": "below",
          "line": {
           "color": "grey",
           "width": 2
          },
          "type": "line",
          "x0": "2022-04-02T05:44:46",
          "x1": "2022-04-02T05:44:46",
          "y0": 0,
          "y1": 0
         },
         {
          "layer": "below",
          "line": {
           "color": "grey",
           "width": 2
          },
          "type": "line",
          "x0": "2022-03-30T21:58:50",
          "x1": "2022-03-30T21:58:50",
          "y0": 0,
          "y1": 67
         },
         {
          "layer": "below",
          "line": {
           "color": "grey",
           "width": 2
          },
          "type": "line",
          "x0": "2022-04-01T23:46:52",
          "x1": "2022-04-01T23:46:52",
          "y0": 0,
          "y1": 0
         },
         {
          "layer": "below",
          "line": {
           "color": "grey",
           "width": 2
          },
          "type": "line",
          "x0": "2022-03-23T18:32:47",
          "x1": "2022-03-23T18:32:47",
          "y0": 0,
          "y1": 0
         },
         {
          "layer": "below",
          "line": {
           "color": "grey",
           "width": 2
          },
          "type": "line",
          "x0": "2022-03-27T21:38:33",
          "x1": "2022-03-27T21:38:33",
          "y0": 0,
          "y1": 0
         },
         {
          "layer": "below",
          "line": {
           "color": "grey",
           "width": 2
          },
          "type": "line",
          "x0": "2022-03-27T23:26:39",
          "x1": "2022-03-27T23:26:39",
          "y0": 0,
          "y1": 61
         },
         {
          "layer": "below",
          "line": {
           "color": "grey",
           "width": 2
          },
          "type": "line",
          "x0": "2022-03-28T01:11:15",
          "x1": "2022-03-28T01:11:15",
          "y0": 0,
          "y1": 0
         },
         {
          "layer": "below",
          "line": {
           "color": "grey",
           "width": 2
          },
          "type": "line",
          "x0": "2022-03-28T02:39:45",
          "x1": "2022-03-28T02:39:45",
          "y0": 0,
          "y1": 0
         },
         {
          "layer": "below",
          "line": {
           "color": "grey",
           "width": 2
          },
          "type": "line",
          "x0": "2022-03-28T04:25:10",
          "x1": "2022-03-28T04:25:10",
          "y0": 0,
          "y1": 61
         },
         {
          "layer": "below",
          "line": {
           "color": "grey",
           "width": 2
          },
          "type": "line",
          "x0": "2022-03-26T20:56:05",
          "x1": "2022-03-26T20:56:05",
          "y0": 0,
          "y1": 0
         },
         {
          "layer": "below",
          "line": {
           "color": "grey",
           "width": 2
          },
          "type": "line",
          "x0": "2022-03-27T00:18:20",
          "x1": "2022-03-27T00:18:20",
          "y0": 0,
          "y1": 0
         },
         {
          "layer": "below",
          "line": {
           "color": "grey",
           "width": 2
          },
          "type": "line",
          "x0": "2022-03-27T03:28:05",
          "x1": "2022-03-27T03:28:05",
          "y0": 0,
          "y1": 0
         },
         {
          "layer": "below",
          "line": {
           "color": "grey",
           "width": 2
          },
          "type": "line",
          "x0": "2022-03-27T20:54:38",
          "x1": "2022-03-27T20:54:38",
          "y0": 0,
          "y1": 0
         },
         {
          "layer": "below",
          "line": {
           "color": "grey",
           "width": 2
          },
          "type": "line",
          "x0": "2022-03-30T23:39:09",
          "x1": "2022-03-30T23:39:09",
          "y0": 0,
          "y1": 0
         },
         {
          "layer": "below",
          "line": {
           "color": "grey",
           "width": 2
          },
          "type": "line",
          "x0": "2022-04-01T08:00:55",
          "x1": "2022-04-01T08:00:55",
          "y0": 0,
          "y1": 0
         },
         {
          "layer": "below",
          "line": {
           "color": "grey",
           "width": 2
          },
          "type": "line",
          "x0": "2022-04-01T19:57:10",
          "x1": "2022-04-01T19:57:10",
          "y0": 0,
          "y1": 0
         },
         {
          "layer": "below",
          "line": {
           "color": "grey",
           "width": 2
          },
          "type": "line",
          "x0": "2022-04-01T21:53:58",
          "x1": "2022-04-01T21:53:58",
          "y0": 0,
          "y1": 0
         },
         {
          "layer": "below",
          "line": {
           "color": "grey",
           "width": 2
          },
          "type": "line",
          "x0": "2022-04-02T00:20:48",
          "x1": "2022-04-02T00:20:48",
          "y0": 0,
          "y1": 0
         },
         {
          "layer": "below",
          "line": {
           "color": "grey",
           "width": 2
          },
          "type": "line",
          "x0": "2022-04-02T02:16:46",
          "x1": "2022-04-02T02:16:46",
          "y0": 0,
          "y1": 0
         },
         {
          "layer": "below",
          "line": {
           "color": "grey",
           "width": 2
          },
          "type": "line",
          "x0": "2022-04-02T04:01:18",
          "x1": "2022-04-02T04:01:18",
          "y0": 0,
          "y1": 0
         },
         {
          "layer": "below",
          "line": {
           "color": "grey",
           "width": 2
          },
          "type": "line",
          "x0": "2022-03-24T03:53:42",
          "x1": "2022-03-24T03:53:42",
          "y0": 0,
          "y1": 0
         },
         {
          "layer": "below",
          "line": {
           "color": "grey",
           "width": 2
          },
          "type": "line",
          "x0": "2022-03-26T18:17:05",
          "x1": "2022-03-26T18:17:05",
          "y0": 0,
          "y1": 0
         },
         {
          "layer": "below",
          "line": {
           "color": "grey",
           "width": 2
          },
          "type": "line",
          "x0": "2022-03-26T20:00:53",
          "x1": "2022-03-26T20:00:53",
          "y0": 0,
          "y1": 25
         },
         {
          "layer": "below",
          "line": {
           "color": "grey",
           "width": 2
          },
          "type": "line",
          "x0": "2022-03-28T17:46:16",
          "x1": "2022-03-28T17:46:16",
          "y0": 0,
          "y1": 0
         },
         {
          "layer": "below",
          "line": {
           "color": "grey",
           "width": 2
          },
          "type": "line",
          "x0": "2022-03-28T19:24:33",
          "x1": "2022-03-28T19:24:33",
          "y0": 0,
          "y1": 0
         },
         {
          "layer": "below",
          "line": {
           "color": "grey",
           "width": 2
          },
          "type": "line",
          "x0": "2022-03-29T02:20:45",
          "x1": "2022-03-29T02:20:45",
          "y0": 0,
          "y1": 0
         },
         {
          "layer": "below",
          "line": {
           "color": "grey",
           "width": 2
          },
          "type": "line",
          "x0": "2022-03-29T04:29:47",
          "x1": "2022-03-29T04:29:47",
          "y0": 0,
          "y1": 0
         },
         {
          "layer": "below",
          "line": {
           "color": "grey",
           "width": 2
          },
          "type": "line",
          "x0": "2022-03-29T19:58:30",
          "x1": "2022-03-29T19:58:30",
          "y0": 0,
          "y1": 74
         },
         {
          "layer": "below",
          "line": {
           "color": "grey",
           "width": 2
          },
          "type": "line",
          "x0": "2022-03-29T21:59:56",
          "x1": "2022-03-29T21:59:56",
          "y0": 0,
          "y1": 0
         },
         {
          "layer": "below",
          "line": {
           "color": "grey",
           "width": 2
          },
          "type": "line",
          "x0": "2022-03-31T19:18:32",
          "x1": "2022-03-31T19:18:32",
          "y0": 0,
          "y1": 0
         },
         {
          "layer": "below",
          "line": {
           "color": "grey",
           "width": 2
          },
          "type": "line",
          "x0": "2022-04-01T21:51:09",
          "x1": "2022-04-01T21:51:09",
          "y0": 0,
          "y1": 0
         },
         {
          "layer": "below",
          "line": {
           "color": "grey",
           "width": 2
          },
          "type": "line",
          "x0": "2022-04-02T05:22:38",
          "x1": "2022-04-02T05:22:38",
          "y0": 0,
          "y1": 62
         },
         {
          "layer": "below",
          "line": {
           "color": "grey",
           "width": 2
          },
          "type": "line",
          "x0": "2022-03-27T18:09:45",
          "x1": "2022-03-27T18:09:45",
          "y0": 0,
          "y1": 0
         },
         {
          "layer": "below",
          "line": {
           "color": "grey",
           "width": 2
          },
          "type": "line",
          "x0": "2022-03-27T19:54:29",
          "x1": "2022-03-27T19:54:29",
          "y0": 0,
          "y1": 0
         },
         {
          "layer": "below",
          "line": {
           "color": "grey",
           "width": 2
          },
          "type": "line",
          "x0": "2022-03-27T20:01:59",
          "x1": "2022-03-27T20:01:59",
          "y0": 0,
          "y1": 0
         },
         {
          "layer": "below",
          "line": {
           "color": "grey",
           "width": 2
          },
          "type": "line",
          "x0": "2022-03-30T23:28:44",
          "x1": "2022-03-30T23:28:44",
          "y0": 0,
          "y1": 0
         },
         {
          "layer": "below",
          "line": {
           "color": "grey",
           "width": 2
          },
          "type": "line",
          "x0": "2022-04-01T05:19:49",
          "x1": "2022-04-01T05:19:49",
          "y0": 0,
          "y1": 0
         },
         {
          "layer": "below",
          "line": {
           "color": "grey",
           "width": 2
          },
          "type": "line",
          "x0": "2022-04-01T15:59:12",
          "x1": "2022-04-01T15:59:12",
          "y0": 0,
          "y1": 0
         },
         {
          "layer": "below",
          "line": {
           "color": "grey",
           "width": 2
          },
          "type": "line",
          "x0": "2022-03-19T08:23:36",
          "x1": "2022-03-19T08:23:36",
          "y0": 0,
          "y1": 0
         },
         {
          "layer": "below",
          "line": {
           "color": "grey",
           "width": 2
          },
          "type": "line",
          "x0": "2022-03-19T09:58:33",
          "x1": "2022-03-19T09:58:33",
          "y0": 0,
          "y1": 0
         },
         {
          "layer": "below",
          "line": {
           "color": "grey",
           "width": 2
          },
          "type": "line",
          "x0": "2022-03-19T11:28:06",
          "x1": "2022-03-19T11:28:06",
          "y0": 0,
          "y1": 0
         },
         {
          "layer": "below",
          "line": {
           "color": "grey",
           "width": 2
          },
          "type": "line",
          "x0": "2022-03-19T13:28:20",
          "x1": "2022-03-19T13:28:20",
          "y0": 0,
          "y1": 0
         },
         {
          "layer": "below",
          "line": {
           "color": "grey",
           "width": 2
          },
          "type": "line",
          "x0": "2022-03-19T15:17:36",
          "x1": "2022-03-19T15:17:36",
          "y0": 0,
          "y1": 0
         },
         {
          "layer": "below",
          "line": {
           "color": "grey",
           "width": 2
          },
          "type": "line",
          "x0": "2022-03-19T18:40:42",
          "x1": "2022-03-19T18:40:42",
          "y0": 0,
          "y1": 0
         },
         {
          "layer": "below",
          "line": {
           "color": "grey",
           "width": 2
          },
          "type": "line",
          "x0": "2022-03-20T00:22:19",
          "x1": "2022-03-20T00:22:19",
          "y0": 0,
          "y1": 0
         },
         {
          "layer": "below",
          "line": {
           "color": "grey",
           "width": 2
          },
          "type": "line",
          "x0": "2022-03-29T20:00:53",
          "x1": "2022-03-29T20:00:53",
          "y0": 0,
          "y1": 0
         },
         {
          "layer": "below",
          "line": {
           "color": "grey",
           "width": 2
          },
          "type": "line",
          "x0": "2022-03-15T09:21:50",
          "x1": "2022-03-15T09:21:50",
          "y0": 0,
          "y1": 0
         },
         {
          "layer": "below",
          "line": {
           "color": "grey",
           "width": 2
          },
          "type": "line",
          "x0": "2022-03-26T22:27:20",
          "x1": "2022-03-26T22:27:20",
          "y0": 0,
          "y1": 31
         },
         {
          "layer": "below",
          "line": {
           "color": "grey",
           "width": 2
          },
          "type": "line",
          "x0": "2022-03-30T03:07:22",
          "x1": "2022-03-30T03:07:22",
          "y0": 0,
          "y1": 0
         },
         {
          "layer": "below",
          "line": {
           "color": "grey",
           "width": 2
          },
          "type": "line",
          "x0": "2022-03-31T05:06:56",
          "x1": "2022-03-31T05:06:56",
          "y0": 0,
          "y1": 0
         },
         {
          "layer": "below",
          "line": {
           "color": "grey",
           "width": 2
          },
          "type": "line",
          "x0": "2022-03-31T19:57:17",
          "x1": "2022-03-31T19:57:17",
          "y0": 0,
          "y1": 0
         },
         {
          "layer": "below",
          "line": {
           "color": "grey",
           "width": 2
          },
          "type": "line",
          "x0": "2022-03-15T10:21:50",
          "x1": "2022-03-15T10:21:50",
          "y0": 0,
          "y1": 0
         },
         {
          "layer": "below",
          "line": {
           "color": "grey",
           "width": 2
          },
          "type": "line",
          "x0": "2022-03-26T23:27:20",
          "x1": "2022-03-26T23:27:20",
          "y0": 0,
          "y1": 0
         },
         {
          "layer": "below",
          "line": {
           "color": "grey",
           "width": 2
          },
          "type": "line",
          "x0": "2022-03-30T04:07:22",
          "x1": "2022-03-30T04:07:22",
          "y0": 0,
          "y1": 0
         },
         {
          "layer": "below",
          "line": {
           "color": "grey",
           "width": 2
          },
          "type": "line",
          "x0": "2022-03-31T06:06:56",
          "x1": "2022-03-31T06:06:56",
          "y0": 0,
          "y1": 0
         },
         {
          "layer": "below",
          "line": {
           "color": "grey",
           "width": 2
          },
          "type": "line",
          "x0": "2022-03-31T20:57:17",
          "x1": "2022-03-31T20:57:17",
          "y0": 0,
          "y1": 0
         },
         {
          "layer": "below",
          "line": {
           "color": "grey",
           "width": 2
          },
          "type": "line",
          "x0": "2022-03-19T17:54:55",
          "x1": "2022-03-19T17:54:55",
          "y0": 0,
          "y1": 0
         },
         {
          "layer": "below",
          "line": {
           "color": "grey",
           "width": 2
          },
          "type": "line",
          "x0": "2022-03-23T21:38:39",
          "x1": "2022-03-23T21:38:39",
          "y0": 0,
          "y1": 0
         },
         {
          "layer": "below",
          "line": {
           "color": "grey",
           "width": 2
          },
          "type": "line",
          "x0": "2022-03-26T19:27:21",
          "x1": "2022-03-26T19:27:21",
          "y0": 0,
          "y1": 0
         },
         {
          "layer": "below",
          "line": {
           "color": "grey",
           "width": 2
          },
          "type": "line",
          "x0": "2022-03-28T17:40:28",
          "x1": "2022-03-28T17:40:28",
          "y0": 0,
          "y1": 0
         },
         {
          "layer": "below",
          "line": {
           "color": "grey",
           "width": 2
          },
          "type": "line",
          "x0": "2022-03-28T19:56:32",
          "x1": "2022-03-28T19:56:32",
          "y0": 0,
          "y1": 0
         },
         {
          "layer": "below",
          "line": {
           "color": "grey",
           "width": 2
          },
          "type": "line",
          "x0": "2022-03-29T19:10:40",
          "x1": "2022-03-29T19:10:40",
          "y0": 0,
          "y1": 0
         },
         {
          "layer": "below",
          "line": {
           "color": "grey",
           "width": 2
          },
          "type": "line",
          "x0": "2022-03-29T21:00:08",
          "x1": "2022-03-29T21:00:08",
          "y0": 0,
          "y1": 0
         },
         {
          "layer": "below",
          "line": {
           "color": "grey",
           "width": 2
          },
          "type": "line",
          "x0": "2022-03-29T22:30:50",
          "x1": "2022-03-29T22:30:50",
          "y0": 0,
          "y1": 0
         },
         {
          "layer": "below",
          "line": {
           "color": "grey",
           "width": 2
          },
          "type": "line",
          "x0": "2022-03-30T21:46:41",
          "x1": "2022-03-30T21:46:41",
          "y0": 0,
          "y1": 0
         },
         {
          "layer": "below",
          "line": {
           "color": "grey",
           "width": 2
          },
          "type": "line",
          "x0": "2022-03-30T23:42:52",
          "x1": "2022-03-30T23:42:52",
          "y0": 0,
          "y1": 0
         },
         {
          "layer": "below",
          "line": {
           "color": "grey",
           "width": 2
          },
          "type": "line",
          "x0": "2022-03-31T03:33:04",
          "x1": "2022-03-31T03:33:04",
          "y0": 0,
          "y1": 0
         },
         {
          "layer": "below",
          "line": {
           "color": "grey",
           "width": 2
          },
          "type": "line",
          "x0": "2022-03-31T18:58:50",
          "x1": "2022-03-31T18:58:50",
          "y0": 0,
          "y1": 0
         },
         {
          "layer": "below",
          "line": {
           "color": "grey",
           "width": 2
          },
          "type": "line",
          "x0": "2022-03-31T20:59:23",
          "x1": "2022-03-31T20:59:23",
          "y0": 0,
          "y1": 0
         },
         {
          "layer": "below",
          "line": {
           "color": "grey",
           "width": 2
          },
          "type": "line",
          "x0": "2022-04-01T18:14:24",
          "x1": "2022-04-01T18:14:24",
          "y0": 0,
          "y1": 57
         },
         {
          "layer": "below",
          "line": {
           "color": "grey",
           "width": 2
          },
          "type": "line",
          "x0": "2022-04-01T19:47:26",
          "x1": "2022-04-01T19:47:26",
          "y0": 0,
          "y1": 0
         },
         {
          "layer": "below",
          "line": {
           "color": "grey",
           "width": 2
          },
          "type": "line",
          "x0": "2022-04-02T01:05:54",
          "x1": "2022-04-02T01:05:54",
          "y0": 0,
          "y1": 77
         },
         {
          "layer": "below",
          "line": {
           "color": "grey",
           "width": 2
          },
          "type": "line",
          "x0": "2022-04-02T05:33:11",
          "x1": "2022-04-02T05:33:11",
          "y0": 0,
          "y1": 0
         },
         {
          "layer": "below",
          "line": {
           "color": "grey",
           "width": 2
          },
          "type": "line",
          "x0": "2022-03-14T18:12:16",
          "x1": "2022-03-14T18:12:16",
          "y0": 0,
          "y1": 0
         },
         {
          "layer": "below",
          "line": {
           "color": "grey",
           "width": 2
          },
          "type": "line",
          "x0": "2022-03-15T11:41:17",
          "x1": "2022-03-15T11:41:17",
          "y0": 0,
          "y1": 0
         },
         {
          "layer": "below",
          "line": {
           "color": "grey",
           "width": 2
          },
          "type": "line",
          "x0": "2022-03-17T02:40:38",
          "x1": "2022-03-17T02:40:38",
          "y0": 0,
          "y1": 0
         },
         {
          "layer": "below",
          "line": {
           "color": "grey",
           "width": 2
          },
          "type": "line",
          "x0": "2022-03-17T20:20:09",
          "x1": "2022-03-17T20:20:09",
          "y0": 0,
          "y1": 0
         },
         {
          "layer": "below",
          "line": {
           "color": "grey",
           "width": 2
          },
          "type": "line",
          "x0": "2022-03-20T17:42:41",
          "x1": "2022-03-20T17:42:41",
          "y0": 0,
          "y1": 0
         },
         {
          "layer": "below",
          "line": {
           "color": "grey",
           "width": 2
          },
          "type": "line",
          "x0": "2022-03-23T19:12:12",
          "x1": "2022-03-23T19:12:12",
          "y0": 0,
          "y1": 62
         },
         {
          "layer": "below",
          "line": {
           "color": "grey",
           "width": 2
          },
          "type": "line",
          "x0": "2022-03-23T23:13:37",
          "x1": "2022-03-23T23:13:37",
          "y0": 0,
          "y1": 0
         },
         {
          "layer": "below",
          "line": {
           "color": "grey",
           "width": 2
          },
          "type": "line",
          "x0": "2022-03-24T02:37:24",
          "x1": "2022-03-24T02:37:24",
          "y0": 0,
          "y1": 0
         },
         {
          "layer": "below",
          "line": {
           "color": "grey",
           "width": 2
          },
          "type": "line",
          "x0": "2022-03-24T20:25:48",
          "x1": "2022-03-24T20:25:48",
          "y0": 0,
          "y1": 30
         },
         {
          "layer": "below",
          "line": {
           "color": "grey",
           "width": 2
          },
          "type": "line",
          "x0": "2022-03-26T23:27:32",
          "x1": "2022-03-26T23:27:32",
          "y0": 0,
          "y1": 0
         },
         {
          "layer": "below",
          "line": {
           "color": "grey",
           "width": 2
          },
          "type": "line",
          "x0": "2022-03-27T20:13:33",
          "x1": "2022-03-27T20:13:33",
          "y0": 0,
          "y1": 0
         },
         {
          "layer": "below",
          "line": {
           "color": "grey",
           "width": 2
          },
          "type": "line",
          "x0": "2022-03-28T00:19:35",
          "x1": "2022-03-28T00:19:35",
          "y0": 0,
          "y1": 93
         },
         {
          "layer": "below",
          "line": {
           "color": "grey",
           "width": 2
          },
          "type": "line",
          "x0": "2022-03-28T20:13:34",
          "x1": "2022-03-28T20:13:34",
          "y0": 0,
          "y1": 58
         },
         {
          "layer": "below",
          "line": {
           "color": "grey",
           "width": 2
          },
          "type": "line",
          "x0": "2022-03-28T21:46:31",
          "x1": "2022-03-28T21:46:31",
          "y0": 0,
          "y1": 114
         },
         {
          "layer": "below",
          "line": {
           "color": "grey",
           "width": 2
          },
          "type": "line",
          "x0": "2022-03-28T22:24:27",
          "x1": "2022-03-28T22:24:27",
          "y0": 0,
          "y1": 0
         },
         {
          "layer": "below",
          "line": {
           "color": "grey",
           "width": 2
          },
          "type": "line",
          "x0": "2022-03-29T18:42:58",
          "x1": "2022-03-29T18:42:58",
          "y0": 0,
          "y1": 107
         },
         {
          "layer": "below",
          "line": {
           "color": "grey",
           "width": 2
          },
          "type": "line",
          "x0": "2022-03-29T19:26:46",
          "x1": "2022-03-29T19:26:46",
          "y0": 0,
          "y1": 0
         },
         {
          "layer": "below",
          "line": {
           "color": "grey",
           "width": 2
          },
          "type": "line",
          "x0": "2022-03-29T20:58:14",
          "x1": "2022-03-29T20:58:14",
          "y0": 0,
          "y1": 28
         },
         {
          "layer": "below",
          "line": {
           "color": "grey",
           "width": 2
          },
          "type": "line",
          "x0": "2022-03-30T20:26:11",
          "x1": "2022-03-30T20:26:11",
          "y0": 0,
          "y1": 0
         },
         {
          "layer": "below",
          "line": {
           "color": "grey",
           "width": 2
          },
          "type": "line",
          "x0": "2022-03-30T20:56:51",
          "x1": "2022-03-30T20:56:51",
          "y0": 0,
          "y1": 0
         },
         {
          "layer": "below",
          "line": {
           "color": "grey",
           "width": 2
          },
          "type": "line",
          "x0": "2022-03-30T21:42:40",
          "x1": "2022-03-30T21:42:40",
          "y0": 0,
          "y1": 0
         },
         {
          "layer": "below",
          "line": {
           "color": "grey",
           "width": 2
          },
          "type": "line",
          "x0": "2022-03-31T18:27:07",
          "x1": "2022-03-31T18:27:07",
          "y0": 0,
          "y1": 0
         },
         {
          "layer": "below",
          "line": {
           "color": "grey",
           "width": 2
          },
          "type": "line",
          "x0": "2022-03-31T20:28:19",
          "x1": "2022-03-31T20:28:19",
          "y0": 0,
          "y1": 0
         },
         {
          "layer": "below",
          "line": {
           "color": "grey",
           "width": 2
          },
          "type": "line",
          "x0": "2022-03-31T20:43:33",
          "x1": "2022-03-31T20:43:33",
          "y0": 0,
          "y1": 0
         },
         {
          "layer": "below",
          "line": {
           "color": "grey",
           "width": 2
          },
          "type": "line",
          "x0": "2022-03-31T22:11:58",
          "x1": "2022-03-31T22:11:58",
          "y0": 0,
          "y1": 0
         },
         {
          "layer": "below",
          "line": {
           "color": "grey",
           "width": 2
          },
          "type": "line",
          "x0": "2022-03-31T22:57:19",
          "x1": "2022-03-31T22:57:19",
          "y0": 0,
          "y1": 0
         },
         {
          "layer": "below",
          "line": {
           "color": "grey",
           "width": 2
          },
          "type": "line",
          "x0": "2022-03-31T23:25:20",
          "x1": "2022-03-31T23:25:20",
          "y0": 0,
          "y1": 0
         },
         {
          "layer": "below",
          "line": {
           "color": "grey",
           "width": 2
          },
          "type": "line",
          "x0": "2022-04-01T10:13:38",
          "x1": "2022-04-01T10:13:38",
          "y0": 0,
          "y1": 0
         },
         {
          "layer": "below",
          "line": {
           "color": "grey",
           "width": 2
          },
          "type": "line",
          "x0": "2022-04-01T18:04:17",
          "x1": "2022-04-01T18:04:17",
          "y0": 0,
          "y1": 0
         },
         {
          "layer": "below",
          "line": {
           "color": "grey",
           "width": 2
          },
          "type": "line",
          "x0": "2022-04-01T18:43:54",
          "x1": "2022-04-01T18:43:54",
          "y0": 0,
          "y1": 50
         },
         {
          "layer": "below",
          "line": {
           "color": "grey",
           "width": 2
          },
          "type": "line",
          "x0": "2022-04-01T19:44:29",
          "x1": "2022-04-01T19:44:29",
          "y0": 0,
          "y1": 88
         },
         {
          "layer": "below",
          "line": {
           "color": "grey",
           "width": 2
          },
          "type": "line",
          "x0": "2022-03-14T23:13:41",
          "x1": "2022-03-14T23:13:41",
          "y0": 0,
          "y1": 62
         },
         {
          "layer": "below",
          "line": {
           "color": "grey",
           "width": 2
          },
          "type": "line",
          "x0": "2022-03-14T23:30:41",
          "x1": "2022-03-14T23:30:41",
          "y0": 0,
          "y1": 62
         },
         {
          "layer": "below",
          "line": {
           "color": "grey",
           "width": 2
          },
          "type": "line",
          "x0": "2022-03-15T00:43:43",
          "x1": "2022-03-15T00:43:43",
          "y0": 0,
          "y1": 223
         },
         {
          "layer": "below",
          "line": {
           "color": "grey",
           "width": 2
          },
          "type": "line",
          "x0": "2022-03-15T22:47:53",
          "x1": "2022-03-15T22:47:53",
          "y0": 0,
          "y1": 0
         },
         {
          "layer": "below",
          "line": {
           "color": "grey",
           "width": 2
          },
          "type": "line",
          "x0": "2022-03-16T00:01:30",
          "x1": "2022-03-16T00:01:30",
          "y0": 0,
          "y1": 42
         },
         {
          "layer": "below",
          "line": {
           "color": "grey",
           "width": 2
          },
          "type": "line",
          "x0": "2022-03-16T00:14:56",
          "x1": "2022-03-16T00:14:56",
          "y0": 0,
          "y1": 42
         },
         {
          "layer": "below",
          "line": {
           "color": "grey",
           "width": 2
          },
          "type": "line",
          "x0": "2022-03-16T21:15:06",
          "x1": "2022-03-16T21:15:06",
          "y0": 0,
          "y1": 120
         },
         {
          "layer": "below",
          "line": {
           "color": "grey",
           "width": 2
          },
          "type": "line",
          "x0": "2022-03-17T20:27:29",
          "x1": "2022-03-17T20:27:29",
          "y0": 0,
          "y1": 90
         },
         {
          "layer": "below",
          "line": {
           "color": "grey",
           "width": 2
          },
          "type": "line",
          "x0": "2022-03-17T21:12:00",
          "x1": "2022-03-17T21:12:00",
          "y0": 0,
          "y1": 122
         },
         {
          "layer": "below",
          "line": {
           "color": "grey",
           "width": 2
          },
          "type": "line",
          "x0": "2022-03-18T23:14:48",
          "x1": "2022-03-18T23:14:48",
          "y0": 0,
          "y1": 0
         },
         {
          "layer": "below",
          "line": {
           "color": "grey",
           "width": 2
          },
          "type": "line",
          "x0": "2022-03-18T23:44:25",
          "x1": "2022-03-18T23:44:25",
          "y0": 0,
          "y1": 0
         },
         {
          "layer": "below",
          "line": {
           "color": "grey",
           "width": 2
          },
          "type": "line",
          "x0": "2022-03-19T07:07:05",
          "x1": "2022-03-19T07:07:05",
          "y0": 0,
          "y1": 0
         },
         {
          "layer": "below",
          "line": {
           "color": "grey",
           "width": 2
          },
          "type": "line",
          "x0": "2022-03-19T19:16:34",
          "x1": "2022-03-19T19:16:34",
          "y0": 0,
          "y1": 0
         },
         {
          "layer": "below",
          "line": {
           "color": "grey",
           "width": 2
          },
          "type": "line",
          "x0": "2022-03-19T23:14:18",
          "x1": "2022-03-19T23:14:18",
          "y0": 0,
          "y1": 195
         },
         {
          "layer": "below",
          "line": {
           "color": "grey",
           "width": 2
          },
          "type": "line",
          "x0": "2022-03-20T21:15:05",
          "x1": "2022-03-20T21:15:05",
          "y0": 0,
          "y1": 268
         },
         {
          "layer": "below",
          "line": {
           "color": "grey",
           "width": 2
          },
          "type": "line",
          "x0": "2022-03-20T21:44:33",
          "x1": "2022-03-20T21:44:33",
          "y0": 0,
          "y1": 219
         },
         {
          "layer": "below",
          "line": {
           "color": "grey",
           "width": 2
          },
          "type": "line",
          "x0": "2022-03-20T23:25:47",
          "x1": "2022-03-20T23:25:47",
          "y0": 0,
          "y1": 182
         },
         {
          "layer": "below",
          "line": {
           "color": "grey",
           "width": 2
          },
          "type": "line",
          "x0": "2022-03-20T23:43:15",
          "x1": "2022-03-20T23:43:15",
          "y0": 0,
          "y1": 182
         },
         {
          "layer": "below",
          "line": {
           "color": "grey",
           "width": 2
          },
          "type": "line",
          "x0": "2022-03-22T23:08:29",
          "x1": "2022-03-22T23:08:29",
          "y0": 0,
          "y1": 33
         },
         {
          "layer": "below",
          "line": {
           "color": "grey",
           "width": 2
          },
          "type": "line",
          "x0": "2022-03-24T21:13:03",
          "x1": "2022-03-24T21:13:03",
          "y0": 0,
          "y1": 264
         },
         {
          "layer": "below",
          "line": {
           "color": "grey",
           "width": 2
          },
          "type": "line",
          "x0": "2022-03-25T23:29:46",
          "x1": "2022-03-25T23:29:46",
          "y0": 0,
          "y1": 234
         },
         {
          "layer": "below",
          "line": {
           "color": "grey",
           "width": 2
          },
          "type": "line",
          "x0": "2022-03-26T00:29:00",
          "x1": "2022-03-26T00:29:00",
          "y0": 0,
          "y1": 166
         },
         {
          "layer": "below",
          "line": {
           "color": "grey",
           "width": 2
          },
          "type": "line",
          "x0": "2022-03-26T21:43:36",
          "x1": "2022-03-26T21:43:36",
          "y0": 0,
          "y1": 57
         },
         {
          "layer": "below",
          "line": {
           "color": "grey",
           "width": 2
          },
          "type": "line",
          "x0": "2022-03-26T22:44:27",
          "x1": "2022-03-26T22:44:27",
          "y0": 0,
          "y1": 0
         },
         {
          "layer": "below",
          "line": {
           "color": "grey",
           "width": 2
          },
          "type": "line",
          "x0": "2022-03-27T00:13:47",
          "x1": "2022-03-27T00:13:47",
          "y0": 0,
          "y1": 54
         },
         {
          "layer": "below",
          "line": {
           "color": "grey",
           "width": 2
          },
          "type": "line",
          "x0": "2022-03-27T20:15:18",
          "x1": "2022-03-27T20:15:18",
          "y0": 0,
          "y1": 161
         },
         {
          "layer": "below",
          "line": {
           "color": "grey",
           "width": 2
          },
          "type": "line",
          "x0": "2022-03-27T22:18:46",
          "x1": "2022-03-27T22:18:46",
          "y0": 0,
          "y1": 324
         },
         {
          "layer": "below",
          "line": {
           "color": "grey",
           "width": 2
          },
          "type": "line",
          "x0": "2022-03-27T22:55:34",
          "x1": "2022-03-27T22:55:34",
          "y0": 0,
          "y1": 280
         },
         {
          "layer": "below",
          "line": {
           "color": "grey",
           "width": 2
          },
          "type": "line",
          "x0": "2022-03-28T19:10:49",
          "x1": "2022-03-28T19:10:49",
          "y0": 0,
          "y1": 131
         },
         {
          "layer": "below",
          "line": {
           "color": "grey",
           "width": 2
          },
          "type": "line",
          "x0": "2022-03-28T23:26:43",
          "x1": "2022-03-28T23:26:43",
          "y0": 0,
          "y1": 43
         },
         {
          "layer": "below",
          "line": {
           "color": "grey",
           "width": 2
          },
          "type": "line",
          "x0": "2022-03-29T23:08:38",
          "x1": "2022-03-29T23:08:38",
          "y0": 0,
          "y1": 222
         },
         {
          "layer": "below",
          "line": {
           "color": "grey",
           "width": 2
          },
          "type": "line",
          "x0": "2022-03-30T00:56:33",
          "x1": "2022-03-30T00:56:33",
          "y0": 0,
          "y1": 42
         },
         {
          "layer": "below",
          "line": {
           "color": "grey",
           "width": 2
          },
          "type": "line",
          "x0": "2022-04-01T20:58:34",
          "x1": "2022-04-01T20:58:34",
          "y0": 0,
          "y1": 166
         },
         {
          "layer": "below",
          "line": {
           "color": "grey",
           "width": 2
          },
          "type": "line",
          "x0": "2022-04-01T22:29:14",
          "x1": "2022-04-01T22:29:14",
          "y0": 0,
          "y1": 194
         },
         {
          "layer": "below",
          "line": {
           "color": "grey",
           "width": 2
          },
          "type": "line",
          "x0": "2022-03-15T00:13:41",
          "x1": "2022-03-15T00:13:41",
          "y0": 0,
          "y1": 0
         },
         {
          "layer": "below",
          "line": {
           "color": "grey",
           "width": 2
          },
          "type": "line",
          "x0": "2022-03-15T00:30:41",
          "x1": "2022-03-15T00:30:41",
          "y0": 0,
          "y1": 0
         },
         {
          "layer": "below",
          "line": {
           "color": "grey",
           "width": 2
          },
          "type": "line",
          "x0": "2022-03-15T01:43:43",
          "x1": "2022-03-15T01:43:43",
          "y0": 0,
          "y1": 0
         },
         {
          "layer": "below",
          "line": {
           "color": "grey",
           "width": 2
          },
          "type": "line",
          "x0": "2022-03-15T23:47:53",
          "x1": "2022-03-15T23:47:53",
          "y0": 0,
          "y1": 0
         },
         {
          "layer": "below",
          "line": {
           "color": "grey",
           "width": 2
          },
          "type": "line",
          "x0": "2022-03-16T01:01:30",
          "x1": "2022-03-16T01:01:30",
          "y0": 0,
          "y1": 0
         },
         {
          "layer": "below",
          "line": {
           "color": "grey",
           "width": 2
          },
          "type": "line",
          "x0": "2022-03-16T01:14:56",
          "x1": "2022-03-16T01:14:56",
          "y0": 0,
          "y1": 0
         },
         {
          "layer": "below",
          "line": {
           "color": "grey",
           "width": 2
          },
          "type": "line",
          "x0": "2022-03-16T22:15:06",
          "x1": "2022-03-16T22:15:06",
          "y0": 0,
          "y1": 0
         },
         {
          "layer": "below",
          "line": {
           "color": "grey",
           "width": 2
          },
          "type": "line",
          "x0": "2022-03-17T21:27:29",
          "x1": "2022-03-17T21:27:29",
          "y0": 0,
          "y1": 0
         },
         {
          "layer": "below",
          "line": {
           "color": "grey",
           "width": 2
          },
          "type": "line",
          "x0": "2022-03-17T22:12:00",
          "x1": "2022-03-17T22:12:00",
          "y0": 0,
          "y1": 0
         },
         {
          "layer": "below",
          "line": {
           "color": "grey",
           "width": 2
          },
          "type": "line",
          "x0": "2022-03-19T00:14:48",
          "x1": "2022-03-19T00:14:48",
          "y0": 0,
          "y1": 0
         },
         {
          "layer": "below",
          "line": {
           "color": "grey",
           "width": 2
          },
          "type": "line",
          "x0": "2022-03-19T00:44:25",
          "x1": "2022-03-19T00:44:25",
          "y0": 0,
          "y1": 0
         },
         {
          "layer": "below",
          "line": {
           "color": "grey",
           "width": 2
          },
          "type": "line",
          "x0": "2022-03-19T08:07:05",
          "x1": "2022-03-19T08:07:05",
          "y0": 0,
          "y1": 73
         },
         {
          "layer": "below",
          "line": {
           "color": "grey",
           "width": 2
          },
          "type": "line",
          "x0": "2022-03-19T20:16:34",
          "x1": "2022-03-19T20:16:34",
          "y0": 0,
          "y1": 0
         },
         {
          "layer": "below",
          "line": {
           "color": "grey",
           "width": 2
          },
          "type": "line",
          "x0": "2022-03-20T00:14:18",
          "x1": "2022-03-20T00:14:18",
          "y0": 0,
          "y1": 0
         },
         {
          "layer": "below",
          "line": {
           "color": "grey",
           "width": 2
          },
          "type": "line",
          "x0": "2022-03-20T22:15:05",
          "x1": "2022-03-20T22:15:05",
          "y0": 0,
          "y1": 0
         },
         {
          "layer": "below",
          "line": {
           "color": "grey",
           "width": 2
          },
          "type": "line",
          "x0": "2022-03-20T22:44:33",
          "x1": "2022-03-20T22:44:33",
          "y0": 0,
          "y1": 0
         },
         {
          "layer": "below",
          "line": {
           "color": "grey",
           "width": 2
          },
          "type": "line",
          "x0": "2022-03-21T00:25:47",
          "x1": "2022-03-21T00:25:47",
          "y0": 0,
          "y1": 0
         },
         {
          "layer": "below",
          "line": {
           "color": "grey",
           "width": 2
          },
          "type": "line",
          "x0": "2022-03-21T00:43:15",
          "x1": "2022-03-21T00:43:15",
          "y0": 0,
          "y1": 0
         },
         {
          "layer": "below",
          "line": {
           "color": "grey",
           "width": 2
          },
          "type": "line",
          "x0": "2022-03-23T00:08:29",
          "x1": "2022-03-23T00:08:29",
          "y0": 0,
          "y1": 0
         },
         {
          "layer": "below",
          "line": {
           "color": "grey",
           "width": 2
          },
          "type": "line",
          "x0": "2022-03-24T22:13:03",
          "x1": "2022-03-24T22:13:03",
          "y0": 0,
          "y1": 0
         },
         {
          "layer": "below",
          "line": {
           "color": "grey",
           "width": 2
          },
          "type": "line",
          "x0": "2022-03-26T00:29:46",
          "x1": "2022-03-26T00:29:46",
          "y0": 0,
          "y1": 0
         },
         {
          "layer": "below",
          "line": {
           "color": "grey",
           "width": 2
          },
          "type": "line",
          "x0": "2022-03-26T01:29:00",
          "x1": "2022-03-26T01:29:00",
          "y0": 0,
          "y1": 64
         },
         {
          "layer": "below",
          "line": {
           "color": "grey",
           "width": 2
          },
          "type": "line",
          "x0": "2022-03-26T22:43:36",
          "x1": "2022-03-26T22:43:36",
          "y0": 0,
          "y1": 0
         },
         {
          "layer": "below",
          "line": {
           "color": "grey",
           "width": 2
          },
          "type": "line",
          "x0": "2022-03-26T23:44:27",
          "x1": "2022-03-26T23:44:27",
          "y0": 0,
          "y1": 0
         },
         {
          "layer": "below",
          "line": {
           "color": "grey",
           "width": 2
          },
          "type": "line",
          "x0": "2022-03-27T01:13:47",
          "x1": "2022-03-27T01:13:47",
          "y0": 0,
          "y1": 0
         },
         {
          "layer": "below",
          "line": {
           "color": "grey",
           "width": 2
          },
          "type": "line",
          "x0": "2022-03-27T21:15:18",
          "x1": "2022-03-27T21:15:18",
          "y0": 0,
          "y1": 0
         },
         {
          "layer": "below",
          "line": {
           "color": "grey",
           "width": 2
          },
          "type": "line",
          "x0": "2022-03-27T23:18:46",
          "x1": "2022-03-27T23:18:46",
          "y0": 0,
          "y1": 0
         },
         {
          "layer": "below",
          "line": {
           "color": "grey",
           "width": 2
          },
          "type": "line",
          "x0": "2022-03-27T23:55:34",
          "x1": "2022-03-27T23:55:34",
          "y0": 0,
          "y1": 0
         },
         {
          "layer": "below",
          "line": {
           "color": "grey",
           "width": 2
          },
          "type": "line",
          "x0": "2022-03-28T20:10:49",
          "x1": "2022-03-28T20:10:49",
          "y0": 0,
          "y1": 0
         },
         {
          "layer": "below",
          "line": {
           "color": "grey",
           "width": 2
          },
          "type": "line",
          "x0": "2022-03-29T00:26:43",
          "x1": "2022-03-29T00:26:43",
          "y0": 0,
          "y1": 0
         },
         {
          "layer": "below",
          "line": {
           "color": "grey",
           "width": 2
          },
          "type": "line",
          "x0": "2022-03-30T00:08:38",
          "x1": "2022-03-30T00:08:38",
          "y0": 0,
          "y1": 0
         },
         {
          "layer": "below",
          "line": {
           "color": "grey",
           "width": 2
          },
          "type": "line",
          "x0": "2022-03-30T01:56:33",
          "x1": "2022-03-30T01:56:33",
          "y0": 0,
          "y1": 45
         },
         {
          "layer": "below",
          "line": {
           "color": "grey",
           "width": 2
          },
          "type": "line",
          "x0": "2022-04-01T21:58:34",
          "x1": "2022-04-01T21:58:34",
          "y0": 0,
          "y1": 0
         },
         {
          "layer": "below",
          "line": {
           "color": "grey",
           "width": 2
          },
          "type": "line",
          "x0": "2022-04-01T23:29:14",
          "x1": "2022-04-01T23:29:14",
          "y0": 0,
          "y1": 0
         },
         {
          "layer": "below",
          "line": {
           "color": "grey",
           "width": 2
          },
          "type": "line",
          "x0": "2022-03-22T00:27:17",
          "x1": "2022-03-22T00:27:17",
          "y0": 0,
          "y1": 0
         },
         {
          "layer": "below",
          "line": {
           "color": "grey",
           "width": 2
          },
          "type": "line",
          "x0": "2022-03-23T00:45:10",
          "x1": "2022-03-23T00:45:10",
          "y0": 0,
          "y1": 33
         },
         {
          "layer": "below",
          "line": {
           "color": "grey",
           "width": 2
          },
          "type": "line",
          "x0": "2022-03-31T23:31:38",
          "x1": "2022-03-31T23:31:38",
          "y0": 0,
          "y1": 0
         },
         {
          "layer": "below",
          "line": {
           "color": "grey",
           "width": 2
          },
          "type": "line",
          "x0": "2022-03-14T18:12:30",
          "x1": "2022-03-14T18:12:30",
          "y0": 0,
          "y1": 142
         },
         {
          "layer": "below",
          "line": {
           "color": "grey",
           "width": 2
          },
          "type": "line",
          "x0": "2022-03-14T19:29:15",
          "x1": "2022-03-14T19:29:15",
          "y0": 0,
          "y1": 124
         },
         {
          "layer": "below",
          "line": {
           "color": "grey",
           "width": 2
          },
          "type": "line",
          "x0": "2022-03-14T20:11:44",
          "x1": "2022-03-14T20:11:44",
          "y0": 0,
          "y1": 248
         },
         {
          "layer": "below",
          "line": {
           "color": "grey",
           "width": 2
          },
          "type": "line",
          "x0": "2022-03-15T19:28:02",
          "x1": "2022-03-15T19:28:02",
          "y0": 0,
          "y1": 48
         },
         {
          "layer": "below",
          "line": {
           "color": "grey",
           "width": 2
          },
          "type": "line",
          "x0": "2022-03-15T19:44:54",
          "x1": "2022-03-15T19:44:54",
          "y0": 0,
          "y1": 81
         },
         {
          "layer": "below",
          "line": {
           "color": "grey",
           "width": 2
          },
          "type": "line",
          "x0": "2022-03-15T20:26:59",
          "x1": "2022-03-15T20:26:59",
          "y0": 0,
          "y1": 152
         },
         {
          "layer": "below",
          "line": {
           "color": "grey",
           "width": 2
          },
          "type": "line",
          "x0": "2022-03-15T21:16:49",
          "x1": "2022-03-15T21:16:49",
          "y0": 0,
          "y1": 157
         },
         {
          "layer": "below",
          "line": {
           "color": "grey",
           "width": 2
          },
          "type": "line",
          "x0": "2022-03-16T20:12:45",
          "x1": "2022-03-16T20:12:45",
          "y0": 0,
          "y1": 0
         },
         {
          "layer": "below",
          "line": {
           "color": "grey",
           "width": 2
          },
          "type": "line",
          "x0": "2022-03-16T20:26:39",
          "x1": "2022-03-16T20:26:39",
          "y0": 0,
          "y1": 0
         },
         {
          "layer": "below",
          "line": {
           "color": "grey",
           "width": 2
          },
          "type": "line",
          "x0": "2022-03-16T23:11:25",
          "x1": "2022-03-16T23:11:25",
          "y0": 0,
          "y1": 97
         },
         {
          "layer": "below",
          "line": {
           "color": "grey",
           "width": 2
          },
          "type": "line",
          "x0": "2022-03-16T23:48:32",
          "x1": "2022-03-16T23:48:32",
          "y0": 0,
          "y1": 142
         },
         {
          "layer": "below",
          "line": {
           "color": "grey",
           "width": 2
          },
          "type": "line",
          "x0": "2022-03-17T00:13:13",
          "x1": "2022-03-17T00:13:13",
          "y0": 0,
          "y1": 87
         },
         {
          "layer": "below",
          "line": {
           "color": "grey",
           "width": 2
          },
          "type": "line",
          "x0": "2022-03-17T00:29:34",
          "x1": "2022-03-17T00:29:34",
          "y0": 0,
          "y1": 93
         },
         {
          "layer": "below",
          "line": {
           "color": "grey",
           "width": 2
          },
          "type": "line",
          "x0": "2022-03-17T18:12:10",
          "x1": "2022-03-17T18:12:10",
          "y0": 0,
          "y1": 148
         },
         {
          "layer": "below",
          "line": {
           "color": "grey",
           "width": 2
          },
          "type": "line",
          "x0": "2022-03-17T18:42:20",
          "x1": "2022-03-17T18:42:20",
          "y0": 0,
          "y1": 279
         },
         {
          "layer": "below",
          "line": {
           "color": "grey",
           "width": 2
          },
          "type": "line",
          "x0": "2022-03-17T19:10:27",
          "x1": "2022-03-17T19:10:27",
          "y0": 0,
          "y1": 0
         },
         {
          "layer": "below",
          "line": {
           "color": "grey",
           "width": 2
          },
          "type": "line",
          "x0": "2022-03-17T20:17:11",
          "x1": "2022-03-17T20:17:11",
          "y0": 0,
          "y1": 92
         },
         {
          "layer": "below",
          "line": {
           "color": "grey",
           "width": 2
          },
          "type": "line",
          "x0": "2022-03-17T20:27:42",
          "x1": "2022-03-17T20:27:42",
          "y0": 0,
          "y1": 62
         },
         {
          "layer": "below",
          "line": {
           "color": "grey",
           "width": 2
          },
          "type": "line",
          "x0": "2022-03-17T21:13:06",
          "x1": "2022-03-17T21:13:06",
          "y0": 0,
          "y1": 37
         },
         {
          "layer": "below",
          "line": {
           "color": "grey",
           "width": 2
          },
          "type": "line",
          "x0": "2022-03-17T21:45:43",
          "x1": "2022-03-17T21:45:43",
          "y0": 0,
          "y1": 95
         },
         {
          "layer": "below",
          "line": {
           "color": "grey",
           "width": 2
          },
          "type": "line",
          "x0": "2022-03-17T22:09:40",
          "x1": "2022-03-17T22:09:40",
          "y0": 0,
          "y1": 140
         },
         {
          "layer": "below",
          "line": {
           "color": "grey",
           "width": 2
          },
          "type": "line",
          "x0": "2022-03-17T22:45:06",
          "x1": "2022-03-17T22:45:06",
          "y0": 0,
          "y1": 95
         },
         {
          "layer": "below",
          "line": {
           "color": "grey",
           "width": 2
          },
          "type": "line",
          "x0": "2022-03-18T18:41:35",
          "x1": "2022-03-18T18:41:35",
          "y0": 0,
          "y1": 151
         },
         {
          "layer": "below",
          "line": {
           "color": "grey",
           "width": 2
          },
          "type": "line",
          "x0": "2022-03-18T19:13:36",
          "x1": "2022-03-18T19:13:36",
          "y0": 0,
          "y1": 214
         },
         {
          "layer": "below",
          "line": {
           "color": "grey",
           "width": 2
          },
          "type": "line",
          "x0": "2022-03-18T19:41:43",
          "x1": "2022-03-18T19:41:43",
          "y0": 0,
          "y1": 244
         },
         {
          "layer": "below",
          "line": {
           "color": "grey",
           "width": 2
          },
          "type": "line",
          "x0": "2022-03-20T07:43:00",
          "x1": "2022-03-20T07:43:00",
          "y0": 0,
          "y1": 53
         },
         {
          "layer": "below",
          "line": {
           "color": "grey",
           "width": 2
          },
          "type": "line",
          "x0": "2022-03-20T08:11:15",
          "x1": "2022-03-20T08:11:15",
          "y0": 0,
          "y1": 98
         },
         {
          "layer": "below",
          "line": {
           "color": "grey",
           "width": 2
          },
          "type": "line",
          "x0": "2022-03-20T08:43:57",
          "x1": "2022-03-20T08:43:57",
          "y0": 0,
          "y1": 98
         },
         {
          "layer": "below",
          "line": {
           "color": "grey",
           "width": 2
          },
          "type": "line",
          "x0": "2022-03-20T09:15:24",
          "x1": "2022-03-20T09:15:24",
          "y0": 0,
          "y1": 192
         },
         {
          "layer": "below",
          "line": {
           "color": "grey",
           "width": 2
          },
          "type": "line",
          "x0": "2022-03-20T09:27:53",
          "x1": "2022-03-20T09:27:53",
          "y0": 0,
          "y1": 102
         },
         {
          "layer": "below",
          "line": {
           "color": "grey",
           "width": 2
          },
          "type": "line",
          "x0": "2022-03-20T10:45:55",
          "x1": "2022-03-20T10:45:55",
          "y0": 0,
          "y1": 49
         },
         {
          "layer": "below",
          "line": {
           "color": "grey",
           "width": 2
          },
          "type": "line",
          "x0": "2022-03-20T12:11:10",
          "x1": "2022-03-20T12:11:10",
          "y0": 0,
          "y1": 45
         },
         {
          "layer": "below",
          "line": {
           "color": "grey",
           "width": 2
          },
          "type": "line",
          "x0": "2022-03-21T00:42:15",
          "x1": "2022-03-21T00:42:15",
          "y0": 0,
          "y1": 82
         },
         {
          "layer": "below",
          "line": {
           "color": "grey",
           "width": 2
          },
          "type": "line",
          "x0": "2022-03-21T18:13:18",
          "x1": "2022-03-21T18:13:18",
          "y0": 0,
          "y1": 176
         },
         {
          "layer": "below",
          "line": {
           "color": "grey",
           "width": 2
          },
          "type": "line",
          "x0": "2022-03-22T19:28:00",
          "x1": "2022-03-22T19:28:00",
          "y0": 0,
          "y1": 35
         },
         {
          "layer": "below",
          "line": {
           "color": "grey",
           "width": 2
          },
          "type": "line",
          "x0": "2022-03-22T19:47:53",
          "x1": "2022-03-22T19:47:53",
          "y0": 0,
          "y1": 0
         },
         {
          "layer": "below",
          "line": {
           "color": "grey",
           "width": 2
          },
          "type": "line",
          "x0": "2022-03-23T20:10:06",
          "x1": "2022-03-23T20:10:06",
          "y0": 0,
          "y1": 232
         },
         {
          "layer": "below",
          "line": {
           "color": "grey",
           "width": 2
          },
          "type": "line",
          "x0": "2022-03-24T16:14:15",
          "x1": "2022-03-24T16:14:15",
          "y0": 0,
          "y1": 0
         },
         {
          "layer": "below",
          "line": {
           "color": "grey",
           "width": 2
          },
          "type": "line",
          "x0": "2022-03-24T18:10:12",
          "x1": "2022-03-24T18:10:12",
          "y0": 0,
          "y1": 105
         },
         {
          "layer": "below",
          "line": {
           "color": "grey",
           "width": 2
          },
          "type": "line",
          "x0": "2022-03-24T18:39:09",
          "x1": "2022-03-24T18:39:09",
          "y0": 0,
          "y1": 0
         },
         {
          "layer": "below",
          "line": {
           "color": "grey",
           "width": 2
          },
          "type": "line",
          "x0": "2022-03-24T19:14:03",
          "x1": "2022-03-24T19:14:03",
          "y0": 0,
          "y1": 220
         },
         {
          "layer": "below",
          "line": {
           "color": "grey",
           "width": 2
          },
          "type": "line",
          "x0": "2022-03-24T19:45:19",
          "x1": "2022-03-24T19:45:19",
          "y0": 0,
          "y1": 133
         },
         {
          "layer": "below",
          "line": {
           "color": "grey",
           "width": 2
          },
          "type": "line",
          "x0": "2022-03-24T20:12:36",
          "x1": "2022-03-24T20:12:36",
          "y0": 0,
          "y1": 171
         },
         {
          "layer": "below",
          "line": {
           "color": "grey",
           "width": 2
          },
          "type": "line",
          "x0": "2022-03-24T20:46:33",
          "x1": "2022-03-24T20:46:33",
          "y0": 0,
          "y1": 171
         },
         {
          "layer": "below",
          "line": {
           "color": "grey",
           "width": 2
          },
          "type": "line",
          "x0": "2022-03-24T21:17:04",
          "x1": "2022-03-24T21:17:04",
          "y0": 0,
          "y1": 357
         },
         {
          "layer": "below",
          "line": {
           "color": "grey",
           "width": 2
          },
          "type": "line",
          "x0": "2022-03-24T21:30:06",
          "x1": "2022-03-24T21:30:06",
          "y0": 0,
          "y1": 427
         },
         {
          "layer": "below",
          "line": {
           "color": "grey",
           "width": 2
          },
          "type": "line",
          "x0": "2022-03-24T21:42:45",
          "x1": "2022-03-24T21:42:45",
          "y0": 0,
          "y1": 177
         },
         {
          "layer": "below",
          "line": {
           "color": "grey",
           "width": 2
          },
          "type": "line",
          "x0": "2022-03-24T22:11:46",
          "x1": "2022-03-24T22:11:46",
          "y0": 0,
          "y1": 231
         },
         {
          "layer": "below",
          "line": {
           "color": "grey",
           "width": 2
          },
          "type": "line",
          "x0": "2022-03-24T22:45:03",
          "x1": "2022-03-24T22:45:03",
          "y0": 0,
          "y1": 152
         },
         {
          "layer": "below",
          "line": {
           "color": "grey",
           "width": 2
          },
          "type": "line",
          "x0": "2022-03-25T18:09:28",
          "x1": "2022-03-25T18:09:28",
          "y0": 0,
          "y1": 0
         },
         {
          "layer": "below",
          "line": {
           "color": "grey",
           "width": 2
          },
          "type": "line",
          "x0": "2022-03-25T18:28:21",
          "x1": "2022-03-25T18:28:21",
          "y0": 0,
          "y1": 0
         },
         {
          "layer": "below",
          "line": {
           "color": "grey",
           "width": 2
          },
          "type": "line",
          "x0": "2022-03-25T18:43:08",
          "x1": "2022-03-25T18:43:08",
          "y0": 0,
          "y1": 28
         },
         {
          "layer": "below",
          "line": {
           "color": "grey",
           "width": 2
          },
          "type": "line",
          "x0": "2022-03-25T19:13:17",
          "x1": "2022-03-25T19:13:17",
          "y0": 0,
          "y1": 142
         },
         {
          "layer": "below",
          "line": {
           "color": "grey",
           "width": 2
          },
          "type": "line",
          "x0": "2022-03-25T19:29:37",
          "x1": "2022-03-25T19:29:37",
          "y0": 0,
          "y1": 114
         },
         {
          "layer": "below",
          "line": {
           "color": "grey",
           "width": 2
          },
          "type": "line",
          "x0": "2022-03-25T19:47:03",
          "x1": "2022-03-25T19:47:03",
          "y0": 0,
          "y1": 114
         },
         {
          "layer": "below",
          "line": {
           "color": "grey",
           "width": 2
          },
          "type": "line",
          "x0": "2022-03-27T07:44:42",
          "x1": "2022-03-27T07:44:42",
          "y0": 0,
          "y1": 100
         },
         {
          "layer": "below",
          "line": {
           "color": "grey",
           "width": 2
          },
          "type": "line",
          "x0": "2022-03-27T08:13:21",
          "x1": "2022-03-27T08:13:21",
          "y0": 0,
          "y1": 213
         },
         {
          "layer": "below",
          "line": {
           "color": "grey",
           "width": 2
          },
          "type": "line",
          "x0": "2022-03-27T08:28:09",
          "x1": "2022-03-27T08:28:09",
          "y0": 0,
          "y1": 428
         },
         {
          "layer": "below",
          "line": {
           "color": "grey",
           "width": 2
          },
          "type": "line",
          "x0": "2022-03-27T08:47:48",
          "x1": "2022-03-27T08:47:48",
          "y0": 0,
          "y1": 428
         },
         {
          "layer": "below",
          "line": {
           "color": "grey",
           "width": 2
          },
          "type": "line",
          "x0": "2022-03-27T09:17:47",
          "x1": "2022-03-27T09:17:47",
          "y0": 0,
          "y1": 132
         },
         {
          "layer": "below",
          "line": {
           "color": "grey",
           "width": 2
          },
          "type": "line",
          "x0": "2022-03-27T09:34:54",
          "x1": "2022-03-27T09:34:54",
          "y0": 0,
          "y1": 100
         },
         {
          "layer": "below",
          "line": {
           "color": "grey",
           "width": 2
          },
          "type": "line",
          "x0": "2022-03-27T11:44:31",
          "x1": "2022-03-27T11:44:31",
          "y0": 0,
          "y1": 241
         },
         {
          "layer": "below",
          "line": {
           "color": "grey",
           "width": 2
          },
          "type": "line",
          "x0": "2022-03-27T12:16:07",
          "x1": "2022-03-27T12:16:07",
          "y0": 0,
          "y1": 141
         },
         {
          "layer": "below",
          "line": {
           "color": "grey",
           "width": 2
          },
          "type": "line",
          "x0": "2022-03-27T15:14:44",
          "x1": "2022-03-27T15:14:44",
          "y0": 0,
          "y1": 91
         },
         {
          "layer": "below",
          "line": {
           "color": "grey",
           "width": 2
          },
          "type": "line",
          "x0": "2022-03-28T00:39:21",
          "x1": "2022-03-28T00:39:21",
          "y0": 0,
          "y1": 0
         },
         {
          "layer": "below",
          "line": {
           "color": "grey",
           "width": 2
          },
          "type": "line",
          "x0": "2022-03-28T18:09:28",
          "x1": "2022-03-28T18:09:28",
          "y0": 0,
          "y1": 0
         },
         {
          "layer": "below",
          "line": {
           "color": "grey",
           "width": 2
          },
          "type": "line",
          "x0": "2022-03-28T18:30:48",
          "x1": "2022-03-28T18:30:48",
          "y0": 0,
          "y1": 68
         },
         {
          "layer": "below",
          "line": {
           "color": "grey",
           "width": 2
          },
          "type": "line",
          "x0": "2022-03-28T18:39:14",
          "x1": "2022-03-28T18:39:14",
          "y0": 0,
          "y1": 89
         },
         {
          "layer": "below",
          "line": {
           "color": "grey",
           "width": 2
          },
          "type": "line",
          "x0": "2022-03-28T19:12:09",
          "x1": "2022-03-28T19:12:09",
          "y0": 0,
          "y1": 273
         },
         {
          "layer": "below",
          "line": {
           "color": "grey",
           "width": 2
          },
          "type": "line",
          "x0": "2022-03-28T22:29:57",
          "x1": "2022-03-28T22:29:57",
          "y0": 0,
          "y1": 65
         },
         {
          "layer": "below",
          "line": {
           "color": "grey",
           "width": 2
          },
          "type": "line",
          "x0": "2022-03-28T22:45:10",
          "x1": "2022-03-28T22:45:10",
          "y0": 0,
          "y1": 133
         },
         {
          "layer": "below",
          "line": {
           "color": "grey",
           "width": 2
          },
          "type": "line",
          "x0": "2022-03-29T19:49:13",
          "x1": "2022-03-29T19:49:13",
          "y0": 0,
          "y1": 145
         },
         {
          "layer": "below",
          "line": {
           "color": "grey",
           "width": 2
          },
          "type": "line",
          "x0": "2022-03-29T20:27:00",
          "x1": "2022-03-29T20:27:00",
          "y0": 0,
          "y1": 152
         },
         {
          "layer": "below",
          "line": {
           "color": "grey",
           "width": 2
          },
          "type": "line",
          "x0": "2022-03-30T20:25:18",
          "x1": "2022-03-30T20:25:18",
          "y0": 0,
          "y1": 114
         },
         {
          "layer": "below",
          "line": {
           "color": "grey",
           "width": 2
          },
          "type": "line",
          "x0": "2022-03-30T20:45:17",
          "x1": "2022-03-30T20:45:17",
          "y0": 0,
          "y1": 114
         },
         {
          "layer": "below",
          "line": {
           "color": "grey",
           "width": 2
          },
          "type": "line",
          "x0": "2022-03-30T23:14:56",
          "x1": "2022-03-30T23:14:56",
          "y0": 0,
          "y1": 187
         },
         {
          "layer": "below",
          "line": {
           "color": "grey",
           "width": 2
          },
          "type": "line",
          "x0": "2022-03-30T23:40:34",
          "x1": "2022-03-30T23:40:34",
          "y0": 0,
          "y1": 245
         },
         {
          "layer": "below",
          "line": {
           "color": "grey",
           "width": 2
          },
          "type": "line",
          "x0": "2022-03-31T18:13:30",
          "x1": "2022-03-31T18:13:30",
          "y0": 0,
          "y1": 0
         },
         {
          "layer": "below",
          "line": {
           "color": "grey",
           "width": 2
          },
          "type": "line",
          "x0": "2022-03-31T18:28:01",
          "x1": "2022-03-31T18:28:01",
          "y0": 0,
          "y1": 146
         },
         {
          "layer": "below",
          "line": {
           "color": "grey",
           "width": 2
          },
          "type": "line",
          "x0": "2022-03-31T18:45:46",
          "x1": "2022-03-31T18:45:46",
          "y0": 0,
          "y1": 146
         },
         {
          "layer": "below",
          "line": {
           "color": "grey",
           "width": 2
          },
          "type": "line",
          "x0": "2022-03-31T19:12:47",
          "x1": "2022-03-31T19:12:47",
          "y0": 0,
          "y1": 194
         },
         {
          "layer": "below",
          "line": {
           "color": "grey",
           "width": 2
          },
          "type": "line",
          "x0": "2022-03-31T19:44:19",
          "x1": "2022-03-31T19:44:19",
          "y0": 0,
          "y1": 419
         },
         {
          "layer": "below",
          "line": {
           "color": "grey",
           "width": 2
          },
          "type": "line",
          "x0": "2022-03-31T20:18:07",
          "x1": "2022-03-31T20:18:07",
          "y0": 0,
          "y1": 187
         },
         {
          "layer": "below",
          "line": {
           "color": "grey",
           "width": 2
          },
          "type": "line",
          "x0": "2022-03-31T20:28:10",
          "x1": "2022-03-31T20:28:10",
          "y0": 0,
          "y1": 187
         },
         {
          "layer": "below",
          "line": {
           "color": "grey",
           "width": 2
          },
          "type": "line",
          "x0": "2022-03-31T20:47:18",
          "x1": "2022-03-31T20:47:18",
          "y0": 0,
          "y1": 146
         },
         {
          "layer": "below",
          "line": {
           "color": "grey",
           "width": 2
          },
          "type": "line",
          "x0": "2022-03-31T21:14:30",
          "x1": "2022-03-31T21:14:30",
          "y0": 0,
          "y1": 250
         },
         {
          "layer": "below",
          "line": {
           "color": "grey",
           "width": 2
          },
          "type": "line",
          "x0": "2022-03-31T21:29:10",
          "x1": "2022-03-31T21:29:10",
          "y0": 0,
          "y1": 278
         },
         {
          "layer": "below",
          "line": {
           "color": "grey",
           "width": 2
          },
          "type": "line",
          "x0": "2022-03-31T21:42:59",
          "x1": "2022-03-31T21:42:59",
          "y0": 0,
          "y1": 146
         },
         {
          "layer": "below",
          "line": {
           "color": "grey",
           "width": 2
          },
          "type": "line",
          "x0": "2022-03-31T22:13:18",
          "x1": "2022-03-31T22:13:18",
          "y0": 0,
          "y1": 238
         },
         {
          "layer": "below",
          "line": {
           "color": "grey",
           "width": 2
          },
          "type": "line",
          "x0": "2022-03-31T22:41:41",
          "x1": "2022-03-31T22:41:41",
          "y0": 0,
          "y1": 332
         },
         {
          "layer": "below",
          "line": {
           "color": "grey",
           "width": 2
          },
          "type": "line",
          "x0": "2022-04-01T19:14:34",
          "x1": "2022-04-01T19:14:34",
          "y0": 0,
          "y1": 141
         },
         {
          "layer": "below",
          "line": {
           "color": "grey",
           "width": 2
          },
          "type": "line",
          "x0": "2022-04-01T20:12:29",
          "x1": "2022-04-01T20:12:29",
          "y0": 0,
          "y1": 0
         },
         {
          "layer": "below",
          "line": {
           "color": "grey",
           "width": 2
          },
          "type": "line",
          "x0": "2022-04-01T20:45:41",
          "x1": "2022-04-01T20:45:41",
          "y0": 0,
          "y1": 0
         },
         {
          "layer": "below",
          "line": {
           "color": "grey",
           "width": 2
          },
          "type": "line",
          "x0": "2022-04-01T23:33:18",
          "x1": "2022-04-01T23:33:18",
          "y0": 0,
          "y1": 73
         },
         {
          "layer": "below",
          "line": {
           "color": "grey",
           "width": 2
          },
          "type": "line",
          "x0": "2022-04-02T00:47:14",
          "x1": "2022-04-02T00:47:14",
          "y0": 0,
          "y1": 73
         },
         {
          "layer": "below",
          "line": {
           "color": "grey",
           "width": 2
          },
          "type": "line",
          "x0": "2022-03-14T19:12:30",
          "x1": "2022-03-14T19:12:30",
          "y0": 0,
          "y1": 0
         },
         {
          "layer": "below",
          "line": {
           "color": "grey",
           "width": 2
          },
          "type": "line",
          "x0": "2022-03-14T20:29:15",
          "x1": "2022-03-14T20:29:15",
          "y0": 0,
          "y1": 0
         },
         {
          "layer": "below",
          "line": {
           "color": "grey",
           "width": 2
          },
          "type": "line",
          "x0": "2022-03-14T21:11:44",
          "x1": "2022-03-14T21:11:44",
          "y0": 0,
          "y1": 0
         },
         {
          "layer": "below",
          "line": {
           "color": "grey",
           "width": 2
          },
          "type": "line",
          "x0": "2022-03-15T20:28:02",
          "x1": "2022-03-15T20:28:02",
          "y0": 0,
          "y1": 0
         },
         {
          "layer": "below",
          "line": {
           "color": "grey",
           "width": 2
          },
          "type": "line",
          "x0": "2022-03-15T20:44:54",
          "x1": "2022-03-15T20:44:54",
          "y0": 0,
          "y1": 0
         },
         {
          "layer": "below",
          "line": {
           "color": "grey",
           "width": 2
          },
          "type": "line",
          "x0": "2022-03-15T21:26:59",
          "x1": "2022-03-15T21:26:59",
          "y0": 0,
          "y1": 0
         },
         {
          "layer": "below",
          "line": {
           "color": "grey",
           "width": 2
          },
          "type": "line",
          "x0": "2022-03-15T22:16:49",
          "x1": "2022-03-15T22:16:49",
          "y0": 0,
          "y1": 89
         },
         {
          "layer": "below",
          "line": {
           "color": "grey",
           "width": 2
          },
          "type": "line",
          "x0": "2022-03-16T21:12:45",
          "x1": "2022-03-16T21:12:45",
          "y0": 0,
          "y1": 0
         },
         {
          "layer": "below",
          "line": {
           "color": "grey",
           "width": 2
          },
          "type": "line",
          "x0": "2022-03-16T21:26:39",
          "x1": "2022-03-16T21:26:39",
          "y0": 0,
          "y1": 0
         },
         {
          "layer": "below",
          "line": {
           "color": "grey",
           "width": 2
          },
          "type": "line",
          "x0": "2022-03-17T00:11:25",
          "x1": "2022-03-17T00:11:25",
          "y0": 0,
          "y1": 0
         },
         {
          "layer": "below",
          "line": {
           "color": "grey",
           "width": 2
          },
          "type": "line",
          "x0": "2022-03-17T00:48:32",
          "x1": "2022-03-17T00:48:32",
          "y0": 0,
          "y1": 0
         },
         {
          "layer": "below",
          "line": {
           "color": "grey",
           "width": 2
          },
          "type": "line",
          "x0": "2022-03-17T01:13:13",
          "x1": "2022-03-17T01:13:13",
          "y0": 0,
          "y1": 0
         },
         {
          "layer": "below",
          "line": {
           "color": "grey",
           "width": 2
          },
          "type": "line",
          "x0": "2022-03-17T01:29:34",
          "x1": "2022-03-17T01:29:34",
          "y0": 0,
          "y1": 0
         },
         {
          "layer": "below",
          "line": {
           "color": "grey",
           "width": 2
          },
          "type": "line",
          "x0": "2022-03-17T19:12:10",
          "x1": "2022-03-17T19:12:10",
          "y0": 0,
          "y1": 0
         },
         {
          "layer": "below",
          "line": {
           "color": "grey",
           "width": 2
          },
          "type": "line",
          "x0": "2022-03-17T19:42:20",
          "x1": "2022-03-17T19:42:20",
          "y0": 0,
          "y1": 0
         },
         {
          "layer": "below",
          "line": {
           "color": "grey",
           "width": 2
          },
          "type": "line",
          "x0": "2022-03-17T20:10:27",
          "x1": "2022-03-17T20:10:27",
          "y0": 0,
          "y1": 38
         },
         {
          "layer": "below",
          "line": {
           "color": "grey",
           "width": 2
          },
          "type": "line",
          "x0": "2022-03-17T21:17:11",
          "x1": "2022-03-17T21:17:11",
          "y0": 0,
          "y1": 173
         },
         {
          "layer": "below",
          "line": {
           "color": "grey",
           "width": 2
          },
          "type": "line",
          "x0": "2022-03-17T21:27:42",
          "x1": "2022-03-17T21:27:42",
          "y0": 0,
          "y1": 58
         },
         {
          "layer": "below",
          "line": {
           "color": "grey",
           "width": 2
          },
          "type": "line",
          "x0": "2022-03-17T22:13:06",
          "x1": "2022-03-17T22:13:06",
          "y0": 0,
          "y1": 58
         },
         {
          "layer": "below",
          "line": {
           "color": "grey",
           "width": 2
          },
          "type": "line",
          "x0": "2022-03-17T22:45:43",
          "x1": "2022-03-17T22:45:43",
          "y0": 0,
          "y1": 58
         },
         {
          "layer": "below",
          "line": {
           "color": "grey",
           "width": 2
          },
          "type": "line",
          "x0": "2022-03-17T23:09:40",
          "x1": "2022-03-17T23:09:40",
          "y0": 0,
          "y1": 121
         },
         {
          "layer": "below",
          "line": {
           "color": "grey",
           "width": 2
          },
          "type": "line",
          "x0": "2022-03-17T23:45:06",
          "x1": "2022-03-17T23:45:06",
          "y0": 0,
          "y1": 58
         },
         {
          "layer": "below",
          "line": {
           "color": "grey",
           "width": 2
          },
          "type": "line",
          "x0": "2022-03-18T19:41:35",
          "x1": "2022-03-18T19:41:35",
          "y0": 0,
          "y1": 0
         },
         {
          "layer": "below",
          "line": {
           "color": "grey",
           "width": 2
          },
          "type": "line",
          "x0": "2022-03-18T20:13:36",
          "x1": "2022-03-18T20:13:36",
          "y0": 0,
          "y1": 0
         },
         {
          "layer": "below",
          "line": {
           "color": "grey",
           "width": 2
          },
          "type": "line",
          "x0": "2022-03-18T20:41:43",
          "x1": "2022-03-18T20:41:43",
          "y0": 0,
          "y1": 0
         },
         {
          "layer": "below",
          "line": {
           "color": "grey",
           "width": 2
          },
          "type": "line",
          "x0": "2022-03-20T08:43:00",
          "x1": "2022-03-20T08:43:00",
          "y0": 0,
          "y1": 38
         },
         {
          "layer": "below",
          "line": {
           "color": "grey",
           "width": 2
          },
          "type": "line",
          "x0": "2022-03-20T09:11:15",
          "x1": "2022-03-20T09:11:15",
          "y0": 0,
          "y1": 0
         },
         {
          "layer": "below",
          "line": {
           "color": "grey",
           "width": 2
          },
          "type": "line",
          "x0": "2022-03-20T09:43:57",
          "x1": "2022-03-20T09:43:57",
          "y0": 0,
          "y1": 0
         },
         {
          "layer": "below",
          "line": {
           "color": "grey",
           "width": 2
          },
          "type": "line",
          "x0": "2022-03-20T10:15:24",
          "x1": "2022-03-20T10:15:24",
          "y0": 0,
          "y1": 0
         },
         {
          "layer": "below",
          "line": {
           "color": "grey",
           "width": 2
          },
          "type": "line",
          "x0": "2022-03-20T10:27:53",
          "x1": "2022-03-20T10:27:53",
          "y0": 0,
          "y1": 0
         },
         {
          "layer": "below",
          "line": {
           "color": "grey",
           "width": 2
          },
          "type": "line",
          "x0": "2022-03-20T11:45:55",
          "x1": "2022-03-20T11:45:55",
          "y0": 0,
          "y1": 0
         },
         {
          "layer": "below",
          "line": {
           "color": "grey",
           "width": 2
          },
          "type": "line",
          "x0": "2022-03-20T13:11:10",
          "x1": "2022-03-20T13:11:10",
          "y0": 0,
          "y1": 0
         },
         {
          "layer": "below",
          "line": {
           "color": "grey",
           "width": 2
          },
          "type": "line",
          "x0": "2022-03-21T01:42:15",
          "x1": "2022-03-21T01:42:15",
          "y0": 0,
          "y1": 0
         },
         {
          "layer": "below",
          "line": {
           "color": "grey",
           "width": 2
          },
          "type": "line",
          "x0": "2022-03-21T19:13:18",
          "x1": "2022-03-21T19:13:18",
          "y0": 0,
          "y1": 0
         },
         {
          "layer": "below",
          "line": {
           "color": "grey",
           "width": 2
          },
          "type": "line",
          "x0": "2022-03-22T20:28:00",
          "x1": "2022-03-22T20:28:00",
          "y0": 0,
          "y1": 0
         },
         {
          "layer": "below",
          "line": {
           "color": "grey",
           "width": 2
          },
          "type": "line",
          "x0": "2022-03-22T20:47:53",
          "x1": "2022-03-22T20:47:53",
          "y0": 0,
          "y1": 0
         },
         {
          "layer": "below",
          "line": {
           "color": "grey",
           "width": 2
          },
          "type": "line",
          "x0": "2022-03-23T21:10:06",
          "x1": "2022-03-23T21:10:06",
          "y0": 0,
          "y1": 0
         },
         {
          "layer": "below",
          "line": {
           "color": "grey",
           "width": 2
          },
          "type": "line",
          "x0": "2022-03-24T17:14:15",
          "x1": "2022-03-24T17:14:15",
          "y0": 0,
          "y1": 0
         },
         {
          "layer": "below",
          "line": {
           "color": "grey",
           "width": 2
          },
          "type": "line",
          "x0": "2022-03-24T19:10:12",
          "x1": "2022-03-24T19:10:12",
          "y0": 0,
          "y1": 0
         },
         {
          "layer": "below",
          "line": {
           "color": "grey",
           "width": 2
          },
          "type": "line",
          "x0": "2022-03-24T19:39:09",
          "x1": "2022-03-24T19:39:09",
          "y0": 0,
          "y1": 0
         },
         {
          "layer": "below",
          "line": {
           "color": "grey",
           "width": 2
          },
          "type": "line",
          "x0": "2022-03-24T20:14:03",
          "x1": "2022-03-24T20:14:03",
          "y0": 0,
          "y1": 0
         },
         {
          "layer": "below",
          "line": {
           "color": "grey",
           "width": 2
          },
          "type": "line",
          "x0": "2022-03-24T20:45:19",
          "x1": "2022-03-24T20:45:19",
          "y0": 0,
          "y1": 38
         },
         {
          "layer": "below",
          "line": {
           "color": "grey",
           "width": 2
          },
          "type": "line",
          "x0": "2022-03-24T21:12:36",
          "x1": "2022-03-24T21:12:36",
          "y0": 0,
          "y1": 38
         },
         {
          "layer": "below",
          "line": {
           "color": "grey",
           "width": 2
          },
          "type": "line",
          "x0": "2022-03-24T21:46:33",
          "x1": "2022-03-24T21:46:33",
          "y0": 0,
          "y1": 0
         },
         {
          "layer": "below",
          "line": {
           "color": "grey",
           "width": 2
          },
          "type": "line",
          "x0": "2022-03-24T22:17:04",
          "x1": "2022-03-24T22:17:04",
          "y0": 0,
          "y1": 0
         },
         {
          "layer": "below",
          "line": {
           "color": "grey",
           "width": 2
          },
          "type": "line",
          "x0": "2022-03-24T22:30:06",
          "x1": "2022-03-24T22:30:06",
          "y0": 0,
          "y1": 0
         },
         {
          "layer": "below",
          "line": {
           "color": "grey",
           "width": 2
          },
          "type": "line",
          "x0": "2022-03-24T22:42:45",
          "x1": "2022-03-24T22:42:45",
          "y0": 0,
          "y1": 0
         },
         {
          "layer": "below",
          "line": {
           "color": "grey",
           "width": 2
          },
          "type": "line",
          "x0": "2022-03-24T23:11:46",
          "x1": "2022-03-24T23:11:46",
          "y0": 0,
          "y1": 0
         },
         {
          "layer": "below",
          "line": {
           "color": "grey",
           "width": 2
          },
          "type": "line",
          "x0": "2022-03-24T23:45:03",
          "x1": "2022-03-24T23:45:03",
          "y0": 0,
          "y1": 0
         },
         {
          "layer": "below",
          "line": {
           "color": "grey",
           "width": 2
          },
          "type": "line",
          "x0": "2022-03-25T19:09:28",
          "x1": "2022-03-25T19:09:28",
          "y0": 0,
          "y1": 0
         },
         {
          "layer": "below",
          "line": {
           "color": "grey",
           "width": 2
          },
          "type": "line",
          "x0": "2022-03-25T19:28:21",
          "x1": "2022-03-25T19:28:21",
          "y0": 0,
          "y1": 0
         },
         {
          "layer": "below",
          "line": {
           "color": "grey",
           "width": 2
          },
          "type": "line",
          "x0": "2022-03-25T19:43:08",
          "x1": "2022-03-25T19:43:08",
          "y0": 0,
          "y1": 0
         },
         {
          "layer": "below",
          "line": {
           "color": "grey",
           "width": 2
          },
          "type": "line",
          "x0": "2022-03-25T20:13:17",
          "x1": "2022-03-25T20:13:17",
          "y0": 0,
          "y1": 0
         },
         {
          "layer": "below",
          "line": {
           "color": "grey",
           "width": 2
          },
          "type": "line",
          "x0": "2022-03-25T20:29:37",
          "x1": "2022-03-25T20:29:37",
          "y0": 0,
          "y1": 0
         },
         {
          "layer": "below",
          "line": {
           "color": "grey",
           "width": 2
          },
          "type": "line",
          "x0": "2022-03-25T20:47:03",
          "x1": "2022-03-25T20:47:03",
          "y0": 0,
          "y1": 0
         },
         {
          "layer": "below",
          "line": {
           "color": "grey",
           "width": 2
          },
          "type": "line",
          "x0": "2022-03-27T08:44:42",
          "x1": "2022-03-27T08:44:42",
          "y0": 0,
          "y1": 0
         },
         {
          "layer": "below",
          "line": {
           "color": "grey",
           "width": 2
          },
          "type": "line",
          "x0": "2022-03-27T09:13:21",
          "x1": "2022-03-27T09:13:21",
          "y0": 0,
          "y1": 0
         },
         {
          "layer": "below",
          "line": {
           "color": "grey",
           "width": 2
          },
          "type": "line",
          "x0": "2022-03-27T09:28:09",
          "x1": "2022-03-27T09:28:09",
          "y0": 0,
          "y1": 0
         },
         {
          "layer": "below",
          "line": {
           "color": "grey",
           "width": 2
          },
          "type": "line",
          "x0": "2022-03-27T09:47:48",
          "x1": "2022-03-27T09:47:48",
          "y0": 0,
          "y1": 0
         },
         {
          "layer": "below",
          "line": {
           "color": "grey",
           "width": 2
          },
          "type": "line",
          "x0": "2022-03-27T10:17:47",
          "x1": "2022-03-27T10:17:47",
          "y0": 0,
          "y1": 0
         },
         {
          "layer": "below",
          "line": {
           "color": "grey",
           "width": 2
          },
          "type": "line",
          "x0": "2022-03-27T10:34:54",
          "x1": "2022-03-27T10:34:54",
          "y0": 0,
          "y1": 0
         },
         {
          "layer": "below",
          "line": {
           "color": "grey",
           "width": 2
          },
          "type": "line",
          "x0": "2022-03-27T12:44:31",
          "x1": "2022-03-27T12:44:31",
          "y0": 0,
          "y1": 80
         },
         {
          "layer": "below",
          "line": {
           "color": "grey",
           "width": 2
          },
          "type": "line",
          "x0": "2022-03-27T13:16:07",
          "x1": "2022-03-27T13:16:07",
          "y0": 0,
          "y1": 0
         },
         {
          "layer": "below",
          "line": {
           "color": "grey",
           "width": 2
          },
          "type": "line",
          "x0": "2022-03-27T16:14:44",
          "x1": "2022-03-27T16:14:44",
          "y0": 0,
          "y1": 52
         },
         {
          "layer": "below",
          "line": {
           "color": "grey",
           "width": 2
          },
          "type": "line",
          "x0": "2022-03-28T01:39:21",
          "x1": "2022-03-28T01:39:21",
          "y0": 0,
          "y1": 0
         },
         {
          "layer": "below",
          "line": {
           "color": "grey",
           "width": 2
          },
          "type": "line",
          "x0": "2022-03-28T19:09:28",
          "x1": "2022-03-28T19:09:28",
          "y0": 0,
          "y1": 52
         },
         {
          "layer": "below",
          "line": {
           "color": "grey",
           "width": 2
          },
          "type": "line",
          "x0": "2022-03-28T19:30:48",
          "x1": "2022-03-28T19:30:48",
          "y0": 0,
          "y1": 0
         },
         {
          "layer": "below",
          "line": {
           "color": "grey",
           "width": 2
          },
          "type": "line",
          "x0": "2022-03-28T19:39:14",
          "x1": "2022-03-28T19:39:14",
          "y0": 0,
          "y1": 0
         },
         {
          "layer": "below",
          "line": {
           "color": "grey",
           "width": 2
          },
          "type": "line",
          "x0": "2022-03-28T20:12:09",
          "x1": "2022-03-28T20:12:09",
          "y0": 0,
          "y1": 0
         },
         {
          "layer": "below",
          "line": {
           "color": "grey",
           "width": 2
          },
          "type": "line",
          "x0": "2022-03-28T23:29:57",
          "x1": "2022-03-28T23:29:57",
          "y0": 0,
          "y1": 0
         },
         {
          "layer": "below",
          "line": {
           "color": "grey",
           "width": 2
          },
          "type": "line",
          "x0": "2022-03-28T23:45:10",
          "x1": "2022-03-28T23:45:10",
          "y0": 0,
          "y1": 0
         },
         {
          "layer": "below",
          "line": {
           "color": "grey",
           "width": 2
          },
          "type": "line",
          "x0": "2022-03-29T20:49:13",
          "x1": "2022-03-29T20:49:13",
          "y0": 0,
          "y1": 0
         },
         {
          "layer": "below",
          "line": {
           "color": "grey",
           "width": 2
          },
          "type": "line",
          "x0": "2022-03-29T21:27:00",
          "x1": "2022-03-29T21:27:00",
          "y0": 0,
          "y1": 0
         },
         {
          "layer": "below",
          "line": {
           "color": "grey",
           "width": 2
          },
          "type": "line",
          "x0": "2022-03-30T21:25:18",
          "x1": "2022-03-30T21:25:18",
          "y0": 0,
          "y1": 0
         },
         {
          "layer": "below",
          "line": {
           "color": "grey",
           "width": 2
          },
          "type": "line",
          "x0": "2022-03-30T21:45:17",
          "x1": "2022-03-30T21:45:17",
          "y0": 0,
          "y1": 0
         },
         {
          "layer": "below",
          "line": {
           "color": "grey",
           "width": 2
          },
          "type": "line",
          "x0": "2022-03-31T00:14:56",
          "x1": "2022-03-31T00:14:56",
          "y0": 0,
          "y1": 75
         },
         {
          "layer": "below",
          "line": {
           "color": "grey",
           "width": 2
          },
          "type": "line",
          "x0": "2022-03-31T00:40:34",
          "x1": "2022-03-31T00:40:34",
          "y0": 0,
          "y1": 75
         },
         {
          "layer": "below",
          "line": {
           "color": "grey",
           "width": 2
          },
          "type": "line",
          "x0": "2022-03-31T19:13:30",
          "x1": "2022-03-31T19:13:30",
          "y0": 0,
          "y1": 0
         },
         {
          "layer": "below",
          "line": {
           "color": "grey",
           "width": 2
          },
          "type": "line",
          "x0": "2022-03-31T19:28:01",
          "x1": "2022-03-31T19:28:01",
          "y0": 0,
          "y1": 0
         },
         {
          "layer": "below",
          "line": {
           "color": "grey",
           "width": 2
          },
          "type": "line",
          "x0": "2022-03-31T19:45:46",
          "x1": "2022-03-31T19:45:46",
          "y0": 0,
          "y1": 0
         },
         {
          "layer": "below",
          "line": {
           "color": "grey",
           "width": 2
          },
          "type": "line",
          "x0": "2022-03-31T20:12:47",
          "x1": "2022-03-31T20:12:47",
          "y0": 0,
          "y1": 0
         },
         {
          "layer": "below",
          "line": {
           "color": "grey",
           "width": 2
          },
          "type": "line",
          "x0": "2022-03-31T20:44:19",
          "x1": "2022-03-31T20:44:19",
          "y0": 0,
          "y1": 0
         },
         {
          "layer": "below",
          "line": {
           "color": "grey",
           "width": 2
          },
          "type": "line",
          "x0": "2022-03-31T21:18:07",
          "x1": "2022-03-31T21:18:07",
          "y0": 0,
          "y1": 51
         },
         {
          "layer": "below",
          "line": {
           "color": "grey",
           "width": 2
          },
          "type": "line",
          "x0": "2022-03-31T21:28:10",
          "x1": "2022-03-31T21:28:10",
          "y0": 0,
          "y1": 0
         },
         {
          "layer": "below",
          "line": {
           "color": "grey",
           "width": 2
          },
          "type": "line",
          "x0": "2022-03-31T21:47:18",
          "x1": "2022-03-31T21:47:18",
          "y0": 0,
          "y1": 0
         },
         {
          "layer": "below",
          "line": {
           "color": "grey",
           "width": 2
          },
          "type": "line",
          "x0": "2022-03-31T22:14:30",
          "x1": "2022-03-31T22:14:30",
          "y0": 0,
          "y1": 0
         },
         {
          "layer": "below",
          "line": {
           "color": "grey",
           "width": 2
          },
          "type": "line",
          "x0": "2022-03-31T22:29:10",
          "x1": "2022-03-31T22:29:10",
          "y0": 0,
          "y1": 0
         },
         {
          "layer": "below",
          "line": {
           "color": "grey",
           "width": 2
          },
          "type": "line",
          "x0": "2022-03-31T22:42:59",
          "x1": "2022-03-31T22:42:59",
          "y0": 0,
          "y1": 0
         },
         {
          "layer": "below",
          "line": {
           "color": "grey",
           "width": 2
          },
          "type": "line",
          "x0": "2022-03-31T23:13:18",
          "x1": "2022-03-31T23:13:18",
          "y0": 0,
          "y1": 0
         },
         {
          "layer": "below",
          "line": {
           "color": "grey",
           "width": 2
          },
          "type": "line",
          "x0": "2022-03-31T23:41:41",
          "x1": "2022-03-31T23:41:41",
          "y0": 0,
          "y1": 70
         },
         {
          "layer": "below",
          "line": {
           "color": "grey",
           "width": 2
          },
          "type": "line",
          "x0": "2022-04-01T20:14:34",
          "x1": "2022-04-01T20:14:34",
          "y0": 0,
          "y1": 0
         },
         {
          "layer": "below",
          "line": {
           "color": "grey",
           "width": 2
          },
          "type": "line",
          "x0": "2022-04-01T21:12:29",
          "x1": "2022-04-01T21:12:29",
          "y0": 0,
          "y1": 0
         },
         {
          "layer": "below",
          "line": {
           "color": "grey",
           "width": 2
          },
          "type": "line",
          "x0": "2022-04-01T21:45:41",
          "x1": "2022-04-01T21:45:41",
          "y0": 0,
          "y1": 0
         },
         {
          "layer": "below",
          "line": {
           "color": "grey",
           "width": 2
          },
          "type": "line",
          "x0": "2022-04-02T00:33:18",
          "x1": "2022-04-02T00:33:18",
          "y0": 0,
          "y1": 0
         },
         {
          "layer": "below",
          "line": {
           "color": "grey",
           "width": 2
          },
          "type": "line",
          "x0": "2022-04-02T01:47:14",
          "x1": "2022-04-02T01:47:14",
          "y0": 0,
          "y1": 0
         },
         {
          "layer": "below",
          "line": {
           "color": "grey",
           "width": 2
          },
          "type": "line",
          "x0": "2022-03-23T18:51:38",
          "x1": "2022-03-23T18:51:38",
          "y0": 0,
          "y1": 68
         },
         {
          "layer": "below",
          "line": {
           "color": "grey",
           "width": 2
          },
          "type": "line",
          "x0": "2022-03-25T22:46:15",
          "x1": "2022-03-25T22:46:15",
          "y0": 0,
          "y1": 0
         },
         {
          "layer": "below",
          "line": {
           "color": "grey",
           "width": 2
          },
          "type": "line",
          "x0": "2022-03-30T17:13:38",
          "x1": "2022-03-30T17:13:38",
          "y0": 0,
          "y1": 0
         },
         {
          "layer": "below",
          "line": {
           "color": "grey",
           "width": 2
          },
          "type": "line",
          "x0": "2022-03-30T23:47:28",
          "x1": "2022-03-30T23:47:28",
          "y0": 0,
          "y1": 0
         },
         {
          "layer": "below",
          "line": {
           "color": "grey",
           "width": 2
          },
          "type": "line",
          "x0": "2022-04-01T17:47:30",
          "x1": "2022-04-01T17:47:30",
          "y0": 0,
          "y1": 0
         },
         {
          "layer": "below",
          "line": {
           "color": "grey",
           "width": 2
          },
          "type": "line",
          "x0": "2022-04-01T22:31:33",
          "x1": "2022-04-01T22:31:33",
          "y0": 0,
          "y1": 0
         },
         {
          "layer": "below",
          "line": {
           "color": "grey",
           "width": 2
          },
          "type": "line",
          "x0": "2022-04-02T00:31:54",
          "x1": "2022-04-02T00:31:54",
          "y0": 0,
          "y1": 0
         },
         {
          "layer": "below",
          "line": {
           "color": "grey",
           "width": 2
          },
          "type": "line",
          "x0": "2022-04-02T01:30:23",
          "x1": "2022-04-02T01:30:23",
          "y0": 0,
          "y1": 0
         },
         {
          "layer": "below",
          "line": {
           "color": "grey",
           "width": 2
          },
          "type": "line",
          "x0": "2022-03-16T20:12:13",
          "x1": "2022-03-16T20:12:13",
          "y0": 0,
          "y1": 13
         },
         {
          "layer": "below",
          "line": {
           "color": "grey",
           "width": 2
          },
          "type": "line",
          "x0": "2022-03-17T23:18:51",
          "x1": "2022-03-17T23:18:51",
          "y0": 0,
          "y1": 0
         },
         {
          "layer": "below",
          "line": {
           "color": "grey",
           "width": 2
          },
          "type": "line",
          "x0": "2022-03-17T23:55:20",
          "x1": "2022-03-17T23:55:20",
          "y0": 0,
          "y1": 0
         },
         {
          "layer": "below",
          "line": {
           "color": "grey",
           "width": 2
          },
          "type": "line",
          "x0": "2022-03-20T17:59:15",
          "x1": "2022-03-20T17:59:15",
          "y0": 0,
          "y1": 0
         },
         {
          "layer": "below",
          "line": {
           "color": "grey",
           "width": 2
          },
          "type": "line",
          "x0": "2022-03-22T00:18:16",
          "x1": "2022-03-22T00:18:16",
          "y0": 0,
          "y1": 0
         },
         {
          "layer": "below",
          "line": {
           "color": "grey",
           "width": 2
          },
          "type": "line",
          "x0": "2022-03-22T00:38:03",
          "x1": "2022-03-22T00:38:03",
          "y0": 0,
          "y1": 0
         },
         {
          "layer": "below",
          "line": {
           "color": "grey",
           "width": 2
          },
          "type": "line",
          "x0": "2022-03-22T18:46:58",
          "x1": "2022-03-22T18:46:58",
          "y0": 0,
          "y1": 0
         },
         {
          "layer": "below",
          "line": {
           "color": "grey",
           "width": 2
          },
          "type": "line",
          "x0": "2022-03-22T19:30:55",
          "x1": "2022-03-22T19:30:55",
          "y0": 0,
          "y1": 179
         },
         {
          "layer": "below",
          "line": {
           "color": "grey",
           "width": 2
          },
          "type": "line",
          "x0": "2022-03-24T01:28:10",
          "x1": "2022-03-24T01:28:10",
          "y0": 0,
          "y1": 0
         },
         {
          "layer": "below",
          "line": {
           "color": "grey",
           "width": 2
          },
          "type": "line",
          "x0": "2022-03-24T21:27:51",
          "x1": "2022-03-24T21:27:51",
          "y0": 0,
          "y1": 71
         },
         {
          "layer": "below",
          "line": {
           "color": "grey",
           "width": 2
          },
          "type": "line",
          "x0": "2022-03-24T23:32:42",
          "x1": "2022-03-24T23:32:42",
          "y0": 0,
          "y1": 32
         },
         {
          "layer": "below",
          "line": {
           "color": "grey",
           "width": 2
          },
          "type": "line",
          "x0": "2022-03-24T23:46:00",
          "x1": "2022-03-24T23:46:00",
          "y0": 0,
          "y1": 85
         },
         {
          "layer": "below",
          "line": {
           "color": "grey",
           "width": 2
          },
          "type": "line",
          "x0": "2022-03-25T19:44:02",
          "x1": "2022-03-25T19:44:02",
          "y0": 0,
          "y1": 143
         },
         {
          "layer": "below",
          "line": {
           "color": "grey",
           "width": 2
          },
          "type": "line",
          "x0": "2022-03-26T00:09:51",
          "x1": "2022-03-26T00:09:51",
          "y0": 0,
          "y1": 0
         },
         {
          "layer": "below",
          "line": {
           "color": "grey",
           "width": 2
          },
          "type": "line",
          "x0": "2022-03-27T17:46:29",
          "x1": "2022-03-27T17:46:29",
          "y0": 0,
          "y1": 26
         },
         {
          "layer": "below",
          "line": {
           "color": "grey",
           "width": 2
          },
          "type": "line",
          "x0": "2022-03-27T18:48:23",
          "x1": "2022-03-27T18:48:23",
          "y0": 0,
          "y1": 0
         },
         {
          "layer": "below",
          "line": {
           "color": "grey",
           "width": 2
          },
          "type": "line",
          "x0": "2022-03-27T19:20:15",
          "x1": "2022-03-27T19:20:15",
          "y0": 0,
          "y1": 0
         },
         {
          "layer": "below",
          "line": {
           "color": "grey",
           "width": 2
          },
          "type": "line",
          "x0": "2022-03-27T20:10:13",
          "x1": "2022-03-27T20:10:13",
          "y0": 0,
          "y1": 29
         },
         {
          "layer": "below",
          "line": {
           "color": "grey",
           "width": 2
          },
          "type": "line",
          "x0": "2022-03-29T00:13:22",
          "x1": "2022-03-29T00:13:22",
          "y0": 0,
          "y1": 0
         },
         {
          "layer": "below",
          "line": {
           "color": "grey",
           "width": 2
          },
          "type": "line",
          "x0": "2022-03-29T21:13:33",
          "x1": "2022-03-29T21:13:33",
          "y0": 0,
          "y1": 71
         },
         {
          "layer": "below",
          "line": {
           "color": "grey",
           "width": 2
          },
          "type": "line",
          "x0": "2022-03-29T23:38:34",
          "x1": "2022-03-29T23:38:34",
          "y0": 0,
          "y1": 0
         },
         {
          "layer": "below",
          "line": {
           "color": "grey",
           "width": 2
          },
          "type": "line",
          "x0": "2022-03-30T20:26:45",
          "x1": "2022-03-30T20:26:45",
          "y0": 0,
          "y1": 122
         },
         {
          "layer": "below",
          "line": {
           "color": "grey",
           "width": 2
          },
          "type": "line",
          "x0": "2022-03-30T22:47:59",
          "x1": "2022-03-30T22:47:59",
          "y0": 0,
          "y1": 0
         },
         {
          "layer": "below",
          "line": {
           "color": "grey",
           "width": 2
          },
          "type": "line",
          "x0": "2022-03-31T21:36:42",
          "x1": "2022-03-31T21:36:42",
          "y0": 0,
          "y1": 165
         },
         {
          "layer": "below",
          "line": {
           "color": "grey",
           "width": 2
          },
          "type": "line",
          "x0": "2022-03-31T22:29:43",
          "x1": "2022-03-31T22:29:43",
          "y0": 0,
          "y1": 0
         },
         {
          "layer": "below",
          "line": {
           "color": "grey",
           "width": 2
          },
          "type": "line",
          "x0": "2022-03-31T23:11:25",
          "x1": "2022-03-31T23:11:25",
          "y0": 0,
          "y1": 0
         },
         {
          "layer": "below",
          "line": {
           "color": "grey",
           "width": 2
          },
          "type": "line",
          "x0": "2022-03-31T23:57:50",
          "x1": "2022-03-31T23:57:50",
          "y0": 0,
          "y1": 0
         },
         {
          "layer": "below",
          "line": {
           "color": "grey",
           "width": 2
          },
          "type": "line",
          "x0": "2022-04-01T20:49:38",
          "x1": "2022-04-01T20:49:38",
          "y0": 0,
          "y1": 20
         },
         {
          "layer": "below",
          "line": {
           "color": "grey",
           "width": 2
          },
          "type": "line",
          "x0": "2022-04-01T21:31:57",
          "x1": "2022-04-01T21:31:57",
          "y0": 0,
          "y1": 176
         },
         {
          "layer": "below",
          "line": {
           "color": "grey",
           "width": 2
          },
          "type": "line",
          "x0": "2022-04-01T22:42:49",
          "x1": "2022-04-01T22:42:49",
          "y0": 0,
          "y1": 164
         },
         {
          "layer": "below",
          "line": {
           "color": "grey",
           "width": 2
          },
          "type": "line",
          "x0": "2022-04-02T03:09:45",
          "x1": "2022-04-02T03:09:45",
          "y0": 0,
          "y1": 0
         },
         {
          "layer": "below",
          "line": {
           "color": "grey",
           "width": 2
          },
          "type": "line",
          "x0": "2022-03-23T19:28:55",
          "x1": "2022-03-23T19:28:55",
          "y0": 0,
          "y1": 65
         },
         {
          "layer": "below",
          "line": {
           "color": "grey",
           "width": 2
          },
          "type": "line",
          "x0": "2022-03-24T19:29:10",
          "x1": "2022-03-24T19:29:10",
          "y0": 0,
          "y1": 21
         },
         {
          "layer": "below",
          "line": {
           "color": "grey",
           "width": 2
          },
          "type": "line",
          "x0": "2022-03-24T20:11:58",
          "x1": "2022-03-24T20:11:58",
          "y0": 0,
          "y1": 0
         },
         {
          "layer": "below",
          "line": {
           "color": "grey",
           "width": 2
          },
          "type": "line",
          "x0": "2022-03-29T11:43:26",
          "x1": "2022-03-29T11:43:26",
          "y0": 0,
          "y1": 0
         },
         {
          "layer": "below",
          "line": {
           "color": "grey",
           "width": 2
          },
          "type": "line",
          "x0": "2022-03-31T21:29:06",
          "x1": "2022-03-31T21:29:06",
          "y0": 0,
          "y1": 41
         },
         {
          "layer": "below",
          "line": {
           "color": "grey",
           "width": 2
          },
          "type": "line",
          "x0": "2022-04-01T21:18:15",
          "x1": "2022-04-01T21:18:15",
          "y0": 0,
          "y1": 0
         },
         {
          "layer": "below",
          "line": {
           "color": "grey",
           "width": 2
          },
          "type": "line",
          "x0": "2022-03-15T19:57:54",
          "x1": "2022-03-15T19:57:54",
          "y0": 0,
          "y1": 1136
         },
         {
          "layer": "below",
          "line": {
           "color": "grey",
           "width": 2
          },
          "type": "line",
          "x0": "2022-03-15T21:34:23",
          "x1": "2022-03-15T21:34:23",
          "y0": 0,
          "y1": 785
         },
         {
          "layer": "below",
          "line": {
           "color": "grey",
           "width": 2
          },
          "type": "line",
          "x0": "2022-03-15T21:56:44",
          "x1": "2022-03-15T21:56:44",
          "y0": 0,
          "y1": 1513
         },
         {
          "layer": "below",
          "line": {
           "color": "grey",
           "width": 2
          },
          "type": "line",
          "x0": "2022-03-31T07:57:14",
          "x1": "2022-03-31T07:57:14",
          "y0": 0,
          "y1": 1008
         },
         {
          "layer": "below",
          "line": {
           "color": "grey",
           "width": 2
          },
          "type": "line",
          "x0": "2022-03-14T17:57:40",
          "x1": "2022-03-14T17:57:40",
          "y0": 0,
          "y1": 0
         },
         {
          "layer": "below",
          "line": {
           "color": "grey",
           "width": 2
          },
          "type": "line",
          "x0": "2022-03-14T22:41:40",
          "x1": "2022-03-14T22:41:40",
          "y0": 0,
          "y1": 0
         },
         {
          "layer": "below",
          "line": {
           "color": "grey",
           "width": 2
          },
          "type": "line",
          "x0": "2022-03-14T23:11:52",
          "x1": "2022-03-14T23:11:52",
          "y0": 0,
          "y1": 0
         },
         {
          "layer": "below",
          "line": {
           "color": "grey",
           "width": 2
          },
          "type": "line",
          "x0": "2022-03-15T21:31:24",
          "x1": "2022-03-15T21:31:24",
          "y0": 0,
          "y1": 0
         },
         {
          "layer": "below",
          "line": {
           "color": "grey",
           "width": 2
          },
          "type": "line",
          "x0": "2022-03-15T21:56:31",
          "x1": "2022-03-15T21:56:31",
          "y0": 0,
          "y1": 25
         },
         {
          "layer": "below",
          "line": {
           "color": "grey",
           "width": 2
          },
          "type": "line",
          "x0": "2022-03-19T20:11:04",
          "x1": "2022-03-19T20:11:04",
          "y0": 0,
          "y1": 0
         },
         {
          "layer": "below",
          "line": {
           "color": "grey",
           "width": 2
          },
          "type": "line",
          "x0": "2022-03-19T20:37:54",
          "x1": "2022-03-19T20:37:54",
          "y0": 0,
          "y1": 21
         },
         {
          "layer": "below",
          "line": {
           "color": "grey",
           "width": 2
          },
          "type": "line",
          "x0": "2022-03-19T21:10:30",
          "x1": "2022-03-19T21:10:30",
          "y0": 0,
          "y1": 67
         },
         {
          "layer": "below",
          "line": {
           "color": "grey",
           "width": 2
          },
          "type": "line",
          "x0": "2022-03-20T20:43:47",
          "x1": "2022-03-20T20:43:47",
          "y0": 0,
          "y1": 0
         },
         {
          "layer": "below",
          "line": {
           "color": "grey",
           "width": 2
          },
          "type": "line",
          "x0": "2022-03-21T17:58:55",
          "x1": "2022-03-21T17:58:55",
          "y0": 0,
          "y1": 0
         },
         {
          "layer": "below",
          "line": {
           "color": "grey",
           "width": 2
          },
          "type": "line",
          "x0": "2022-03-23T23:44:44",
          "x1": "2022-03-23T23:44:44",
          "y0": 0,
          "y1": 0
         },
         {
          "layer": "below",
          "line": {
           "color": "grey",
           "width": 2
          },
          "type": "line",
          "x0": "2022-03-24T18:31:03",
          "x1": "2022-03-24T18:31:03",
          "y0": 0,
          "y1": 0
         },
         {
          "layer": "below",
          "line": {
           "color": "grey",
           "width": 2
          },
          "type": "line",
          "x0": "2022-03-24T19:08:50",
          "x1": "2022-03-24T19:08:50",
          "y0": 0,
          "y1": 0
         },
         {
          "layer": "below",
          "line": {
           "color": "grey",
           "width": 2
          },
          "type": "line",
          "x0": "2022-03-24T19:47:43",
          "x1": "2022-03-24T19:47:43",
          "y0": 0,
          "y1": 0
         },
         {
          "layer": "below",
          "line": {
           "color": "grey",
           "width": 2
          },
          "type": "line",
          "x0": "2022-03-24T20:08:23",
          "x1": "2022-03-24T20:08:23",
          "y0": 0,
          "y1": 0
         },
         {
          "layer": "below",
          "line": {
           "color": "grey",
           "width": 2
          },
          "type": "line",
          "x0": "2022-03-24T21:21:00",
          "x1": "2022-03-24T21:21:00",
          "y0": 0,
          "y1": 0
         },
         {
          "layer": "below",
          "line": {
           "color": "grey",
           "width": 2
          },
          "type": "line",
          "x0": "2022-03-24T21:33:28",
          "x1": "2022-03-24T21:33:28",
          "y0": 0,
          "y1": 0
         },
         {
          "layer": "below",
          "line": {
           "color": "grey",
           "width": 2
          },
          "type": "line",
          "x0": "2022-03-24T22:37:32",
          "x1": "2022-03-24T22:37:32",
          "y0": 0,
          "y1": 0
         },
         {
          "layer": "below",
          "line": {
           "color": "grey",
           "width": 2
          },
          "type": "line",
          "x0": "2022-03-25T18:29:37",
          "x1": "2022-03-25T18:29:37",
          "y0": 0,
          "y1": 86
         },
         {
          "layer": "below",
          "line": {
           "color": "grey",
           "width": 2
          },
          "type": "line",
          "x0": "2022-03-25T20:07:49",
          "x1": "2022-03-25T20:07:49",
          "y0": 0,
          "y1": 0
         },
         {
          "layer": "below",
          "line": {
           "color": "grey",
           "width": 2
          },
          "type": "line",
          "x0": "2022-03-25T20:27:49",
          "x1": "2022-03-25T20:27:49",
          "y0": 0,
          "y1": 0
         },
         {
          "layer": "below",
          "line": {
           "color": "grey",
           "width": 2
          },
          "type": "line",
          "x0": "2022-03-25T21:25:55",
          "x1": "2022-03-25T21:25:55",
          "y0": 0,
          "y1": 0
         },
         {
          "layer": "below",
          "line": {
           "color": "grey",
           "width": 2
          },
          "type": "line",
          "x0": "2022-03-25T21:35:51",
          "x1": "2022-03-25T21:35:51",
          "y0": 0,
          "y1": 0
         },
         {
          "layer": "below",
          "line": {
           "color": "grey",
           "width": 2
          },
          "type": "line",
          "x0": "2022-03-25T22:49:23",
          "x1": "2022-03-25T22:49:23",
          "y0": 0,
          "y1": 0
         },
         {
          "layer": "below",
          "line": {
           "color": "grey",
           "width": 2
          },
          "type": "line",
          "x0": "2022-03-25T23:28:43",
          "x1": "2022-03-25T23:28:43",
          "y0": 0,
          "y1": 0
         },
         {
          "layer": "below",
          "line": {
           "color": "grey",
           "width": 2
          },
          "type": "line",
          "x0": "2022-03-26T00:13:12",
          "x1": "2022-03-26T00:13:12",
          "y0": 0,
          "y1": 0
         },
         {
          "layer": "below",
          "line": {
           "color": "grey",
           "width": 2
          },
          "type": "line",
          "x0": "2022-03-26T17:58:25",
          "x1": "2022-03-26T17:58:25",
          "y0": 0,
          "y1": 36
         },
         {
          "layer": "below",
          "line": {
           "color": "grey",
           "width": 2
          },
          "type": "line",
          "x0": "2022-03-26T19:28:16",
          "x1": "2022-03-26T19:28:16",
          "y0": 0,
          "y1": 0
         },
         {
          "layer": "below",
          "line": {
           "color": "grey",
           "width": 2
          },
          "type": "line",
          "x0": "2022-03-26T20:13:09",
          "x1": "2022-03-26T20:13:09",
          "y0": 0,
          "y1": 0
         },
         {
          "layer": "below",
          "line": {
           "color": "grey",
           "width": 2
          },
          "type": "line",
          "x0": "2022-03-26T20:44:31",
          "x1": "2022-03-26T20:44:31",
          "y0": 0,
          "y1": 0
         },
         {
          "layer": "below",
          "line": {
           "color": "grey",
           "width": 2
          },
          "type": "line",
          "x0": "2022-03-26T22:46:52",
          "x1": "2022-03-26T22:46:52",
          "y0": 0,
          "y1": 9
         },
         {
          "layer": "below",
          "line": {
           "color": "grey",
           "width": 2
          },
          "type": "line",
          "x0": "2022-03-26T23:59:36",
          "x1": "2022-03-26T23:59:36",
          "y0": 0,
          "y1": 0
         },
         {
          "layer": "below",
          "line": {
           "color": "grey",
           "width": 2
          },
          "type": "line",
          "x0": "2022-03-27T00:24:26",
          "x1": "2022-03-27T00:24:26",
          "y0": 0,
          "y1": 0
         },
         {
          "layer": "below",
          "line": {
           "color": "grey",
           "width": 2
          },
          "type": "line",
          "x0": "2022-03-27T08:08:30",
          "x1": "2022-03-27T08:08:30",
          "y0": 0,
          "y1": 0
         },
         {
          "layer": "below",
          "line": {
           "color": "grey",
           "width": 2
          },
          "type": "line",
          "x0": "2022-03-27T20:42:18",
          "x1": "2022-03-27T20:42:18",
          "y0": 0,
          "y1": 0
         },
         {
          "layer": "below",
          "line": {
           "color": "grey",
           "width": 2
          },
          "type": "line",
          "x0": "2022-03-28T20:42:17",
          "x1": "2022-03-28T20:42:17",
          "y0": 0,
          "y1": 24
         },
         {
          "layer": "below",
          "line": {
           "color": "grey",
           "width": 2
          },
          "type": "line",
          "x0": "2022-03-28T22:14:15",
          "x1": "2022-03-28T22:14:15",
          "y0": 0,
          "y1": 0
         },
         {
          "layer": "below",
          "line": {
           "color": "grey",
           "width": 2
          },
          "type": "line",
          "x0": "2022-03-30T00:15:59",
          "x1": "2022-03-30T00:15:59",
          "y0": 0,
          "y1": 0
         },
         {
          "layer": "below",
          "line": {
           "color": "grey",
           "width": 2
          },
          "type": "line",
          "x0": "2022-03-31T01:19:39",
          "x1": "2022-03-31T01:19:39",
          "y0": 0,
          "y1": 0
         },
         {
          "layer": "below",
          "line": {
           "color": "grey",
           "width": 2
          },
          "type": "line",
          "x0": "2022-04-01T00:31:26",
          "x1": "2022-04-01T00:31:26",
          "y0": 0,
          "y1": 166
         },
         {
          "layer": "below",
          "line": {
           "color": "grey",
           "width": 2
          },
          "type": "line",
          "x0": "2022-04-01T13:41:30",
          "x1": "2022-04-01T13:41:30",
          "y0": 0,
          "y1": 0
         },
         {
          "layer": "below",
          "line": {
           "color": "grey",
           "width": 2
          },
          "type": "line",
          "x0": "2022-04-01T17:28:18",
          "x1": "2022-04-01T17:28:18",
          "y0": 0,
          "y1": 0
         },
         {
          "layer": "below",
          "line": {
           "color": "grey",
           "width": 2
          },
          "type": "line",
          "x0": "2022-04-01T17:58:38",
          "x1": "2022-04-01T17:58:38",
          "y0": 0,
          "y1": 0
         },
         {
          "layer": "below",
          "line": {
           "color": "grey",
           "width": 2
          },
          "type": "line",
          "x0": "2022-04-02T00:31:53",
          "x1": "2022-04-02T00:31:53",
          "y0": 0,
          "y1": 0
         },
         {
          "layer": "below",
          "line": {
           "color": "grey",
           "width": 2
          },
          "type": "line",
          "x0": "2022-03-14T18:26:48",
          "x1": "2022-03-14T18:26:48",
          "y0": 0,
          "y1": 79
         },
         {
          "layer": "below",
          "line": {
           "color": "grey",
           "width": 2
          },
          "type": "line",
          "x0": "2022-03-14T18:56:42",
          "x1": "2022-03-14T18:56:42",
          "y0": 0,
          "y1": 261
         },
         {
          "layer": "below",
          "line": {
           "color": "grey",
           "width": 2
          },
          "type": "line",
          "x0": "2022-03-14T19:25:43",
          "x1": "2022-03-14T19:25:43",
          "y0": 0,
          "y1": 510
         },
         {
          "layer": "below",
          "line": {
           "color": "grey",
           "width": 2
          },
          "type": "line",
          "x0": "2022-03-14T19:41:18",
          "x1": "2022-03-14T19:41:18",
          "y0": 0,
          "y1": 396
         },
         {
          "layer": "below",
          "line": {
           "color": "grey",
           "width": 2
          },
          "type": "line",
          "x0": "2022-03-14T19:56:28",
          "x1": "2022-03-14T19:56:28",
          "y0": 0,
          "y1": 310
         },
         {
          "layer": "below",
          "line": {
           "color": "grey",
           "width": 2
          },
          "type": "line",
          "x0": "2022-03-15T17:56:12",
          "x1": "2022-03-15T17:56:12",
          "y0": 0,
          "y1": 35
         },
         {
          "layer": "below",
          "line": {
           "color": "grey",
           "width": 2
          },
          "type": "line",
          "x0": "2022-03-15T18:27:11",
          "x1": "2022-03-15T18:27:11",
          "y0": 0,
          "y1": 35
         },
         {
          "layer": "below",
          "line": {
           "color": "grey",
           "width": 2
          },
          "type": "line",
          "x0": "2022-03-15T19:15:29",
          "x1": "2022-03-15T19:15:29",
          "y0": 0,
          "y1": 289
         },
         {
          "layer": "below",
          "line": {
           "color": "grey",
           "width": 2
          },
          "type": "line",
          "x0": "2022-03-15T19:58:21",
          "x1": "2022-03-15T19:58:21",
          "y0": 0,
          "y1": 317
         },
         {
          "layer": "below",
          "line": {
           "color": "grey",
           "width": 2
          },
          "type": "line",
          "x0": "2022-03-15T21:28:24",
          "x1": "2022-03-15T21:28:24",
          "y0": 0,
          "y1": 417
         },
         {
          "layer": "below",
          "line": {
           "color": "grey",
           "width": 2
          },
          "type": "line",
          "x0": "2022-03-16T18:28:16",
          "x1": "2022-03-16T18:28:16",
          "y0": 0,
          "y1": 186
         },
         {
          "layer": "below",
          "line": {
           "color": "grey",
           "width": 2
          },
          "type": "line",
          "x0": "2022-03-16T18:46:49",
          "x1": "2022-03-16T18:46:49",
          "y0": 0,
          "y1": 119
         },
         {
          "layer": "below",
          "line": {
           "color": "grey",
           "width": 2
          },
          "type": "line",
          "x0": "2022-03-16T18:56:09",
          "x1": "2022-03-16T18:56:09",
          "y0": 0,
          "y1": 76
         },
         {
          "layer": "below",
          "line": {
           "color": "grey",
           "width": 2
          },
          "type": "line",
          "x0": "2022-03-16T19:26:01",
          "x1": "2022-03-16T19:26:01",
          "y0": 0,
          "y1": 181
         },
         {
          "layer": "below",
          "line": {
           "color": "grey",
           "width": 2
          },
          "type": "line",
          "x0": "2022-03-16T19:42:48",
          "x1": "2022-03-16T19:42:48",
          "y0": 0,
          "y1": 254
         },
         {
          "layer": "below",
          "line": {
           "color": "grey",
           "width": 2
          },
          "type": "line",
          "x0": "2022-03-16T19:56:06",
          "x1": "2022-03-16T19:56:06",
          "y0": 0,
          "y1": 193
         },
         {
          "layer": "below",
          "line": {
           "color": "grey",
           "width": 2
          },
          "type": "line",
          "x0": "2022-03-16T22:13:19",
          "x1": "2022-03-16T22:13:19",
          "y0": 0,
          "y1": 247
         },
         {
          "layer": "below",
          "line": {
           "color": "grey",
           "width": 2
          },
          "type": "line",
          "x0": "2022-03-17T18:42:08",
          "x1": "2022-03-17T18:42:08",
          "y0": 0,
          "y1": 200
         },
         {
          "layer": "below",
          "line": {
           "color": "grey",
           "width": 2
          },
          "type": "line",
          "x0": "2022-03-17T19:09:51",
          "x1": "2022-03-17T19:09:51",
          "y0": 0,
          "y1": 146
         },
         {
          "layer": "below",
          "line": {
           "color": "grey",
           "width": 2
          },
          "type": "line",
          "x0": "2022-03-17T19:45:31",
          "x1": "2022-03-17T19:45:31",
          "y0": 0,
          "y1": 378
         },
         {
          "layer": "below",
          "line": {
           "color": "grey",
           "width": 2
          },
          "type": "line",
          "x0": "2022-03-17T20:09:37",
          "x1": "2022-03-17T20:09:37",
          "y0": 0,
          "y1": 0
         },
         {
          "layer": "below",
          "line": {
           "color": "grey",
           "width": 2
          },
          "type": "line",
          "x0": "2022-03-17T20:25:32",
          "x1": "2022-03-17T20:25:32",
          "y0": 0,
          "y1": 88
         },
         {
          "layer": "below",
          "line": {
           "color": "grey",
           "width": 2
          },
          "type": "line",
          "x0": "2022-03-17T22:20:23",
          "x1": "2022-03-17T22:20:23",
          "y0": 0,
          "y1": 102
         },
         {
          "layer": "below",
          "line": {
           "color": "grey",
           "width": 2
          },
          "type": "line",
          "x0": "2022-03-18T20:08:45",
          "x1": "2022-03-18T20:08:45",
          "y0": 0,
          "y1": 99
         },
         {
          "layer": "below",
          "line": {
           "color": "grey",
           "width": 2
          },
          "type": "line",
          "x0": "2022-03-19T11:47:28",
          "x1": "2022-03-19T11:47:28",
          "y0": 0,
          "y1": 23
         },
         {
          "layer": "below",
          "line": {
           "color": "grey",
           "width": 2
          },
          "type": "line",
          "x0": "2022-03-19T21:56:14",
          "x1": "2022-03-19T21:56:14",
          "y0": 0,
          "y1": 139
         },
         {
          "layer": "below",
          "line": {
           "color": "grey",
           "width": 2
          },
          "type": "line",
          "x0": "2022-03-19T22:21:16",
          "x1": "2022-03-19T22:21:16",
          "y0": 0,
          "y1": 450
         },
         {
          "layer": "below",
          "line": {
           "color": "grey",
           "width": 2
          },
          "type": "line",
          "x0": "2022-03-20T18:06:53",
          "x1": "2022-03-20T18:06:53",
          "y0": 0,
          "y1": 479
         },
         {
          "layer": "below",
          "line": {
           "color": "grey",
           "width": 2
          },
          "type": "line",
          "x0": "2022-03-20T18:37:17",
          "x1": "2022-03-20T18:37:17",
          "y0": 0,
          "y1": 246
         },
         {
          "layer": "below",
          "line": {
           "color": "grey",
           "width": 2
          },
          "type": "line",
          "x0": "2022-03-20T20:29:29",
          "x1": "2022-03-20T20:29:29",
          "y0": 0,
          "y1": 114
         },
         {
          "layer": "below",
          "line": {
           "color": "grey",
           "width": 2
          },
          "type": "line",
          "x0": "2022-03-21T17:42:15",
          "x1": "2022-03-21T17:42:15",
          "y0": 0,
          "y1": 23
         },
         {
          "layer": "below",
          "line": {
           "color": "grey",
           "width": 2
          },
          "type": "line",
          "x0": "2022-03-21T18:26:11",
          "x1": "2022-03-21T18:26:11",
          "y0": 0,
          "y1": 0
         },
         {
          "layer": "below",
          "line": {
           "color": "grey",
           "width": 2
          },
          "type": "line",
          "x0": "2022-03-21T18:38:27",
          "x1": "2022-03-21T18:38:27",
          "y0": 0,
          "y1": 246
         },
         {
          "layer": "below",
          "line": {
           "color": "grey",
           "width": 2
          },
          "type": "line",
          "x0": "2022-03-21T18:58:08",
          "x1": "2022-03-21T18:58:08",
          "y0": 0,
          "y1": 323
         },
         {
          "layer": "below",
          "line": {
           "color": "grey",
           "width": 2
          },
          "type": "line",
          "x0": "2022-03-21T19:26:30",
          "x1": "2022-03-21T19:26:30",
          "y0": 0,
          "y1": 260
         },
         {
          "layer": "below",
          "line": {
           "color": "grey",
           "width": 2
          },
          "type": "line",
          "x0": "2022-03-21T19:43:23",
          "x1": "2022-03-21T19:43:23",
          "y0": 0,
          "y1": 572
         },
         {
          "layer": "below",
          "line": {
           "color": "grey",
           "width": 2
          },
          "type": "line",
          "x0": "2022-03-21T19:57:26",
          "x1": "2022-03-21T19:57:26",
          "y0": 0,
          "y1": 311
         },
         {
          "layer": "below",
          "line": {
           "color": "grey",
           "width": 2
          },
          "type": "line",
          "x0": "2022-03-22T17:58:24",
          "x1": "2022-03-22T17:58:24",
          "y0": 0,
          "y1": 0
         },
         {
          "layer": "below",
          "line": {
           "color": "grey",
           "width": 2
          },
          "type": "line",
          "x0": "2022-03-22T18:25:59",
          "x1": "2022-03-22T18:25:59",
          "y0": 0,
          "y1": 305
         },
         {
          "layer": "below",
          "line": {
           "color": "grey",
           "width": 2
          },
          "type": "line",
          "x0": "2022-03-22T19:42:22",
          "x1": "2022-03-22T19:42:22",
          "y0": 0,
          "y1": 71
         },
         {
          "layer": "below",
          "line": {
           "color": "grey",
           "width": 2
          },
          "type": "line",
          "x0": "2022-03-23T18:57:46",
          "x1": "2022-03-23T18:57:46",
          "y0": 0,
          "y1": 63
         },
         {
          "layer": "below",
          "line": {
           "color": "grey",
           "width": 2
          },
          "type": "line",
          "x0": "2022-03-23T19:39:24",
          "x1": "2022-03-23T19:39:24",
          "y0": 0,
          "y1": 251
         },
         {
          "layer": "below",
          "line": {
           "color": "grey",
           "width": 2
          },
          "type": "line",
          "x0": "2022-03-24T18:41:46",
          "x1": "2022-03-24T18:41:46",
          "y0": 0,
          "y1": 442
         },
         {
          "layer": "below",
          "line": {
           "color": "grey",
           "width": 2
          },
          "type": "line",
          "x0": "2022-03-24T19:44:58",
          "x1": "2022-03-24T19:44:58",
          "y0": 0,
          "y1": 137
         },
         {
          "layer": "below",
          "line": {
           "color": "grey",
           "width": 2
          },
          "type": "line",
          "x0": "2022-03-24T20:11:37",
          "x1": "2022-03-24T20:11:37",
          "y0": 0,
          "y1": 209
         },
         {
          "layer": "below",
          "line": {
           "color": "grey",
           "width": 2
          },
          "type": "line",
          "x0": "2022-03-24T20:43:12",
          "x1": "2022-03-24T20:43:12",
          "y0": 0,
          "y1": 449
         },
         {
          "layer": "below",
          "line": {
           "color": "grey",
           "width": 2
          },
          "type": "line",
          "x0": "2022-03-24T21:57:35",
          "x1": "2022-03-24T21:57:35",
          "y0": 0,
          "y1": 440
         },
         {
          "layer": "below",
          "line": {
           "color": "grey",
           "width": 2
          },
          "type": "line",
          "x0": "2022-03-25T14:56:57",
          "x1": "2022-03-25T14:56:57",
          "y0": 0,
          "y1": 100
         },
         {
          "layer": "below",
          "line": {
           "color": "grey",
           "width": 2
          },
          "type": "line",
          "x0": "2022-03-25T17:26:57",
          "x1": "2022-03-25T17:26:57",
          "y0": 0,
          "y1": 0
         },
         {
          "layer": "below",
          "line": {
           "color": "grey",
           "width": 2
          },
          "type": "line",
          "x0": "2022-03-25T19:09:55",
          "x1": "2022-03-25T19:09:55",
          "y0": 0,
          "y1": 426
         },
         {
          "layer": "below",
          "line": {
           "color": "grey",
           "width": 2
          },
          "type": "line",
          "x0": "2022-03-25T19:39:20",
          "x1": "2022-03-25T19:39:20",
          "y0": 0,
          "y1": 198
         },
         {
          "layer": "below",
          "line": {
           "color": "grey",
           "width": 2
          },
          "type": "line",
          "x0": "2022-03-25T20:09:19",
          "x1": "2022-03-25T20:09:19",
          "y0": 0,
          "y1": 73
         },
         {
          "layer": "below",
          "line": {
           "color": "grey",
           "width": 2
          },
          "type": "line",
          "x0": "2022-03-25T20:41:07",
          "x1": "2022-03-25T20:41:07",
          "y0": 0,
          "y1": 95
         },
         {
          "layer": "below",
          "line": {
           "color": "grey",
           "width": 2
          },
          "type": "line",
          "x0": "2022-03-25T21:28:16",
          "x1": "2022-03-25T21:28:16",
          "y0": 0,
          "y1": 19
         },
         {
          "layer": "below",
          "line": {
           "color": "grey",
           "width": 2
          },
          "type": "line",
          "x0": "2022-03-25T22:15:26",
          "x1": "2022-03-25T22:15:26",
          "y0": 0,
          "y1": 169
         },
         {
          "layer": "below",
          "line": {
           "color": "grey",
           "width": 2
          },
          "type": "line",
          "x0": "2022-03-25T23:14:58",
          "x1": "2022-03-25T23:14:58",
          "y0": 0,
          "y1": 0
         },
         {
          "layer": "below",
          "line": {
           "color": "grey",
           "width": 2
          },
          "type": "line",
          "x0": "2022-03-25T23:45:41",
          "x1": "2022-03-25T23:45:41",
          "y0": 0,
          "y1": 52
         },
         {
          "layer": "below",
          "line": {
           "color": "grey",
           "width": 2
          },
          "type": "line",
          "x0": "2022-03-26T20:12:47",
          "x1": "2022-03-26T20:12:47",
          "y0": 0,
          "y1": 562
         },
         {
          "layer": "below",
          "line": {
           "color": "grey",
           "width": 2
          },
          "type": "line",
          "x0": "2022-03-26T22:19:54",
          "x1": "2022-03-26T22:19:54",
          "y0": 0,
          "y1": 1306
         },
         {
          "layer": "below",
          "line": {
           "color": "grey",
           "width": 2
          },
          "type": "line",
          "x0": "2022-03-26T22:41:37",
          "x1": "2022-03-26T22:41:37",
          "y0": 0,
          "y1": 1013
         },
         {
          "layer": "below",
          "line": {
           "color": "grey",
           "width": 2
          },
          "type": "line",
          "x0": "2022-03-26T23:19:07",
          "x1": "2022-03-26T23:19:07",
          "y0": 0,
          "y1": 1047
         },
         {
          "layer": "below",
          "line": {
           "color": "grey",
           "width": 2
          },
          "type": "line",
          "x0": "2022-03-27T09:39:54",
          "x1": "2022-03-27T09:39:54",
          "y0": 0,
          "y1": 164
         },
         {
          "layer": "below",
          "line": {
           "color": "grey",
           "width": 2
          },
          "type": "line",
          "x0": "2022-03-27T18:08:37",
          "x1": "2022-03-27T18:08:37",
          "y0": 0,
          "y1": 0
         },
         {
          "layer": "below",
          "line": {
           "color": "grey",
           "width": 2
          },
          "type": "line",
          "x0": "2022-03-27T18:56:21",
          "x1": "2022-03-27T18:56:21",
          "y0": 0,
          "y1": 161
         },
         {
          "layer": "below",
          "line": {
           "color": "grey",
           "width": 2
          },
          "type": "line",
          "x0": "2022-03-27T19:28:04",
          "x1": "2022-03-27T19:28:04",
          "y0": 0,
          "y1": 325
         },
         {
          "layer": "below",
          "line": {
           "color": "grey",
           "width": 2
          },
          "type": "line",
          "x0": "2022-03-27T20:14:41",
          "x1": "2022-03-27T20:14:41",
          "y0": 0,
          "y1": 210
         },
         {
          "layer": "below",
          "line": {
           "color": "grey",
           "width": 2
          },
          "type": "line",
          "x0": "2022-03-27T20:37:07",
          "x1": "2022-03-27T20:37:07",
          "y0": 0,
          "y1": 275
         },
         {
          "layer": "below",
          "line": {
           "color": "grey",
           "width": 2
          },
          "type": "line",
          "x0": "2022-03-28T18:29:02",
          "x1": "2022-03-28T18:29:02",
          "y0": 0,
          "y1": 425
         },
         {
          "layer": "below",
          "line": {
           "color": "grey",
           "width": 2
          },
          "type": "line",
          "x0": "2022-03-28T18:39:59",
          "x1": "2022-03-28T18:39:59",
          "y0": 0,
          "y1": 304
         },
         {
          "layer": "below",
          "line": {
           "color": "grey",
           "width": 2
          },
          "type": "line",
          "x0": "2022-03-28T18:56:43",
          "x1": "2022-03-28T18:56:43",
          "y0": 0,
          "y1": 96
         },
         {
          "layer": "below",
          "line": {
           "color": "grey",
           "width": 2
          },
          "type": "line",
          "x0": "2022-03-28T19:26:27",
          "x1": "2022-03-28T19:26:27",
          "y0": 0,
          "y1": 134
         },
         {
          "layer": "below",
          "line": {
           "color": "grey",
           "width": 2
          },
          "type": "line",
          "x0": "2022-03-28T19:56:26",
          "x1": "2022-03-28T19:56:26",
          "y0": 0,
          "y1": 23
         },
         {
          "layer": "below",
          "line": {
           "color": "grey",
           "width": 2
          },
          "type": "line",
          "x0": "2022-03-28T20:30:39",
          "x1": "2022-03-28T20:30:39",
          "y0": 0,
          "y1": 231
         },
         {
          "layer": "below",
          "line": {
           "color": "grey",
           "width": 2
          },
          "type": "line",
          "x0": "2022-03-28T22:14:39",
          "x1": "2022-03-28T22:14:39",
          "y0": 0,
          "y1": 108
         },
         {
          "layer": "below",
          "line": {
           "color": "grey",
           "width": 2
          },
          "type": "line",
          "x0": "2022-03-29T17:56:29",
          "x1": "2022-03-29T17:56:29",
          "y0": 0,
          "y1": 52
         },
         {
          "layer": "below",
          "line": {
           "color": "grey",
           "width": 2
          },
          "type": "line",
          "x0": "2022-03-29T19:26:18",
          "x1": "2022-03-29T19:26:18",
          "y0": 0,
          "y1": 336
         },
         {
          "layer": "below",
          "line": {
           "color": "grey",
           "width": 2
          },
          "type": "line",
          "x0": "2022-03-29T19:56:27",
          "x1": "2022-03-29T19:56:27",
          "y0": 0,
          "y1": 226
         },
         {
          "layer": "below",
          "line": {
           "color": "grey",
           "width": 2
          },
          "type": "line",
          "x0": "2022-03-29T21:11:06",
          "x1": "2022-03-29T21:11:06",
          "y0": 0,
          "y1": 78
         },
         {
          "layer": "below",
          "line": {
           "color": "grey",
           "width": 2
          },
          "type": "line",
          "x0": "2022-03-29T22:24:42",
          "x1": "2022-03-29T22:24:42",
          "y0": 0,
          "y1": 191
         },
         {
          "layer": "below",
          "line": {
           "color": "grey",
           "width": 2
          },
          "type": "line",
          "x0": "2022-03-29T22:49:53",
          "x1": "2022-03-29T22:49:53",
          "y0": 0,
          "y1": 48
         },
         {
          "layer": "below",
          "line": {
           "color": "grey",
           "width": 2
          },
          "type": "line",
          "x0": "2022-03-29T23:31:52",
          "x1": "2022-03-29T23:31:52",
          "y0": 0,
          "y1": 39
         },
         {
          "layer": "below",
          "line": {
           "color": "grey",
           "width": 2
          },
          "type": "line",
          "x0": "2022-03-30T18:28:09",
          "x1": "2022-03-30T18:28:09",
          "y0": 0,
          "y1": 193
         },
         {
          "layer": "below",
          "line": {
           "color": "grey",
           "width": 2
          },
          "type": "line",
          "x0": "2022-03-30T18:38:35",
          "x1": "2022-03-30T18:38:35",
          "y0": 0,
          "y1": 100
         },
         {
          "layer": "below",
          "line": {
           "color": "grey",
           "width": 2
          },
          "type": "line",
          "x0": "2022-03-30T18:57:29",
          "x1": "2022-03-30T18:57:29",
          "y0": 0,
          "y1": 0
         },
         {
          "layer": "below",
          "line": {
           "color": "grey",
           "width": 2
          },
          "type": "line",
          "x0": "2022-03-30T19:27:43",
          "x1": "2022-03-30T19:27:43",
          "y0": 0,
          "y1": 65
         },
         {
          "layer": "below",
          "line": {
           "color": "grey",
           "width": 2
          },
          "type": "line",
          "x0": "2022-03-30T19:39:58",
          "x1": "2022-03-30T19:39:58",
          "y0": 0,
          "y1": 494
         },
         {
          "layer": "below",
          "line": {
           "color": "grey",
           "width": 2
          },
          "type": "line",
          "x0": "2022-03-30T20:27:39",
          "x1": "2022-03-30T20:27:39",
          "y0": 0,
          "y1": 129
         },
         {
          "layer": "below",
          "line": {
           "color": "grey",
           "width": 2
          },
          "type": "line",
          "x0": "2022-03-30T22:49:35",
          "x1": "2022-03-30T22:49:35",
          "y0": 0,
          "y1": 39
         },
         {
          "layer": "below",
          "line": {
           "color": "grey",
           "width": 2
          },
          "type": "line",
          "x0": "2022-03-31T18:26:49",
          "x1": "2022-03-31T18:26:49",
          "y0": 0,
          "y1": 42
         },
         {
          "layer": "below",
          "line": {
           "color": "grey",
           "width": 2
          },
          "type": "line",
          "x0": "2022-03-31T18:58:58",
          "x1": "2022-03-31T18:58:58",
          "y0": 0,
          "y1": 165
         },
         {
          "layer": "below",
          "line": {
           "color": "grey",
           "width": 2
          },
          "type": "line",
          "x0": "2022-03-31T19:10:13",
          "x1": "2022-03-31T19:10:13",
          "y0": 0,
          "y1": 395
         },
         {
          "layer": "below",
          "line": {
           "color": "grey",
           "width": 2
          },
          "type": "line",
          "x0": "2022-03-31T19:56:24",
          "x1": "2022-03-31T19:56:24",
          "y0": 0,
          "y1": 91
         },
         {
          "layer": "below",
          "line": {
           "color": "grey",
           "width": 2
          },
          "type": "line",
          "x0": "2022-03-31T20:09:25",
          "x1": "2022-03-31T20:09:25",
          "y0": 0,
          "y1": 201
         },
         {
          "layer": "below",
          "line": {
           "color": "grey",
           "width": 2
          },
          "type": "line",
          "x0": "2022-03-31T22:44:27",
          "x1": "2022-03-31T22:44:27",
          "y0": 0,
          "y1": 230
         },
         {
          "layer": "below",
          "line": {
           "color": "grey",
           "width": 2
          },
          "type": "line",
          "x0": "2022-04-01T18:42:43",
          "x1": "2022-04-01T18:42:43",
          "y0": 0,
          "y1": 165
         },
         {
          "layer": "below",
          "line": {
           "color": "grey",
           "width": 2
          },
          "type": "line",
          "x0": "2022-04-01T19:39:01",
          "x1": "2022-04-01T19:39:01",
          "y0": 0,
          "y1": 446
         },
         {
          "layer": "below",
          "line": {
           "color": "grey",
           "width": 2
          },
          "type": "line",
          "x0": "2022-03-14T19:26:48",
          "x1": "2022-03-14T19:26:48",
          "y0": 0,
          "y1": 0
         },
         {
          "layer": "below",
          "line": {
           "color": "grey",
           "width": 2
          },
          "type": "line",
          "x0": "2022-03-14T19:56:42",
          "x1": "2022-03-14T19:56:42",
          "y0": 0,
          "y1": 0
         },
         {
          "layer": "below",
          "line": {
           "color": "grey",
           "width": 2
          },
          "type": "line",
          "x0": "2022-03-14T20:25:43",
          "x1": "2022-03-14T20:25:43",
          "y0": 0,
          "y1": 23
         },
         {
          "layer": "below",
          "line": {
           "color": "grey",
           "width": 2
          },
          "type": "line",
          "x0": "2022-03-14T20:41:18",
          "x1": "2022-03-14T20:41:18",
          "y0": 0,
          "y1": 23
         },
         {
          "layer": "below",
          "line": {
           "color": "grey",
           "width": 2
          },
          "type": "line",
          "x0": "2022-03-14T20:56:28",
          "x1": "2022-03-14T20:56:28",
          "y0": 0,
          "y1": 23
         },
         {
          "layer": "below",
          "line": {
           "color": "grey",
           "width": 2
          },
          "type": "line",
          "x0": "2022-03-15T18:56:12",
          "x1": "2022-03-15T18:56:12",
          "y0": 0,
          "y1": 0
         },
         {
          "layer": "below",
          "line": {
           "color": "grey",
           "width": 2
          },
          "type": "line",
          "x0": "2022-03-15T19:27:11",
          "x1": "2022-03-15T19:27:11",
          "y0": 0,
          "y1": 0
         },
         {
          "layer": "below",
          "line": {
           "color": "grey",
           "width": 2
          },
          "type": "line",
          "x0": "2022-03-15T20:15:29",
          "x1": "2022-03-15T20:15:29",
          "y0": 0,
          "y1": 31
         },
         {
          "layer": "below",
          "line": {
           "color": "grey",
           "width": 2
          },
          "type": "line",
          "x0": "2022-03-15T20:58:21",
          "x1": "2022-03-15T20:58:21",
          "y0": 0,
          "y1": 31
         },
         {
          "layer": "below",
          "line": {
           "color": "grey",
           "width": 2
          },
          "type": "line",
          "x0": "2022-03-15T22:28:24",
          "x1": "2022-03-15T22:28:24",
          "y0": 0,
          "y1": 0
         },
         {
          "layer": "below",
          "line": {
           "color": "grey",
           "width": 2
          },
          "type": "line",
          "x0": "2022-03-16T19:28:16",
          "x1": "2022-03-16T19:28:16",
          "y0": 0,
          "y1": 0
         },
         {
          "layer": "below",
          "line": {
           "color": "grey",
           "width": 2
          },
          "type": "line",
          "x0": "2022-03-16T19:46:49",
          "x1": "2022-03-16T19:46:49",
          "y0": 0,
          "y1": 0
         },
         {
          "layer": "below",
          "line": {
           "color": "grey",
           "width": 2
          },
          "type": "line",
          "x0": "2022-03-16T19:56:09",
          "x1": "2022-03-16T19:56:09",
          "y0": 0,
          "y1": 0
         },
         {
          "layer": "below",
          "line": {
           "color": "grey",
           "width": 2
          },
          "type": "line",
          "x0": "2022-03-16T20:26:01",
          "x1": "2022-03-16T20:26:01",
          "y0": 0,
          "y1": 0
         },
         {
          "layer": "below",
          "line": {
           "color": "grey",
           "width": 2
          },
          "type": "line",
          "x0": "2022-03-16T20:42:48",
          "x1": "2022-03-16T20:42:48",
          "y0": 0,
          "y1": 0
         },
         {
          "layer": "below",
          "line": {
           "color": "grey",
           "width": 2
          },
          "type": "line",
          "x0": "2022-03-16T20:56:06",
          "x1": "2022-03-16T20:56:06",
          "y0": 0,
          "y1": 0
         },
         {
          "layer": "below",
          "line": {
           "color": "grey",
           "width": 2
          },
          "type": "line",
          "x0": "2022-03-16T23:13:19",
          "x1": "2022-03-16T23:13:19",
          "y0": 0,
          "y1": 0
         },
         {
          "layer": "below",
          "line": {
           "color": "grey",
           "width": 2
          },
          "type": "line",
          "x0": "2022-03-17T19:42:08",
          "x1": "2022-03-17T19:42:08",
          "y0": 0,
          "y1": 0
         },
         {
          "layer": "below",
          "line": {
           "color": "grey",
           "width": 2
          },
          "type": "line",
          "x0": "2022-03-17T20:09:51",
          "x1": "2022-03-17T20:09:51",
          "y0": 0,
          "y1": 0
         },
         {
          "layer": "below",
          "line": {
           "color": "grey",
           "width": 2
          },
          "type": "line",
          "x0": "2022-03-17T20:45:31",
          "x1": "2022-03-17T20:45:31",
          "y0": 0,
          "y1": 0
         },
         {
          "layer": "below",
          "line": {
           "color": "grey",
           "width": 2
          },
          "type": "line",
          "x0": "2022-03-17T21:09:37",
          "x1": "2022-03-17T21:09:37",
          "y0": 0,
          "y1": 0
         },
         {
          "layer": "below",
          "line": {
           "color": "grey",
           "width": 2
          },
          "type": "line",
          "x0": "2022-03-17T21:25:32",
          "x1": "2022-03-17T21:25:32",
          "y0": 0,
          "y1": 0
         },
         {
          "layer": "below",
          "line": {
           "color": "grey",
           "width": 2
          },
          "type": "line",
          "x0": "2022-03-17T23:20:23",
          "x1": "2022-03-17T23:20:23",
          "y0": 0,
          "y1": 0
         },
         {
          "layer": "below",
          "line": {
           "color": "grey",
           "width": 2
          },
          "type": "line",
          "x0": "2022-03-18T21:08:45",
          "x1": "2022-03-18T21:08:45",
          "y0": 0,
          "y1": 0
         },
         {
          "layer": "below",
          "line": {
           "color": "grey",
           "width": 2
          },
          "type": "line",
          "x0": "2022-03-19T12:47:28",
          "x1": "2022-03-19T12:47:28",
          "y0": 0,
          "y1": 0
         },
         {
          "layer": "below",
          "line": {
           "color": "grey",
           "width": 2
          },
          "type": "line",
          "x0": "2022-03-19T22:56:14",
          "x1": "2022-03-19T22:56:14",
          "y0": 0,
          "y1": 0
         },
         {
          "layer": "below",
          "line": {
           "color": "grey",
           "width": 2
          },
          "type": "line",
          "x0": "2022-03-19T23:21:16",
          "x1": "2022-03-19T23:21:16",
          "y0": 0,
          "y1": 44
         },
         {
          "layer": "below",
          "line": {
           "color": "grey",
           "width": 2
          },
          "type": "line",
          "x0": "2022-03-20T19:06:53",
          "x1": "2022-03-20T19:06:53",
          "y0": 0,
          "y1": 0
         },
         {
          "layer": "below",
          "line": {
           "color": "grey",
           "width": 2
          },
          "type": "line",
          "x0": "2022-03-20T19:37:17",
          "x1": "2022-03-20T19:37:17",
          "y0": 0,
          "y1": 0
         },
         {
          "layer": "below",
          "line": {
           "color": "grey",
           "width": 2
          },
          "type": "line",
          "x0": "2022-03-20T21:29:29",
          "x1": "2022-03-20T21:29:29",
          "y0": 0,
          "y1": 88
         },
         {
          "layer": "below",
          "line": {
           "color": "grey",
           "width": 2
          },
          "type": "line",
          "x0": "2022-03-21T18:42:15",
          "x1": "2022-03-21T18:42:15",
          "y0": 0,
          "y1": 0
         },
         {
          "layer": "below",
          "line": {
           "color": "grey",
           "width": 2
          },
          "type": "line",
          "x0": "2022-03-21T19:26:11",
          "x1": "2022-03-21T19:26:11",
          "y0": 0,
          "y1": 0
         },
         {
          "layer": "below",
          "line": {
           "color": "grey",
           "width": 2
          },
          "type": "line",
          "x0": "2022-03-21T19:38:27",
          "x1": "2022-03-21T19:38:27",
          "y0": 0,
          "y1": 0
         },
         {
          "layer": "below",
          "line": {
           "color": "grey",
           "width": 2
          },
          "type": "line",
          "x0": "2022-03-21T19:58:08",
          "x1": "2022-03-21T19:58:08",
          "y0": 0,
          "y1": 0
         },
         {
          "layer": "below",
          "line": {
           "color": "grey",
           "width": 2
          },
          "type": "line",
          "x0": "2022-03-21T20:26:30",
          "x1": "2022-03-21T20:26:30",
          "y0": 0,
          "y1": 0
         },
         {
          "layer": "below",
          "line": {
           "color": "grey",
           "width": 2
          },
          "type": "line",
          "x0": "2022-03-21T20:43:23",
          "x1": "2022-03-21T20:43:23",
          "y0": 0,
          "y1": 0
         },
         {
          "layer": "below",
          "line": {
           "color": "grey",
           "width": 2
          },
          "type": "line",
          "x0": "2022-03-21T20:57:26",
          "x1": "2022-03-21T20:57:26",
          "y0": 0,
          "y1": 0
         },
         {
          "layer": "below",
          "line": {
           "color": "grey",
           "width": 2
          },
          "type": "line",
          "x0": "2022-03-22T18:58:24",
          "x1": "2022-03-22T18:58:24",
          "y0": 0,
          "y1": 0
         },
         {
          "layer": "below",
          "line": {
           "color": "grey",
           "width": 2
          },
          "type": "line",
          "x0": "2022-03-22T19:25:59",
          "x1": "2022-03-22T19:25:59",
          "y0": 0,
          "y1": 0
         },
         {
          "layer": "below",
          "line": {
           "color": "grey",
           "width": 2
          },
          "type": "line",
          "x0": "2022-03-22T20:42:22",
          "x1": "2022-03-22T20:42:22",
          "y0": 0,
          "y1": 0
         },
         {
          "layer": "below",
          "line": {
           "color": "grey",
           "width": 2
          },
          "type": "line",
          "x0": "2022-03-23T19:57:46",
          "x1": "2022-03-23T19:57:46",
          "y0": 0,
          "y1": 0
         },
         {
          "layer": "below",
          "line": {
           "color": "grey",
           "width": 2
          },
          "type": "line",
          "x0": "2022-03-23T20:39:24",
          "x1": "2022-03-23T20:39:24",
          "y0": 0,
          "y1": 0
         },
         {
          "layer": "below",
          "line": {
           "color": "grey",
           "width": 2
          },
          "type": "line",
          "x0": "2022-03-24T19:41:46",
          "x1": "2022-03-24T19:41:46",
          "y0": 0,
          "y1": 0
         },
         {
          "layer": "below",
          "line": {
           "color": "grey",
           "width": 2
          },
          "type": "line",
          "x0": "2022-03-24T20:44:58",
          "x1": "2022-03-24T20:44:58",
          "y0": 0,
          "y1": 0
         },
         {
          "layer": "below",
          "line": {
           "color": "grey",
           "width": 2
          },
          "type": "line",
          "x0": "2022-03-24T21:11:37",
          "x1": "2022-03-24T21:11:37",
          "y0": 0,
          "y1": 0
         },
         {
          "layer": "below",
          "line": {
           "color": "grey",
           "width": 2
          },
          "type": "line",
          "x0": "2022-03-24T21:43:12",
          "x1": "2022-03-24T21:43:12",
          "y0": 0,
          "y1": 0
         },
         {
          "layer": "below",
          "line": {
           "color": "grey",
           "width": 2
          },
          "type": "line",
          "x0": "2022-03-24T22:57:35",
          "x1": "2022-03-24T22:57:35",
          "y0": 0,
          "y1": 0
         },
         {
          "layer": "below",
          "line": {
           "color": "grey",
           "width": 2
          },
          "type": "line",
          "x0": "2022-03-25T15:56:57",
          "x1": "2022-03-25T15:56:57",
          "y0": 0,
          "y1": 0
         },
         {
          "layer": "below",
          "line": {
           "color": "grey",
           "width": 2
          },
          "type": "line",
          "x0": "2022-03-25T18:26:57",
          "x1": "2022-03-25T18:26:57",
          "y0": 0,
          "y1": 0
         },
         {
          "layer": "below",
          "line": {
           "color": "grey",
           "width": 2
          },
          "type": "line",
          "x0": "2022-03-25T20:09:55",
          "x1": "2022-03-25T20:09:55",
          "y0": 0,
          "y1": 0
         },
         {
          "layer": "below",
          "line": {
           "color": "grey",
           "width": 2
          },
          "type": "line",
          "x0": "2022-03-25T20:39:20",
          "x1": "2022-03-25T20:39:20",
          "y0": 0,
          "y1": 0
         },
         {
          "layer": "below",
          "line": {
           "color": "grey",
           "width": 2
          },
          "type": "line",
          "x0": "2022-03-25T21:09:19",
          "x1": "2022-03-25T21:09:19",
          "y0": 0,
          "y1": 0
         },
         {
          "layer": "below",
          "line": {
           "color": "grey",
           "width": 2
          },
          "type": "line",
          "x0": "2022-03-25T21:41:07",
          "x1": "2022-03-25T21:41:07",
          "y0": 0,
          "y1": 0
         },
         {
          "layer": "below",
          "line": {
           "color": "grey",
           "width": 2
          },
          "type": "line",
          "x0": "2022-03-25T22:28:16",
          "x1": "2022-03-25T22:28:16",
          "y0": 0,
          "y1": 61
         },
         {
          "layer": "below",
          "line": {
           "color": "grey",
           "width": 2
          },
          "type": "line",
          "x0": "2022-03-25T23:15:26",
          "x1": "2022-03-25T23:15:26",
          "y0": 0,
          "y1": 61
         },
         {
          "layer": "below",
          "line": {
           "color": "grey",
           "width": 2
          },
          "type": "line",
          "x0": "2022-03-26T00:14:58",
          "x1": "2022-03-26T00:14:58",
          "y0": 0,
          "y1": 61
         },
         {
          "layer": "below",
          "line": {
           "color": "grey",
           "width": 2
          },
          "type": "line",
          "x0": "2022-03-26T00:45:41",
          "x1": "2022-03-26T00:45:41",
          "y0": 0,
          "y1": 61
         },
         {
          "layer": "below",
          "line": {
           "color": "grey",
           "width": 2
          },
          "type": "line",
          "x0": "2022-03-26T21:12:47",
          "x1": "2022-03-26T21:12:47",
          "y0": 0,
          "y1": 0
         },
         {
          "layer": "below",
          "line": {
           "color": "grey",
           "width": 2
          },
          "type": "line",
          "x0": "2022-03-26T23:19:54",
          "x1": "2022-03-26T23:19:54",
          "y0": 0,
          "y1": 0
         },
         {
          "layer": "below",
          "line": {
           "color": "grey",
           "width": 2
          },
          "type": "line",
          "x0": "2022-03-26T23:41:37",
          "x1": "2022-03-26T23:41:37",
          "y0": 0,
          "y1": 0
         },
         {
          "layer": "below",
          "line": {
           "color": "grey",
           "width": 2
          },
          "type": "line",
          "x0": "2022-03-27T00:19:07",
          "x1": "2022-03-27T00:19:07",
          "y0": 0,
          "y1": 0
         },
         {
          "layer": "below",
          "line": {
           "color": "grey",
           "width": 2
          },
          "type": "line",
          "x0": "2022-03-27T10:39:54",
          "x1": "2022-03-27T10:39:54",
          "y0": 0,
          "y1": 0
         },
         {
          "layer": "below",
          "line": {
           "color": "grey",
           "width": 2
          },
          "type": "line",
          "x0": "2022-03-27T19:08:37",
          "x1": "2022-03-27T19:08:37",
          "y0": 0,
          "y1": 0
         },
         {
          "layer": "below",
          "line": {
           "color": "grey",
           "width": 2
          },
          "type": "line",
          "x0": "2022-03-27T19:56:21",
          "x1": "2022-03-27T19:56:21",
          "y0": 0,
          "y1": 0
         },
         {
          "layer": "below",
          "line": {
           "color": "grey",
           "width": 2
          },
          "type": "line",
          "x0": "2022-03-27T20:28:04",
          "x1": "2022-03-27T20:28:04",
          "y0": 0,
          "y1": 0
         },
         {
          "layer": "below",
          "line": {
           "color": "grey",
           "width": 2
          },
          "type": "line",
          "x0": "2022-03-27T21:14:41",
          "x1": "2022-03-27T21:14:41",
          "y0": 0,
          "y1": 0
         },
         {
          "layer": "below",
          "line": {
           "color": "grey",
           "width": 2
          },
          "type": "line",
          "x0": "2022-03-27T21:37:07",
          "x1": "2022-03-27T21:37:07",
          "y0": 0,
          "y1": 103
         },
         {
          "layer": "below",
          "line": {
           "color": "grey",
           "width": 2
          },
          "type": "line",
          "x0": "2022-03-28T19:29:02",
          "x1": "2022-03-28T19:29:02",
          "y0": 0,
          "y1": 0
         },
         {
          "layer": "below",
          "line": {
           "color": "grey",
           "width": 2
          },
          "type": "line",
          "x0": "2022-03-28T19:39:59",
          "x1": "2022-03-28T19:39:59",
          "y0": 0,
          "y1": 0
         },
         {
          "layer": "below",
          "line": {
           "color": "grey",
           "width": 2
          },
          "type": "line",
          "x0": "2022-03-28T19:56:43",
          "x1": "2022-03-28T19:56:43",
          "y0": 0,
          "y1": 0
         },
         {
          "layer": "below",
          "line": {
           "color": "grey",
           "width": 2
          },
          "type": "line",
          "x0": "2022-03-28T20:26:27",
          "x1": "2022-03-28T20:26:27",
          "y0": 0,
          "y1": 0
         },
         {
          "layer": "below",
          "line": {
           "color": "grey",
           "width": 2
          },
          "type": "line",
          "x0": "2022-03-28T20:56:26",
          "x1": "2022-03-28T20:56:26",
          "y0": 0,
          "y1": 0
         },
         {
          "layer": "below",
          "line": {
           "color": "grey",
           "width": 2
          },
          "type": "line",
          "x0": "2022-03-28T21:30:39",
          "x1": "2022-03-28T21:30:39",
          "y0": 0,
          "y1": 0
         },
         {
          "layer": "below",
          "line": {
           "color": "grey",
           "width": 2
          },
          "type": "line",
          "x0": "2022-03-28T23:14:39",
          "x1": "2022-03-28T23:14:39",
          "y0": 0,
          "y1": 0
         },
         {
          "layer": "below",
          "line": {
           "color": "grey",
           "width": 2
          },
          "type": "line",
          "x0": "2022-03-29T18:56:29",
          "x1": "2022-03-29T18:56:29",
          "y0": 0,
          "y1": 0
         },
         {
          "layer": "below",
          "line": {
           "color": "grey",
           "width": 2
          },
          "type": "line",
          "x0": "2022-03-29T20:26:18",
          "x1": "2022-03-29T20:26:18",
          "y0": 0,
          "y1": 0
         },
         {
          "layer": "below",
          "line": {
           "color": "grey",
           "width": 2
          },
          "type": "line",
          "x0": "2022-03-29T20:56:27",
          "x1": "2022-03-29T20:56:27",
          "y0": 0,
          "y1": 0
         },
         {
          "layer": "below",
          "line": {
           "color": "grey",
           "width": 2
          },
          "type": "line",
          "x0": "2022-03-29T22:11:06",
          "x1": "2022-03-29T22:11:06",
          "y0": 0,
          "y1": 0
         },
         {
          "layer": "below",
          "line": {
           "color": "grey",
           "width": 2
          },
          "type": "line",
          "x0": "2022-03-29T23:24:42",
          "x1": "2022-03-29T23:24:42",
          "y0": 0,
          "y1": 0
         },
         {
          "layer": "below",
          "line": {
           "color": "grey",
           "width": 2
          },
          "type": "line",
          "x0": "2022-03-29T23:49:53",
          "x1": "2022-03-29T23:49:53",
          "y0": 0,
          "y1": 0
         },
         {
          "layer": "below",
          "line": {
           "color": "grey",
           "width": 2
          },
          "type": "line",
          "x0": "2022-03-30T00:31:52",
          "x1": "2022-03-30T00:31:52",
          "y0": 0,
          "y1": 0
         },
         {
          "layer": "below",
          "line": {
           "color": "grey",
           "width": 2
          },
          "type": "line",
          "x0": "2022-03-30T19:28:09",
          "x1": "2022-03-30T19:28:09",
          "y0": 0,
          "y1": 0
         },
         {
          "layer": "below",
          "line": {
           "color": "grey",
           "width": 2
          },
          "type": "line",
          "x0": "2022-03-30T19:38:35",
          "x1": "2022-03-30T19:38:35",
          "y0": 0,
          "y1": 0
         },
         {
          "layer": "below",
          "line": {
           "color": "grey",
           "width": 2
          },
          "type": "line",
          "x0": "2022-03-30T19:57:29",
          "x1": "2022-03-30T19:57:29",
          "y0": 0,
          "y1": 0
         },
         {
          "layer": "below",
          "line": {
           "color": "grey",
           "width": 2
          },
          "type": "line",
          "x0": "2022-03-30T20:27:43",
          "x1": "2022-03-30T20:27:43",
          "y0": 0,
          "y1": 0
         },
         {
          "layer": "below",
          "line": {
           "color": "grey",
           "width": 2
          },
          "type": "line",
          "x0": "2022-03-30T20:39:58",
          "x1": "2022-03-30T20:39:58",
          "y0": 0,
          "y1": 0
         },
         {
          "layer": "below",
          "line": {
           "color": "grey",
           "width": 2
          },
          "type": "line",
          "x0": "2022-03-30T21:27:39",
          "x1": "2022-03-30T21:27:39",
          "y0": 0,
          "y1": 0
         },
         {
          "layer": "below",
          "line": {
           "color": "grey",
           "width": 2
          },
          "type": "line",
          "x0": "2022-03-30T23:49:35",
          "x1": "2022-03-30T23:49:35",
          "y0": 0,
          "y1": 56
         },
         {
          "layer": "below",
          "line": {
           "color": "grey",
           "width": 2
          },
          "type": "line",
          "x0": "2022-03-31T19:26:49",
          "x1": "2022-03-31T19:26:49",
          "y0": 0,
          "y1": 0
         },
         {
          "layer": "below",
          "line": {
           "color": "grey",
           "width": 2
          },
          "type": "line",
          "x0": "2022-03-31T19:58:58",
          "x1": "2022-03-31T19:58:58",
          "y0": 0,
          "y1": 0
         },
         {
          "layer": "below",
          "line": {
           "color": "grey",
           "width": 2
          },
          "type": "line",
          "x0": "2022-03-31T20:10:13",
          "x1": "2022-03-31T20:10:13",
          "y0": 0,
          "y1": 0
         },
         {
          "layer": "below",
          "line": {
           "color": "grey",
           "width": 2
          },
          "type": "line",
          "x0": "2022-03-31T20:56:24",
          "x1": "2022-03-31T20:56:24",
          "y0": 0,
          "y1": 0
         },
         {
          "layer": "below",
          "line": {
           "color": "grey",
           "width": 2
          },
          "type": "line",
          "x0": "2022-03-31T21:09:25",
          "x1": "2022-03-31T21:09:25",
          "y0": 0,
          "y1": 0
         },
         {
          "layer": "below",
          "line": {
           "color": "grey",
           "width": 2
          },
          "type": "line",
          "x0": "2022-03-31T23:44:27",
          "x1": "2022-03-31T23:44:27",
          "y0": 0,
          "y1": 48
         },
         {
          "layer": "below",
          "line": {
           "color": "grey",
           "width": 2
          },
          "type": "line",
          "x0": "2022-04-01T19:42:43",
          "x1": "2022-04-01T19:42:43",
          "y0": 0,
          "y1": 0
         },
         {
          "layer": "below",
          "line": {
           "color": "grey",
           "width": 2
          },
          "type": "line",
          "x0": "2022-04-01T20:39:01",
          "x1": "2022-04-01T20:39:01",
          "y0": 0,
          "y1": 0
         },
         {
          "layer": "below",
          "line": {
           "color": "grey",
           "width": 2
          },
          "type": "line",
          "x0": "2022-03-18T07:25:42",
          "x1": "2022-03-18T07:25:42",
          "y0": 0,
          "y1": 0
         },
         {
          "layer": "below",
          "line": {
           "color": "grey",
           "width": 2
          },
          "type": "line",
          "x0": "2022-03-18T08:14:49",
          "x1": "2022-03-18T08:14:49",
          "y0": 0,
          "y1": 0
         },
         {
          "layer": "below",
          "line": {
           "color": "grey",
           "width": 2
          },
          "type": "line",
          "x0": "2022-03-18T21:33:00",
          "x1": "2022-03-18T21:33:00",
          "y0": 0,
          "y1": 0
         },
         {
          "layer": "below",
          "line": {
           "color": "grey",
           "width": 2
          },
          "type": "line",
          "x0": "2022-03-19T00:25:27",
          "x1": "2022-03-19T00:25:27",
          "y0": 0,
          "y1": 0
         },
         {
          "layer": "below",
          "line": {
           "color": "grey",
           "width": 2
          },
          "type": "line",
          "x0": "2022-03-19T05:55:02",
          "x1": "2022-03-19T05:55:02",
          "y0": 0,
          "y1": 0
         },
         {
          "layer": "below",
          "line": {
           "color": "grey",
           "width": 2
          },
          "type": "line",
          "x0": "2022-03-20T17:19:42",
          "x1": "2022-03-20T17:19:42",
          "y0": 0,
          "y1": 0
         },
         {
          "layer": "below",
          "line": {
           "color": "grey",
           "width": 2
          },
          "type": "line",
          "x0": "2022-03-20T19:21:57",
          "x1": "2022-03-20T19:21:57",
          "y0": 0,
          "y1": 0
         },
         {
          "layer": "below",
          "line": {
           "color": "grey",
           "width": 2
          },
          "type": "line",
          "x0": "2022-03-22T05:09:43",
          "x1": "2022-03-22T05:09:43",
          "y0": 0,
          "y1": 0
         },
         {
          "layer": "below",
          "line": {
           "color": "grey",
           "width": 2
          },
          "type": "line",
          "x0": "2022-03-24T00:10:58",
          "x1": "2022-03-24T00:10:58",
          "y0": 0,
          "y1": 0
         },
         {
          "layer": "below",
          "line": {
           "color": "grey",
           "width": 2
          },
          "type": "line",
          "x0": "2022-03-24T04:58:30",
          "x1": "2022-03-24T04:58:30",
          "y0": 0,
          "y1": 0
         },
         {
          "layer": "below",
          "line": {
           "color": "grey",
           "width": 2
          },
          "type": "line",
          "x0": "2022-03-24T05:09:23",
          "x1": "2022-03-24T05:09:23",
          "y0": 0,
          "y1": 0
         },
         {
          "layer": "below",
          "line": {
           "color": "grey",
           "width": 2
          },
          "type": "line",
          "x0": "2022-03-25T12:55:28",
          "x1": "2022-03-25T12:55:28",
          "y0": 0,
          "y1": 0
         },
         {
          "layer": "below",
          "line": {
           "color": "grey",
           "width": 2
          },
          "type": "line",
          "x0": "2022-03-25T21:48:21",
          "x1": "2022-03-25T21:48:21",
          "y0": 0,
          "y1": 0
         },
         {
          "layer": "below",
          "line": {
           "color": "grey",
           "width": 2
          },
          "type": "line",
          "x0": "2022-03-25T22:02:00",
          "x1": "2022-03-25T22:02:00",
          "y0": 0,
          "y1": 0
         },
         {
          "layer": "below",
          "line": {
           "color": "grey",
           "width": 2
          },
          "type": "line",
          "x0": "2022-03-26T00:43:19",
          "x1": "2022-03-26T00:43:19",
          "y0": 0,
          "y1": 0
         },
         {
          "layer": "below",
          "line": {
           "color": "grey",
           "width": 2
          },
          "type": "line",
          "x0": "2022-03-26T02:58:15",
          "x1": "2022-03-26T02:58:15",
          "y0": 0,
          "y1": 0
         },
         {
          "layer": "below",
          "line": {
           "color": "grey",
           "width": 2
          },
          "type": "line",
          "x0": "2022-03-26T03:29:15",
          "x1": "2022-03-26T03:29:15",
          "y0": 0,
          "y1": 0
         },
         {
          "layer": "below",
          "line": {
           "color": "grey",
           "width": 2
          },
          "type": "line",
          "x0": "2022-03-27T10:25:11",
          "x1": "2022-03-27T10:25:11",
          "y0": 0,
          "y1": 0
         },
         {
          "layer": "below",
          "line": {
           "color": "grey",
           "width": 2
          },
          "type": "line",
          "x0": "2022-03-27T15:04:49",
          "x1": "2022-03-27T15:04:49",
          "y0": 0,
          "y1": 0
         },
         {
          "layer": "below",
          "line": {
           "color": "grey",
           "width": 2
          },
          "type": "line",
          "x0": "2022-03-27T17:45:54",
          "x1": "2022-03-27T17:45:54",
          "y0": 0,
          "y1": 0
         },
         {
          "layer": "below",
          "line": {
           "color": "grey",
           "width": 2
          },
          "type": "line",
          "x0": "2022-03-28T03:04:56",
          "x1": "2022-03-28T03:04:56",
          "y0": 0,
          "y1": 0
         },
         {
          "layer": "below",
          "line": {
           "color": "grey",
           "width": 2
          },
          "type": "line",
          "x0": "2022-03-28T18:15:24",
          "x1": "2022-03-28T18:15:24",
          "y0": 0,
          "y1": 0
         },
         {
          "layer": "below",
          "line": {
           "color": "grey",
           "width": 2
          },
          "type": "line",
          "x0": "2022-03-29T03:14:20",
          "x1": "2022-03-29T03:14:20",
          "y0": 0,
          "y1": 0
         },
         {
          "layer": "below",
          "line": {
           "color": "grey",
           "width": 2
          },
          "type": "line",
          "x0": "2022-03-29T03:26:41",
          "x1": "2022-03-29T03:26:41",
          "y0": 0,
          "y1": 0
         },
         {
          "layer": "below",
          "line": {
           "color": "grey",
           "width": 2
          },
          "type": "line",
          "x0": "2022-03-30T21:28:25",
          "x1": "2022-03-30T21:28:25",
          "y0": 0,
          "y1": 0
         },
         {
          "layer": "below",
          "line": {
           "color": "grey",
           "width": 2
          },
          "type": "line",
          "x0": "2022-03-31T05:05:41",
          "x1": "2022-03-31T05:05:41",
          "y0": 0,
          "y1": 0
         },
         {
          "layer": "below",
          "line": {
           "color": "grey",
           "width": 2
          },
          "type": "line",
          "x0": "2022-03-31T06:31:32",
          "x1": "2022-03-31T06:31:32",
          "y0": 0,
          "y1": 0
         },
         {
          "layer": "below",
          "line": {
           "color": "grey",
           "width": 2
          },
          "type": "line",
          "x0": "2022-03-31T12:16:29",
          "x1": "2022-03-31T12:16:29",
          "y0": 0,
          "y1": 0
         },
         {
          "layer": "below",
          "line": {
           "color": "grey",
           "width": 2
          },
          "type": "line",
          "x0": "2022-03-31T13:15:20",
          "x1": "2022-03-31T13:15:20",
          "y0": 0,
          "y1": 63
         },
         {
          "layer": "below",
          "line": {
           "color": "grey",
           "width": 2
          },
          "type": "line",
          "x0": "2022-03-31T14:12:09",
          "x1": "2022-03-31T14:12:09",
          "y0": 0,
          "y1": 0
         },
         {
          "layer": "below",
          "line": {
           "color": "grey",
           "width": 2
          },
          "type": "line",
          "x0": "2022-03-31T19:59:08",
          "x1": "2022-03-31T19:59:08",
          "y0": 0,
          "y1": 597
         },
         {
          "layer": "below",
          "line": {
           "color": "grey",
           "width": 2
          },
          "type": "line",
          "x0": "2022-04-01T05:28:17",
          "x1": "2022-04-01T05:28:17",
          "y0": 0,
          "y1": 0
         },
         {
          "layer": "below",
          "line": {
           "color": "grey",
           "width": 2
          },
          "type": "line",
          "x0": "2022-03-18T07:14:31",
          "x1": "2022-03-18T07:14:31",
          "y0": 0,
          "y1": 0
         },
         {
          "layer": "below",
          "line": {
           "color": "grey",
           "width": 2
          },
          "type": "line",
          "x0": "2022-03-18T16:29:00",
          "x1": "2022-03-18T16:29:00",
          "y0": 0,
          "y1": 0
         },
         {
          "layer": "below",
          "line": {
           "color": "grey",
           "width": 2
          },
          "type": "line",
          "x0": "2022-03-18T22:59:24",
          "x1": "2022-03-18T22:59:24",
          "y0": 0,
          "y1": 0
         },
         {
          "layer": "below",
          "line": {
           "color": "grey",
           "width": 2
          },
          "type": "line",
          "x0": "2022-03-19T12:18:04",
          "x1": "2022-03-19T12:18:04",
          "y0": 0,
          "y1": 89
         },
         {
          "layer": "below",
          "line": {
           "color": "grey",
           "width": 2
          },
          "type": "line",
          "x0": "2022-03-21T01:58:15",
          "x1": "2022-03-21T01:58:15",
          "y0": 0,
          "y1": 0
         },
         {
          "layer": "below",
          "line": {
           "color": "grey",
           "width": 2
          },
          "type": "line",
          "x0": "2022-03-25T21:12:11",
          "x1": "2022-03-25T21:12:11",
          "y0": 0,
          "y1": 0
         },
         {
          "layer": "below",
          "line": {
           "color": "grey",
           "width": 2
          },
          "type": "line",
          "x0": "2022-03-25T21:30:35",
          "x1": "2022-03-25T21:30:35",
          "y0": 0,
          "y1": 0
         },
         {
          "layer": "below",
          "line": {
           "color": "grey",
           "width": 2
          },
          "type": "line",
          "x0": "2022-03-26T21:19:13",
          "x1": "2022-03-26T21:19:13",
          "y0": 0,
          "y1": 0
         },
         {
          "layer": "below",
          "line": {
           "color": "grey",
           "width": 2
          },
          "type": "line",
          "x0": "2022-03-26T22:39:28",
          "x1": "2022-03-26T22:39:28",
          "y0": 0,
          "y1": 0
         },
         {
          "layer": "below",
          "line": {
           "color": "grey",
           "width": 2
          },
          "type": "line",
          "x0": "2022-03-27T00:28:01",
          "x1": "2022-03-27T00:28:01",
          "y0": 0,
          "y1": 0
         },
         {
          "layer": "below",
          "line": {
           "color": "grey",
           "width": 2
          },
          "type": "line",
          "x0": "2022-03-27T00:36:08",
          "x1": "2022-03-27T00:36:08",
          "y0": 0,
          "y1": 0
         },
         {
          "layer": "below",
          "line": {
           "color": "grey",
           "width": 2
          },
          "type": "line",
          "x0": "2022-03-27T02:38:52",
          "x1": "2022-03-27T02:38:52",
          "y0": 0,
          "y1": 0
         },
         {
          "layer": "below",
          "line": {
           "color": "grey",
           "width": 2
          },
          "type": "line",
          "x0": "2022-03-27T03:06:51",
          "x1": "2022-03-27T03:06:51",
          "y0": 0,
          "y1": 113
         },
         {
          "layer": "below",
          "line": {
           "color": "grey",
           "width": 2
          },
          "type": "line",
          "x0": "2022-03-27T20:11:45",
          "x1": "2022-03-27T20:11:45",
          "y0": 0,
          "y1": 0
         },
         {
          "layer": "below",
          "line": {
           "color": "grey",
           "width": 2
          },
          "type": "line",
          "x0": "2022-03-27T22:35:02",
          "x1": "2022-03-27T22:35:02",
          "y0": 0,
          "y1": 0
         },
         {
          "layer": "below",
          "line": {
           "color": "grey",
           "width": 2
          },
          "type": "line",
          "x0": "2022-03-28T00:20:17",
          "x1": "2022-03-28T00:20:17",
          "y0": 0,
          "y1": 62
         },
         {
          "layer": "below",
          "line": {
           "color": "grey",
           "width": 2
          },
          "type": "line",
          "x0": "2022-03-28T00:34:32",
          "x1": "2022-03-28T00:34:32",
          "y0": 0,
          "y1": 62
         },
         {
          "layer": "below",
          "line": {
           "color": "grey",
           "width": 2
          },
          "type": "line",
          "x0": "2022-03-28T01:27:10",
          "x1": "2022-03-28T01:27:10",
          "y0": 0,
          "y1": 71
         },
         {
          "layer": "below",
          "line": {
           "color": "grey",
           "width": 2
          },
          "type": "line",
          "x0": "2022-03-28T22:06:44",
          "x1": "2022-03-28T22:06:44",
          "y0": 0,
          "y1": 0
         },
         {
          "layer": "below",
          "line": {
           "color": "grey",
           "width": 2
          },
          "type": "line",
          "x0": "2022-03-29T01:09:57",
          "x1": "2022-03-29T01:09:57",
          "y0": 0,
          "y1": 0
         },
         {
          "layer": "below",
          "line": {
           "color": "grey",
           "width": 2
          },
          "type": "line",
          "x0": "2022-03-29T05:35:31",
          "x1": "2022-03-29T05:35:31",
          "y0": 0,
          "y1": 0
         },
         {
          "layer": "below",
          "line": {
           "color": "grey",
           "width": 2
          },
          "type": "line",
          "x0": "2022-03-29T05:57:42",
          "x1": "2022-03-29T05:57:42",
          "y0": 0,
          "y1": 0
         },
         {
          "layer": "below",
          "line": {
           "color": "grey",
           "width": 2
          },
          "type": "line",
          "x0": "2022-03-29T07:58:30",
          "x1": "2022-03-29T07:58:30",
          "y0": 0,
          "y1": 0
         },
         {
          "layer": "below",
          "line": {
           "color": "grey",
           "width": 2
          },
          "type": "line",
          "x0": "2022-03-31T04:59:02",
          "x1": "2022-03-31T04:59:02",
          "y0": 0,
          "y1": 0
         },
         {
          "layer": "below",
          "line": {
           "color": "grey",
           "width": 2
          },
          "type": "line",
          "x0": "2022-03-15T07:21:01",
          "x1": "2022-03-15T07:21:01",
          "y0": 0,
          "y1": 132
         },
         {
          "layer": "below",
          "line": {
           "color": "grey",
           "width": 2
          },
          "type": "line",
          "x0": "2022-03-15T12:39:22",
          "x1": "2022-03-15T12:39:22",
          "y0": 0,
          "y1": 0
         },
         {
          "layer": "below",
          "line": {
           "color": "grey",
           "width": 2
          },
          "type": "line",
          "x0": "2022-03-15T12:58:15",
          "x1": "2022-03-15T12:58:15",
          "y0": 0,
          "y1": 0
         },
         {
          "layer": "below",
          "line": {
           "color": "grey",
           "width": 2
          },
          "type": "line",
          "x0": "2022-03-15T13:15:05",
          "x1": "2022-03-15T13:15:05",
          "y0": 0,
          "y1": 99
         },
         {
          "layer": "below",
          "line": {
           "color": "grey",
           "width": 2
          },
          "type": "line",
          "x0": "2022-03-15T14:26:02",
          "x1": "2022-03-15T14:26:02",
          "y0": 0,
          "y1": 145
         },
         {
          "layer": "below",
          "line": {
           "color": "grey",
           "width": 2
          },
          "type": "line",
          "x0": "2022-03-15T15:35:05",
          "x1": "2022-03-15T15:35:05",
          "y0": 0,
          "y1": 26
         },
         {
          "layer": "below",
          "line": {
           "color": "grey",
           "width": 2
          },
          "type": "line",
          "x0": "2022-03-23T02:44:15",
          "x1": "2022-03-23T02:44:15",
          "y0": 0,
          "y1": 44
         },
         {
          "layer": "below",
          "line": {
           "color": "grey",
           "width": 2
          },
          "type": "line",
          "x0": "2022-03-15T20:09:00",
          "x1": "2022-03-15T20:09:00",
          "y0": 0,
          "y1": 0
         },
         {
          "layer": "below",
          "line": {
           "color": "grey",
           "width": 2
          },
          "type": "line",
          "x0": "2022-03-15T20:30:40",
          "x1": "2022-03-15T20:30:40",
          "y0": 0,
          "y1": 0
         },
         {
          "layer": "below",
          "line": {
           "color": "grey",
           "width": 2
          },
          "type": "line",
          "x0": "2022-03-15T21:55:09",
          "x1": "2022-03-15T21:55:09",
          "y0": 0,
          "y1": 102
         },
         {
          "layer": "below",
          "line": {
           "color": "grey",
           "width": 2
          },
          "type": "line",
          "x0": "2022-03-19T06:50:08",
          "x1": "2022-03-19T06:50:08",
          "y0": 0,
          "y1": 0
         },
         {
          "layer": "below",
          "line": {
           "color": "grey",
           "width": 2
          },
          "type": "line",
          "x0": "2022-03-19T08:06:07",
          "x1": "2022-03-19T08:06:07",
          "y0": 0,
          "y1": 62
         },
         {
          "layer": "below",
          "line": {
           "color": "grey",
           "width": 2
          },
          "type": "line",
          "x0": "2022-03-19T08:51:52",
          "x1": "2022-03-19T08:51:52",
          "y0": 0,
          "y1": 251
         },
         {
          "layer": "below",
          "line": {
           "color": "grey",
           "width": 2
          },
          "type": "line",
          "x0": "2022-03-22T10:33:23",
          "x1": "2022-03-22T10:33:23",
          "y0": 0,
          "y1": 0
         },
         {
          "layer": "below",
          "line": {
           "color": "grey",
           "width": 2
          },
          "type": "line",
          "x0": "2022-03-22T14:43:22",
          "x1": "2022-03-22T14:43:22",
          "y0": 0,
          "y1": 0
         },
         {
          "layer": "below",
          "line": {
           "color": "grey",
           "width": 2
          },
          "type": "line",
          "x0": "2022-03-22T15:21:05",
          "x1": "2022-03-22T15:21:05",
          "y0": 0,
          "y1": 0
         },
         {
          "layer": "below",
          "line": {
           "color": "grey",
           "width": 2
          },
          "type": "line",
          "x0": "2022-03-23T14:09:39",
          "x1": "2022-03-23T14:09:39",
          "y0": 0,
          "y1": 0
         },
         {
          "layer": "below",
          "line": {
           "color": "grey",
           "width": 2
          },
          "type": "line",
          "x0": "2022-03-23T14:57:30",
          "x1": "2022-03-23T14:57:30",
          "y0": 0,
          "y1": 0
         },
         {
          "layer": "below",
          "line": {
           "color": "grey",
           "width": 2
          },
          "type": "line",
          "x0": "2022-03-23T22:55:08",
          "x1": "2022-03-23T22:55:08",
          "y0": 0,
          "y1": 50
         },
         {
          "layer": "below",
          "line": {
           "color": "grey",
           "width": 2
          },
          "type": "line",
          "x0": "2022-03-23T23:42:39",
          "x1": "2022-03-23T23:42:39",
          "y0": 0,
          "y1": 50
         },
         {
          "layer": "below",
          "line": {
           "color": "grey",
           "width": 2
          },
          "type": "line",
          "x0": "2022-03-25T13:27:27",
          "x1": "2022-03-25T13:27:27",
          "y0": 0,
          "y1": 484
         },
         {
          "layer": "below",
          "line": {
           "color": "grey",
           "width": 2
          },
          "type": "line",
          "x0": "2022-03-25T16:33:39",
          "x1": "2022-03-25T16:33:39",
          "y0": 0,
          "y1": 556
         },
         {
          "layer": "below",
          "line": {
           "color": "grey",
           "width": 2
          },
          "type": "line",
          "x0": "2022-03-25T22:25:48",
          "x1": "2022-03-25T22:25:48",
          "y0": 0,
          "y1": 65
         },
         {
          "layer": "below",
          "line": {
           "color": "grey",
           "width": 2
          },
          "type": "line",
          "x0": "2022-03-26T00:19:49",
          "x1": "2022-03-26T00:19:49",
          "y0": 0,
          "y1": 0
         },
         {
          "layer": "below",
          "line": {
           "color": "grey",
           "width": 2
          },
          "type": "line",
          "x0": "2022-03-28T14:22:25",
          "x1": "2022-03-28T14:22:25",
          "y0": 0,
          "y1": 66
         },
         {
          "layer": "below",
          "line": {
           "color": "grey",
           "width": 2
          },
          "type": "line",
          "x0": "2022-03-24T19:32:18",
          "x1": "2022-03-24T19:32:18",
          "y0": 0,
          "y1": 467
         },
         {
          "layer": "below",
          "line": {
           "color": "grey",
           "width": 2
          },
          "type": "line",
          "x0": "2022-03-15T20:40:43",
          "x1": "2022-03-15T20:40:43",
          "y0": 0,
          "y1": 695
         },
         {
          "layer": "below",
          "line": {
           "color": "grey",
           "width": 2
          },
          "type": "line",
          "x0": "2022-03-15T20:50:14",
          "x1": "2022-03-15T20:50:14",
          "y0": 0,
          "y1": 1066
         },
         {
          "layer": "below",
          "line": {
           "color": "grey",
           "width": 2
          },
          "type": "line",
          "x0": "2022-03-15T21:02:37",
          "x1": "2022-03-15T21:02:37",
          "y0": 0,
          "y1": 743
         },
         {
          "layer": "below",
          "line": {
           "color": "grey",
           "width": 2
          },
          "type": "line",
          "x0": "2022-03-15T22:01:47",
          "x1": "2022-03-15T22:01:47",
          "y0": 0,
          "y1": 903
         },
         {
          "layer": "below",
          "line": {
           "color": "grey",
           "width": 2
          },
          "type": "line",
          "x0": "2022-03-16T20:49:43",
          "x1": "2022-03-16T20:49:43",
          "y0": 0,
          "y1": 336
         },
         {
          "layer": "below",
          "line": {
           "color": "grey",
           "width": 2
          },
          "type": "line",
          "x0": "2022-03-16T21:09:34",
          "x1": "2022-03-16T21:09:34",
          "y0": 0,
          "y1": 444
         },
         {
          "layer": "below",
          "line": {
           "color": "grey",
           "width": 2
          },
          "type": "line",
          "x0": "2022-03-16T21:41:55",
          "x1": "2022-03-16T21:41:55",
          "y0": 0,
          "y1": 218
         },
         {
          "layer": "below",
          "line": {
           "color": "grey",
           "width": 2
          },
          "type": "line",
          "x0": "2022-03-19T09:55:45",
          "x1": "2022-03-19T09:55:45",
          "y0": 0,
          "y1": 298
         },
         {
          "layer": "below",
          "line": {
           "color": "grey",
           "width": 2
          },
          "type": "line",
          "x0": "2022-03-20T07:56:15",
          "x1": "2022-03-20T07:56:15",
          "y0": 0,
          "y1": 199
         },
         {
          "layer": "below",
          "line": {
           "color": "grey",
           "width": 2
          },
          "type": "line",
          "x0": "2022-03-20T11:58:15",
          "x1": "2022-03-20T11:58:15",
          "y0": 0,
          "y1": 294
         },
         {
          "layer": "below",
          "line": {
           "color": "grey",
           "width": 2
          },
          "type": "line",
          "x0": "2022-03-20T13:15:10",
          "x1": "2022-03-20T13:15:10",
          "y0": 0,
          "y1": 107
         },
         {
          "layer": "below",
          "line": {
           "color": "grey",
           "width": 2
          },
          "type": "line",
          "x0": "2022-03-22T21:43:16",
          "x1": "2022-03-22T21:43:16",
          "y0": 0,
          "y1": 365
         },
         {
          "layer": "below",
          "line": {
           "color": "grey",
           "width": 2
          },
          "type": "line",
          "x0": "2022-03-16T18:11:47",
          "x1": "2022-03-16T18:11:47",
          "y0": 0,
          "y1": 107
         },
         {
          "layer": "below",
          "line": {
           "color": "grey",
           "width": 2
          },
          "type": "line",
          "x0": "2022-03-16T18:29:37",
          "x1": "2022-03-16T18:29:37",
          "y0": 0,
          "y1": 0
         },
         {
          "layer": "below",
          "line": {
           "color": "grey",
           "width": 2
          },
          "type": "line",
          "x0": "2022-03-19T08:42:30",
          "x1": "2022-03-19T08:42:30",
          "y0": 0,
          "y1": 0
         },
         {
          "layer": "below",
          "line": {
           "color": "grey",
           "width": 2
          },
          "type": "line",
          "x0": "2022-03-19T09:27:59",
          "x1": "2022-03-19T09:27:59",
          "y0": 0,
          "y1": 0
         },
         {
          "layer": "below",
          "line": {
           "color": "grey",
           "width": 2
          },
          "type": "line",
          "x0": "2022-03-19T11:19:22",
          "x1": "2022-03-19T11:19:22",
          "y0": 0,
          "y1": 162
         },
         {
          "layer": "below",
          "line": {
           "color": "grey",
           "width": 2
          },
          "type": "line",
          "x0": "2022-03-19T12:44:46",
          "x1": "2022-03-19T12:44:46",
          "y0": 0,
          "y1": 0
         },
         {
          "layer": "below",
          "line": {
           "color": "grey",
           "width": 2
          },
          "type": "line",
          "x0": "2022-03-19T14:06:36",
          "x1": "2022-03-19T14:06:36",
          "y0": 0,
          "y1": 0
         },
         {
          "layer": "below",
          "line": {
           "color": "grey",
           "width": 2
          },
          "type": "line",
          "x0": "2022-03-19T14:57:44",
          "x1": "2022-03-19T14:57:44",
          "y0": 0,
          "y1": 0
         },
         {
          "layer": "below",
          "line": {
           "color": "grey",
           "width": 2
          },
          "type": "line",
          "x0": "2022-03-19T15:17:36",
          "x1": "2022-03-19T15:17:36",
          "y0": 0,
          "y1": 0
         },
         {
          "layer": "below",
          "line": {
           "color": "grey",
           "width": 2
          },
          "type": "line",
          "x0": "2022-03-19T16:09:14",
          "x1": "2022-03-19T16:09:14",
          "y0": 0,
          "y1": 227
         },
         {
          "layer": "below",
          "line": {
           "color": "grey",
           "width": 2
          },
          "type": "line",
          "x0": "2022-03-19T16:41:27",
          "x1": "2022-03-19T16:41:27",
          "y0": 0,
          "y1": 302
         },
         {
          "layer": "below",
          "line": {
           "color": "grey",
           "width": 2
          },
          "type": "line",
          "x0": "2022-03-19T17:12:56",
          "x1": "2022-03-19T17:12:56",
          "y0": 0,
          "y1": 222
         },
         {
          "layer": "below",
          "line": {
           "color": "grey",
           "width": 2
          },
          "type": "line",
          "x0": "2022-03-19T17:57:42",
          "x1": "2022-03-19T17:57:42",
          "y0": 0,
          "y1": 0
         },
         {
          "layer": "below",
          "line": {
           "color": "grey",
           "width": 2
          },
          "type": "line",
          "x0": "2022-03-19T18:26:47",
          "x1": "2022-03-19T18:26:47",
          "y0": 0,
          "y1": 0
         },
         {
          "layer": "below",
          "line": {
           "color": "grey",
           "width": 2
          },
          "type": "line",
          "x0": "2022-03-19T19:06:10",
          "x1": "2022-03-19T19:06:10",
          "y0": 0,
          "y1": 0
         },
         {
          "layer": "below",
          "line": {
           "color": "grey",
           "width": 2
          },
          "type": "line",
          "x0": "2022-03-19T20:45:42",
          "x1": "2022-03-19T20:45:42",
          "y0": 0,
          "y1": 114
         },
         {
          "layer": "below",
          "line": {
           "color": "grey",
           "width": 2
          },
          "type": "line",
          "x0": "2022-03-19T21:08:59",
          "x1": "2022-03-19T21:08:59",
          "y0": 0,
          "y1": 0
         },
         {
          "layer": "below",
          "line": {
           "color": "grey",
           "width": 2
          },
          "type": "line",
          "x0": "2022-03-19T21:49:22",
          "x1": "2022-03-19T21:49:22",
          "y0": 0,
          "y1": 0
         },
         {
          "layer": "below",
          "line": {
           "color": "grey",
           "width": 2
          },
          "type": "line",
          "x0": "2022-03-19T23:33:08",
          "x1": "2022-03-19T23:33:08",
          "y0": 0,
          "y1": 0
         },
         {
          "layer": "below",
          "line": {
           "color": "grey",
           "width": 2
          },
          "type": "line",
          "x0": "2022-03-19T23:51:50",
          "x1": "2022-03-19T23:51:50",
          "y0": 0,
          "y1": 0
         },
         {
          "layer": "below",
          "line": {
           "color": "grey",
           "width": 2
          },
          "type": "line",
          "x0": "2022-03-20T00:05:42",
          "x1": "2022-03-20T00:05:42",
          "y0": 0,
          "y1": 0
         },
         {
          "layer": "below",
          "line": {
           "color": "grey",
           "width": 2
          },
          "type": "line",
          "x0": "2022-03-20T00:44:13",
          "x1": "2022-03-20T00:44:13",
          "y0": 0,
          "y1": 0
         },
         {
          "layer": "below",
          "line": {
           "color": "grey",
           "width": 2
          },
          "type": "line",
          "x0": "2022-03-20T10:58:05",
          "x1": "2022-03-20T10:58:05",
          "y0": 0,
          "y1": 0
         },
         {
          "layer": "below",
          "line": {
           "color": "grey",
           "width": 2
          },
          "type": "line",
          "x0": "2022-03-21T00:57:28",
          "x1": "2022-03-21T00:57:28",
          "y0": 0,
          "y1": 0
         },
         {
          "layer": "below",
          "line": {
           "color": "grey",
           "width": 2
          },
          "type": "line",
          "x0": "2022-03-21T07:12:26",
          "x1": "2022-03-21T07:12:26",
          "y0": 0,
          "y1": 0
         },
         {
          "layer": "below",
          "line": {
           "color": "grey",
           "width": 2
          },
          "type": "line",
          "x0": "2022-03-21T07:27:19",
          "x1": "2022-03-21T07:27:19",
          "y0": 0,
          "y1": 0
         },
         {
          "layer": "below",
          "line": {
           "color": "grey",
           "width": 2
          },
          "type": "line",
          "x0": "2022-03-21T21:03:16",
          "x1": "2022-03-21T21:03:16",
          "y0": 0,
          "y1": 0
         },
         {
          "layer": "below",
          "line": {
           "color": "grey",
           "width": 2
          },
          "type": "line",
          "x0": "2022-03-21T21:48:32",
          "x1": "2022-03-21T21:48:32",
          "y0": 0,
          "y1": 0
         },
         {
          "layer": "below",
          "line": {
           "color": "grey",
           "width": 2
          },
          "type": "line",
          "x0": "2022-03-21T22:27:06",
          "x1": "2022-03-21T22:27:06",
          "y0": 0,
          "y1": 0
         },
         {
          "layer": "below",
          "line": {
           "color": "grey",
           "width": 2
          },
          "type": "line",
          "x0": "2022-03-25T07:57:51",
          "x1": "2022-03-25T07:57:51",
          "y0": 0,
          "y1": 0
         },
         {
          "layer": "below",
          "line": {
           "color": "grey",
           "width": 2
          },
          "type": "line",
          "x0": "2022-03-26T08:13:24",
          "x1": "2022-03-26T08:13:24",
          "y0": 0,
          "y1": 0
         },
         {
          "layer": "below",
          "line": {
           "color": "grey",
           "width": 2
          },
          "type": "line",
          "x0": "2022-03-29T07:13:55",
          "x1": "2022-03-29T07:13:55",
          "y0": 0,
          "y1": 0
         },
         {
          "layer": "below",
          "line": {
           "color": "grey",
           "width": 2
          },
          "type": "line",
          "x0": "2022-03-29T07:28:48",
          "x1": "2022-03-29T07:28:48",
          "y0": 0,
          "y1": 0
         },
         {
          "layer": "below",
          "line": {
           "color": "grey",
           "width": 2
          },
          "type": "line",
          "x0": "2022-03-29T10:57:44",
          "x1": "2022-03-29T10:57:44",
          "y0": 0,
          "y1": 0
         },
         {
          "layer": "below",
          "line": {
           "color": "grey",
           "width": 2
          },
          "type": "line",
          "x0": "2022-03-29T12:06:36",
          "x1": "2022-03-29T12:06:36",
          "y0": 0,
          "y1": 0
         },
         {
          "layer": "below",
          "line": {
           "color": "grey",
           "width": 2
          },
          "type": "line",
          "x0": "2022-03-29T15:11:18",
          "x1": "2022-03-29T15:11:18",
          "y0": 0,
          "y1": 214
         },
         {
          "layer": "below",
          "line": {
           "color": "grey",
           "width": 2
          },
          "type": "line",
          "x0": "2022-03-29T15:24:07",
          "x1": "2022-03-29T15:24:07",
          "y0": 0,
          "y1": 274
         },
         {
          "layer": "below",
          "line": {
           "color": "grey",
           "width": 2
          },
          "type": "line",
          "x0": "2022-03-29T15:58:55",
          "x1": "2022-03-29T15:58:55",
          "y0": 0,
          "y1": 348
         },
         {
          "layer": "below",
          "line": {
           "color": "grey",
           "width": 2
          },
          "type": "line",
          "x0": "2022-03-29T17:33:52",
          "x1": "2022-03-29T17:33:52",
          "y0": 0,
          "y1": 194
         },
         {
          "layer": "below",
          "line": {
           "color": "grey",
           "width": 2
          },
          "type": "line",
          "x0": "2022-03-29T23:17:35",
          "x1": "2022-03-29T23:17:35",
          "y0": 0,
          "y1": 0
         },
         {
          "layer": "below",
          "line": {
           "color": "grey",
           "width": 2
          },
          "type": "line",
          "x0": "2022-03-29T23:31:10",
          "x1": "2022-03-29T23:31:10",
          "y0": 0,
          "y1": 0
         },
         {
          "layer": "below",
          "line": {
           "color": "grey",
           "width": 2
          },
          "type": "line",
          "x0": "2022-03-29T23:46:06",
          "x1": "2022-03-29T23:46:06",
          "y0": 0,
          "y1": 0
         },
         {
          "layer": "below",
          "line": {
           "color": "grey",
           "width": 2
          },
          "type": "line",
          "x0": "2022-03-14T17:29:26",
          "x1": "2022-03-14T17:29:26",
          "y0": 0,
          "y1": 15
         },
         {
          "layer": "below",
          "line": {
           "color": "grey",
           "width": 2
          },
          "type": "line",
          "x0": "2022-03-15T21:32:05",
          "x1": "2022-03-15T21:32:05",
          "y0": 0,
          "y1": 990
         },
         {
          "layer": "below",
          "line": {
           "color": "grey",
           "width": 2
          },
          "type": "line",
          "x0": "2022-03-16T17:42:39",
          "x1": "2022-03-16T17:42:39",
          "y0": 0,
          "y1": 0
         },
         {
          "layer": "below",
          "line": {
           "color": "grey",
           "width": 2
          },
          "type": "line",
          "x0": "2022-03-19T15:43:45",
          "x1": "2022-03-19T15:43:45",
          "y0": 0,
          "y1": 57
         },
         {
          "layer": "below",
          "line": {
           "color": "grey",
           "width": 2
          },
          "type": "line",
          "x0": "2022-03-19T16:15:58",
          "x1": "2022-03-19T16:15:58",
          "y0": 0,
          "y1": 172
         },
         {
          "layer": "below",
          "line": {
           "color": "grey",
           "width": 2
          },
          "type": "line",
          "x0": "2022-03-19T17:46:38",
          "x1": "2022-03-19T17:46:38",
          "y0": 0,
          "y1": 185
         },
         {
          "layer": "below",
          "line": {
           "color": "grey",
           "width": 2
          },
          "type": "line",
          "x0": "2022-03-19T18:40:35",
          "x1": "2022-03-19T18:40:35",
          "y0": 0,
          "y1": 136
         },
         {
          "layer": "below",
          "line": {
           "color": "grey",
           "width": 2
          },
          "type": "line",
          "x0": "2022-03-20T16:44:57",
          "x1": "2022-03-20T16:44:57",
          "y0": 0,
          "y1": 278
         },
         {
          "layer": "below",
          "line": {
           "color": "grey",
           "width": 2
          },
          "type": "line",
          "x0": "2022-03-21T19:43:59",
          "x1": "2022-03-21T19:43:59",
          "y0": 0,
          "y1": 342
         },
         {
          "layer": "below",
          "line": {
           "color": "grey",
           "width": 2
          },
          "type": "line",
          "x0": "2022-03-22T21:37:57",
          "x1": "2022-03-22T21:37:57",
          "y0": 0,
          "y1": 843
         },
         {
          "layer": "below",
          "line": {
           "color": "grey",
           "width": 2
          },
          "type": "line",
          "x0": "2022-03-25T20:44:22",
          "x1": "2022-03-25T20:44:22",
          "y0": 0,
          "y1": 1863
         },
         {
          "layer": "below",
          "line": {
           "color": "grey",
           "width": 2
          },
          "type": "line",
          "x0": "2022-03-25T21:25:06",
          "x1": "2022-03-25T21:25:06",
          "y0": 0,
          "y1": 671
         },
         {
          "layer": "below",
          "line": {
           "color": "grey",
           "width": 2
          },
          "type": "line",
          "x0": "2022-03-25T21:45:36",
          "x1": "2022-03-25T21:45:36",
          "y0": 0,
          "y1": 471
         },
         {
          "layer": "below",
          "line": {
           "color": "grey",
           "width": 2
          },
          "type": "line",
          "x0": "2022-03-26T17:42:31",
          "x1": "2022-03-26T17:42:31",
          "y0": 0,
          "y1": 147
         },
         {
          "layer": "below",
          "line": {
           "color": "grey",
           "width": 2
          },
          "type": "line",
          "x0": "2022-03-26T18:46:35",
          "x1": "2022-03-26T18:46:35",
          "y0": 0,
          "y1": 0
         },
         {
          "layer": "below",
          "line": {
           "color": "grey",
           "width": 2
          },
          "type": "line",
          "x0": "2022-03-28T21:18:32",
          "x1": "2022-03-28T21:18:32",
          "y0": 0,
          "y1": 1018
         },
         {
          "layer": "below",
          "line": {
           "color": "grey",
           "width": 2
          },
          "type": "line",
          "x0": "2022-03-29T21:39:22",
          "x1": "2022-03-29T21:39:22",
          "y0": 0,
          "y1": 1366
         },
         {
          "layer": "below",
          "line": {
           "color": "grey",
           "width": 2
          },
          "type": "line",
          "x0": "2022-03-30T02:24:51",
          "x1": "2022-03-30T02:24:51",
          "y0": 0,
          "y1": 60
         },
         {
          "layer": "below",
          "line": {
           "color": "grey",
           "width": 2
          },
          "type": "line",
          "x0": "2022-03-31T18:26:42",
          "x1": "2022-03-31T18:26:42",
          "y0": 0,
          "y1": 44
         },
         {
          "layer": "below",
          "line": {
           "color": "grey",
           "width": 2
          },
          "type": "line",
          "x0": "2022-03-31T22:26:13",
          "x1": "2022-03-31T22:26:13",
          "y0": 0,
          "y1": 49
         },
         {
          "layer": "below",
          "line": {
           "color": "grey",
           "width": 2
          },
          "type": "line",
          "x0": "2022-03-14T18:29:26",
          "x1": "2022-03-14T18:29:26",
          "y0": 0,
          "y1": 0
         },
         {
          "layer": "below",
          "line": {
           "color": "grey",
           "width": 2
          },
          "type": "line",
          "x0": "2022-03-15T22:32:05",
          "x1": "2022-03-15T22:32:05",
          "y0": 0,
          "y1": 8
         },
         {
          "layer": "below",
          "line": {
           "color": "grey",
           "width": 2
          },
          "type": "line",
          "x0": "2022-03-16T18:42:39",
          "x1": "2022-03-16T18:42:39",
          "y0": 0,
          "y1": 0
         },
         {
          "layer": "below",
          "line": {
           "color": "grey",
           "width": 2
          },
          "type": "line",
          "x0": "2022-03-19T16:43:45",
          "x1": "2022-03-19T16:43:45",
          "y0": 0,
          "y1": 0
         },
         {
          "layer": "below",
          "line": {
           "color": "grey",
           "width": 2
          },
          "type": "line",
          "x0": "2022-03-19T17:15:58",
          "x1": "2022-03-19T17:15:58",
          "y0": 0,
          "y1": 0
         },
         {
          "layer": "below",
          "line": {
           "color": "grey",
           "width": 2
          },
          "type": "line",
          "x0": "2022-03-19T18:46:38",
          "x1": "2022-03-19T18:46:38",
          "y0": 0,
          "y1": 0
         },
         {
          "layer": "below",
          "line": {
           "color": "grey",
           "width": 2
          },
          "type": "line",
          "x0": "2022-03-19T19:40:35",
          "x1": "2022-03-19T19:40:35",
          "y0": 0,
          "y1": 0
         },
         {
          "layer": "below",
          "line": {
           "color": "grey",
           "width": 2
          },
          "type": "line",
          "x0": "2022-03-20T17:44:57",
          "x1": "2022-03-20T17:44:57",
          "y0": 0,
          "y1": 0
         },
         {
          "layer": "below",
          "line": {
           "color": "grey",
           "width": 2
          },
          "type": "line",
          "x0": "2022-03-21T20:43:59",
          "x1": "2022-03-21T20:43:59",
          "y0": 0,
          "y1": 0
         },
         {
          "layer": "below",
          "line": {
           "color": "grey",
           "width": 2
          },
          "type": "line",
          "x0": "2022-03-22T22:37:57",
          "x1": "2022-03-22T22:37:57",
          "y0": 0,
          "y1": 84
         },
         {
          "layer": "below",
          "line": {
           "color": "grey",
           "width": 2
          },
          "type": "line",
          "x0": "2022-03-25T21:44:22",
          "x1": "2022-03-25T21:44:22",
          "y0": 0,
          "y1": 25
         },
         {
          "layer": "below",
          "line": {
           "color": "grey",
           "width": 2
          },
          "type": "line",
          "x0": "2022-03-25T22:25:06",
          "x1": "2022-03-25T22:25:06",
          "y0": 0,
          "y1": 0
         },
         {
          "layer": "below",
          "line": {
           "color": "grey",
           "width": 2
          },
          "type": "line",
          "x0": "2022-03-25T22:45:36",
          "x1": "2022-03-25T22:45:36",
          "y0": 0,
          "y1": 0
         },
         {
          "layer": "below",
          "line": {
           "color": "grey",
           "width": 2
          },
          "type": "line",
          "x0": "2022-03-26T18:42:31",
          "x1": "2022-03-26T18:42:31",
          "y0": 0,
          "y1": 0
         },
         {
          "layer": "below",
          "line": {
           "color": "grey",
           "width": 2
          },
          "type": "line",
          "x0": "2022-03-26T19:46:35",
          "x1": "2022-03-26T19:46:35",
          "y0": 0,
          "y1": 0
         },
         {
          "layer": "below",
          "line": {
           "color": "grey",
           "width": 2
          },
          "type": "line",
          "x0": "2022-03-28T22:18:32",
          "x1": "2022-03-28T22:18:32",
          "y0": 0,
          "y1": 44
         },
         {
          "layer": "below",
          "line": {
           "color": "grey",
           "width": 2
          },
          "type": "line",
          "x0": "2022-03-29T22:39:22",
          "x1": "2022-03-29T22:39:22",
          "y0": 0,
          "y1": 42
         },
         {
          "layer": "below",
          "line": {
           "color": "grey",
           "width": 2
          },
          "type": "line",
          "x0": "2022-03-30T03:24:51",
          "x1": "2022-03-30T03:24:51",
          "y0": 0,
          "y1": 0
         },
         {
          "layer": "below",
          "line": {
           "color": "grey",
           "width": 2
          },
          "type": "line",
          "x0": "2022-03-31T19:26:42",
          "x1": "2022-03-31T19:26:42",
          "y0": 0,
          "y1": 0
         },
         {
          "layer": "below",
          "line": {
           "color": "grey",
           "width": 2
          },
          "type": "line",
          "x0": "2022-03-31T23:26:13",
          "x1": "2022-03-31T23:26:13",
          "y0": 0,
          "y1": 0
         }
        ],
        "template": {
         "data": {
          "bar": [
           {
            "error_x": {
             "color": "#2a3f5f"
            },
            "error_y": {
             "color": "#2a3f5f"
            },
            "marker": {
             "line": {
              "color": "#E5ECF6",
              "width": 0.5
             },
             "pattern": {
              "fillmode": "overlay",
              "size": 10,
              "solidity": 0.2
             }
            },
            "type": "bar"
           }
          ],
          "barpolar": [
           {
            "marker": {
             "line": {
              "color": "#E5ECF6",
              "width": 0.5
             },
             "pattern": {
              "fillmode": "overlay",
              "size": 10,
              "solidity": 0.2
             }
            },
            "type": "barpolar"
           }
          ],
          "carpet": [
           {
            "aaxis": {
             "endlinecolor": "#2a3f5f",
             "gridcolor": "white",
             "linecolor": "white",
             "minorgridcolor": "white",
             "startlinecolor": "#2a3f5f"
            },
            "baxis": {
             "endlinecolor": "#2a3f5f",
             "gridcolor": "white",
             "linecolor": "white",
             "minorgridcolor": "white",
             "startlinecolor": "#2a3f5f"
            },
            "type": "carpet"
           }
          ],
          "choropleth": [
           {
            "colorbar": {
             "outlinewidth": 0,
             "ticks": ""
            },
            "type": "choropleth"
           }
          ],
          "contour": [
           {
            "colorbar": {
             "outlinewidth": 0,
             "ticks": ""
            },
            "colorscale": [
             [
              0,
              "#0d0887"
             ],
             [
              0.1111111111111111,
              "#46039f"
             ],
             [
              0.2222222222222222,
              "#7201a8"
             ],
             [
              0.3333333333333333,
              "#9c179e"
             ],
             [
              0.4444444444444444,
              "#bd3786"
             ],
             [
              0.5555555555555556,
              "#d8576b"
             ],
             [
              0.6666666666666666,
              "#ed7953"
             ],
             [
              0.7777777777777778,
              "#fb9f3a"
             ],
             [
              0.8888888888888888,
              "#fdca26"
             ],
             [
              1,
              "#f0f921"
             ]
            ],
            "type": "contour"
           }
          ],
          "contourcarpet": [
           {
            "colorbar": {
             "outlinewidth": 0,
             "ticks": ""
            },
            "type": "contourcarpet"
           }
          ],
          "heatmap": [
           {
            "colorbar": {
             "outlinewidth": 0,
             "ticks": ""
            },
            "colorscale": [
             [
              0,
              "#0d0887"
             ],
             [
              0.1111111111111111,
              "#46039f"
             ],
             [
              0.2222222222222222,
              "#7201a8"
             ],
             [
              0.3333333333333333,
              "#9c179e"
             ],
             [
              0.4444444444444444,
              "#bd3786"
             ],
             [
              0.5555555555555556,
              "#d8576b"
             ],
             [
              0.6666666666666666,
              "#ed7953"
             ],
             [
              0.7777777777777778,
              "#fb9f3a"
             ],
             [
              0.8888888888888888,
              "#fdca26"
             ],
             [
              1,
              "#f0f921"
             ]
            ],
            "type": "heatmap"
           }
          ],
          "heatmapgl": [
           {
            "colorbar": {
             "outlinewidth": 0,
             "ticks": ""
            },
            "colorscale": [
             [
              0,
              "#0d0887"
             ],
             [
              0.1111111111111111,
              "#46039f"
             ],
             [
              0.2222222222222222,
              "#7201a8"
             ],
             [
              0.3333333333333333,
              "#9c179e"
             ],
             [
              0.4444444444444444,
              "#bd3786"
             ],
             [
              0.5555555555555556,
              "#d8576b"
             ],
             [
              0.6666666666666666,
              "#ed7953"
             ],
             [
              0.7777777777777778,
              "#fb9f3a"
             ],
             [
              0.8888888888888888,
              "#fdca26"
             ],
             [
              1,
              "#f0f921"
             ]
            ],
            "type": "heatmapgl"
           }
          ],
          "histogram": [
           {
            "marker": {
             "pattern": {
              "fillmode": "overlay",
              "size": 10,
              "solidity": 0.2
             }
            },
            "type": "histogram"
           }
          ],
          "histogram2d": [
           {
            "colorbar": {
             "outlinewidth": 0,
             "ticks": ""
            },
            "colorscale": [
             [
              0,
              "#0d0887"
             ],
             [
              0.1111111111111111,
              "#46039f"
             ],
             [
              0.2222222222222222,
              "#7201a8"
             ],
             [
              0.3333333333333333,
              "#9c179e"
             ],
             [
              0.4444444444444444,
              "#bd3786"
             ],
             [
              0.5555555555555556,
              "#d8576b"
             ],
             [
              0.6666666666666666,
              "#ed7953"
             ],
             [
              0.7777777777777778,
              "#fb9f3a"
             ],
             [
              0.8888888888888888,
              "#fdca26"
             ],
             [
              1,
              "#f0f921"
             ]
            ],
            "type": "histogram2d"
           }
          ],
          "histogram2dcontour": [
           {
            "colorbar": {
             "outlinewidth": 0,
             "ticks": ""
            },
            "colorscale": [
             [
              0,
              "#0d0887"
             ],
             [
              0.1111111111111111,
              "#46039f"
             ],
             [
              0.2222222222222222,
              "#7201a8"
             ],
             [
              0.3333333333333333,
              "#9c179e"
             ],
             [
              0.4444444444444444,
              "#bd3786"
             ],
             [
              0.5555555555555556,
              "#d8576b"
             ],
             [
              0.6666666666666666,
              "#ed7953"
             ],
             [
              0.7777777777777778,
              "#fb9f3a"
             ],
             [
              0.8888888888888888,
              "#fdca26"
             ],
             [
              1,
              "#f0f921"
             ]
            ],
            "type": "histogram2dcontour"
           }
          ],
          "mesh3d": [
           {
            "colorbar": {
             "outlinewidth": 0,
             "ticks": ""
            },
            "type": "mesh3d"
           }
          ],
          "parcoords": [
           {
            "line": {
             "colorbar": {
              "outlinewidth": 0,
              "ticks": ""
             }
            },
            "type": "parcoords"
           }
          ],
          "pie": [
           {
            "automargin": true,
            "type": "pie"
           }
          ],
          "scatter": [
           {
            "fillpattern": {
             "fillmode": "overlay",
             "size": 10,
             "solidity": 0.2
            },
            "type": "scatter"
           }
          ],
          "scatter3d": [
           {
            "line": {
             "colorbar": {
              "outlinewidth": 0,
              "ticks": ""
             }
            },
            "marker": {
             "colorbar": {
              "outlinewidth": 0,
              "ticks": ""
             }
            },
            "type": "scatter3d"
           }
          ],
          "scattercarpet": [
           {
            "marker": {
             "colorbar": {
              "outlinewidth": 0,
              "ticks": ""
             }
            },
            "type": "scattercarpet"
           }
          ],
          "scattergeo": [
           {
            "marker": {
             "colorbar": {
              "outlinewidth": 0,
              "ticks": ""
             }
            },
            "type": "scattergeo"
           }
          ],
          "scattergl": [
           {
            "marker": {
             "colorbar": {
              "outlinewidth": 0,
              "ticks": ""
             }
            },
            "type": "scattergl"
           }
          ],
          "scattermapbox": [
           {
            "marker": {
             "colorbar": {
              "outlinewidth": 0,
              "ticks": ""
             }
            },
            "type": "scattermapbox"
           }
          ],
          "scatterpolar": [
           {
            "marker": {
             "colorbar": {
              "outlinewidth": 0,
              "ticks": ""
             }
            },
            "type": "scatterpolar"
           }
          ],
          "scatterpolargl": [
           {
            "marker": {
             "colorbar": {
              "outlinewidth": 0,
              "ticks": ""
             }
            },
            "type": "scatterpolargl"
           }
          ],
          "scatterternary": [
           {
            "marker": {
             "colorbar": {
              "outlinewidth": 0,
              "ticks": ""
             }
            },
            "type": "scatterternary"
           }
          ],
          "surface": [
           {
            "colorbar": {
             "outlinewidth": 0,
             "ticks": ""
            },
            "colorscale": [
             [
              0,
              "#0d0887"
             ],
             [
              0.1111111111111111,
              "#46039f"
             ],
             [
              0.2222222222222222,
              "#7201a8"
             ],
             [
              0.3333333333333333,
              "#9c179e"
             ],
             [
              0.4444444444444444,
              "#bd3786"
             ],
             [
              0.5555555555555556,
              "#d8576b"
             ],
             [
              0.6666666666666666,
              "#ed7953"
             ],
             [
              0.7777777777777778,
              "#fb9f3a"
             ],
             [
              0.8888888888888888,
              "#fdca26"
             ],
             [
              1,
              "#f0f921"
             ]
            ],
            "type": "surface"
           }
          ],
          "table": [
           {
            "cells": {
             "fill": {
              "color": "#EBF0F8"
             },
             "line": {
              "color": "white"
             }
            },
            "header": {
             "fill": {
              "color": "#C8D4E3"
             },
             "line": {
              "color": "white"
             }
            },
            "type": "table"
           }
          ]
         },
         "layout": {
          "annotationdefaults": {
           "arrowcolor": "#2a3f5f",
           "arrowhead": 0,
           "arrowwidth": 1
          },
          "autotypenumbers": "strict",
          "coloraxis": {
           "colorbar": {
            "outlinewidth": 0,
            "ticks": ""
           }
          },
          "colorscale": {
           "diverging": [
            [
             0,
             "#8e0152"
            ],
            [
             0.1,
             "#c51b7d"
            ],
            [
             0.2,
             "#de77ae"
            ],
            [
             0.3,
             "#f1b6da"
            ],
            [
             0.4,
             "#fde0ef"
            ],
            [
             0.5,
             "#f7f7f7"
            ],
            [
             0.6,
             "#e6f5d0"
            ],
            [
             0.7,
             "#b8e186"
            ],
            [
             0.8,
             "#7fbc41"
            ],
            [
             0.9,
             "#4d9221"
            ],
            [
             1,
             "#276419"
            ]
           ],
           "sequential": [
            [
             0,
             "#0d0887"
            ],
            [
             0.1111111111111111,
             "#46039f"
            ],
            [
             0.2222222222222222,
             "#7201a8"
            ],
            [
             0.3333333333333333,
             "#9c179e"
            ],
            [
             0.4444444444444444,
             "#bd3786"
            ],
            [
             0.5555555555555556,
             "#d8576b"
            ],
            [
             0.6666666666666666,
             "#ed7953"
            ],
            [
             0.7777777777777778,
             "#fb9f3a"
            ],
            [
             0.8888888888888888,
             "#fdca26"
            ],
            [
             1,
             "#f0f921"
            ]
           ],
           "sequentialminus": [
            [
             0,
             "#0d0887"
            ],
            [
             0.1111111111111111,
             "#46039f"
            ],
            [
             0.2222222222222222,
             "#7201a8"
            ],
            [
             0.3333333333333333,
             "#9c179e"
            ],
            [
             0.4444444444444444,
             "#bd3786"
            ],
            [
             0.5555555555555556,
             "#d8576b"
            ],
            [
             0.6666666666666666,
             "#ed7953"
            ],
            [
             0.7777777777777778,
             "#fb9f3a"
            ],
            [
             0.8888888888888888,
             "#fdca26"
            ],
            [
             1,
             "#f0f921"
            ]
           ]
          },
          "colorway": [
           "#636efa",
           "#EF553B",
           "#00cc96",
           "#ab63fa",
           "#FFA15A",
           "#19d3f3",
           "#FF6692",
           "#B6E880",
           "#FF97FF",
           "#FECB52"
          ],
          "font": {
           "color": "#2a3f5f"
          },
          "geo": {
           "bgcolor": "white",
           "lakecolor": "white",
           "landcolor": "#E5ECF6",
           "showlakes": true,
           "showland": true,
           "subunitcolor": "white"
          },
          "hoverlabel": {
           "align": "left"
          },
          "hovermode": "closest",
          "mapbox": {
           "style": "light"
          },
          "paper_bgcolor": "white",
          "plot_bgcolor": "#E5ECF6",
          "polar": {
           "angularaxis": {
            "gridcolor": "white",
            "linecolor": "white",
            "ticks": ""
           },
           "bgcolor": "#E5ECF6",
           "radialaxis": {
            "gridcolor": "white",
            "linecolor": "white",
            "ticks": ""
           }
          },
          "scene": {
           "xaxis": {
            "backgroundcolor": "#E5ECF6",
            "gridcolor": "white",
            "gridwidth": 2,
            "linecolor": "white",
            "showbackground": true,
            "ticks": "",
            "zerolinecolor": "white"
           },
           "yaxis": {
            "backgroundcolor": "#E5ECF6",
            "gridcolor": "white",
            "gridwidth": 2,
            "linecolor": "white",
            "showbackground": true,
            "ticks": "",
            "zerolinecolor": "white"
           },
           "zaxis": {
            "backgroundcolor": "#E5ECF6",
            "gridcolor": "white",
            "gridwidth": 2,
            "linecolor": "white",
            "showbackground": true,
            "ticks": "",
            "zerolinecolor": "white"
           }
          },
          "shapedefaults": {
           "line": {
            "color": "#2a3f5f"
           }
          },
          "ternary": {
           "aaxis": {
            "gridcolor": "white",
            "linecolor": "white",
            "ticks": ""
           },
           "baxis": {
            "gridcolor": "white",
            "linecolor": "white",
            "ticks": ""
           },
           "bgcolor": "#E5ECF6",
           "caxis": {
            "gridcolor": "white",
            "linecolor": "white",
            "ticks": ""
           }
          },
          "title": {
           "x": 0.05
          },
          "xaxis": {
           "automargin": true,
           "gridcolor": "white",
           "linecolor": "white",
           "ticks": "",
           "title": {
            "standoff": 15
           },
           "zerolinecolor": "white",
           "zerolinewidth": 2
          },
          "yaxis": {
           "automargin": true,
           "gridcolor": "white",
           "linecolor": "white",
           "ticks": "",
           "title": {
            "standoff": 15
           },
           "zerolinecolor": "white",
           "zerolinewidth": 2
          }
         }
        },
        "width": 1400,
        "xaxis": {
         "anchor": "y",
         "domain": [
          0,
          1
         ],
         "title": {
          "text": "spot_start_datetime"
         }
        },
        "yaxis": {
         "anchor": "x",
         "domain": [
          0,
          1
         ],
         "title": {
          "text": "audience_size_hundreds"
         }
        }
       }
      }
     },
     "metadata": {},
     "output_type": "display_data"
    }
   ],
   "source": [
    "persil_sky = spot_df[(spot_df['clearcast_commercial_title'].str.contains(\"Persil\")) \n",
    "                   & (spot_df['audience_name']=='All Homes')\n",
    "                   & (spot_df['station_name'].str.contains(\"Sky\"))].sort_values(['station_name', 'spot_start_datetime'])\n",
    "\n",
    "fig = px.scatter(persil_sky, x=\"spot_start_datetime\", y=\"audience_size_hundreds\", color=\"station_name\", width = 1400, height = 600)\n",
    "fig.update_traces(marker={'size': 10})\n",
    "\n",
    "shapes=[dict(\n",
    "        type='line',\n",
    "        x0 = persil_sky['spot_start_datetime'].iloc[i],\n",
    "        y0 = 0,\n",
    "        x1 = persil_sky['spot_start_datetime'].iloc[i],\n",
    "        y1 = persil_sky['audience_size_hundreds'].iloc[i],\n",
    "        layer='below',\n",
    "        line = dict(\n",
    "            color = 'grey',\n",
    "            width = 2\n",
    "        )\n",
    "    ) for i in range(len(persil_sky['audience_size_hundreds']))]\n",
    "\n",
    "fig.update_layout(shapes = shapes)"
   ]
  }
 ],
 "metadata": {
  "kernelspec": {
   "display_name": "Python 3 (ipykernel)",
   "language": "python",
   "name": "python3"
  },
  "language_info": {
   "codemirror_mode": {
    "name": "ipython",
    "version": 3
   },
   "file_extension": ".py",
   "mimetype": "text/x-python",
   "name": "python",
   "nbconvert_exporter": "python",
   "pygments_lexer": "ipython3",
   "version": "3.9.18"
  }
 },
 "nbformat": 4,
 "nbformat_minor": 5
}
